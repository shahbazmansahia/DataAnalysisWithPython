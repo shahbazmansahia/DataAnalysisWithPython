{
 "cells": [
  {
   "cell_type": "code",
   "execution_count": 2,
   "id": "e5b6f8b9",
   "metadata": {},
   "outputs": [],
   "source": [
    "import pandas as pd;"
   ]
  },
  {
   "cell_type": "code",
   "execution_count": 3,
   "id": "27aea914",
   "metadata": {},
   "outputs": [],
   "source": [
    "import numpy as np;"
   ]
  },
  {
   "cell_type": "code",
   "execution_count": 4,
   "id": "f7d01541",
   "metadata": {},
   "outputs": [],
   "source": [
    "from plotly import __version__"
   ]
  },
  {
   "cell_type": "code",
   "execution_count": 6,
   "id": "a69089f8",
   "metadata": {},
   "outputs": [
    {
     "name": "stdout",
     "output_type": "stream",
     "text": [
      "5.5.0\n"
     ]
    }
   ],
   "source": [
    "print(__version__);"
   ]
  },
  {
   "cell_type": "code",
   "execution_count": 7,
   "id": "af3936ea",
   "metadata": {},
   "outputs": [],
   "source": [
    "import cufflinks as cf;"
   ]
  },
  {
   "cell_type": "code",
   "execution_count": 8,
   "id": "82fc1c94",
   "metadata": {},
   "outputs": [],
   "source": [
    "from plotly.offline import download_plotlyjs, init_notebook_mode, plot, iplot;"
   ]
  },
  {
   "cell_type": "code",
   "execution_count": 9,
   "id": "97c6fa20",
   "metadata": {},
   "outputs": [
    {
     "data": {
      "text/html": [
       "        <script type=\"text/javascript\">\n",
       "        window.PlotlyConfig = {MathJaxConfig: 'local'};\n",
       "        if (window.MathJax) {MathJax.Hub.Config({SVG: {font: \"STIX-Web\"}});}\n",
       "        if (typeof require !== 'undefined') {\n",
       "        require.undef(\"plotly\");\n",
       "        requirejs.config({\n",
       "            paths: {\n",
       "                'plotly': ['https://cdn.plot.ly/plotly-2.8.3.min']\n",
       "            }\n",
       "        });\n",
       "        require(['plotly'], function(Plotly) {\n",
       "            window._Plotly = Plotly;\n",
       "        });\n",
       "        }\n",
       "        </script>\n",
       "        "
      ]
     },
     "metadata": {},
     "output_type": "display_data"
    }
   ],
   "source": [
    "init_notebook_mode(connected = True);"
   ]
  },
  {
   "cell_type": "code",
   "execution_count": 19,
   "id": "53f1d0e9",
   "metadata": {},
   "outputs": [],
   "source": [
    "import chart_studio.plotly as py;"
   ]
  },
  {
   "cell_type": "code",
   "execution_count": 20,
   "id": "ef58a040",
   "metadata": {},
   "outputs": [],
   "source": [
    "%matplotlib inline"
   ]
  },
  {
   "cell_type": "code",
   "execution_count": 12,
   "id": "c35393bb",
   "metadata": {},
   "outputs": [
    {
     "data": {
      "text/html": [
       "        <script type=\"text/javascript\">\n",
       "        window.PlotlyConfig = {MathJaxConfig: 'local'};\n",
       "        if (window.MathJax) {MathJax.Hub.Config({SVG: {font: \"STIX-Web\"}});}\n",
       "        if (typeof require !== 'undefined') {\n",
       "        require.undef(\"plotly\");\n",
       "        requirejs.config({\n",
       "            paths: {\n",
       "                'plotly': ['https://cdn.plot.ly/plotly-2.8.3.min']\n",
       "            }\n",
       "        });\n",
       "        require(['plotly'], function(Plotly) {\n",
       "            window._Plotly = Plotly;\n",
       "        });\n",
       "        }\n",
       "        </script>\n",
       "        "
      ]
     },
     "metadata": {},
     "output_type": "display_data"
    }
   ],
   "source": [
    "cf.go_offline();"
   ]
  },
  {
   "cell_type": "code",
   "execution_count": 13,
   "id": "cda18c41",
   "metadata": {},
   "outputs": [],
   "source": [
    "# Data\n",
    "df = pd.DataFrame(np.random.randn(100, 4), columns = 'A B C D'.split());"
   ]
  },
  {
   "cell_type": "code",
   "execution_count": 14,
   "id": "cb22e51a",
   "metadata": {},
   "outputs": [
    {
     "data": {
      "text/html": [
       "<div>\n",
       "<style scoped>\n",
       "    .dataframe tbody tr th:only-of-type {\n",
       "        vertical-align: middle;\n",
       "    }\n",
       "\n",
       "    .dataframe tbody tr th {\n",
       "        vertical-align: top;\n",
       "    }\n",
       "\n",
       "    .dataframe thead th {\n",
       "        text-align: right;\n",
       "    }\n",
       "</style>\n",
       "<table border=\"1\" class=\"dataframe\">\n",
       "  <thead>\n",
       "    <tr style=\"text-align: right;\">\n",
       "      <th></th>\n",
       "      <th>A</th>\n",
       "      <th>B</th>\n",
       "      <th>C</th>\n",
       "      <th>D</th>\n",
       "    </tr>\n",
       "  </thead>\n",
       "  <tbody>\n",
       "    <tr>\n",
       "      <th>0</th>\n",
       "      <td>-0.804532</td>\n",
       "      <td>1.380855</td>\n",
       "      <td>-1.870888</td>\n",
       "      <td>-0.624313</td>\n",
       "    </tr>\n",
       "    <tr>\n",
       "      <th>1</th>\n",
       "      <td>-0.785751</td>\n",
       "      <td>0.119385</td>\n",
       "      <td>0.044258</td>\n",
       "      <td>-1.174055</td>\n",
       "    </tr>\n",
       "    <tr>\n",
       "      <th>2</th>\n",
       "      <td>0.394307</td>\n",
       "      <td>-1.314353</td>\n",
       "      <td>2.231810</td>\n",
       "      <td>0.038461</td>\n",
       "    </tr>\n",
       "    <tr>\n",
       "      <th>3</th>\n",
       "      <td>0.040155</td>\n",
       "      <td>0.640681</td>\n",
       "      <td>-0.193216</td>\n",
       "      <td>1.473545</td>\n",
       "    </tr>\n",
       "    <tr>\n",
       "      <th>4</th>\n",
       "      <td>-1.732242</td>\n",
       "      <td>0.459016</td>\n",
       "      <td>-0.349514</td>\n",
       "      <td>-0.952166</td>\n",
       "    </tr>\n",
       "  </tbody>\n",
       "</table>\n",
       "</div>"
      ],
      "text/plain": [
       "          A         B         C         D\n",
       "0 -0.804532  1.380855 -1.870888 -0.624313\n",
       "1 -0.785751  0.119385  0.044258 -1.174055\n",
       "2  0.394307 -1.314353  2.231810  0.038461\n",
       "3  0.040155  0.640681 -0.193216  1.473545\n",
       "4 -1.732242  0.459016 -0.349514 -0.952166"
      ]
     },
     "execution_count": 14,
     "metadata": {},
     "output_type": "execute_result"
    }
   ],
   "source": [
    "df.head()"
   ]
  },
  {
   "cell_type": "code",
   "execution_count": 16,
   "id": "85f3807e",
   "metadata": {},
   "outputs": [],
   "source": [
    "df2 = pd.DataFrame ({'Category': ['A', 'B', 'C'], 'Values':[32, 43, 50]})"
   ]
  },
  {
   "cell_type": "code",
   "execution_count": 17,
   "id": "1bc735ed",
   "metadata": {},
   "outputs": [
    {
     "data": {
      "text/html": [
       "<div>\n",
       "<style scoped>\n",
       "    .dataframe tbody tr th:only-of-type {\n",
       "        vertical-align: middle;\n",
       "    }\n",
       "\n",
       "    .dataframe tbody tr th {\n",
       "        vertical-align: top;\n",
       "    }\n",
       "\n",
       "    .dataframe thead th {\n",
       "        text-align: right;\n",
       "    }\n",
       "</style>\n",
       "<table border=\"1\" class=\"dataframe\">\n",
       "  <thead>\n",
       "    <tr style=\"text-align: right;\">\n",
       "      <th></th>\n",
       "      <th>Category</th>\n",
       "      <th>Values</th>\n",
       "    </tr>\n",
       "  </thead>\n",
       "  <tbody>\n",
       "    <tr>\n",
       "      <th>0</th>\n",
       "      <td>A</td>\n",
       "      <td>32</td>\n",
       "    </tr>\n",
       "    <tr>\n",
       "      <th>1</th>\n",
       "      <td>B</td>\n",
       "      <td>43</td>\n",
       "    </tr>\n",
       "    <tr>\n",
       "      <th>2</th>\n",
       "      <td>C</td>\n",
       "      <td>50</td>\n",
       "    </tr>\n",
       "  </tbody>\n",
       "</table>\n",
       "</div>"
      ],
      "text/plain": [
       "  Category  Values\n",
       "0        A      32\n",
       "1        B      43\n",
       "2        C      50"
      ]
     },
     "execution_count": 17,
     "metadata": {},
     "output_type": "execute_result"
    }
   ],
   "source": [
    "df2"
   ]
  },
  {
   "cell_type": "code",
   "execution_count": 21,
   "id": "35f85113",
   "metadata": {},
   "outputs": [
    {
     "data": {
      "text/plain": [
       "<AxesSubplot:>"
      ]
     },
     "execution_count": 21,
     "metadata": {},
     "output_type": "execute_result"
    },
    {
     "data": {
      "image/png": "[encoded data removed]",
      "text/plain": [
       "<Figure size 432x288 with 1 Axes>"
      ]
     },
     "metadata": {
      "needs_background": "light"
     },
     "output_type": "display_data"
    }
   ],
   "source": [
    "df.plot()"
   ]
  },
  {
   "cell_type": "code",
   "execution_count": 22,
   "id": "0a6d1bdb",
   "metadata": {},
   "outputs": [
    {
     "data": {
      "application/vnd.plotly.v1+json": {
       "config": {
        "linkText": "Export to plot.ly",
        "plotlyServerURL": "https://plot.ly",
        "showLink": true
       },
       "data": [
        {
         "line": {
          "color": "rgba(255, 153, 51, 1.0)",
          "dash": "solid",
          "shape": "linear",
          "width": 1.3
         },
         "mode": "lines",
         "name": "A",
         "text": "",
         "type": "scatter",
         "x": [
          0,
          1,
          2,
          3,
          4,
          5,
          6,
          7,
          8,
          9,
          10,
          11,
          12,
          13,
          14,
          15,
          16,
          17,
          18,
          19,
          20,
          21,
          22,
          23,
          24,
          25,
          26,
          27,
          28,
          29,
          30,
          31,
          32,
          33,
          34,
          35,
          36,
          37,
          38,
          39,
          40,
          41,
          42,
          43,
          44,
          45,
          46,
          47,
          48,
          49,
          50,
          51,
          52,
          53,
          54,
          55,
          56,
          57,
          58,
          59,
          60,
          61,
          62,
          63,
          64,
          65,
          66,
          67,
          68,
          69,
          70,
          71,
          72,
          73,
          74,
          75,
          76,
          77,
          78,
          79,
          80,
          81,
          82,
          83,
          84,
          85,
          86,
          87,
          88,
          89,
          90,
          91,
          92,
          93,
          94,
          95,
          96,
          97,
          98,
          99
         ],
         "y": [
          -0.8045319692756239,
          -0.7857508741343778,
          0.39430716210118383,
          0.040154756846361016,
          -1.7322422804433464,
          0.23192449486695912,
          -0.6018949797227127,
          -0.26289401276907864,
          0.05250827501417779,
          1.3215808600707148,
          -0.3415752045912305,
          0.9123430324087752,
          -0.11882811971741239,
          -1.277598509738442,
          1.22129685804723,
          -0.9964878457298946,
          2.6620936089218095,
          -0.4803892863051099,
          -1.4490068334874833,
          -0.5458590243929505,
          0.1806089625886417,
          -0.04853061562212352,
          -0.7519138670027183,
          0.9822323510339834,
          1.3217667116892085,
          -0.4078361976983211,
          -0.7433064246907137,
          1.3097970819898321,
          -0.8885546830130938,
          0.08959952426663148,
          0.7613983182603498,
          1.114935205693224,
          -0.26808691289618436,
          -1.179007519613772,
          -0.8212285519866818,
          0.0171376674536935,
          -1.261984800199849,
          0.7540606103836702,
          1.0365981858780862,
          1.0894455868431638,
          1.467140241494887,
          -0.45420815578998514,
          1.4150942894048062,
          -1.0307095952537535,
          -0.8738128032396157,
          0.8499380934853883,
          0.44623467531343414,
          1.1111190821690289,
          1.5931104775281726,
          -0.4229825602717984,
          -0.347724986376733,
          -0.13542680812754604,
          0.3082974882607674,
          -1.8041564241898107,
          -0.01515489581035622,
          1.2123741242554724,
          1.6091967660300068,
          -0.9099405101509571,
          -1.0607387072884853,
          -0.01457523724299721,
          -0.4606327435061816,
          1.353930884874758,
          0.7192866992265134,
          0.35255737217605587,
          0.17943773439695976,
          -0.0008330315647807776,
          0.013257714626296735,
          -0.4853923909661426,
          0.987472645343711,
          -1.2792863154847292,
          -0.1927603830487624,
          -1.248884129883844,
          0.09746544762239337,
          0.205544722884781,
          -1.6106179773906022,
          -1.4962536071793135,
          1.8804432211155748,
          -0.9024008840300444,
          -1.2721816262871173,
          2.1523784705721707,
          -0.9891223749584839,
          -0.966689724244585,
          -1.001881325254751,
          0.09961378114378827,
          -0.6782575216848209,
          0.6993114545806943,
          0.6321315478915533,
          -0.7053759028281684,
          -0.41772962659482143,
          0.3005169214229249,
          0.6704583648794865,
          -0.3618318985451478,
          1.1737851603704852,
          0.24227025716212627,
          1.4015786878545637,
          -0.20532599663298384,
          -0.25831017270764134,
          -2.0960187662439336,
          0.22663058350173887,
          -1.499548991493352
         ]
        },
        {
         "line": {
          "color": "rgba(55, 128, 191, 1.0)",
          "dash": "solid",
          "shape": "linear",
          "width": 1.3
         },
         "mode": "lines",
         "name": "B",
         "text": "",
         "type": "scatter",
         "x": [
          0,
          1,
          2,
          3,
          4,
          5,
          6,
          7,
          8,
          9,
          10,
          11,
          12,
          13,
          14,
          15,
          16,
          17,
          18,
          19,
          20,
          21,
          22,
          23,
          24,
          25,
          26,
          27,
          28,
          29,
          30,
          31,
          32,
          33,
          34,
          35,
          36,
          37,
          38,
          39,
          40,
          41,
          42,
          43,
          44,
          45,
          46,
          47,
          48,
          49,
          50,
          51,
          52,
          53,
          54,
          55,
          56,
          57,
          58,
          59,
          60,
          61,
          62,
          63,
          64,
          65,
          66,
          67,
          68,
          69,
          70,
          71,
          72,
          73,
          74,
          75,
          76,
          77,
          78,
          79,
          80,
          81,
          82,
          83,
          84,
          85,
          86,
          87,
          88,
          89,
          90,
          91,
          92,
          93,
          94,
          95,
          96,
          97,
          98,
          99
         ],
         "y": [
          1.380854838531965,
          0.11938502538426132,
          -1.3143531805255566,
          0.6406812285572712,
          0.45901609373282704,
          0.14365163997084188,
          0.04919209970407182,
          -0.14356601653396417,
          -0.13652030629061812,
          0.705737494583953,
          0.4693637488317349,
          -0.22019440349318015,
          0.023077433512087436,
          1.2240704876175075,
          -0.20295579519226248,
          -0.5507208895965063,
          -0.04503975484391459,
          -1.0716079956340958,
          -0.3498571619930785,
          0.05378116157884617,
          0.1914937961172496,
          -0.8001900502593962,
          -1.8724024669870398,
          -1.155013636557828,
          -0.8728225347049191,
          -0.9491040625196484,
          -0.01307810894809895,
          -1.7416462532512975,
          0.7582038042037499,
          1.0245971841296806,
          2.209354664513985,
          0.27962419638957986,
          -0.3625691399492275,
          -0.37384775610699056,
          -0.09090160784772924,
          -0.963449146450701,
          -0.7980032760865212,
          -0.1365887386905632,
          -0.8236488041076043,
          0.12473376344798781,
          -1.5436042717554994,
          -0.6216132617616013,
          1.6894254983684525,
          0.556296337156448,
          -0.785063041863813,
          2.483960864125458,
          -0.43302859825742124,
          0.8939916753077831,
          1.2096210869953685,
          0.9394848885610718,
          -1.4390417869534922,
          1.1168312594389562,
          -0.5365559556172983,
          1.8492172694897153,
          -0.1362841448844875,
          0.6018566047291094,
          0.6036293584590517,
          1.0888599872211706,
          -0.5537892278737087,
          -1.2571168203364704,
          -0.4422470583484276,
          -0.6044378393263163,
          -1.041592179467776,
          1.5009696060524216,
          -0.9109487853431983,
          2.1787784184384558,
          -1.0579386356798106,
          -1.7000597049686215,
          -1.3445417160500615,
          -1.1784242650767685,
          -0.5223318292191497,
          -1.6418690103787708,
          1.6251438590138476,
          -3.8913039112713124,
          -0.5316779558052692,
          0.3711369956120464,
          0.39400732044115944,
          0.5000893212146826,
          -0.1723379534232298,
          -0.8721395911197579,
          -0.36567250291673475,
          1.5156140766192698,
          2.3623075261343915,
          -1.489554844966301,
          1.6413735284669448,
          -0.0929390528011857,
          -0.714291437029099,
          0.130654739297638,
          1.4599097658828708,
          -0.46420506328524286,
          -1.3247869299650787,
          -1.0332844721276573,
          -0.6378849266767722,
          0.5187408321369664,
          0.4352512593360889,
          -0.06583816090115427,
          0.5379177916772021,
          0.28204406416968447,
          -1.04570445537743,
          0.08376817237639435
         ]
        },
        {
         "line": {
          "color": "rgba(50, 171, 96, 1.0)",
          "dash": "solid",
          "shape": "linear",
          "width": 1.3
         },
         "mode": "lines",
         "name": "C",
         "text": "",
         "type": "scatter",
         "x": [
          0,
          1,
          2,
          3,
          4,
          5,
          6,
          7,
          8,
          9,
          10,
          11,
          12,
          13,
          14,
          15,
          16,
          17,
          18,
          19,
          20,
          21,
          22,
          23,
          24,
          25,
          26,
          27,
          28,
          29,
          30,
          31,
          32,
          33,
          34,
          35,
          36,
          37,
          38,
          39,
          40,
          41,
          42,
          43,
          44,
          45,
          46,
          47,
          48,
          49,
          50,
          51,
          52,
          53,
          54,
          55,
          56,
          57,
          58,
          59,
          60,
          61,
          62,
          63,
          64,
          65,
          66,
          67,
          68,
          69,
          70,
          71,
          72,
          73,
          74,
          75,
          76,
          77,
          78,
          79,
          80,
          81,
          82,
          83,
          84,
          85,
          86,
          87,
          88,
          89,
          90,
          91,
          92,
          93,
          94,
          95,
          96,
          97,
          98,
          99
         ],
         "y": [
          -1.8708875734832748,
          0.04425823550598916,
          2.2318098580876335,
          -0.1932162636185701,
          -0.3495142742950361,
          -0.9363714842063803,
          -0.3751675288083557,
          0.24096398472949992,
          0.7839074733605705,
          -0.948046660123082,
          0.9688924880089168,
          0.29601276029714685,
          -1.3281620746071872,
          1.3444769424008969,
          1.5857319136801458,
          -0.7572298115336303,
          -2.1853912146666983,
          0.5794319393647758,
          0.11438605827806371,
          -0.8174361744556506,
          0.2523687940971506,
          1.4635374612249505,
          0.2514716300708972,
          0.5909474815715231,
          0.5743582936896399,
          0.3404858368078811,
          -0.4907552024656146,
          -0.32078836101622105,
          -0.44800327053016514,
          0.9960774558527737,
          0.22467360416969342,
          2.4529081035546207,
          -0.21787418455794888,
          0.6762498754903966,
          -0.48303381928730993,
          -0.16139780190549755,
          -0.5647919533473379,
          -0.3672292350945552,
          -0.278958867299943,
          -0.07128610183100571,
          -0.0351476668971757,
          0.5375339473571906,
          -0.16054867274784868,
          1.2920755922952918,
          1.667640449645262,
          -0.36020101369593516,
          1.4831194257765556,
          0.16674921176253732,
          -0.5377061661274848,
          -1.4134058793381234,
          -0.47496514727810796,
          0.46973511175391053,
          -0.14771132817389718,
          1.5164803577234145,
          -0.6872851570369064,
          0.3298080343624988,
          -0.9444593815516463,
          0.5566413339925547,
          -1.4670673842371387,
          -0.09040314661128307,
          -0.7681215742517598,
          0.22498077143569414,
          0.27567011144228754,
          -1.7401853989682063,
          0.5830003687822239,
          0.3502144296196838,
          -1.8571529961941577,
          0.1901652524422592,
          -0.12813138347420786,
          -1.1874881142031868,
          -0.06773200120193666,
          -0.5034130203140469,
          -1.7569306963537281,
          0.9954700566699439,
          -0.7377403658835474,
          -1.9608339437686828,
          1.0887725214220043,
          1.1615126132641291,
          -1.3425676644410556,
          1.1731778312031338,
          0.5923121609965328,
          -0.49249661917257426,
          -0.13023345722216656,
          -1.459896361013488,
          0.3545202476999806,
          -1.8383904457936295,
          -0.16943713505500044,
          -0.5132237203127183,
          0.3047428775744405,
          -0.10827793167007603,
          0.3317581955489925,
          0.6011410609751754,
          1.1156955619768716,
          1.0934138206778674,
          0.47807489067700687,
          0.2012802882466331,
          0.01618371786285664,
          -0.4205840724709901,
          -1.3314350933539179,
          1.307938271004548
         ]
        },
        {
         "line": {
          "color": "rgba(128, 0, 128, 1.0)",
          "dash": "solid",
          "shape": "linear",
          "width": 1.3
         },
         "mode": "lines",
         "name": "D",
         "text": "",
         "type": "scatter",
         "x": [
          0,
          1,
          2,
          3,
          4,
          5,
          6,
          7,
          8,
          9,
          10,
          11,
          12,
          13,
          14,
          15,
          16,
          17,
          18,
          19,
          20,
          21,
          22,
          23,
          24,
          25,
          26,
          27,
          28,
          29,
          30,
          31,
          32,
          33,
          34,
          35,
          36,
          37,
          38,
          39,
          40,
          41,
          42,
          43,
          44,
          45,
          46,
          47,
          48,
          49,
          50,
          51,
          52,
          53,
          54,
          55,
          56,
          57,
          58,
          59,
          60,
          61,
          62,
          63,
          64,
          65,
          66,
          67,
          68,
          69,
          70,
          71,
          72,
          73,
          74,
          75,
          76,
          77,
          78,
          79,
          80,
          81,
          82,
          83,
          84,
          85,
          86,
          87,
          88,
          89,
          90,
          91,
          92,
          93,
          94,
          95,
          96,
          97,
          98,
          99
         ],
         "y": [
          -0.6243127375617485,
          -1.1740550580744102,
          0.038460727649453415,
          1.473545397199106,
          -0.9521658151129334,
          -0.4848915430788821,
          0.0675901121034954,
          0.805327552498521,
          -0.3678164673871686,
          -0.9210994094835443,
          0.30050191780807356,
          0.12519393915142765,
          1.137088531812455,
          0.2968333543050542,
          0.9444873258850971,
          0.07407865634529899,
          -0.25029023390720306,
          0.3179564559367161,
          -2.5639417290556357,
          0.230886491505683,
          -0.0888265823761594,
          -0.09021836298835495,
          -1.0771186416949865,
          -0.8594551656352457,
          -0.10386030844563789,
          -0.5953859982931564,
          -2.1793723497553326,
          0.11283882512550318,
          -0.5749599969041304,
          -1.1233656099056193,
          2.1314646206198327,
          -1.653124713992959,
          -1.7960268785121087,
          -0.1393410261146086,
          -0.539714578867005,
          0.5856794701890018,
          -0.2071207922317129,
          -0.6972380495463055,
          -1.4852391624389962,
          -0.6132944048119481,
          1.3420483036377386,
          -1.5755224816993758,
          0.2743879523680005,
          -0.4464672218318962,
          -3.378295994805631,
          -0.6707301853353952,
          -0.7587263078274006,
          -0.27706990266371545,
          -0.8225006505775436,
          0.2503955509660361,
          0.038810602206067676,
          -1.0879790827177869,
          -0.5147650195142758,
          0.056920826723514194,
          -0.455853480689292,
          -0.37650380217157314,
          0.8415793821045491,
          0.09174178210241361,
          1.6341077538875552,
          -0.6868086957169546,
          1.2819199478532186,
          -1.182394428328359,
          -0.636493609887241,
          0.4836901410780605,
          -1.7703504544405102,
          -2.170912133455119,
          -0.0822348997199209,
          -1.1309071842819234,
          -0.5383595119236265,
          -0.014834978292038978,
          -0.6162582558907989,
          -0.6883800257753223,
          0.8954912080936425,
          0.9037166248628814,
          1.1873894608157394,
          -0.6123584271721806,
          -1.422847869128479,
          2.3106182679204,
          -0.7881045889309072,
          0.03242724161322168,
          -1.541884412644934,
          -0.9388412359867381,
          -0.5529495445987058,
          0.6732988001879391,
          -0.5893911620958981,
          2.579973066211168,
          -0.3185865876642497,
          0.5761037296869645,
          1.5547217694290791,
          0.3041990392389531,
          0.9716870695179999,
          0.3940485816680812,
          -0.6403195185889015,
          1.0750979233256113,
          0.970106939826967,
          1.9639453540327028,
          1.5346904677398219,
          0.5966181882134294,
          -0.33441777490768804,
          -0.6426062418461276
         ]
        }
       ],
       "layout": {
        "legend": {
         "bgcolor": "#F5F6F9",
         "font": {
          "color": "#4D5663"
         }
        },
        "paper_bgcolor": "#F5F6F9",
        "plot_bgcolor": "#F5F6F9",
        "template": {
         "data": {
          "bar": [
           {
            "error_x": {
             "color": "#2a3f5f"
            },
            "error_y": {
             "color": "#2a3f5f"
            },
            "marker": {
             "line": {
              "color": "#E5ECF6",
              "width": 0.5
             },
             "pattern": {
              "fillmode": "overlay",
              "size": 10,
              "solidity": 0.2
             }
            },
            "type": "bar"
           }
          ],
          "barpolar": [
           {
            "marker": {
             "line": {
              "color": "#E5ECF6",
              "width": 0.5
             },
             "pattern": {
              "fillmode": "overlay",
              "size": 10,
              "solidity": 0.2
             }
            },
            "type": "barpolar"
           }
          ],
          "carpet": [
           {
            "aaxis": {
             "endlinecolor": "#2a3f5f",
             "gridcolor": "white",
             "linecolor": "white",
             "minorgridcolor": "white",
             "startlinecolor": "#2a3f5f"
            },
            "baxis": {
             "endlinecolor": "#2a3f5f",
             "gridcolor": "white",
             "linecolor": "white",
             "minorgridcolor": "white",
             "startlinecolor": "#2a3f5f"
            },
            "type": "carpet"
           }
          ],
          "choropleth": [
           {
            "colorbar": {
             "outlinewidth": 0,
             "ticks": ""
            },
            "type": "choropleth"
           }
          ],
          "contour": [
           {
            "colorbar": {
             "outlinewidth": 0,
             "ticks": ""
            },
            "colorscale": [
             [
              0,
              "#0d0887"
             ],
             [
              0.1111111111111111,
              "#46039f"
             ],
             [
              0.2222222222222222,
              "#7201a8"
             ],
             [
              0.3333333333333333,
              "#9c179e"
             ],
             [
              0.4444444444444444,
              "#bd3786"
             ],
             [
              0.5555555555555556,
              "#d8576b"
             ],
             [
              0.6666666666666666,
              "#ed7953"
             ],
             [
              0.7777777777777778,
              "#fb9f3a"
             ],
             [
              0.8888888888888888,
              "#fdca26"
             ],
             [
              1,
              "#f0f921"
             ]
            ],
            "type": "contour"
           }
          ],
          "contourcarpet": [
           {
            "colorbar": {
             "outlinewidth": 0,
             "ticks": ""
            },
            "type": "contourcarpet"
           }
          ],
          "heatmap": [
           {
            "colorbar": {
             "outlinewidth": 0,
             "ticks": ""
            },
            "colorscale": [
             [
              0,
              "#0d0887"
             ],
             [
              0.1111111111111111,
              "#46039f"
             ],
             [
              0.2222222222222222,
              "#7201a8"
             ],
             [
              0.3333333333333333,
              "#9c179e"
             ],
             [
              0.4444444444444444,
              "#bd3786"
             ],
             [
              0.5555555555555556,
              "#d8576b"
             ],
             [
              0.6666666666666666,
              "#ed7953"
             ],
             [
              0.7777777777777778,
              "#fb9f3a"
             ],
             [
              0.8888888888888888,
              "#fdca26"
             ],
             [
              1,
              "#f0f921"
             ]
            ],
            "type": "heatmap"
           }
          ],
          "heatmapgl": [
           {
            "colorbar": {
             "outlinewidth": 0,
             "ticks": ""
            },
            "colorscale": [
             [
              0,
              "#0d0887"
             ],
             [
              0.1111111111111111,
              "#46039f"
             ],
             [
              0.2222222222222222,
              "#7201a8"
             ],
             [
              0.3333333333333333,
              "#9c179e"
             ],
             [
              0.4444444444444444,
              "#bd3786"
             ],
             [
              0.5555555555555556,
              "#d8576b"
             ],
             [
              0.6666666666666666,
              "#ed7953"
             ],
             [
              0.7777777777777778,
              "#fb9f3a"
             ],
             [
              0.8888888888888888,
              "#fdca26"
             ],
             [
              1,
              "#f0f921"
             ]
            ],
            "type": "heatmapgl"
           }
          ],
          "histogram": [
           {
            "marker": {
             "pattern": {
              "fillmode": "overlay",
              "size": 10,
              "solidity": 0.2
             }
            },
            "type": "histogram"
           }
          ],
          "histogram2d": [
           {
            "colorbar": {
             "outlinewidth": 0,
             "ticks": ""
            },
            "colorscale": [
             [
              0,
              "#0d0887"
             ],
             [
              0.1111111111111111,
              "#46039f"
             ],
             [
              0.2222222222222222,
              "#7201a8"
             ],
             [
              0.3333333333333333,
              "#9c179e"
             ],
             [
              0.4444444444444444,
              "#bd3786"
             ],
             [
              0.5555555555555556,
              "#d8576b"
             ],
             [
              0.6666666666666666,
              "#ed7953"
             ],
             [
              0.7777777777777778,
              "#fb9f3a"
             ],
             [
              0.8888888888888888,
              "#fdca26"
             ],
             [
              1,
              "#f0f921"
             ]
            ],
            "type": "histogram2d"
           }
          ],
          "histogram2dcontour": [
           {
            "colorbar": {
             "outlinewidth": 0,
             "ticks": ""
            },
            "colorscale": [
             [
              0,
              "#0d0887"
             ],
             [
              0.1111111111111111,
              "#46039f"
             ],
             [
              0.2222222222222222,
              "#7201a8"
             ],
             [
              0.3333333333333333,
              "#9c179e"
             ],
             [
              0.4444444444444444,
              "#bd3786"
             ],
             [
              0.5555555555555556,
              "#d8576b"
             ],
             [
              0.6666666666666666,
              "#ed7953"
             ],
             [
              0.7777777777777778,
              "#fb9f3a"
             ],
             [
              0.8888888888888888,
              "#fdca26"
             ],
             [
              1,
              "#f0f921"
             ]
            ],
            "type": "histogram2dcontour"
           }
          ],
          "mesh3d": [
           {
            "colorbar": {
             "outlinewidth": 0,
             "ticks": ""
            },
            "type": "mesh3d"
           }
          ],
          "parcoords": [
           {
            "line": {
             "colorbar": {
              "outlinewidth": 0,
              "ticks": ""
             }
            },
            "type": "parcoords"
           }
          ],
          "pie": [
           {
            "automargin": true,
            "type": "pie"
           }
          ],
          "scatter": [
           {
            "marker": {
             "colorbar": {
              "outlinewidth": 0,
              "ticks": ""
             }
            },
            "type": "scatter"
           }
          ],
          "scatter3d": [
           {
            "line": {
             "colorbar": {
              "outlinewidth": 0,
              "ticks": ""
             }
            },
            "marker": {
             "colorbar": {
              "outlinewidth": 0,
              "ticks": ""
             }
            },
            "type": "scatter3d"
           }
          ],
          "scattercarpet": [
           {
            "marker": {
             "colorbar": {
              "outlinewidth": 0,
              "ticks": ""
             }
            },
            "type": "scattercarpet"
           }
          ],
          "scattergeo": [
           {
            "marker": {
             "colorbar": {
              "outlinewidth": 0,
              "ticks": ""
             }
            },
            "type": "scattergeo"
           }
          ],
          "scattergl": [
           {
            "marker": {
             "colorbar": {
              "outlinewidth": 0,
              "ticks": ""
             }
            },
            "type": "scattergl"
           }
          ],
          "scattermapbox": [
           {
            "marker": {
             "colorbar": {
              "outlinewidth": 0,
              "ticks": ""
             }
            },
            "type": "scattermapbox"
           }
          ],
          "scatterpolar": [
           {
            "marker": {
             "colorbar": {
              "outlinewidth": 0,
              "ticks": ""
             }
            },
            "type": "scatterpolar"
           }
          ],
          "scatterpolargl": [
           {
            "marker": {
             "colorbar": {
              "outlinewidth": 0,
              "ticks": ""
             }
            },
            "type": "scatterpolargl"
           }
          ],
          "scatterternary": [
           {
            "marker": {
             "colorbar": {
              "outlinewidth": 0,
              "ticks": ""
             }
            },
            "type": "scatterternary"
           }
          ],
          "surface": [
           {
            "colorbar": {
             "outlinewidth": 0,
             "ticks": ""
            },
            "colorscale": [
             [
              0,
              "#0d0887"
             ],
             [
              0.1111111111111111,
              "#46039f"
             ],
             [
              0.2222222222222222,
              "#7201a8"
             ],
             [
              0.3333333333333333,
              "#9c179e"
             ],
             [
              0.4444444444444444,
              "#bd3786"
             ],
             [
              0.5555555555555556,
              "#d8576b"
             ],
             [
              0.6666666666666666,
              "#ed7953"
             ],
             [
              0.7777777777777778,
              "#fb9f3a"
             ],
             [
              0.8888888888888888,
              "#fdca26"
             ],
             [
              1,
              "#f0f921"
             ]
            ],
            "type": "surface"
           }
          ],
          "table": [
           {
            "cells": {
             "fill": {
              "color": "#EBF0F8"
             },
             "line": {
              "color": "white"
             }
            },
            "header": {
             "fill": {
              "color": "#C8D4E3"
             },
             "line": {
              "color": "white"
             }
            },
            "type": "table"
           }
          ]
         },
         "layout": {
          "annotationdefaults": {
           "arrowcolor": "#2a3f5f",
           "arrowhead": 0,
           "arrowwidth": 1
          },
          "autotypenumbers": "strict",
          "coloraxis": {
           "colorbar": {
            "outlinewidth": 0,
            "ticks": ""
           }
          },
          "colorscale": {
           "diverging": [
            [
             0,
             "#8e0152"
            ],
            [
             0.1,
             "#c51b7d"
            ],
            [
             0.2,
             "#de77ae"
            ],
            [
             0.3,
             "#f1b6da"
            ],
            [
             0.4,
             "#fde0ef"
            ],
            [
             0.5,
             "#f7f7f7"
            ],
            [
             0.6,
             "#e6f5d0"
            ],
            [
             0.7,
             "#b8e186"
            ],
            [
             0.8,
             "#7fbc41"
            ],
            [
             0.9,
             "#4d9221"
            ],
            [
             1,
             "#276419"
            ]
           ],
           "sequential": [
            [
             0,
             "#0d0887"
            ],
            [
             0.1111111111111111,
             "#46039f"
            ],
            [
             0.2222222222222222,
             "#7201a8"
            ],
            [
             0.3333333333333333,
             "#9c179e"
            ],
            [
             0.4444444444444444,
             "#bd3786"
            ],
            [
             0.5555555555555556,
             "#d8576b"
            ],
            [
             0.6666666666666666,
             "#ed7953"
            ],
            [
             0.7777777777777778,
             "#fb9f3a"
            ],
            [
             0.8888888888888888,
             "#fdca26"
            ],
            [
             1,
             "#f0f921"
            ]
           ],
           "sequentialminus": [
            [
             0,
             "#0d0887"
            ],
            [
             0.1111111111111111,
             "#46039f"
            ],
            [
             0.2222222222222222,
             "#7201a8"
            ],
            [
             0.3333333333333333,
             "#9c179e"
            ],
            [
             0.4444444444444444,
             "#bd3786"
            ],
            [
             0.5555555555555556,
             "#d8576b"
            ],
            [
             0.6666666666666666,
             "#ed7953"
            ],
            [
             0.7777777777777778,
             "#fb9f3a"
            ],
            [
             0.8888888888888888,
             "#fdca26"
            ],
            [
             1,
             "#f0f921"
            ]
           ]
          },
          "colorway": [
           "#636efa",
           "#EF553B",
           "#00cc96",
           "#ab63fa",
           "#FFA15A",
           "#19d3f3",
           "#FF6692",
           "#B6E880",
           "#FF97FF",
           "#FECB52"
          ],
          "font": {
           "color": "#2a3f5f"
          },
          "geo": {
           "bgcolor": "white",
           "lakecolor": "white",
           "landcolor": "#E5ECF6",
           "showlakes": true,
           "showland": true,
           "subunitcolor": "white"
          },
          "hoverlabel": {
           "align": "left"
          },
          "hovermode": "closest",
          "mapbox": {
           "style": "light"
          },
          "paper_bgcolor": "white",
          "plot_bgcolor": "#E5ECF6",
          "polar": {
           "angularaxis": {
            "gridcolor": "white",
            "linecolor": "white",
            "ticks": ""
           },
           "bgcolor": "#E5ECF6",
           "radialaxis": {
            "gridcolor": "white",
            "linecolor": "white",
            "ticks": ""
           }
          },
          "scene": {
           "xaxis": {
            "backgroundcolor": "#E5ECF6",
            "gridcolor": "white",
            "gridwidth": 2,
            "linecolor": "white",
            "showbackground": true,
            "ticks": "",
            "zerolinecolor": "white"
           },
           "yaxis": {
            "backgroundcolor": "#E5ECF6",
            "gridcolor": "white",
            "gridwidth": 2,
            "linecolor": "white",
            "showbackground": true,
            "ticks": "",
            "zerolinecolor": "white"
           },
           "zaxis": {
            "backgroundcolor": "#E5ECF6",
            "gridcolor": "white",
            "gridwidth": 2,
            "linecolor": "white",
            "showbackground": true,
            "ticks": "",
            "zerolinecolor": "white"
           }
          },
          "shapedefaults": {
           "line": {
            "color": "#2a3f5f"
           }
          },
          "ternary": {
           "aaxis": {
            "gridcolor": "white",
            "linecolor": "white",
            "ticks": ""
           },
           "baxis": {
            "gridcolor": "white",
            "linecolor": "white",
            "ticks": ""
           },
           "bgcolor": "#E5ECF6",
           "caxis": {
            "gridcolor": "white",
            "linecolor": "white",
            "ticks": ""
           }
          },
          "title": {
           "x": 0.05
          },
          "xaxis": {
           "automargin": true,
           "gridcolor": "white",
           "linecolor": "white",
           "ticks": "",
           "title": {
            "standoff": 15
           },
           "zerolinecolor": "white",
           "zerolinewidth": 2
          },
          "yaxis": {
           "automargin": true,
           "gridcolor": "white",
           "linecolor": "white",
           "ticks": "",
           "title": {
            "standoff": 15
           },
           "zerolinecolor": "white",
           "zerolinewidth": 2
          }
         }
        },
        "title": {
         "font": {
          "color": "#4D5663"
         }
        },
        "xaxis": {
         "gridcolor": "#E1E5ED",
         "showgrid": true,
         "tickfont": {
          "color": "#4D5663"
         },
         "title": {
          "font": {
           "color": "#4D5663"
          },
          "text": ""
         },
         "zerolinecolor": "#E1E5ED"
        },
        "yaxis": {
         "gridcolor": "#E1E5ED",
         "showgrid": true,
         "tickfont": {
          "color": "#4D5663"
         },
         "title": {
          "font": {
           "color": "#4D5663"
          },
          "text": ""
         },
         "zerolinecolor": "#E1E5ED"
        }
       }
      },
      "text/html": [
       "<div>                            <div id=\"0b5040e4-a9bc-4dae-8016-5e839395b7f4\" class=\"plotly-graph-div\" style=\"height:525px; width:100%;\"></div>            <script type=\"text/javascript\">                require([\"plotly\"], function(Plotly) {                    window.PLOTLYENV=window.PLOTLYENV || {};\n",
       "                    window.PLOTLYENV.BASE_URL='https://plot.ly';                                    if (document.getElementById(\"0b5040e4-a9bc-4dae-8016-5e839395b7f4\")) {                    Plotly.newPlot(                        \"0b5040e4-a9bc-4dae-8016-5e839395b7f4\",                        [{\"line\":{\"color\":\"rgba(255, 153, 51, 1.0)\",\"dash\":\"solid\",\"shape\":\"linear\",\"width\":1.3},\"mode\":\"lines\",\"name\":\"A\",\"text\":\"\",\"x\":[0,1,2,3,4,5,6,7,8,9,10,11,12,13,14,15,16,17,18,19,20,21,22,23,24,25,26,27,28,29,30,31,32,33,34,35,36,37,38,39,40,41,42,43,44,45,46,47,48,49,50,51,52,53,54,55,56,57,58,59,60,61,62,63,64,65,66,67,68,69,70,71,72,73,74,75,76,77,78,79,80,81,82,83,84,85,86,87,88,89,90,91,92,93,94,95,96,97,98,99],\"y\":[-0.8045319692756239,-0.7857508741343778,0.39430716210118383,0.040154756846361016,-1.7322422804433464,0.23192449486695912,-0.6018949797227127,-0.26289401276907864,0.05250827501417779,1.3215808600707148,-0.3415752045912305,0.9123430324087752,-0.11882811971741239,-1.277598509738442,1.22129685804723,-0.9964878457298946,2.6620936089218095,-0.4803892863051099,-1.4490068334874833,-0.5458590243929505,0.1806089625886417,-0.04853061562212352,-0.7519138670027183,0.9822323510339834,1.3217667116892085,-0.4078361976983211,-0.7433064246907137,1.3097970819898321,-0.8885546830130938,0.08959952426663148,0.7613983182603498,1.114935205693224,-0.26808691289618436,-1.179007519613772,-0.8212285519866818,0.0171376674536935,-1.261984800199849,0.7540606103836702,1.0365981858780862,1.0894455868431638,1.467140241494887,-0.45420815578998514,1.4150942894048062,-1.0307095952537535,-0.8738128032396157,0.8499380934853883,0.44623467531343414,1.1111190821690289,1.5931104775281726,-0.4229825602717984,-0.347724986376733,-0.13542680812754604,0.3082974882607674,-1.8041564241898107,-0.01515489581035622,1.2123741242554724,1.6091967660300068,-0.9099405101509571,-1.0607387072884853,-0.01457523724299721,-0.4606327435061816,1.353930884874758,0.7192866992265134,0.35255737217605587,0.17943773439695976,-0.0008330315647807776,0.013257714626296735,-0.4853923909661426,0.987472645343711,-1.2792863154847292,-0.1927603830487624,-1.248884129883844,0.09746544762239337,0.205544722884781,-1.6106179773906022,-1.4962536071793135,1.8804432211155748,-0.9024008840300444,-1.2721816262871173,2.1523784705721707,-0.9891223749584839,-0.966689724244585,-1.001881325254751,0.09961378114378827,-0.6782575216848209,0.6993114545806943,0.6321315478915533,-0.7053759028281684,-0.41772962659482143,0.3005169214229249,0.6704583648794865,-0.3618318985451478,1.1737851603704852,0.24227025716212627,1.4015786878545637,-0.20532599663298384,-0.25831017270764134,-2.0960187662439336,0.22663058350173887,-1.499548991493352],\"type\":\"scatter\"},{\"line\":{\"color\":\"rgba(55, 128, 191, 1.0)\",\"dash\":\"solid\",\"shape\":\"linear\",\"width\":1.3},\"mode\":\"lines\",\"name\":\"B\",\"text\":\"\",\"x\":[0,1,2,3,4,5,6,7,8,9,10,11,12,13,14,15,16,17,18,19,20,21,22,23,24,25,26,27,28,29,30,31,32,33,34,35,36,37,38,39,40,41,42,43,44,45,46,47,48,49,50,51,52,53,54,55,56,57,58,59,60,61,62,63,64,65,66,67,68,69,70,71,72,73,74,75,76,77,78,79,80,81,82,83,84,85,86,87,88,89,90,91,92,93,94,95,96,97,98,99],\"y\":[1.380854838531965,0.11938502538426132,-1.3143531805255566,0.6406812285572712,0.45901609373282704,0.14365163997084188,0.04919209970407182,-0.14356601653396417,-0.13652030629061812,0.705737494583953,0.4693637488317349,-0.22019440349318015,0.023077433512087436,1.2240704876175075,-0.20295579519226248,-0.5507208895965063,-0.04503975484391459,-1.0716079956340958,-0.3498571619930785,0.05378116157884617,0.1914937961172496,-0.8001900502593962,-1.8724024669870398,-1.155013636557828,-0.8728225347049191,-0.9491040625196484,-0.01307810894809895,-1.7416462532512975,0.7582038042037499,1.0245971841296806,2.209354664513985,0.27962419638957986,-0.3625691399492275,-0.37384775610699056,-0.09090160784772924,-0.963449146450701,-0.7980032760865212,-0.1365887386905632,-0.8236488041076043,0.12473376344798781,-1.5436042717554994,-0.6216132617616013,1.6894254983684525,0.556296337156448,-0.785063041863813,2.483960864125458,-0.43302859825742124,0.8939916753077831,1.2096210869953685,0.9394848885610718,-1.4390417869534922,1.1168312594389562,-0.5365559556172983,1.8492172694897153,-0.1362841448844875,0.6018566047291094,0.6036293584590517,1.0888599872211706,-0.5537892278737087,-1.2571168203364704,-0.4422470583484276,-0.6044378393263163,-1.041592179467776,1.5009696060524216,-0.9109487853431983,2.1787784184384558,-1.0579386356798106,-1.7000597049686215,-1.3445417160500615,-1.1784242650767685,-0.5223318292191497,-1.6418690103787708,1.6251438590138476,-3.8913039112713124,-0.5316779558052692,0.3711369956120464,0.39400732044115944,0.5000893212146826,-0.1723379534232298,-0.8721395911197579,-0.36567250291673475,1.5156140766192698,2.3623075261343915,-1.489554844966301,1.6413735284669448,-0.0929390528011857,-0.714291437029099,0.130654739297638,1.4599097658828708,-0.46420506328524286,-1.3247869299650787,-1.0332844721276573,-0.6378849266767722,0.5187408321369664,0.4352512593360889,-0.06583816090115427,0.5379177916772021,0.28204406416968447,-1.04570445537743,0.08376817237639435],\"type\":\"scatter\"},{\"line\":{\"color\":\"rgba(50, 171, 96, 1.0)\",\"dash\":\"solid\",\"shape\":\"linear\",\"width\":1.3},\"mode\":\"lines\",\"name\":\"C\",\"text\":\"\",\"x\":[0,1,2,3,4,5,6,7,8,9,10,11,12,13,14,15,16,17,18,19,20,21,22,23,24,25,26,27,28,29,30,31,32,33,34,35,36,37,38,39,40,41,42,43,44,45,46,47,48,49,50,51,52,53,54,55,56,57,58,59,60,61,62,63,64,65,66,67,68,69,70,71,72,73,74,75,76,77,78,79,80,81,82,83,84,85,86,87,88,89,90,91,92,93,94,95,96,97,98,99],\"y\":[-1.8708875734832748,0.04425823550598916,2.2318098580876335,-0.1932162636185701,-0.3495142742950361,-0.9363714842063803,-0.3751675288083557,0.24096398472949992,0.7839074733605705,-0.948046660123082,0.9688924880089168,0.29601276029714685,-1.3281620746071872,1.3444769424008969,1.5857319136801458,-0.7572298115336303,-2.1853912146666983,0.5794319393647758,0.11438605827806371,-0.8174361744556506,0.2523687940971506,1.4635374612249505,0.2514716300708972,0.5909474815715231,0.5743582936896399,0.3404858368078811,-0.4907552024656146,-0.32078836101622105,-0.44800327053016514,0.9960774558527737,0.22467360416969342,2.4529081035546207,-0.21787418455794888,0.6762498754903966,-0.48303381928730993,-0.16139780190549755,-0.5647919533473379,-0.3672292350945552,-0.278958867299943,-0.07128610183100571,-0.0351476668971757,0.5375339473571906,-0.16054867274784868,1.2920755922952918,1.667640449645262,-0.36020101369593516,1.4831194257765556,0.16674921176253732,-0.5377061661274848,-1.4134058793381234,-0.47496514727810796,0.46973511175391053,-0.14771132817389718,1.5164803577234145,-0.6872851570369064,0.3298080343624988,-0.9444593815516463,0.5566413339925547,-1.4670673842371387,-0.09040314661128307,-0.7681215742517598,0.22498077143569414,0.27567011144228754,-1.7401853989682063,0.5830003687822239,0.3502144296196838,-1.8571529961941577,0.1901652524422592,-0.12813138347420786,-1.1874881142031868,-0.06773200120193666,-0.5034130203140469,-1.7569306963537281,0.9954700566699439,-0.7377403658835474,-1.9608339437686828,1.0887725214220043,1.1615126132641291,-1.3425676644410556,1.1731778312031338,0.5923121609965328,-0.49249661917257426,-0.13023345722216656,-1.459896361013488,0.3545202476999806,-1.8383904457936295,-0.16943713505500044,-0.5132237203127183,0.3047428775744405,-0.10827793167007603,0.3317581955489925,0.6011410609751754,1.1156955619768716,1.0934138206778674,0.47807489067700687,0.2012802882466331,0.01618371786285664,-0.4205840724709901,-1.3314350933539179,1.307938271004548],\"type\":\"scatter\"},{\"line\":{\"color\":\"rgba(128, 0, 128, 1.0)\",\"dash\":\"solid\",\"shape\":\"linear\",\"width\":1.3},\"mode\":\"lines\",\"name\":\"D\",\"text\":\"\",\"x\":[0,1,2,3,4,5,6,7,8,9,10,11,12,13,14,15,16,17,18,19,20,21,22,23,24,25,26,27,28,29,30,31,32,33,34,35,36,37,38,39,40,41,42,43,44,45,46,47,48,49,50,51,52,53,54,55,56,57,58,59,60,61,62,63,64,65,66,67,68,69,70,71,72,73,74,75,76,77,78,79,80,81,82,83,84,85,86,87,88,89,90,91,92,93,94,95,96,97,98,99],\"y\":[-0.6243127375617485,-1.1740550580744102,0.038460727649453415,1.473545397199106,-0.9521658151129334,-0.4848915430788821,0.0675901121034954,0.805327552498521,-0.3678164673871686,-0.9210994094835443,0.30050191780807356,0.12519393915142765,1.137088531812455,0.2968333543050542,0.9444873258850971,0.07407865634529899,-0.25029023390720306,0.3179564559367161,-2.5639417290556357,0.230886491505683,-0.0888265823761594,-0.09021836298835495,-1.0771186416949865,-0.8594551656352457,-0.10386030844563789,-0.5953859982931564,-2.1793723497553326,0.11283882512550318,-0.5749599969041304,-1.1233656099056193,2.1314646206198327,-1.653124713992959,-1.7960268785121087,-0.1393410261146086,-0.539714578867005,0.5856794701890018,-0.2071207922317129,-0.6972380495463055,-1.4852391624389962,-0.6132944048119481,1.3420483036377386,-1.5755224816993758,0.2743879523680005,-0.4464672218318962,-3.378295994805631,-0.6707301853353952,-0.7587263078274006,-0.27706990266371545,-0.8225006505775436,0.2503955509660361,0.038810602206067676,-1.0879790827177869,-0.5147650195142758,0.056920826723514194,-0.455853480689292,-0.37650380217157314,0.8415793821045491,0.09174178210241361,1.6341077538875552,-0.6868086957169546,1.2819199478532186,-1.182394428328359,-0.636493609887241,0.4836901410780605,-1.7703504544405102,-2.170912133455119,-0.0822348997199209,-1.1309071842819234,-0.5383595119236265,-0.014834978292038978,-0.6162582558907989,-0.6883800257753223,0.8954912080936425,0.9037166248628814,1.1873894608157394,-0.6123584271721806,-1.422847869128479,2.3106182679204,-0.7881045889309072,0.03242724161322168,-1.541884412644934,-0.9388412359867381,-0.5529495445987058,0.6732988001879391,-0.5893911620958981,2.579973066211168,-0.3185865876642497,0.5761037296869645,1.5547217694290791,0.3041990392389531,0.9716870695179999,0.3940485816680812,-0.6403195185889015,1.0750979233256113,0.970106939826967,1.9639453540327028,1.5346904677398219,0.5966181882134294,-0.33441777490768804,-0.6426062418461276],\"type\":\"scatter\"}],                        {\"legend\":{\"bgcolor\":\"#F5F6F9\",\"font\":{\"color\":\"#4D5663\"}},\"paper_bgcolor\":\"#F5F6F9\",\"plot_bgcolor\":\"#F5F6F9\",\"template\":{\"data\":{\"barpolar\":[{\"marker\":{\"line\":{\"color\":\"#E5ECF6\",\"width\":0.5},\"pattern\":{\"fillmode\":\"overlay\",\"size\":10,\"solidity\":0.2}},\"type\":\"barpolar\"}],\"bar\":[{\"error_x\":{\"color\":\"#2a3f5f\"},\"error_y\":{\"color\":\"#2a3f5f\"},\"marker\":{\"line\":{\"color\":\"#E5ECF6\",\"width\":0.5},\"pattern\":{\"fillmode\":\"overlay\",\"size\":10,\"solidity\":0.2}},\"type\":\"bar\"}],\"carpet\":[{\"aaxis\":{\"endlinecolor\":\"#2a3f5f\",\"gridcolor\":\"white\",\"linecolor\":\"white\",\"minorgridcolor\":\"white\",\"startlinecolor\":\"#2a3f5f\"},\"baxis\":{\"endlinecolor\":\"#2a3f5f\",\"gridcolor\":\"white\",\"linecolor\":\"white\",\"minorgridcolor\":\"white\",\"startlinecolor\":\"#2a3f5f\"},\"type\":\"carpet\"}],\"choropleth\":[{\"colorbar\":{\"outlinewidth\":0,\"ticks\":\"\"},\"type\":\"choropleth\"}],\"contourcarpet\":[{\"colorbar\":{\"outlinewidth\":0,\"ticks\":\"\"},\"type\":\"contourcarpet\"}],\"contour\":[{\"colorbar\":{\"outlinewidth\":0,\"ticks\":\"\"},\"colorscale\":[[0.0,\"#0d0887\"],[0.1111111111111111,\"#46039f\"],[0.2222222222222222,\"#7201a8\"],[0.3333333333333333,\"#9c179e\"],[0.4444444444444444,\"#bd3786\"],[0.5555555555555556,\"#d8576b\"],[0.6666666666666666,\"#ed7953\"],[0.7777777777777778,\"#fb9f3a\"],[0.8888888888888888,\"#fdca26\"],[1.0,\"#f0f921\"]],\"type\":\"contour\"}],\"heatmapgl\":[{\"colorbar\":{\"outlinewidth\":0,\"ticks\":\"\"},\"colorscale\":[[0.0,\"#0d0887\"],[0.1111111111111111,\"#46039f\"],[0.2222222222222222,\"#7201a8\"],[0.3333333333333333,\"#9c179e\"],[0.4444444444444444,\"#bd3786\"],[0.5555555555555556,\"#d8576b\"],[0.6666666666666666,\"#ed7953\"],[0.7777777777777778,\"#fb9f3a\"],[0.8888888888888888,\"#fdca26\"],[1.0,\"#f0f921\"]],\"type\":\"heatmapgl\"}],\"heatmap\":[{\"colorbar\":{\"outlinewidth\":0,\"ticks\":\"\"},\"colorscale\":[[0.0,\"#0d0887\"],[0.1111111111111111,\"#46039f\"],[0.2222222222222222,\"#7201a8\"],[0.3333333333333333,\"#9c179e\"],[0.4444444444444444,\"#bd3786\"],[0.5555555555555556,\"#d8576b\"],[0.6666666666666666,\"#ed7953\"],[0.7777777777777778,\"#fb9f3a\"],[0.8888888888888888,\"#fdca26\"],[1.0,\"#f0f921\"]],\"type\":\"heatmap\"}],\"histogram2dcontour\":[{\"colorbar\":{\"outlinewidth\":0,\"ticks\":\"\"},\"colorscale\":[[0.0,\"#0d0887\"],[0.1111111111111111,\"#46039f\"],[0.2222222222222222,\"#7201a8\"],[0.3333333333333333,\"#9c179e\"],[0.4444444444444444,\"#bd3786\"],[0.5555555555555556,\"#d8576b\"],[0.6666666666666666,\"#ed7953\"],[0.7777777777777778,\"#fb9f3a\"],[0.8888888888888888,\"#fdca26\"],[1.0,\"#f0f921\"]],\"type\":\"histogram2dcontour\"}],\"histogram2d\":[{\"colorbar\":{\"outlinewidth\":0,\"ticks\":\"\"},\"colorscale\":[[0.0,\"#0d0887\"],[0.1111111111111111,\"#46039f\"],[0.2222222222222222,\"#7201a8\"],[0.3333333333333333,\"#9c179e\"],[0.4444444444444444,\"#bd3786\"],[0.5555555555555556,\"#d8576b\"],[0.6666666666666666,\"#ed7953\"],[0.7777777777777778,\"#fb9f3a\"],[0.8888888888888888,\"#fdca26\"],[1.0,\"#f0f921\"]],\"type\":\"histogram2d\"}],\"histogram\":[{\"marker\":{\"pattern\":{\"fillmode\":\"overlay\",\"size\":10,\"solidity\":0.2}},\"type\":\"histogram\"}],\"mesh3d\":[{\"colorbar\":{\"outlinewidth\":0,\"ticks\":\"\"},\"type\":\"mesh3d\"}],\"parcoords\":[{\"line\":{\"colorbar\":{\"outlinewidth\":0,\"ticks\":\"\"}},\"type\":\"parcoords\"}],\"pie\":[{\"automargin\":true,\"type\":\"pie\"}],\"scatter3d\":[{\"line\":{\"colorbar\":{\"outlinewidth\":0,\"ticks\":\"\"}},\"marker\":{\"colorbar\":{\"outlinewidth\":0,\"ticks\":\"\"}},\"type\":\"scatter3d\"}],\"scattercarpet\":[{\"marker\":{\"colorbar\":{\"outlinewidth\":0,\"ticks\":\"\"}},\"type\":\"scattercarpet\"}],\"scattergeo\":[{\"marker\":{\"colorbar\":{\"outlinewidth\":0,\"ticks\":\"\"}},\"type\":\"scattergeo\"}],\"scattergl\":[{\"marker\":{\"colorbar\":{\"outlinewidth\":0,\"ticks\":\"\"}},\"type\":\"scattergl\"}],\"scattermapbox\":[{\"marker\":{\"colorbar\":{\"outlinewidth\":0,\"ticks\":\"\"}},\"type\":\"scattermapbox\"}],\"scatterpolargl\":[{\"marker\":{\"colorbar\":{\"outlinewidth\":0,\"ticks\":\"\"}},\"type\":\"scatterpolargl\"}],\"scatterpolar\":[{\"marker\":{\"colorbar\":{\"outlinewidth\":0,\"ticks\":\"\"}},\"type\":\"scatterpolar\"}],\"scatter\":[{\"marker\":{\"colorbar\":{\"outlinewidth\":0,\"ticks\":\"\"}},\"type\":\"scatter\"}],\"scatterternary\":[{\"marker\":{\"colorbar\":{\"outlinewidth\":0,\"ticks\":\"\"}},\"type\":\"scatterternary\"}],\"surface\":[{\"colorbar\":{\"outlinewidth\":0,\"ticks\":\"\"},\"colorscale\":[[0.0,\"#0d0887\"],[0.1111111111111111,\"#46039f\"],[0.2222222222222222,\"#7201a8\"],[0.3333333333333333,\"#9c179e\"],[0.4444444444444444,\"#bd3786\"],[0.5555555555555556,\"#d8576b\"],[0.6666666666666666,\"#ed7953\"],[0.7777777777777778,\"#fb9f3a\"],[0.8888888888888888,\"#fdca26\"],[1.0,\"#f0f921\"]],\"type\":\"surface\"}],\"table\":[{\"cells\":{\"fill\":{\"color\":\"#EBF0F8\"},\"line\":{\"color\":\"white\"}},\"header\":{\"fill\":{\"color\":\"#C8D4E3\"},\"line\":{\"color\":\"white\"}},\"type\":\"table\"}]},\"layout\":{\"annotationdefaults\":{\"arrowcolor\":\"#2a3f5f\",\"arrowhead\":0,\"arrowwidth\":1},\"autotypenumbers\":\"strict\",\"coloraxis\":{\"colorbar\":{\"outlinewidth\":0,\"ticks\":\"\"}},\"colorscale\":{\"diverging\":[[0,\"#8e0152\"],[0.1,\"#c51b7d\"],[0.2,\"#de77ae\"],[0.3,\"#f1b6da\"],[0.4,\"#fde0ef\"],[0.5,\"#f7f7f7\"],[0.6,\"#e6f5d0\"],[0.7,\"#b8e186\"],[0.8,\"#7fbc41\"],[0.9,\"#4d9221\"],[1,\"#276419\"]],\"sequential\":[[0.0,\"#0d0887\"],[0.1111111111111111,\"#46039f\"],[0.2222222222222222,\"#7201a8\"],[0.3333333333333333,\"#9c179e\"],[0.4444444444444444,\"#bd3786\"],[0.5555555555555556,\"#d8576b\"],[0.6666666666666666,\"#ed7953\"],[0.7777777777777778,\"#fb9f3a\"],[0.8888888888888888,\"#fdca26\"],[1.0,\"#f0f921\"]],\"sequentialminus\":[[0.0,\"#0d0887\"],[0.1111111111111111,\"#46039f\"],[0.2222222222222222,\"#7201a8\"],[0.3333333333333333,\"#9c179e\"],[0.4444444444444444,\"#bd3786\"],[0.5555555555555556,\"#d8576b\"],[0.6666666666666666,\"#ed7953\"],[0.7777777777777778,\"#fb9f3a\"],[0.8888888888888888,\"#fdca26\"],[1.0,\"#f0f921\"]]},\"colorway\":[\"#636efa\",\"#EF553B\",\"#00cc96\",\"#ab63fa\",\"#FFA15A\",\"#19d3f3\",\"#FF6692\",\"#B6E880\",\"#FF97FF\",\"#FECB52\"],\"font\":{\"color\":\"#2a3f5f\"},\"geo\":{\"bgcolor\":\"white\",\"lakecolor\":\"white\",\"landcolor\":\"#E5ECF6\",\"showlakes\":true,\"showland\":true,\"subunitcolor\":\"white\"},\"hoverlabel\":{\"align\":\"left\"},\"hovermode\":\"closest\",\"mapbox\":{\"style\":\"light\"},\"paper_bgcolor\":\"white\",\"plot_bgcolor\":\"#E5ECF6\",\"polar\":{\"angularaxis\":{\"gridcolor\":\"white\",\"linecolor\":\"white\",\"ticks\":\"\"},\"bgcolor\":\"#E5ECF6\",\"radialaxis\":{\"gridcolor\":\"white\",\"linecolor\":\"white\",\"ticks\":\"\"}},\"scene\":{\"xaxis\":{\"backgroundcolor\":\"#E5ECF6\",\"gridcolor\":\"white\",\"gridwidth\":2,\"linecolor\":\"white\",\"showbackground\":true,\"ticks\":\"\",\"zerolinecolor\":\"white\"},\"yaxis\":{\"backgroundcolor\":\"#E5ECF6\",\"gridcolor\":\"white\",\"gridwidth\":2,\"linecolor\":\"white\",\"showbackground\":true,\"ticks\":\"\",\"zerolinecolor\":\"white\"},\"zaxis\":{\"backgroundcolor\":\"#E5ECF6\",\"gridcolor\":\"white\",\"gridwidth\":2,\"linecolor\":\"white\",\"showbackground\":true,\"ticks\":\"\",\"zerolinecolor\":\"white\"}},\"shapedefaults\":{\"line\":{\"color\":\"#2a3f5f\"}},\"ternary\":{\"aaxis\":{\"gridcolor\":\"white\",\"linecolor\":\"white\",\"ticks\":\"\"},\"baxis\":{\"gridcolor\":\"white\",\"linecolor\":\"white\",\"ticks\":\"\"},\"bgcolor\":\"#E5ECF6\",\"caxis\":{\"gridcolor\":\"white\",\"linecolor\":\"white\",\"ticks\":\"\"}},\"title\":{\"x\":0.05},\"xaxis\":{\"automargin\":true,\"gridcolor\":\"white\",\"linecolor\":\"white\",\"ticks\":\"\",\"title\":{\"standoff\":15},\"zerolinecolor\":\"white\",\"zerolinewidth\":2},\"yaxis\":{\"automargin\":true,\"gridcolor\":\"white\",\"linecolor\":\"white\",\"ticks\":\"\",\"title\":{\"standoff\":15},\"zerolinecolor\":\"white\",\"zerolinewidth\":2}}},\"title\":{\"font\":{\"color\":\"#4D5663\"}},\"xaxis\":{\"gridcolor\":\"#E1E5ED\",\"showgrid\":true,\"tickfont\":{\"color\":\"#4D5663\"},\"title\":{\"font\":{\"color\":\"#4D5663\"},\"text\":\"\"},\"zerolinecolor\":\"#E1E5ED\"},\"yaxis\":{\"gridcolor\":\"#E1E5ED\",\"showgrid\":true,\"tickfont\":{\"color\":\"#4D5663\"},\"title\":{\"font\":{\"color\":\"#4D5663\"},\"text\":\"\"},\"zerolinecolor\":\"#E1E5ED\"}},                        {\"showLink\": true, \"linkText\": \"Export to plot.ly\", \"plotlyServerURL\": \"https://plot.ly\", \"responsive\": true}                    ).then(function(){\n",
       "                            \n",
       "var gd = document.getElementById('0b5040e4-a9bc-4dae-8016-5e839395b7f4');\n",
       "var x = new MutationObserver(function (mutations, observer) {{\n",
       "        var display = window.getComputedStyle(gd).display;\n",
       "        if (!display || display === 'none') {{\n",
       "            console.log([gd, 'removed!']);\n",
       "            Plotly.purge(gd);\n",
       "            observer.disconnect();\n",
       "        }}\n",
       "}});\n",
       "\n",
       "// Listen for the removal of the full notebook cells\n",
       "var notebookContainer = gd.closest('#notebook-container');\n",
       "if (notebookContainer) {{\n",
       "    x.observe(notebookContainer, {childList: true});\n",
       "}}\n",
       "\n",
       "// Listen for the clearing of the current output cell\n",
       "var outputEl = gd.closest('.output');\n",
       "if (outputEl) {{\n",
       "    x.observe(outputEl, {childList: true});\n",
       "}}\n",
       "\n",
       "                        })                };                });            </script>        </div>"
      ]
     },
     "metadata": {},
     "output_type": "display_data"
    }
   ],
   "source": [
    "df.iplot()"
   ]
  },
  {
   "cell_type": "code",
   "execution_count": 25,
   "id": "b8d4fb45",
   "metadata": {},
   "outputs": [
    {
     "data": {
      "application/vnd.plotly.v1+json": {
       "config": {
        "linkText": "Export to plot.ly",
        "plotlyServerURL": "https://plot.ly",
        "showLink": true
       },
       "data": [
        {
         "line": {
          "color": "rgba(255, 153, 51, 1.0)",
          "dash": "solid",
          "shape": "linear",
          "width": 1.3
         },
         "marker": {
          "size": 12,
          "symbol": "circle"
         },
         "mode": "markers",
         "name": "B",
         "text": "",
         "type": "scatter",
         "x": [
          -0.8045319692756239,
          -0.7857508741343778,
          0.39430716210118383,
          0.040154756846361016,
          -1.7322422804433464,
          0.23192449486695912,
          -0.6018949797227127,
          -0.26289401276907864,
          0.05250827501417779,
          1.3215808600707148,
          -0.3415752045912305,
          0.9123430324087752,
          -0.11882811971741239,
          -1.277598509738442,
          1.22129685804723,
          -0.9964878457298946,
          2.6620936089218095,
          -0.4803892863051099,
          -1.4490068334874833,
          -0.5458590243929505,
          0.1806089625886417,
          -0.04853061562212352,
          -0.7519138670027183,
          0.9822323510339834,
          1.3217667116892085,
          -0.4078361976983211,
          -0.7433064246907137,
          1.3097970819898321,
          -0.8885546830130938,
          0.08959952426663148,
          0.7613983182603498,
          1.114935205693224,
          -0.26808691289618436,
          -1.179007519613772,
          -0.8212285519866818,
          0.0171376674536935,
          -1.261984800199849,
          0.7540606103836702,
          1.0365981858780862,
          1.0894455868431638,
          1.467140241494887,
          -0.45420815578998514,
          1.4150942894048062,
          -1.0307095952537535,
          -0.8738128032396157,
          0.8499380934853883,
          0.44623467531343414,
          1.1111190821690289,
          1.5931104775281726,
          -0.4229825602717984,
          -0.347724986376733,
          -0.13542680812754604,
          0.3082974882607674,
          -1.8041564241898107,
          -0.01515489581035622,
          1.2123741242554724,
          1.6091967660300068,
          -0.9099405101509571,
          -1.0607387072884853,
          -0.01457523724299721,
          -0.4606327435061816,
          1.353930884874758,
          0.7192866992265134,
          0.35255737217605587,
          0.17943773439695976,
          -0.0008330315647807776,
          0.013257714626296735,
          -0.4853923909661426,
          0.987472645343711,
          -1.2792863154847292,
          -0.1927603830487624,
          -1.248884129883844,
          0.09746544762239337,
          0.205544722884781,
          -1.6106179773906022,
          -1.4962536071793135,
          1.8804432211155748,
          -0.9024008840300444,
          -1.2721816262871173,
          2.1523784705721707,
          -0.9891223749584839,
          -0.966689724244585,
          -1.001881325254751,
          0.09961378114378827,
          -0.6782575216848209,
          0.6993114545806943,
          0.6321315478915533,
          -0.7053759028281684,
          -0.41772962659482143,
          0.3005169214229249,
          0.6704583648794865,
          -0.3618318985451478,
          1.1737851603704852,
          0.24227025716212627,
          1.4015786878545637,
          -0.20532599663298384,
          -0.25831017270764134,
          -2.0960187662439336,
          0.22663058350173887,
          -1.499548991493352
         ],
         "y": [
          1.380854838531965,
          0.11938502538426132,
          -1.3143531805255566,
          0.6406812285572712,
          0.45901609373282704,
          0.14365163997084188,
          0.04919209970407182,
          -0.14356601653396417,
          -0.13652030629061812,
          0.705737494583953,
          0.4693637488317349,
          -0.22019440349318015,
          0.023077433512087436,
          1.2240704876175075,
          -0.20295579519226248,
          -0.5507208895965063,
          -0.04503975484391459,
          -1.0716079956340958,
          -0.3498571619930785,
          0.05378116157884617,
          0.1914937961172496,
          -0.8001900502593962,
          -1.8724024669870398,
          -1.155013636557828,
          -0.8728225347049191,
          -0.9491040625196484,
          -0.01307810894809895,
          -1.7416462532512975,
          0.7582038042037499,
          1.0245971841296806,
          2.209354664513985,
          0.27962419638957986,
          -0.3625691399492275,
          -0.37384775610699056,
          -0.09090160784772924,
          -0.963449146450701,
          -0.7980032760865212,
          -0.1365887386905632,
          -0.8236488041076043,
          0.12473376344798781,
          -1.5436042717554994,
          -0.6216132617616013,
          1.6894254983684525,
          0.556296337156448,
          -0.785063041863813,
          2.483960864125458,
          -0.43302859825742124,
          0.8939916753077831,
          1.2096210869953685,
          0.9394848885610718,
          -1.4390417869534922,
          1.1168312594389562,
          -0.5365559556172983,
          1.8492172694897153,
          -0.1362841448844875,
          0.6018566047291094,
          0.6036293584590517,
          1.0888599872211706,
          -0.5537892278737087,
          -1.2571168203364704,
          -0.4422470583484276,
          -0.6044378393263163,
          -1.041592179467776,
          1.5009696060524216,
          -0.9109487853431983,
          2.1787784184384558,
          -1.0579386356798106,
          -1.7000597049686215,
          -1.3445417160500615,
          -1.1784242650767685,
          -0.5223318292191497,
          -1.6418690103787708,
          1.6251438590138476,
          -3.8913039112713124,
          -0.5316779558052692,
          0.3711369956120464,
          0.39400732044115944,
          0.5000893212146826,
          -0.1723379534232298,
          -0.8721395911197579,
          -0.36567250291673475,
          1.5156140766192698,
          2.3623075261343915,
          -1.489554844966301,
          1.6413735284669448,
          -0.0929390528011857,
          -0.714291437029099,
          0.130654739297638,
          1.4599097658828708,
          -0.46420506328524286,
          -1.3247869299650787,
          -1.0332844721276573,
          -0.6378849266767722,
          0.5187408321369664,
          0.4352512593360889,
          -0.06583816090115427,
          0.5379177916772021,
          0.28204406416968447,
          -1.04570445537743,
          0.08376817237639435
         ]
        }
       ],
       "layout": {
        "legend": {
         "bgcolor": "#F5F6F9",
         "font": {
          "color": "#4D5663"
         }
        },
        "paper_bgcolor": "#F5F6F9",
        "plot_bgcolor": "#F5F6F9",
        "template": {
         "data": {
          "bar": [
           {
            "error_x": {
             "color": "#2a3f5f"
            },
            "error_y": {
             "color": "#2a3f5f"
            },
            "marker": {
             "line": {
              "color": "#E5ECF6",
              "width": 0.5
             },
             "pattern": {
              "fillmode": "overlay",
              "size": 10,
              "solidity": 0.2
             }
            },
            "type": "bar"
           }
          ],
          "barpolar": [
           {
            "marker": {
             "line": {
              "color": "#E5ECF6",
              "width": 0.5
             },
             "pattern": {
              "fillmode": "overlay",
              "size": 10,
              "solidity": 0.2
             }
            },
            "type": "barpolar"
           }
          ],
          "carpet": [
           {
            "aaxis": {
             "endlinecolor": "#2a3f5f",
             "gridcolor": "white",
             "linecolor": "white",
             "minorgridcolor": "white",
             "startlinecolor": "#2a3f5f"
            },
            "baxis": {
             "endlinecolor": "#2a3f5f",
             "gridcolor": "white",
             "linecolor": "white",
             "minorgridcolor": "white",
             "startlinecolor": "#2a3f5f"
            },
            "type": "carpet"
           }
          ],
          "choropleth": [
           {
            "colorbar": {
             "outlinewidth": 0,
             "ticks": ""
            },
            "type": "choropleth"
           }
          ],
          "contour": [
           {
            "colorbar": {
             "outlinewidth": 0,
             "ticks": ""
            },
            "colorscale": [
             [
              0,
              "#0d0887"
             ],
             [
              0.1111111111111111,
              "#46039f"
             ],
             [
              0.2222222222222222,
              "#7201a8"
             ],
             [
              0.3333333333333333,
              "#9c179e"
             ],
             [
              0.4444444444444444,
              "#bd3786"
             ],
             [
              0.5555555555555556,
              "#d8576b"
             ],
             [
              0.6666666666666666,
              "#ed7953"
             ],
             [
              0.7777777777777778,
              "#fb9f3a"
             ],
             [
              0.8888888888888888,
              "#fdca26"
             ],
             [
              1,
              "#f0f921"
             ]
            ],
            "type": "contour"
           }
          ],
          "contourcarpet": [
           {
            "colorbar": {
             "outlinewidth": 0,
             "ticks": ""
            },
            "type": "contourcarpet"
           }
          ],
          "heatmap": [
           {
            "colorbar": {
             "outlinewidth": 0,
             "ticks": ""
            },
            "colorscale": [
             [
              0,
              "#0d0887"
             ],
             [
              0.1111111111111111,
              "#46039f"
             ],
             [
              0.2222222222222222,
              "#7201a8"
             ],
             [
              0.3333333333333333,
              "#9c179e"
             ],
             [
              0.4444444444444444,
              "#bd3786"
             ],
             [
              0.5555555555555556,
              "#d8576b"
             ],
             [
              0.6666666666666666,
              "#ed7953"
             ],
             [
              0.7777777777777778,
              "#fb9f3a"
             ],
             [
              0.8888888888888888,
              "#fdca26"
             ],
             [
              1,
              "#f0f921"
             ]
            ],
            "type": "heatmap"
           }
          ],
          "heatmapgl": [
           {
            "colorbar": {
             "outlinewidth": 0,
             "ticks": ""
            },
            "colorscale": [
             [
              0,
              "#0d0887"
             ],
             [
              0.1111111111111111,
              "#46039f"
             ],
             [
              0.2222222222222222,
              "#7201a8"
             ],
             [
              0.3333333333333333,
              "#9c179e"
             ],
             [
              0.4444444444444444,
              "#bd3786"
             ],
             [
              0.5555555555555556,
              "#d8576b"
             ],
             [
              0.6666666666666666,
              "#ed7953"
             ],
             [
              0.7777777777777778,
              "#fb9f3a"
             ],
             [
              0.8888888888888888,
              "#fdca26"
             ],
             [
              1,
              "#f0f921"
             ]
            ],
            "type": "heatmapgl"
           }
          ],
          "histogram": [
           {
            "marker": {
             "pattern": {
              "fillmode": "overlay",
              "size": 10,
              "solidity": 0.2
             }
            },
            "type": "histogram"
           }
          ],
          "histogram2d": [
           {
            "colorbar": {
             "outlinewidth": 0,
             "ticks": ""
            },
            "colorscale": [
             [
              0,
              "#0d0887"
             ],
             [
              0.1111111111111111,
              "#46039f"
             ],
             [
              0.2222222222222222,
              "#7201a8"
             ],
             [
              0.3333333333333333,
              "#9c179e"
             ],
             [
              0.4444444444444444,
              "#bd3786"
             ],
             [
              0.5555555555555556,
              "#d8576b"
             ],
             [
              0.6666666666666666,
              "#ed7953"
             ],
             [
              0.7777777777777778,
              "#fb9f3a"
             ],
             [
              0.8888888888888888,
              "#fdca26"
             ],
             [
              1,
              "#f0f921"
             ]
            ],
            "type": "histogram2d"
           }
          ],
          "histogram2dcontour": [
           {
            "colorbar": {
             "outlinewidth": 0,
             "ticks": ""
            },
            "colorscale": [
             [
              0,
              "#0d0887"
             ],
             [
              0.1111111111111111,
              "#46039f"
             ],
             [
              0.2222222222222222,
              "#7201a8"
             ],
             [
              0.3333333333333333,
              "#9c179e"
             ],
             [
              0.4444444444444444,
              "#bd3786"
             ],
             [
              0.5555555555555556,
              "#d8576b"
             ],
             [
              0.6666666666666666,
              "#ed7953"
             ],
             [
              0.7777777777777778,
              "#fb9f3a"
             ],
             [
              0.8888888888888888,
              "#fdca26"
             ],
             [
              1,
              "#f0f921"
             ]
            ],
            "type": "histogram2dcontour"
           }
          ],
          "mesh3d": [
           {
            "colorbar": {
             "outlinewidth": 0,
             "ticks": ""
            },
            "type": "mesh3d"
           }
          ],
          "parcoords": [
           {
            "line": {
             "colorbar": {
              "outlinewidth": 0,
              "ticks": ""
             }
            },
            "type": "parcoords"
           }
          ],
          "pie": [
           {
            "automargin": true,
            "type": "pie"
           }
          ],
          "scatter": [
           {
            "marker": {
             "colorbar": {
              "outlinewidth": 0,
              "ticks": ""
             }
            },
            "type": "scatter"
           }
          ],
          "scatter3d": [
           {
            "line": {
             "colorbar": {
              "outlinewidth": 0,
              "ticks": ""
             }
            },
            "marker": {
             "colorbar": {
              "outlinewidth": 0,
              "ticks": ""
             }
            },
            "type": "scatter3d"
           }
          ],
          "scattercarpet": [
           {
            "marker": {
             "colorbar": {
              "outlinewidth": 0,
              "ticks": ""
             }
            },
            "type": "scattercarpet"
           }
          ],
          "scattergeo": [
           {
            "marker": {
             "colorbar": {
              "outlinewidth": 0,
              "ticks": ""
             }
            },
            "type": "scattergeo"
           }
          ],
          "scattergl": [
           {
            "marker": {
             "colorbar": {
              "outlinewidth": 0,
              "ticks": ""
             }
            },
            "type": "scattergl"
           }
          ],
          "scattermapbox": [
           {
            "marker": {
             "colorbar": {
              "outlinewidth": 0,
              "ticks": ""
             }
            },
            "type": "scattermapbox"
           }
          ],
          "scatterpolar": [
           {
            "marker": {
             "colorbar": {
              "outlinewidth": 0,
              "ticks": ""
             }
            },
            "type": "scatterpolar"
           }
          ],
          "scatterpolargl": [
           {
            "marker": {
             "colorbar": {
              "outlinewidth": 0,
              "ticks": ""
             }
            },
            "type": "scatterpolargl"
           }
          ],
          "scatterternary": [
           {
            "marker": {
             "colorbar": {
              "outlinewidth": 0,
              "ticks": ""
             }
            },
            "type": "scatterternary"
           }
          ],
          "surface": [
           {
            "colorbar": {
             "outlinewidth": 0,
             "ticks": ""
            },
            "colorscale": [
             [
              0,
              "#0d0887"
             ],
             [
              0.1111111111111111,
              "#46039f"
             ],
             [
              0.2222222222222222,
              "#7201a8"
             ],
             [
              0.3333333333333333,
              "#9c179e"
             ],
             [
              0.4444444444444444,
              "#bd3786"
             ],
             [
              0.5555555555555556,
              "#d8576b"
             ],
             [
              0.6666666666666666,
              "#ed7953"
             ],
             [
              0.7777777777777778,
              "#fb9f3a"
             ],
             [
              0.8888888888888888,
              "#fdca26"
             ],
             [
              1,
              "#f0f921"
             ]
            ],
            "type": "surface"
           }
          ],
          "table": [
           {
            "cells": {
             "fill": {
              "color": "#EBF0F8"
             },
             "line": {
              "color": "white"
             }
            },
            "header": {
             "fill": {
              "color": "#C8D4E3"
             },
             "line": {
              "color": "white"
             }
            },
            "type": "table"
           }
          ]
         },
         "layout": {
          "annotationdefaults": {
           "arrowcolor": "#2a3f5f",
           "arrowhead": 0,
           "arrowwidth": 1
          },
          "autotypenumbers": "strict",
          "coloraxis": {
           "colorbar": {
            "outlinewidth": 0,
            "ticks": ""
           }
          },
          "colorscale": {
           "diverging": [
            [
             0,
             "#8e0152"
            ],
            [
             0.1,
             "#c51b7d"
            ],
            [
             0.2,
             "#de77ae"
            ],
            [
             0.3,
             "#f1b6da"
            ],
            [
             0.4,
             "#fde0ef"
            ],
            [
             0.5,
             "#f7f7f7"
            ],
            [
             0.6,
             "#e6f5d0"
            ],
            [
             0.7,
             "#b8e186"
            ],
            [
             0.8,
             "#7fbc41"
            ],
            [
             0.9,
             "#4d9221"
            ],
            [
             1,
             "#276419"
            ]
           ],
           "sequential": [
            [
             0,
             "#0d0887"
            ],
            [
             0.1111111111111111,
             "#46039f"
            ],
            [
             0.2222222222222222,
             "#7201a8"
            ],
            [
             0.3333333333333333,
             "#9c179e"
            ],
            [
             0.4444444444444444,
             "#bd3786"
            ],
            [
             0.5555555555555556,
             "#d8576b"
            ],
            [
             0.6666666666666666,
             "#ed7953"
            ],
            [
             0.7777777777777778,
             "#fb9f3a"
            ],
            [
             0.8888888888888888,
             "#fdca26"
            ],
            [
             1,
             "#f0f921"
            ]
           ],
           "sequentialminus": [
            [
             0,
             "#0d0887"
            ],
            [
             0.1111111111111111,
             "#46039f"
            ],
            [
             0.2222222222222222,
             "#7201a8"
            ],
            [
             0.3333333333333333,
             "#9c179e"
            ],
            [
             0.4444444444444444,
             "#bd3786"
            ],
            [
             0.5555555555555556,
             "#d8576b"
            ],
            [
             0.6666666666666666,
             "#ed7953"
            ],
            [
             0.7777777777777778,
             "#fb9f3a"
            ],
            [
             0.8888888888888888,
             "#fdca26"
            ],
            [
             1,
             "#f0f921"
            ]
           ]
          },
          "colorway": [
           "#636efa",
           "#EF553B",
           "#00cc96",
           "#ab63fa",
           "#FFA15A",
           "#19d3f3",
           "#FF6692",
           "#B6E880",
           "#FF97FF",
           "#FECB52"
          ],
          "font": {
           "color": "#2a3f5f"
          },
          "geo": {
           "bgcolor": "white",
           "lakecolor": "white",
           "landcolor": "#E5ECF6",
           "showlakes": true,
           "showland": true,
           "subunitcolor": "white"
          },
          "hoverlabel": {
           "align": "left"
          },
          "hovermode": "closest",
          "mapbox": {
           "style": "light"
          },
          "paper_bgcolor": "white",
          "plot_bgcolor": "#E5ECF6",
          "polar": {
           "angularaxis": {
            "gridcolor": "white",
            "linecolor": "white",
            "ticks": ""
           },
           "bgcolor": "#E5ECF6",
           "radialaxis": {
            "gridcolor": "white",
            "linecolor": "white",
            "ticks": ""
           }
          },
          "scene": {
           "xaxis": {
            "backgroundcolor": "#E5ECF6",
            "gridcolor": "white",
            "gridwidth": 2,
            "linecolor": "white",
            "showbackground": true,
            "ticks": "",
            "zerolinecolor": "white"
           },
           "yaxis": {
            "backgroundcolor": "#E5ECF6",
            "gridcolor": "white",
            "gridwidth": 2,
            "linecolor": "white",
            "showbackground": true,
            "ticks": "",
            "zerolinecolor": "white"
           },
           "zaxis": {
            "backgroundcolor": "#E5ECF6",
            "gridcolor": "white",
            "gridwidth": 2,
            "linecolor": "white",
            "showbackground": true,
            "ticks": "",
            "zerolinecolor": "white"
           }
          },
          "shapedefaults": {
           "line": {
            "color": "#2a3f5f"
           }
          },
          "ternary": {
           "aaxis": {
            "gridcolor": "white",
            "linecolor": "white",
            "ticks": ""
           },
           "baxis": {
            "gridcolor": "white",
            "linecolor": "white",
            "ticks": ""
           },
           "bgcolor": "#E5ECF6",
           "caxis": {
            "gridcolor": "white",
            "linecolor": "white",
            "ticks": ""
           }
          },
          "title": {
           "x": 0.05
          },
          "xaxis": {
           "automargin": true,
           "gridcolor": "white",
           "linecolor": "white",
           "ticks": "",
           "title": {
            "standoff": 15
           },
           "zerolinecolor": "white",
           "zerolinewidth": 2
          },
          "yaxis": {
           "automargin": true,
           "gridcolor": "white",
           "linecolor": "white",
           "ticks": "",
           "title": {
            "standoff": 15
           },
           "zerolinecolor": "white",
           "zerolinewidth": 2
          }
         }
        },
        "title": {
         "font": {
          "color": "#4D5663"
         }
        },
        "xaxis": {
         "gridcolor": "#E1E5ED",
         "showgrid": true,
         "tickfont": {
          "color": "#4D5663"
         },
         "title": {
          "font": {
           "color": "#4D5663"
          },
          "text": ""
         },
         "zerolinecolor": "#E1E5ED"
        },
        "yaxis": {
         "gridcolor": "#E1E5ED",
         "showgrid": true,
         "tickfont": {
          "color": "#4D5663"
         },
         "title": {
          "font": {
           "color": "#4D5663"
          },
          "text": ""
         },
         "zerolinecolor": "#E1E5ED"
        }
       }
      },
      "text/html": [
       "<div>                            <div id=\"85357de1-4f34-4020-8954-f1415dcf7ecf\" class=\"plotly-graph-div\" style=\"height:525px; width:100%;\"></div>            <script type=\"text/javascript\">                require([\"plotly\"], function(Plotly) {                    window.PLOTLYENV=window.PLOTLYENV || {};\n",
       "                    window.PLOTLYENV.BASE_URL='https://plot.ly';                                    if (document.getElementById(\"85357de1-4f34-4020-8954-f1415dcf7ecf\")) {                    Plotly.newPlot(                        \"85357de1-4f34-4020-8954-f1415dcf7ecf\",                        [{\"line\":{\"color\":\"rgba(255, 153, 51, 1.0)\",\"dash\":\"solid\",\"shape\":\"linear\",\"width\":1.3},\"marker\":{\"size\":12,\"symbol\":\"circle\"},\"mode\":\"markers\",\"name\":\"B\",\"text\":\"\",\"x\":[-0.8045319692756239,-0.7857508741343778,0.39430716210118383,0.040154756846361016,-1.7322422804433464,0.23192449486695912,-0.6018949797227127,-0.26289401276907864,0.05250827501417779,1.3215808600707148,-0.3415752045912305,0.9123430324087752,-0.11882811971741239,-1.277598509738442,1.22129685804723,-0.9964878457298946,2.6620936089218095,-0.4803892863051099,-1.4490068334874833,-0.5458590243929505,0.1806089625886417,-0.04853061562212352,-0.7519138670027183,0.9822323510339834,1.3217667116892085,-0.4078361976983211,-0.7433064246907137,1.3097970819898321,-0.8885546830130938,0.08959952426663148,0.7613983182603498,1.114935205693224,-0.26808691289618436,-1.179007519613772,-0.8212285519866818,0.0171376674536935,-1.261984800199849,0.7540606103836702,1.0365981858780862,1.0894455868431638,1.467140241494887,-0.45420815578998514,1.4150942894048062,-1.0307095952537535,-0.8738128032396157,0.8499380934853883,0.44623467531343414,1.1111190821690289,1.5931104775281726,-0.4229825602717984,-0.347724986376733,-0.13542680812754604,0.3082974882607674,-1.8041564241898107,-0.01515489581035622,1.2123741242554724,1.6091967660300068,-0.9099405101509571,-1.0607387072884853,-0.01457523724299721,-0.4606327435061816,1.353930884874758,0.7192866992265134,0.35255737217605587,0.17943773439695976,-0.0008330315647807776,0.013257714626296735,-0.4853923909661426,0.987472645343711,-1.2792863154847292,-0.1927603830487624,-1.248884129883844,0.09746544762239337,0.205544722884781,-1.6106179773906022,-1.4962536071793135,1.8804432211155748,-0.9024008840300444,-1.2721816262871173,2.1523784705721707,-0.9891223749584839,-0.966689724244585,-1.001881325254751,0.09961378114378827,-0.6782575216848209,0.6993114545806943,0.6321315478915533,-0.7053759028281684,-0.41772962659482143,0.3005169214229249,0.6704583648794865,-0.3618318985451478,1.1737851603704852,0.24227025716212627,1.4015786878545637,-0.20532599663298384,-0.25831017270764134,-2.0960187662439336,0.22663058350173887,-1.499548991493352],\"y\":[1.380854838531965,0.11938502538426132,-1.3143531805255566,0.6406812285572712,0.45901609373282704,0.14365163997084188,0.04919209970407182,-0.14356601653396417,-0.13652030629061812,0.705737494583953,0.4693637488317349,-0.22019440349318015,0.023077433512087436,1.2240704876175075,-0.20295579519226248,-0.5507208895965063,-0.04503975484391459,-1.0716079956340958,-0.3498571619930785,0.05378116157884617,0.1914937961172496,-0.8001900502593962,-1.8724024669870398,-1.155013636557828,-0.8728225347049191,-0.9491040625196484,-0.01307810894809895,-1.7416462532512975,0.7582038042037499,1.0245971841296806,2.209354664513985,0.27962419638957986,-0.3625691399492275,-0.37384775610699056,-0.09090160784772924,-0.963449146450701,-0.7980032760865212,-0.1365887386905632,-0.8236488041076043,0.12473376344798781,-1.5436042717554994,-0.6216132617616013,1.6894254983684525,0.556296337156448,-0.785063041863813,2.483960864125458,-0.43302859825742124,0.8939916753077831,1.2096210869953685,0.9394848885610718,-1.4390417869534922,1.1168312594389562,-0.5365559556172983,1.8492172694897153,-0.1362841448844875,0.6018566047291094,0.6036293584590517,1.0888599872211706,-0.5537892278737087,-1.2571168203364704,-0.4422470583484276,-0.6044378393263163,-1.041592179467776,1.5009696060524216,-0.9109487853431983,2.1787784184384558,-1.0579386356798106,-1.7000597049686215,-1.3445417160500615,-1.1784242650767685,-0.5223318292191497,-1.6418690103787708,1.6251438590138476,-3.8913039112713124,-0.5316779558052692,0.3711369956120464,0.39400732044115944,0.5000893212146826,-0.1723379534232298,-0.8721395911197579,-0.36567250291673475,1.5156140766192698,2.3623075261343915,-1.489554844966301,1.6413735284669448,-0.0929390528011857,-0.714291437029099,0.130654739297638,1.4599097658828708,-0.46420506328524286,-1.3247869299650787,-1.0332844721276573,-0.6378849266767722,0.5187408321369664,0.4352512593360889,-0.06583816090115427,0.5379177916772021,0.28204406416968447,-1.04570445537743,0.08376817237639435],\"type\":\"scatter\"}],                        {\"legend\":{\"bgcolor\":\"#F5F6F9\",\"font\":{\"color\":\"#4D5663\"}},\"paper_bgcolor\":\"#F5F6F9\",\"plot_bgcolor\":\"#F5F6F9\",\"template\":{\"data\":{\"barpolar\":[{\"marker\":{\"line\":{\"color\":\"#E5ECF6\",\"width\":0.5},\"pattern\":{\"fillmode\":\"overlay\",\"size\":10,\"solidity\":0.2}},\"type\":\"barpolar\"}],\"bar\":[{\"error_x\":{\"color\":\"#2a3f5f\"},\"error_y\":{\"color\":\"#2a3f5f\"},\"marker\":{\"line\":{\"color\":\"#E5ECF6\",\"width\":0.5},\"pattern\":{\"fillmode\":\"overlay\",\"size\":10,\"solidity\":0.2}},\"type\":\"bar\"}],\"carpet\":[{\"aaxis\":{\"endlinecolor\":\"#2a3f5f\",\"gridcolor\":\"white\",\"linecolor\":\"white\",\"minorgridcolor\":\"white\",\"startlinecolor\":\"#2a3f5f\"},\"baxis\":{\"endlinecolor\":\"#2a3f5f\",\"gridcolor\":\"white\",\"linecolor\":\"white\",\"minorgridcolor\":\"white\",\"startlinecolor\":\"#2a3f5f\"},\"type\":\"carpet\"}],\"choropleth\":[{\"colorbar\":{\"outlinewidth\":0,\"ticks\":\"\"},\"type\":\"choropleth\"}],\"contourcarpet\":[{\"colorbar\":{\"outlinewidth\":0,\"ticks\":\"\"},\"type\":\"contourcarpet\"}],\"contour\":[{\"colorbar\":{\"outlinewidth\":0,\"ticks\":\"\"},\"colorscale\":[[0.0,\"#0d0887\"],[0.1111111111111111,\"#46039f\"],[0.2222222222222222,\"#7201a8\"],[0.3333333333333333,\"#9c179e\"],[0.4444444444444444,\"#bd3786\"],[0.5555555555555556,\"#d8576b\"],[0.6666666666666666,\"#ed7953\"],[0.7777777777777778,\"#fb9f3a\"],[0.8888888888888888,\"#fdca26\"],[1.0,\"#f0f921\"]],\"type\":\"contour\"}],\"heatmapgl\":[{\"colorbar\":{\"outlinewidth\":0,\"ticks\":\"\"},\"colorscale\":[[0.0,\"#0d0887\"],[0.1111111111111111,\"#46039f\"],[0.2222222222222222,\"#7201a8\"],[0.3333333333333333,\"#9c179e\"],[0.4444444444444444,\"#bd3786\"],[0.5555555555555556,\"#d8576b\"],[0.6666666666666666,\"#ed7953\"],[0.7777777777777778,\"#fb9f3a\"],[0.8888888888888888,\"#fdca26\"],[1.0,\"#f0f921\"]],\"type\":\"heatmapgl\"}],\"heatmap\":[{\"colorbar\":{\"outlinewidth\":0,\"ticks\":\"\"},\"colorscale\":[[0.0,\"#0d0887\"],[0.1111111111111111,\"#46039f\"],[0.2222222222222222,\"#7201a8\"],[0.3333333333333333,\"#9c179e\"],[0.4444444444444444,\"#bd3786\"],[0.5555555555555556,\"#d8576b\"],[0.6666666666666666,\"#ed7953\"],[0.7777777777777778,\"#fb9f3a\"],[0.8888888888888888,\"#fdca26\"],[1.0,\"#f0f921\"]],\"type\":\"heatmap\"}],\"histogram2dcontour\":[{\"colorbar\":{\"outlinewidth\":0,\"ticks\":\"\"},\"colorscale\":[[0.0,\"#0d0887\"],[0.1111111111111111,\"#46039f\"],[0.2222222222222222,\"#7201a8\"],[0.3333333333333333,\"#9c179e\"],[0.4444444444444444,\"#bd3786\"],[0.5555555555555556,\"#d8576b\"],[0.6666666666666666,\"#ed7953\"],[0.7777777777777778,\"#fb9f3a\"],[0.8888888888888888,\"#fdca26\"],[1.0,\"#f0f921\"]],\"type\":\"histogram2dcontour\"}],\"histogram2d\":[{\"colorbar\":{\"outlinewidth\":0,\"ticks\":\"\"},\"colorscale\":[[0.0,\"#0d0887\"],[0.1111111111111111,\"#46039f\"],[0.2222222222222222,\"#7201a8\"],[0.3333333333333333,\"#9c179e\"],[0.4444444444444444,\"#bd3786\"],[0.5555555555555556,\"#d8576b\"],[0.6666666666666666,\"#ed7953\"],[0.7777777777777778,\"#fb9f3a\"],[0.8888888888888888,\"#fdca26\"],[1.0,\"#f0f921\"]],\"type\":\"histogram2d\"}],\"histogram\":[{\"marker\":{\"pattern\":{\"fillmode\":\"overlay\",\"size\":10,\"solidity\":0.2}},\"type\":\"histogram\"}],\"mesh3d\":[{\"colorbar\":{\"outlinewidth\":0,\"ticks\":\"\"},\"type\":\"mesh3d\"}],\"parcoords\":[{\"line\":{\"colorbar\":{\"outlinewidth\":0,\"ticks\":\"\"}},\"type\":\"parcoords\"}],\"pie\":[{\"automargin\":true,\"type\":\"pie\"}],\"scatter3d\":[{\"line\":{\"colorbar\":{\"outlinewidth\":0,\"ticks\":\"\"}},\"marker\":{\"colorbar\":{\"outlinewidth\":0,\"ticks\":\"\"}},\"type\":\"scatter3d\"}],\"scattercarpet\":[{\"marker\":{\"colorbar\":{\"outlinewidth\":0,\"ticks\":\"\"}},\"type\":\"scattercarpet\"}],\"scattergeo\":[{\"marker\":{\"colorbar\":{\"outlinewidth\":0,\"ticks\":\"\"}},\"type\":\"scattergeo\"}],\"scattergl\":[{\"marker\":{\"colorbar\":{\"outlinewidth\":0,\"ticks\":\"\"}},\"type\":\"scattergl\"}],\"scattermapbox\":[{\"marker\":{\"colorbar\":{\"outlinewidth\":0,\"ticks\":\"\"}},\"type\":\"scattermapbox\"}],\"scatterpolargl\":[{\"marker\":{\"colorbar\":{\"outlinewidth\":0,\"ticks\":\"\"}},\"type\":\"scatterpolargl\"}],\"scatterpolar\":[{\"marker\":{\"colorbar\":{\"outlinewidth\":0,\"ticks\":\"\"}},\"type\":\"scatterpolar\"}],\"scatter\":[{\"marker\":{\"colorbar\":{\"outlinewidth\":0,\"ticks\":\"\"}},\"type\":\"scatter\"}],\"scatterternary\":[{\"marker\":{\"colorbar\":{\"outlinewidth\":0,\"ticks\":\"\"}},\"type\":\"scatterternary\"}],\"surface\":[{\"colorbar\":{\"outlinewidth\":0,\"ticks\":\"\"},\"colorscale\":[[0.0,\"#0d0887\"],[0.1111111111111111,\"#46039f\"],[0.2222222222222222,\"#7201a8\"],[0.3333333333333333,\"#9c179e\"],[0.4444444444444444,\"#bd3786\"],[0.5555555555555556,\"#d8576b\"],[0.6666666666666666,\"#ed7953\"],[0.7777777777777778,\"#fb9f3a\"],[0.8888888888888888,\"#fdca26\"],[1.0,\"#f0f921\"]],\"type\":\"surface\"}],\"table\":[{\"cells\":{\"fill\":{\"color\":\"#EBF0F8\"},\"line\":{\"color\":\"white\"}},\"header\":{\"fill\":{\"color\":\"#C8D4E3\"},\"line\":{\"color\":\"white\"}},\"type\":\"table\"}]},\"layout\":{\"annotationdefaults\":{\"arrowcolor\":\"#2a3f5f\",\"arrowhead\":0,\"arrowwidth\":1},\"autotypenumbers\":\"strict\",\"coloraxis\":{\"colorbar\":{\"outlinewidth\":0,\"ticks\":\"\"}},\"colorscale\":{\"diverging\":[[0,\"#8e0152\"],[0.1,\"#c51b7d\"],[0.2,\"#de77ae\"],[0.3,\"#f1b6da\"],[0.4,\"#fde0ef\"],[0.5,\"#f7f7f7\"],[0.6,\"#e6f5d0\"],[0.7,\"#b8e186\"],[0.8,\"#7fbc41\"],[0.9,\"#4d9221\"],[1,\"#276419\"]],\"sequential\":[[0.0,\"#0d0887\"],[0.1111111111111111,\"#46039f\"],[0.2222222222222222,\"#7201a8\"],[0.3333333333333333,\"#9c179e\"],[0.4444444444444444,\"#bd3786\"],[0.5555555555555556,\"#d8576b\"],[0.6666666666666666,\"#ed7953\"],[0.7777777777777778,\"#fb9f3a\"],[0.8888888888888888,\"#fdca26\"],[1.0,\"#f0f921\"]],\"sequentialminus\":[[0.0,\"#0d0887\"],[0.1111111111111111,\"#46039f\"],[0.2222222222222222,\"#7201a8\"],[0.3333333333333333,\"#9c179e\"],[0.4444444444444444,\"#bd3786\"],[0.5555555555555556,\"#d8576b\"],[0.6666666666666666,\"#ed7953\"],[0.7777777777777778,\"#fb9f3a\"],[0.8888888888888888,\"#fdca26\"],[1.0,\"#f0f921\"]]},\"colorway\":[\"#636efa\",\"#EF553B\",\"#00cc96\",\"#ab63fa\",\"#FFA15A\",\"#19d3f3\",\"#FF6692\",\"#B6E880\",\"#FF97FF\",\"#FECB52\"],\"font\":{\"color\":\"#2a3f5f\"},\"geo\":{\"bgcolor\":\"white\",\"lakecolor\":\"white\",\"landcolor\":\"#E5ECF6\",\"showlakes\":true,\"showland\":true,\"subunitcolor\":\"white\"},\"hoverlabel\":{\"align\":\"left\"},\"hovermode\":\"closest\",\"mapbox\":{\"style\":\"light\"},\"paper_bgcolor\":\"white\",\"plot_bgcolor\":\"#E5ECF6\",\"polar\":{\"angularaxis\":{\"gridcolor\":\"white\",\"linecolor\":\"white\",\"ticks\":\"\"},\"bgcolor\":\"#E5ECF6\",\"radialaxis\":{\"gridcolor\":\"white\",\"linecolor\":\"white\",\"ticks\":\"\"}},\"scene\":{\"xaxis\":{\"backgroundcolor\":\"#E5ECF6\",\"gridcolor\":\"white\",\"gridwidth\":2,\"linecolor\":\"white\",\"showbackground\":true,\"ticks\":\"\",\"zerolinecolor\":\"white\"},\"yaxis\":{\"backgroundcolor\":\"#E5ECF6\",\"gridcolor\":\"white\",\"gridwidth\":2,\"linecolor\":\"white\",\"showbackground\":true,\"ticks\":\"\",\"zerolinecolor\":\"white\"},\"zaxis\":{\"backgroundcolor\":\"#E5ECF6\",\"gridcolor\":\"white\",\"gridwidth\":2,\"linecolor\":\"white\",\"showbackground\":true,\"ticks\":\"\",\"zerolinecolor\":\"white\"}},\"shapedefaults\":{\"line\":{\"color\":\"#2a3f5f\"}},\"ternary\":{\"aaxis\":{\"gridcolor\":\"white\",\"linecolor\":\"white\",\"ticks\":\"\"},\"baxis\":{\"gridcolor\":\"white\",\"linecolor\":\"white\",\"ticks\":\"\"},\"bgcolor\":\"#E5ECF6\",\"caxis\":{\"gridcolor\":\"white\",\"linecolor\":\"white\",\"ticks\":\"\"}},\"title\":{\"x\":0.05},\"xaxis\":{\"automargin\":true,\"gridcolor\":\"white\",\"linecolor\":\"white\",\"ticks\":\"\",\"title\":{\"standoff\":15},\"zerolinecolor\":\"white\",\"zerolinewidth\":2},\"yaxis\":{\"automargin\":true,\"gridcolor\":\"white\",\"linecolor\":\"white\",\"ticks\":\"\",\"title\":{\"standoff\":15},\"zerolinecolor\":\"white\",\"zerolinewidth\":2}}},\"title\":{\"font\":{\"color\":\"#4D5663\"}},\"xaxis\":{\"gridcolor\":\"#E1E5ED\",\"showgrid\":true,\"tickfont\":{\"color\":\"#4D5663\"},\"title\":{\"font\":{\"color\":\"#4D5663\"},\"text\":\"\"},\"zerolinecolor\":\"#E1E5ED\"},\"yaxis\":{\"gridcolor\":\"#E1E5ED\",\"showgrid\":true,\"tickfont\":{\"color\":\"#4D5663\"},\"title\":{\"font\":{\"color\":\"#4D5663\"},\"text\":\"\"},\"zerolinecolor\":\"#E1E5ED\"}},                        {\"showLink\": true, \"linkText\": \"Export to plot.ly\", \"plotlyServerURL\": \"https://plot.ly\", \"responsive\": true}                    ).then(function(){\n",
       "                            \n",
       "var gd = document.getElementById('85357de1-4f34-4020-8954-f1415dcf7ecf');\n",
       "var x = new MutationObserver(function (mutations, observer) {{\n",
       "        var display = window.getComputedStyle(gd).display;\n",
       "        if (!display || display === 'none') {{\n",
       "            console.log([gd, 'removed!']);\n",
       "            Plotly.purge(gd);\n",
       "            observer.disconnect();\n",
       "        }}\n",
       "}});\n",
       "\n",
       "// Listen for the removal of the full notebook cells\n",
       "var notebookContainer = gd.closest('#notebook-container');\n",
       "if (notebookContainer) {{\n",
       "    x.observe(notebookContainer, {childList: true});\n",
       "}}\n",
       "\n",
       "// Listen for the clearing of the current output cell\n",
       "var outputEl = gd.closest('.output');\n",
       "if (outputEl) {{\n",
       "    x.observe(outputEl, {childList: true});\n",
       "}}\n",
       "\n",
       "                        })                };                });            </script>        </div>"
      ]
     },
     "metadata": {},
     "output_type": "display_data"
    }
   ],
   "source": [
    "df.iplot(kind = 'scatter', x='A', y='B', mode='markers')"
   ]
  },
  {
   "cell_type": "code",
   "execution_count": 26,
   "id": "1a258613",
   "metadata": {},
   "outputs": [
    {
     "data": {
      "application/vnd.plotly.v1+json": {
       "config": {
        "linkText": "Export to plot.ly",
        "plotlyServerURL": "https://plot.ly",
        "showLink": true
       },
       "data": [
        {
         "line": {
          "color": "rgba(255, 153, 51, 1.0)",
          "dash": "solid",
          "shape": "linear",
          "width": 1.3
         },
         "marker": {
          "size": 10,
          "symbol": "circle"
         },
         "mode": "markers",
         "name": "B",
         "text": "",
         "type": "scatter",
         "x": [
          -0.8045319692756239,
          -0.7857508741343778,
          0.39430716210118383,
          0.040154756846361016,
          -1.7322422804433464,
          0.23192449486695912,
          -0.6018949797227127,
          -0.26289401276907864,
          0.05250827501417779,
          1.3215808600707148,
          -0.3415752045912305,
          0.9123430324087752,
          -0.11882811971741239,
          -1.277598509738442,
          1.22129685804723,
          -0.9964878457298946,
          2.6620936089218095,
          -0.4803892863051099,
          -1.4490068334874833,
          -0.5458590243929505,
          0.1806089625886417,
          -0.04853061562212352,
          -0.7519138670027183,
          0.9822323510339834,
          1.3217667116892085,
          -0.4078361976983211,
          -0.7433064246907137,
          1.3097970819898321,
          -0.8885546830130938,
          0.08959952426663148,
          0.7613983182603498,
          1.114935205693224,
          -0.26808691289618436,
          -1.179007519613772,
          -0.8212285519866818,
          0.0171376674536935,
          -1.261984800199849,
          0.7540606103836702,
          1.0365981858780862,
          1.0894455868431638,
          1.467140241494887,
          -0.45420815578998514,
          1.4150942894048062,
          -1.0307095952537535,
          -0.8738128032396157,
          0.8499380934853883,
          0.44623467531343414,
          1.1111190821690289,
          1.5931104775281726,
          -0.4229825602717984,
          -0.347724986376733,
          -0.13542680812754604,
          0.3082974882607674,
          -1.8041564241898107,
          -0.01515489581035622,
          1.2123741242554724,
          1.6091967660300068,
          -0.9099405101509571,
          -1.0607387072884853,
          -0.01457523724299721,
          -0.4606327435061816,
          1.353930884874758,
          0.7192866992265134,
          0.35255737217605587,
          0.17943773439695976,
          -0.0008330315647807776,
          0.013257714626296735,
          -0.4853923909661426,
          0.987472645343711,
          -1.2792863154847292,
          -0.1927603830487624,
          -1.248884129883844,
          0.09746544762239337,
          0.205544722884781,
          -1.6106179773906022,
          -1.4962536071793135,
          1.8804432211155748,
          -0.9024008840300444,
          -1.2721816262871173,
          2.1523784705721707,
          -0.9891223749584839,
          -0.966689724244585,
          -1.001881325254751,
          0.09961378114378827,
          -0.6782575216848209,
          0.6993114545806943,
          0.6321315478915533,
          -0.7053759028281684,
          -0.41772962659482143,
          0.3005169214229249,
          0.6704583648794865,
          -0.3618318985451478,
          1.1737851603704852,
          0.24227025716212627,
          1.4015786878545637,
          -0.20532599663298384,
          -0.25831017270764134,
          -2.0960187662439336,
          0.22663058350173887,
          -1.499548991493352
         ],
         "y": [
          1.380854838531965,
          0.11938502538426132,
          -1.3143531805255566,
          0.6406812285572712,
          0.45901609373282704,
          0.14365163997084188,
          0.04919209970407182,
          -0.14356601653396417,
          -0.13652030629061812,
          0.705737494583953,
          0.4693637488317349,
          -0.22019440349318015,
          0.023077433512087436,
          1.2240704876175075,
          -0.20295579519226248,
          -0.5507208895965063,
          -0.04503975484391459,
          -1.0716079956340958,
          -0.3498571619930785,
          0.05378116157884617,
          0.1914937961172496,
          -0.8001900502593962,
          -1.8724024669870398,
          -1.155013636557828,
          -0.8728225347049191,
          -0.9491040625196484,
          -0.01307810894809895,
          -1.7416462532512975,
          0.7582038042037499,
          1.0245971841296806,
          2.209354664513985,
          0.27962419638957986,
          -0.3625691399492275,
          -0.37384775610699056,
          -0.09090160784772924,
          -0.963449146450701,
          -0.7980032760865212,
          -0.1365887386905632,
          -0.8236488041076043,
          0.12473376344798781,
          -1.5436042717554994,
          -0.6216132617616013,
          1.6894254983684525,
          0.556296337156448,
          -0.785063041863813,
          2.483960864125458,
          -0.43302859825742124,
          0.8939916753077831,
          1.2096210869953685,
          0.9394848885610718,
          -1.4390417869534922,
          1.1168312594389562,
          -0.5365559556172983,
          1.8492172694897153,
          -0.1362841448844875,
          0.6018566047291094,
          0.6036293584590517,
          1.0888599872211706,
          -0.5537892278737087,
          -1.2571168203364704,
          -0.4422470583484276,
          -0.6044378393263163,
          -1.041592179467776,
          1.5009696060524216,
          -0.9109487853431983,
          2.1787784184384558,
          -1.0579386356798106,
          -1.7000597049686215,
          -1.3445417160500615,
          -1.1784242650767685,
          -0.5223318292191497,
          -1.6418690103787708,
          1.6251438590138476,
          -3.8913039112713124,
          -0.5316779558052692,
          0.3711369956120464,
          0.39400732044115944,
          0.5000893212146826,
          -0.1723379534232298,
          -0.8721395911197579,
          -0.36567250291673475,
          1.5156140766192698,
          2.3623075261343915,
          -1.489554844966301,
          1.6413735284669448,
          -0.0929390528011857,
          -0.714291437029099,
          0.130654739297638,
          1.4599097658828708,
          -0.46420506328524286,
          -1.3247869299650787,
          -1.0332844721276573,
          -0.6378849266767722,
          0.5187408321369664,
          0.4352512593360889,
          -0.06583816090115427,
          0.5379177916772021,
          0.28204406416968447,
          -1.04570445537743,
          0.08376817237639435
         ]
        }
       ],
       "layout": {
        "legend": {
         "bgcolor": "#F5F6F9",
         "font": {
          "color": "#4D5663"
         }
        },
        "paper_bgcolor": "#F5F6F9",
        "plot_bgcolor": "#F5F6F9",
        "template": {
         "data": {
          "bar": [
           {
            "error_x": {
             "color": "#2a3f5f"
            },
            "error_y": {
             "color": "#2a3f5f"
            },
            "marker": {
             "line": {
              "color": "#E5ECF6",
              "width": 0.5
             },
             "pattern": {
              "fillmode": "overlay",
              "size": 10,
              "solidity": 0.2
             }
            },
            "type": "bar"
           }
          ],
          "barpolar": [
           {
            "marker": {
             "line": {
              "color": "#E5ECF6",
              "width": 0.5
             },
             "pattern": {
              "fillmode": "overlay",
              "size": 10,
              "solidity": 0.2
             }
            },
            "type": "barpolar"
           }
          ],
          "carpet": [
           {
            "aaxis": {
             "endlinecolor": "#2a3f5f",
             "gridcolor": "white",
             "linecolor": "white",
             "minorgridcolor": "white",
             "startlinecolor": "#2a3f5f"
            },
            "baxis": {
             "endlinecolor": "#2a3f5f",
             "gridcolor": "white",
             "linecolor": "white",
             "minorgridcolor": "white",
             "startlinecolor": "#2a3f5f"
            },
            "type": "carpet"
           }
          ],
          "choropleth": [
           {
            "colorbar": {
             "outlinewidth": 0,
             "ticks": ""
            },
            "type": "choropleth"
           }
          ],
          "contour": [
           {
            "colorbar": {
             "outlinewidth": 0,
             "ticks": ""
            },
            "colorscale": [
             [
              0,
              "#0d0887"
             ],
             [
              0.1111111111111111,
              "#46039f"
             ],
             [
              0.2222222222222222,
              "#7201a8"
             ],
             [
              0.3333333333333333,
              "#9c179e"
             ],
             [
              0.4444444444444444,
              "#bd3786"
             ],
             [
              0.5555555555555556,
              "#d8576b"
             ],
             [
              0.6666666666666666,
              "#ed7953"
             ],
             [
              0.7777777777777778,
              "#fb9f3a"
             ],
             [
              0.8888888888888888,
              "#fdca26"
             ],
             [
              1,
              "#f0f921"
             ]
            ],
            "type": "contour"
           }
          ],
          "contourcarpet": [
           {
            "colorbar": {
             "outlinewidth": 0,
             "ticks": ""
            },
            "type": "contourcarpet"
           }
          ],
          "heatmap": [
           {
            "colorbar": {
             "outlinewidth": 0,
             "ticks": ""
            },
            "colorscale": [
             [
              0,
              "#0d0887"
             ],
             [
              0.1111111111111111,
              "#46039f"
             ],
             [
              0.2222222222222222,
              "#7201a8"
             ],
             [
              0.3333333333333333,
              "#9c179e"
             ],
             [
              0.4444444444444444,
              "#bd3786"
             ],
             [
              0.5555555555555556,
              "#d8576b"
             ],
             [
              0.6666666666666666,
              "#ed7953"
             ],
             [
              0.7777777777777778,
              "#fb9f3a"
             ],
             [
              0.8888888888888888,
              "#fdca26"
             ],
             [
              1,
              "#f0f921"
             ]
            ],
            "type": "heatmap"
           }
          ],
          "heatmapgl": [
           {
            "colorbar": {
             "outlinewidth": 0,
             "ticks": ""
            },
            "colorscale": [
             [
              0,
              "#0d0887"
             ],
             [
              0.1111111111111111,
              "#46039f"
             ],
             [
              0.2222222222222222,
              "#7201a8"
             ],
             [
              0.3333333333333333,
              "#9c179e"
             ],
             [
              0.4444444444444444,
              "#bd3786"
             ],
             [
              0.5555555555555556,
              "#d8576b"
             ],
             [
              0.6666666666666666,
              "#ed7953"
             ],
             [
              0.7777777777777778,
              "#fb9f3a"
             ],
             [
              0.8888888888888888,
              "#fdca26"
             ],
             [
              1,
              "#f0f921"
             ]
            ],
            "type": "heatmapgl"
           }
          ],
          "histogram": [
           {
            "marker": {
             "pattern": {
              "fillmode": "overlay",
              "size": 10,
              "solidity": 0.2
             }
            },
            "type": "histogram"
           }
          ],
          "histogram2d": [
           {
            "colorbar": {
             "outlinewidth": 0,
             "ticks": ""
            },
            "colorscale": [
             [
              0,
              "#0d0887"
             ],
             [
              0.1111111111111111,
              "#46039f"
             ],
             [
              0.2222222222222222,
              "#7201a8"
             ],
             [
              0.3333333333333333,
              "#9c179e"
             ],
             [
              0.4444444444444444,
              "#bd3786"
             ],
             [
              0.5555555555555556,
              "#d8576b"
             ],
             [
              0.6666666666666666,
              "#ed7953"
             ],
             [
              0.7777777777777778,
              "#fb9f3a"
             ],
             [
              0.8888888888888888,
              "#fdca26"
             ],
             [
              1,
              "#f0f921"
             ]
            ],
            "type": "histogram2d"
           }
          ],
          "histogram2dcontour": [
           {
            "colorbar": {
             "outlinewidth": 0,
             "ticks": ""
            },
            "colorscale": [
             [
              0,
              "#0d0887"
             ],
             [
              0.1111111111111111,
              "#46039f"
             ],
             [
              0.2222222222222222,
              "#7201a8"
             ],
             [
              0.3333333333333333,
              "#9c179e"
             ],
             [
              0.4444444444444444,
              "#bd3786"
             ],
             [
              0.5555555555555556,
              "#d8576b"
             ],
             [
              0.6666666666666666,
              "#ed7953"
             ],
             [
              0.7777777777777778,
              "#fb9f3a"
             ],
             [
              0.8888888888888888,
              "#fdca26"
             ],
             [
              1,
              "#f0f921"
             ]
            ],
            "type": "histogram2dcontour"
           }
          ],
          "mesh3d": [
           {
            "colorbar": {
             "outlinewidth": 0,
             "ticks": ""
            },
            "type": "mesh3d"
           }
          ],
          "parcoords": [
           {
            "line": {
             "colorbar": {
              "outlinewidth": 0,
              "ticks": ""
             }
            },
            "type": "parcoords"
           }
          ],
          "pie": [
           {
            "automargin": true,
            "type": "pie"
           }
          ],
          "scatter": [
           {
            "marker": {
             "colorbar": {
              "outlinewidth": 0,
              "ticks": ""
             }
            },
            "type": "scatter"
           }
          ],
          "scatter3d": [
           {
            "line": {
             "colorbar": {
              "outlinewidth": 0,
              "ticks": ""
             }
            },
            "marker": {
             "colorbar": {
              "outlinewidth": 0,
              "ticks": ""
             }
            },
            "type": "scatter3d"
           }
          ],
          "scattercarpet": [
           {
            "marker": {
             "colorbar": {
              "outlinewidth": 0,
              "ticks": ""
             }
            },
            "type": "scattercarpet"
           }
          ],
          "scattergeo": [
           {
            "marker": {
             "colorbar": {
              "outlinewidth": 0,
              "ticks": ""
             }
            },
            "type": "scattergeo"
           }
          ],
          "scattergl": [
           {
            "marker": {
             "colorbar": {
              "outlinewidth": 0,
              "ticks": ""
             }
            },
            "type": "scattergl"
           }
          ],
          "scattermapbox": [
           {
            "marker": {
             "colorbar": {
              "outlinewidth": 0,
              "ticks": ""
             }
            },
            "type": "scattermapbox"
           }
          ],
          "scatterpolar": [
           {
            "marker": {
             "colorbar": {
              "outlinewidth": 0,
              "ticks": ""
             }
            },
            "type": "scatterpolar"
           }
          ],
          "scatterpolargl": [
           {
            "marker": {
             "colorbar": {
              "outlinewidth": 0,
              "ticks": ""
             }
            },
            "type": "scatterpolargl"
           }
          ],
          "scatterternary": [
           {
            "marker": {
             "colorbar": {
              "outlinewidth": 0,
              "ticks": ""
             }
            },
            "type": "scatterternary"
           }
          ],
          "surface": [
           {
            "colorbar": {
             "outlinewidth": 0,
             "ticks": ""
            },
            "colorscale": [
             [
              0,
              "#0d0887"
             ],
             [
              0.1111111111111111,
              "#46039f"
             ],
             [
              0.2222222222222222,
              "#7201a8"
             ],
             [
              0.3333333333333333,
              "#9c179e"
             ],
             [
              0.4444444444444444,
              "#bd3786"
             ],
             [
              0.5555555555555556,
              "#d8576b"
             ],
             [
              0.6666666666666666,
              "#ed7953"
             ],
             [
              0.7777777777777778,
              "#fb9f3a"
             ],
             [
              0.8888888888888888,
              "#fdca26"
             ],
             [
              1,
              "#f0f921"
             ]
            ],
            "type": "surface"
           }
          ],
          "table": [
           {
            "cells": {
             "fill": {
              "color": "#EBF0F8"
             },
             "line": {
              "color": "white"
             }
            },
            "header": {
             "fill": {
              "color": "#C8D4E3"
             },
             "line": {
              "color": "white"
             }
            },
            "type": "table"
           }
          ]
         },
         "layout": {
          "annotationdefaults": {
           "arrowcolor": "#2a3f5f",
           "arrowhead": 0,
           "arrowwidth": 1
          },
          "autotypenumbers": "strict",
          "coloraxis": {
           "colorbar": {
            "outlinewidth": 0,
            "ticks": ""
           }
          },
          "colorscale": {
           "diverging": [
            [
             0,
             "#8e0152"
            ],
            [
             0.1,
             "#c51b7d"
            ],
            [
             0.2,
             "#de77ae"
            ],
            [
             0.3,
             "#f1b6da"
            ],
            [
             0.4,
             "#fde0ef"
            ],
            [
             0.5,
             "#f7f7f7"
            ],
            [
             0.6,
             "#e6f5d0"
            ],
            [
             0.7,
             "#b8e186"
            ],
            [
             0.8,
             "#7fbc41"
            ],
            [
             0.9,
             "#4d9221"
            ],
            [
             1,
             "#276419"
            ]
           ],
           "sequential": [
            [
             0,
             "#0d0887"
            ],
            [
             0.1111111111111111,
             "#46039f"
            ],
            [
             0.2222222222222222,
             "#7201a8"
            ],
            [
             0.3333333333333333,
             "#9c179e"
            ],
            [
             0.4444444444444444,
             "#bd3786"
            ],
            [
             0.5555555555555556,
             "#d8576b"
            ],
            [
             0.6666666666666666,
             "#ed7953"
            ],
            [
             0.7777777777777778,
             "#fb9f3a"
            ],
            [
             0.8888888888888888,
             "#fdca26"
            ],
            [
             1,
             "#f0f921"
            ]
           ],
           "sequentialminus": [
            [
             0,
             "#0d0887"
            ],
            [
             0.1111111111111111,
             "#46039f"
            ],
            [
             0.2222222222222222,
             "#7201a8"
            ],
            [
             0.3333333333333333,
             "#9c179e"
            ],
            [
             0.4444444444444444,
             "#bd3786"
            ],
            [
             0.5555555555555556,
             "#d8576b"
            ],
            [
             0.6666666666666666,
             "#ed7953"
            ],
            [
             0.7777777777777778,
             "#fb9f3a"
            ],
            [
             0.8888888888888888,
             "#fdca26"
            ],
            [
             1,
             "#f0f921"
            ]
           ]
          },
          "colorway": [
           "#636efa",
           "#EF553B",
           "#00cc96",
           "#ab63fa",
           "#FFA15A",
           "#19d3f3",
           "#FF6692",
           "#B6E880",
           "#FF97FF",
           "#FECB52"
          ],
          "font": {
           "color": "#2a3f5f"
          },
          "geo": {
           "bgcolor": "white",
           "lakecolor": "white",
           "landcolor": "#E5ECF6",
           "showlakes": true,
           "showland": true,
           "subunitcolor": "white"
          },
          "hoverlabel": {
           "align": "left"
          },
          "hovermode": "closest",
          "mapbox": {
           "style": "light"
          },
          "paper_bgcolor": "white",
          "plot_bgcolor": "#E5ECF6",
          "polar": {
           "angularaxis": {
            "gridcolor": "white",
            "linecolor": "white",
            "ticks": ""
           },
           "bgcolor": "#E5ECF6",
           "radialaxis": {
            "gridcolor": "white",
            "linecolor": "white",
            "ticks": ""
           }
          },
          "scene": {
           "xaxis": {
            "backgroundcolor": "#E5ECF6",
            "gridcolor": "white",
            "gridwidth": 2,
            "linecolor": "white",
            "showbackground": true,
            "ticks": "",
            "zerolinecolor": "white"
           },
           "yaxis": {
            "backgroundcolor": "#E5ECF6",
            "gridcolor": "white",
            "gridwidth": 2,
            "linecolor": "white",
            "showbackground": true,
            "ticks": "",
            "zerolinecolor": "white"
           },
           "zaxis": {
            "backgroundcolor": "#E5ECF6",
            "gridcolor": "white",
            "gridwidth": 2,
            "linecolor": "white",
            "showbackground": true,
            "ticks": "",
            "zerolinecolor": "white"
           }
          },
          "shapedefaults": {
           "line": {
            "color": "#2a3f5f"
           }
          },
          "ternary": {
           "aaxis": {
            "gridcolor": "white",
            "linecolor": "white",
            "ticks": ""
           },
           "baxis": {
            "gridcolor": "white",
            "linecolor": "white",
            "ticks": ""
           },
           "bgcolor": "#E5ECF6",
           "caxis": {
            "gridcolor": "white",
            "linecolor": "white",
            "ticks": ""
           }
          },
          "title": {
           "x": 0.05
          },
          "xaxis": {
           "automargin": true,
           "gridcolor": "white",
           "linecolor": "white",
           "ticks": "",
           "title": {
            "standoff": 15
           },
           "zerolinecolor": "white",
           "zerolinewidth": 2
          },
          "yaxis": {
           "automargin": true,
           "gridcolor": "white",
           "linecolor": "white",
           "ticks": "",
           "title": {
            "standoff": 15
           },
           "zerolinecolor": "white",
           "zerolinewidth": 2
          }
         }
        },
        "title": {
         "font": {
          "color": "#4D5663"
         }
        },
        "xaxis": {
         "gridcolor": "#E1E5ED",
         "showgrid": true,
         "tickfont": {
          "color": "#4D5663"
         },
         "title": {
          "font": {
           "color": "#4D5663"
          },
          "text": ""
         },
         "zerolinecolor": "#E1E5ED"
        },
        "yaxis": {
         "gridcolor": "#E1E5ED",
         "showgrid": true,
         "tickfont": {
          "color": "#4D5663"
         },
         "title": {
          "font": {
           "color": "#4D5663"
          },
          "text": ""
         },
         "zerolinecolor": "#E1E5ED"
        }
       }
      },
      "text/html": [
       "<div>                            <div id=\"79051c66-0a3c-42ce-aa7b-aa3b17de5394\" class=\"plotly-graph-div\" style=\"height:525px; width:100%;\"></div>            <script type=\"text/javascript\">                require([\"plotly\"], function(Plotly) {                    window.PLOTLYENV=window.PLOTLYENV || {};\n",
       "                    window.PLOTLYENV.BASE_URL='https://plot.ly';                                    if (document.getElementById(\"79051c66-0a3c-42ce-aa7b-aa3b17de5394\")) {                    Plotly.newPlot(                        \"79051c66-0a3c-42ce-aa7b-aa3b17de5394\",                        [{\"line\":{\"color\":\"rgba(255, 153, 51, 1.0)\",\"dash\":\"solid\",\"shape\":\"linear\",\"width\":1.3},\"marker\":{\"size\":10,\"symbol\":\"circle\"},\"mode\":\"markers\",\"name\":\"B\",\"text\":\"\",\"x\":[-0.8045319692756239,-0.7857508741343778,0.39430716210118383,0.040154756846361016,-1.7322422804433464,0.23192449486695912,-0.6018949797227127,-0.26289401276907864,0.05250827501417779,1.3215808600707148,-0.3415752045912305,0.9123430324087752,-0.11882811971741239,-1.277598509738442,1.22129685804723,-0.9964878457298946,2.6620936089218095,-0.4803892863051099,-1.4490068334874833,-0.5458590243929505,0.1806089625886417,-0.04853061562212352,-0.7519138670027183,0.9822323510339834,1.3217667116892085,-0.4078361976983211,-0.7433064246907137,1.3097970819898321,-0.8885546830130938,0.08959952426663148,0.7613983182603498,1.114935205693224,-0.26808691289618436,-1.179007519613772,-0.8212285519866818,0.0171376674536935,-1.261984800199849,0.7540606103836702,1.0365981858780862,1.0894455868431638,1.467140241494887,-0.45420815578998514,1.4150942894048062,-1.0307095952537535,-0.8738128032396157,0.8499380934853883,0.44623467531343414,1.1111190821690289,1.5931104775281726,-0.4229825602717984,-0.347724986376733,-0.13542680812754604,0.3082974882607674,-1.8041564241898107,-0.01515489581035622,1.2123741242554724,1.6091967660300068,-0.9099405101509571,-1.0607387072884853,-0.01457523724299721,-0.4606327435061816,1.353930884874758,0.7192866992265134,0.35255737217605587,0.17943773439695976,-0.0008330315647807776,0.013257714626296735,-0.4853923909661426,0.987472645343711,-1.2792863154847292,-0.1927603830487624,-1.248884129883844,0.09746544762239337,0.205544722884781,-1.6106179773906022,-1.4962536071793135,1.8804432211155748,-0.9024008840300444,-1.2721816262871173,2.1523784705721707,-0.9891223749584839,-0.966689724244585,-1.001881325254751,0.09961378114378827,-0.6782575216848209,0.6993114545806943,0.6321315478915533,-0.7053759028281684,-0.41772962659482143,0.3005169214229249,0.6704583648794865,-0.3618318985451478,1.1737851603704852,0.24227025716212627,1.4015786878545637,-0.20532599663298384,-0.25831017270764134,-2.0960187662439336,0.22663058350173887,-1.499548991493352],\"y\":[1.380854838531965,0.11938502538426132,-1.3143531805255566,0.6406812285572712,0.45901609373282704,0.14365163997084188,0.04919209970407182,-0.14356601653396417,-0.13652030629061812,0.705737494583953,0.4693637488317349,-0.22019440349318015,0.023077433512087436,1.2240704876175075,-0.20295579519226248,-0.5507208895965063,-0.04503975484391459,-1.0716079956340958,-0.3498571619930785,0.05378116157884617,0.1914937961172496,-0.8001900502593962,-1.8724024669870398,-1.155013636557828,-0.8728225347049191,-0.9491040625196484,-0.01307810894809895,-1.7416462532512975,0.7582038042037499,1.0245971841296806,2.209354664513985,0.27962419638957986,-0.3625691399492275,-0.37384775610699056,-0.09090160784772924,-0.963449146450701,-0.7980032760865212,-0.1365887386905632,-0.8236488041076043,0.12473376344798781,-1.5436042717554994,-0.6216132617616013,1.6894254983684525,0.556296337156448,-0.785063041863813,2.483960864125458,-0.43302859825742124,0.8939916753077831,1.2096210869953685,0.9394848885610718,-1.4390417869534922,1.1168312594389562,-0.5365559556172983,1.8492172694897153,-0.1362841448844875,0.6018566047291094,0.6036293584590517,1.0888599872211706,-0.5537892278737087,-1.2571168203364704,-0.4422470583484276,-0.6044378393263163,-1.041592179467776,1.5009696060524216,-0.9109487853431983,2.1787784184384558,-1.0579386356798106,-1.7000597049686215,-1.3445417160500615,-1.1784242650767685,-0.5223318292191497,-1.6418690103787708,1.6251438590138476,-3.8913039112713124,-0.5316779558052692,0.3711369956120464,0.39400732044115944,0.5000893212146826,-0.1723379534232298,-0.8721395911197579,-0.36567250291673475,1.5156140766192698,2.3623075261343915,-1.489554844966301,1.6413735284669448,-0.0929390528011857,-0.714291437029099,0.130654739297638,1.4599097658828708,-0.46420506328524286,-1.3247869299650787,-1.0332844721276573,-0.6378849266767722,0.5187408321369664,0.4352512593360889,-0.06583816090115427,0.5379177916772021,0.28204406416968447,-1.04570445537743,0.08376817237639435],\"type\":\"scatter\"}],                        {\"legend\":{\"bgcolor\":\"#F5F6F9\",\"font\":{\"color\":\"#4D5663\"}},\"paper_bgcolor\":\"#F5F6F9\",\"plot_bgcolor\":\"#F5F6F9\",\"template\":{\"data\":{\"barpolar\":[{\"marker\":{\"line\":{\"color\":\"#E5ECF6\",\"width\":0.5},\"pattern\":{\"fillmode\":\"overlay\",\"size\":10,\"solidity\":0.2}},\"type\":\"barpolar\"}],\"bar\":[{\"error_x\":{\"color\":\"#2a3f5f\"},\"error_y\":{\"color\":\"#2a3f5f\"},\"marker\":{\"line\":{\"color\":\"#E5ECF6\",\"width\":0.5},\"pattern\":{\"fillmode\":\"overlay\",\"size\":10,\"solidity\":0.2}},\"type\":\"bar\"}],\"carpet\":[{\"aaxis\":{\"endlinecolor\":\"#2a3f5f\",\"gridcolor\":\"white\",\"linecolor\":\"white\",\"minorgridcolor\":\"white\",\"startlinecolor\":\"#2a3f5f\"},\"baxis\":{\"endlinecolor\":\"#2a3f5f\",\"gridcolor\":\"white\",\"linecolor\":\"white\",\"minorgridcolor\":\"white\",\"startlinecolor\":\"#2a3f5f\"},\"type\":\"carpet\"}],\"choropleth\":[{\"colorbar\":{\"outlinewidth\":0,\"ticks\":\"\"},\"type\":\"choropleth\"}],\"contourcarpet\":[{\"colorbar\":{\"outlinewidth\":0,\"ticks\":\"\"},\"type\":\"contourcarpet\"}],\"contour\":[{\"colorbar\":{\"outlinewidth\":0,\"ticks\":\"\"},\"colorscale\":[[0.0,\"#0d0887\"],[0.1111111111111111,\"#46039f\"],[0.2222222222222222,\"#7201a8\"],[0.3333333333333333,\"#9c179e\"],[0.4444444444444444,\"#bd3786\"],[0.5555555555555556,\"#d8576b\"],[0.6666666666666666,\"#ed7953\"],[0.7777777777777778,\"#fb9f3a\"],[0.8888888888888888,\"#fdca26\"],[1.0,\"#f0f921\"]],\"type\":\"contour\"}],\"heatmapgl\":[{\"colorbar\":{\"outlinewidth\":0,\"ticks\":\"\"},\"colorscale\":[[0.0,\"#0d0887\"],[0.1111111111111111,\"#46039f\"],[0.2222222222222222,\"#7201a8\"],[0.3333333333333333,\"#9c179e\"],[0.4444444444444444,\"#bd3786\"],[0.5555555555555556,\"#d8576b\"],[0.6666666666666666,\"#ed7953\"],[0.7777777777777778,\"#fb9f3a\"],[0.8888888888888888,\"#fdca26\"],[1.0,\"#f0f921\"]],\"type\":\"heatmapgl\"}],\"heatmap\":[{\"colorbar\":{\"outlinewidth\":0,\"ticks\":\"\"},\"colorscale\":[[0.0,\"#0d0887\"],[0.1111111111111111,\"#46039f\"],[0.2222222222222222,\"#7201a8\"],[0.3333333333333333,\"#9c179e\"],[0.4444444444444444,\"#bd3786\"],[0.5555555555555556,\"#d8576b\"],[0.6666666666666666,\"#ed7953\"],[0.7777777777777778,\"#fb9f3a\"],[0.8888888888888888,\"#fdca26\"],[1.0,\"#f0f921\"]],\"type\":\"heatmap\"}],\"histogram2dcontour\":[{\"colorbar\":{\"outlinewidth\":0,\"ticks\":\"\"},\"colorscale\":[[0.0,\"#0d0887\"],[0.1111111111111111,\"#46039f\"],[0.2222222222222222,\"#7201a8\"],[0.3333333333333333,\"#9c179e\"],[0.4444444444444444,\"#bd3786\"],[0.5555555555555556,\"#d8576b\"],[0.6666666666666666,\"#ed7953\"],[0.7777777777777778,\"#fb9f3a\"],[0.8888888888888888,\"#fdca26\"],[1.0,\"#f0f921\"]],\"type\":\"histogram2dcontour\"}],\"histogram2d\":[{\"colorbar\":{\"outlinewidth\":0,\"ticks\":\"\"},\"colorscale\":[[0.0,\"#0d0887\"],[0.1111111111111111,\"#46039f\"],[0.2222222222222222,\"#7201a8\"],[0.3333333333333333,\"#9c179e\"],[0.4444444444444444,\"#bd3786\"],[0.5555555555555556,\"#d8576b\"],[0.6666666666666666,\"#ed7953\"],[0.7777777777777778,\"#fb9f3a\"],[0.8888888888888888,\"#fdca26\"],[1.0,\"#f0f921\"]],\"type\":\"histogram2d\"}],\"histogram\":[{\"marker\":{\"pattern\":{\"fillmode\":\"overlay\",\"size\":10,\"solidity\":0.2}},\"type\":\"histogram\"}],\"mesh3d\":[{\"colorbar\":{\"outlinewidth\":0,\"ticks\":\"\"},\"type\":\"mesh3d\"}],\"parcoords\":[{\"line\":{\"colorbar\":{\"outlinewidth\":0,\"ticks\":\"\"}},\"type\":\"parcoords\"}],\"pie\":[{\"automargin\":true,\"type\":\"pie\"}],\"scatter3d\":[{\"line\":{\"colorbar\":{\"outlinewidth\":0,\"ticks\":\"\"}},\"marker\":{\"colorbar\":{\"outlinewidth\":0,\"ticks\":\"\"}},\"type\":\"scatter3d\"}],\"scattercarpet\":[{\"marker\":{\"colorbar\":{\"outlinewidth\":0,\"ticks\":\"\"}},\"type\":\"scattercarpet\"}],\"scattergeo\":[{\"marker\":{\"colorbar\":{\"outlinewidth\":0,\"ticks\":\"\"}},\"type\":\"scattergeo\"}],\"scattergl\":[{\"marker\":{\"colorbar\":{\"outlinewidth\":0,\"ticks\":\"\"}},\"type\":\"scattergl\"}],\"scattermapbox\":[{\"marker\":{\"colorbar\":{\"outlinewidth\":0,\"ticks\":\"\"}},\"type\":\"scattermapbox\"}],\"scatterpolargl\":[{\"marker\":{\"colorbar\":{\"outlinewidth\":0,\"ticks\":\"\"}},\"type\":\"scatterpolargl\"}],\"scatterpolar\":[{\"marker\":{\"colorbar\":{\"outlinewidth\":0,\"ticks\":\"\"}},\"type\":\"scatterpolar\"}],\"scatter\":[{\"marker\":{\"colorbar\":{\"outlinewidth\":0,\"ticks\":\"\"}},\"type\":\"scatter\"}],\"scatterternary\":[{\"marker\":{\"colorbar\":{\"outlinewidth\":0,\"ticks\":\"\"}},\"type\":\"scatterternary\"}],\"surface\":[{\"colorbar\":{\"outlinewidth\":0,\"ticks\":\"\"},\"colorscale\":[[0.0,\"#0d0887\"],[0.1111111111111111,\"#46039f\"],[0.2222222222222222,\"#7201a8\"],[0.3333333333333333,\"#9c179e\"],[0.4444444444444444,\"#bd3786\"],[0.5555555555555556,\"#d8576b\"],[0.6666666666666666,\"#ed7953\"],[0.7777777777777778,\"#fb9f3a\"],[0.8888888888888888,\"#fdca26\"],[1.0,\"#f0f921\"]],\"type\":\"surface\"}],\"table\":[{\"cells\":{\"fill\":{\"color\":\"#EBF0F8\"},\"line\":{\"color\":\"white\"}},\"header\":{\"fill\":{\"color\":\"#C8D4E3\"},\"line\":{\"color\":\"white\"}},\"type\":\"table\"}]},\"layout\":{\"annotationdefaults\":{\"arrowcolor\":\"#2a3f5f\",\"arrowhead\":0,\"arrowwidth\":1},\"autotypenumbers\":\"strict\",\"coloraxis\":{\"colorbar\":{\"outlinewidth\":0,\"ticks\":\"\"}},\"colorscale\":{\"diverging\":[[0,\"#8e0152\"],[0.1,\"#c51b7d\"],[0.2,\"#de77ae\"],[0.3,\"#f1b6da\"],[0.4,\"#fde0ef\"],[0.5,\"#f7f7f7\"],[0.6,\"#e6f5d0\"],[0.7,\"#b8e186\"],[0.8,\"#7fbc41\"],[0.9,\"#4d9221\"],[1,\"#276419\"]],\"sequential\":[[0.0,\"#0d0887\"],[0.1111111111111111,\"#46039f\"],[0.2222222222222222,\"#7201a8\"],[0.3333333333333333,\"#9c179e\"],[0.4444444444444444,\"#bd3786\"],[0.5555555555555556,\"#d8576b\"],[0.6666666666666666,\"#ed7953\"],[0.7777777777777778,\"#fb9f3a\"],[0.8888888888888888,\"#fdca26\"],[1.0,\"#f0f921\"]],\"sequentialminus\":[[0.0,\"#0d0887\"],[0.1111111111111111,\"#46039f\"],[0.2222222222222222,\"#7201a8\"],[0.3333333333333333,\"#9c179e\"],[0.4444444444444444,\"#bd3786\"],[0.5555555555555556,\"#d8576b\"],[0.6666666666666666,\"#ed7953\"],[0.7777777777777778,\"#fb9f3a\"],[0.8888888888888888,\"#fdca26\"],[1.0,\"#f0f921\"]]},\"colorway\":[\"#636efa\",\"#EF553B\",\"#00cc96\",\"#ab63fa\",\"#FFA15A\",\"#19d3f3\",\"#FF6692\",\"#B6E880\",\"#FF97FF\",\"#FECB52\"],\"font\":{\"color\":\"#2a3f5f\"},\"geo\":{\"bgcolor\":\"white\",\"lakecolor\":\"white\",\"landcolor\":\"#E5ECF6\",\"showlakes\":true,\"showland\":true,\"subunitcolor\":\"white\"},\"hoverlabel\":{\"align\":\"left\"},\"hovermode\":\"closest\",\"mapbox\":{\"style\":\"light\"},\"paper_bgcolor\":\"white\",\"plot_bgcolor\":\"#E5ECF6\",\"polar\":{\"angularaxis\":{\"gridcolor\":\"white\",\"linecolor\":\"white\",\"ticks\":\"\"},\"bgcolor\":\"#E5ECF6\",\"radialaxis\":{\"gridcolor\":\"white\",\"linecolor\":\"white\",\"ticks\":\"\"}},\"scene\":{\"xaxis\":{\"backgroundcolor\":\"#E5ECF6\",\"gridcolor\":\"white\",\"gridwidth\":2,\"linecolor\":\"white\",\"showbackground\":true,\"ticks\":\"\",\"zerolinecolor\":\"white\"},\"yaxis\":{\"backgroundcolor\":\"#E5ECF6\",\"gridcolor\":\"white\",\"gridwidth\":2,\"linecolor\":\"white\",\"showbackground\":true,\"ticks\":\"\",\"zerolinecolor\":\"white\"},\"zaxis\":{\"backgroundcolor\":\"#E5ECF6\",\"gridcolor\":\"white\",\"gridwidth\":2,\"linecolor\":\"white\",\"showbackground\":true,\"ticks\":\"\",\"zerolinecolor\":\"white\"}},\"shapedefaults\":{\"line\":{\"color\":\"#2a3f5f\"}},\"ternary\":{\"aaxis\":{\"gridcolor\":\"white\",\"linecolor\":\"white\",\"ticks\":\"\"},\"baxis\":{\"gridcolor\":\"white\",\"linecolor\":\"white\",\"ticks\":\"\"},\"bgcolor\":\"#E5ECF6\",\"caxis\":{\"gridcolor\":\"white\",\"linecolor\":\"white\",\"ticks\":\"\"}},\"title\":{\"x\":0.05},\"xaxis\":{\"automargin\":true,\"gridcolor\":\"white\",\"linecolor\":\"white\",\"ticks\":\"\",\"title\":{\"standoff\":15},\"zerolinecolor\":\"white\",\"zerolinewidth\":2},\"yaxis\":{\"automargin\":true,\"gridcolor\":\"white\",\"linecolor\":\"white\",\"ticks\":\"\",\"title\":{\"standoff\":15},\"zerolinecolor\":\"white\",\"zerolinewidth\":2}}},\"title\":{\"font\":{\"color\":\"#4D5663\"}},\"xaxis\":{\"gridcolor\":\"#E1E5ED\",\"showgrid\":true,\"tickfont\":{\"color\":\"#4D5663\"},\"title\":{\"font\":{\"color\":\"#4D5663\"},\"text\":\"\"},\"zerolinecolor\":\"#E1E5ED\"},\"yaxis\":{\"gridcolor\":\"#E1E5ED\",\"showgrid\":true,\"tickfont\":{\"color\":\"#4D5663\"},\"title\":{\"font\":{\"color\":\"#4D5663\"},\"text\":\"\"},\"zerolinecolor\":\"#E1E5ED\"}},                        {\"showLink\": true, \"linkText\": \"Export to plot.ly\", \"plotlyServerURL\": \"https://plot.ly\", \"responsive\": true}                    ).then(function(){\n",
       "                            \n",
       "var gd = document.getElementById('79051c66-0a3c-42ce-aa7b-aa3b17de5394');\n",
       "var x = new MutationObserver(function (mutations, observer) {{\n",
       "        var display = window.getComputedStyle(gd).display;\n",
       "        if (!display || display === 'none') {{\n",
       "            console.log([gd, 'removed!']);\n",
       "            Plotly.purge(gd);\n",
       "            observer.disconnect();\n",
       "        }}\n",
       "}});\n",
       "\n",
       "// Listen for the removal of the full notebook cells\n",
       "var notebookContainer = gd.closest('#notebook-container');\n",
       "if (notebookContainer) {{\n",
       "    x.observe(notebookContainer, {childList: true});\n",
       "}}\n",
       "\n",
       "// Listen for the clearing of the current output cell\n",
       "var outputEl = gd.closest('.output');\n",
       "if (outputEl) {{\n",
       "    x.observe(outputEl, {childList: true});\n",
       "}}\n",
       "\n",
       "                        })                };                });            </script>        </div>"
      ]
     },
     "metadata": {},
     "output_type": "display_data"
    }
   ],
   "source": [
    "df.iplot(kind = 'scatter', x='A', y='B', mode='markers', size = 10)"
   ]
  },
  {
   "cell_type": "code",
   "execution_count": 27,
   "id": "cd4c65ac",
   "metadata": {},
   "outputs": [
    {
     "data": {
      "application/vnd.plotly.v1+json": {
       "config": {
        "linkText": "Export to plot.ly",
        "plotlyServerURL": "https://plot.ly",
        "showLink": true
       },
       "data": [
        {
         "marker": {
          "color": "rgba(255, 153, 51, 0.6)",
          "line": {
           "color": "rgba(255, 153, 51, 1.0)",
           "width": 1
          }
         },
         "name": "Values",
         "orientation": "v",
         "text": "",
         "type": "bar",
         "x": [
          "A",
          "B",
          "C"
         ],
         "y": [
          32,
          43,
          50
         ]
        }
       ],
       "layout": {
        "legend": {
         "bgcolor": "#F5F6F9",
         "font": {
          "color": "#4D5663"
         }
        },
        "paper_bgcolor": "#F5F6F9",
        "plot_bgcolor": "#F5F6F9",
        "template": {
         "data": {
          "bar": [
           {
            "error_x": {
             "color": "#2a3f5f"
            },
            "error_y": {
             "color": "#2a3f5f"
            },
            "marker": {
             "line": {
              "color": "#E5ECF6",
              "width": 0.5
             },
             "pattern": {
              "fillmode": "overlay",
              "size": 10,
              "solidity": 0.2
             }
            },
            "type": "bar"
           }
          ],
          "barpolar": [
           {
            "marker": {
             "line": {
              "color": "#E5ECF6",
              "width": 0.5
             },
             "pattern": {
              "fillmode": "overlay",
              "size": 10,
              "solidity": 0.2
             }
            },
            "type": "barpolar"
           }
          ],
          "carpet": [
           {
            "aaxis": {
             "endlinecolor": "#2a3f5f",
             "gridcolor": "white",
             "linecolor": "white",
             "minorgridcolor": "white",
             "startlinecolor": "#2a3f5f"
            },
            "baxis": {
             "endlinecolor": "#2a3f5f",
             "gridcolor": "white",
             "linecolor": "white",
             "minorgridcolor": "white",
             "startlinecolor": "#2a3f5f"
            },
            "type": "carpet"
           }
          ],
          "choropleth": [
           {
            "colorbar": {
             "outlinewidth": 0,
             "ticks": ""
            },
            "type": "choropleth"
           }
          ],
          "contour": [
           {
            "colorbar": {
             "outlinewidth": 0,
             "ticks": ""
            },
            "colorscale": [
             [
              0,
              "#0d0887"
             ],
             [
              0.1111111111111111,
              "#46039f"
             ],
             [
              0.2222222222222222,
              "#7201a8"
             ],
             [
              0.3333333333333333,
              "#9c179e"
             ],
             [
              0.4444444444444444,
              "#bd3786"
             ],
             [
              0.5555555555555556,
              "#d8576b"
             ],
             [
              0.6666666666666666,
              "#ed7953"
             ],
             [
              0.7777777777777778,
              "#fb9f3a"
             ],
             [
              0.8888888888888888,
              "#fdca26"
             ],
             [
              1,
              "#f0f921"
             ]
            ],
            "type": "contour"
           }
          ],
          "contourcarpet": [
           {
            "colorbar": {
             "outlinewidth": 0,
             "ticks": ""
            },
            "type": "contourcarpet"
           }
          ],
          "heatmap": [
           {
            "colorbar": {
             "outlinewidth": 0,
             "ticks": ""
            },
            "colorscale": [
             [
              0,
              "#0d0887"
             ],
             [
              0.1111111111111111,
              "#46039f"
             ],
             [
              0.2222222222222222,
              "#7201a8"
             ],
             [
              0.3333333333333333,
              "#9c179e"
             ],
             [
              0.4444444444444444,
              "#bd3786"
             ],
             [
              0.5555555555555556,
              "#d8576b"
             ],
             [
              0.6666666666666666,
              "#ed7953"
             ],
             [
              0.7777777777777778,
              "#fb9f3a"
             ],
             [
              0.8888888888888888,
              "#fdca26"
             ],
             [
              1,
              "#f0f921"
             ]
            ],
            "type": "heatmap"
           }
          ],
          "heatmapgl": [
           {
            "colorbar": {
             "outlinewidth": 0,
             "ticks": ""
            },
            "colorscale": [
             [
              0,
              "#0d0887"
             ],
             [
              0.1111111111111111,
              "#46039f"
             ],
             [
              0.2222222222222222,
              "#7201a8"
             ],
             [
              0.3333333333333333,
              "#9c179e"
             ],
             [
              0.4444444444444444,
              "#bd3786"
             ],
             [
              0.5555555555555556,
              "#d8576b"
             ],
             [
              0.6666666666666666,
              "#ed7953"
             ],
             [
              0.7777777777777778,
              "#fb9f3a"
             ],
             [
              0.8888888888888888,
              "#fdca26"
             ],
             [
              1,
              "#f0f921"
             ]
            ],
            "type": "heatmapgl"
           }
          ],
          "histogram": [
           {
            "marker": {
             "pattern": {
              "fillmode": "overlay",
              "size": 10,
              "solidity": 0.2
             }
            },
            "type": "histogram"
           }
          ],
          "histogram2d": [
           {
            "colorbar": {
             "outlinewidth": 0,
             "ticks": ""
            },
            "colorscale": [
             [
              0,
              "#0d0887"
             ],
             [
              0.1111111111111111,
              "#46039f"
             ],
             [
              0.2222222222222222,
              "#7201a8"
             ],
             [
              0.3333333333333333,
              "#9c179e"
             ],
             [
              0.4444444444444444,
              "#bd3786"
             ],
             [
              0.5555555555555556,
              "#d8576b"
             ],
             [
              0.6666666666666666,
              "#ed7953"
             ],
             [
              0.7777777777777778,
              "#fb9f3a"
             ],
             [
              0.8888888888888888,
              "#fdca26"
             ],
             [
              1,
              "#f0f921"
             ]
            ],
            "type": "histogram2d"
           }
          ],
          "histogram2dcontour": [
           {
            "colorbar": {
             "outlinewidth": 0,
             "ticks": ""
            },
            "colorscale": [
             [
              0,
              "#0d0887"
             ],
             [
              0.1111111111111111,
              "#46039f"
             ],
             [
              0.2222222222222222,
              "#7201a8"
             ],
             [
              0.3333333333333333,
              "#9c179e"
             ],
             [
              0.4444444444444444,
              "#bd3786"
             ],
             [
              0.5555555555555556,
              "#d8576b"
             ],
             [
              0.6666666666666666,
              "#ed7953"
             ],
             [
              0.7777777777777778,
              "#fb9f3a"
             ],
             [
              0.8888888888888888,
              "#fdca26"
             ],
             [
              1,
              "#f0f921"
             ]
            ],
            "type": "histogram2dcontour"
           }
          ],
          "mesh3d": [
           {
            "colorbar": {
             "outlinewidth": 0,
             "ticks": ""
            },
            "type": "mesh3d"
           }
          ],
          "parcoords": [
           {
            "line": {
             "colorbar": {
              "outlinewidth": 0,
              "ticks": ""
             }
            },
            "type": "parcoords"
           }
          ],
          "pie": [
           {
            "automargin": true,
            "type": "pie"
           }
          ],
          "scatter": [
           {
            "marker": {
             "colorbar": {
              "outlinewidth": 0,
              "ticks": ""
             }
            },
            "type": "scatter"
           }
          ],
          "scatter3d": [
           {
            "line": {
             "colorbar": {
              "outlinewidth": 0,
              "ticks": ""
             }
            },
            "marker": {
             "colorbar": {
              "outlinewidth": 0,
              "ticks": ""
             }
            },
            "type": "scatter3d"
           }
          ],
          "scattercarpet": [
           {
            "marker": {
             "colorbar": {
              "outlinewidth": 0,
              "ticks": ""
             }
            },
            "type": "scattercarpet"
           }
          ],
          "scattergeo": [
           {
            "marker": {
             "colorbar": {
              "outlinewidth": 0,
              "ticks": ""
             }
            },
            "type": "scattergeo"
           }
          ],
          "scattergl": [
           {
            "marker": {
             "colorbar": {
              "outlinewidth": 0,
              "ticks": ""
             }
            },
            "type": "scattergl"
           }
          ],
          "scattermapbox": [
           {
            "marker": {
             "colorbar": {
              "outlinewidth": 0,
              "ticks": ""
             }
            },
            "type": "scattermapbox"
           }
          ],
          "scatterpolar": [
           {
            "marker": {
             "colorbar": {
              "outlinewidth": 0,
              "ticks": ""
             }
            },
            "type": "scatterpolar"
           }
          ],
          "scatterpolargl": [
           {
            "marker": {
             "colorbar": {
              "outlinewidth": 0,
              "ticks": ""
             }
            },
            "type": "scatterpolargl"
           }
          ],
          "scatterternary": [
           {
            "marker": {
             "colorbar": {
              "outlinewidth": 0,
              "ticks": ""
             }
            },
            "type": "scatterternary"
           }
          ],
          "surface": [
           {
            "colorbar": {
             "outlinewidth": 0,
             "ticks": ""
            },
            "colorscale": [
             [
              0,
              "#0d0887"
             ],
             [
              0.1111111111111111,
              "#46039f"
             ],
             [
              0.2222222222222222,
              "#7201a8"
             ],
             [
              0.3333333333333333,
              "#9c179e"
             ],
             [
              0.4444444444444444,
              "#bd3786"
             ],
             [
              0.5555555555555556,
              "#d8576b"
             ],
             [
              0.6666666666666666,
              "#ed7953"
             ],
             [
              0.7777777777777778,
              "#fb9f3a"
             ],
             [
              0.8888888888888888,
              "#fdca26"
             ],
             [
              1,
              "#f0f921"
             ]
            ],
            "type": "surface"
           }
          ],
          "table": [
           {
            "cells": {
             "fill": {
              "color": "#EBF0F8"
             },
             "line": {
              "color": "white"
             }
            },
            "header": {
             "fill": {
              "color": "#C8D4E3"
             },
             "line": {
              "color": "white"
             }
            },
            "type": "table"
           }
          ]
         },
         "layout": {
          "annotationdefaults": {
           "arrowcolor": "#2a3f5f",
           "arrowhead": 0,
           "arrowwidth": 1
          },
          "autotypenumbers": "strict",
          "coloraxis": {
           "colorbar": {
            "outlinewidth": 0,
            "ticks": ""
           }
          },
          "colorscale": {
           "diverging": [
            [
             0,
             "#8e0152"
            ],
            [
             0.1,
             "#c51b7d"
            ],
            [
             0.2,
             "#de77ae"
            ],
            [
             0.3,
             "#f1b6da"
            ],
            [
             0.4,
             "#fde0ef"
            ],
            [
             0.5,
             "#f7f7f7"
            ],
            [
             0.6,
             "#e6f5d0"
            ],
            [
             0.7,
             "#b8e186"
            ],
            [
             0.8,
             "#7fbc41"
            ],
            [
             0.9,
             "#4d9221"
            ],
            [
             1,
             "#276419"
            ]
           ],
           "sequential": [
            [
             0,
             "#0d0887"
            ],
            [
             0.1111111111111111,
             "#46039f"
            ],
            [
             0.2222222222222222,
             "#7201a8"
            ],
            [
             0.3333333333333333,
             "#9c179e"
            ],
            [
             0.4444444444444444,
             "#bd3786"
            ],
            [
             0.5555555555555556,
             "#d8576b"
            ],
            [
             0.6666666666666666,
             "#ed7953"
            ],
            [
             0.7777777777777778,
             "#fb9f3a"
            ],
            [
             0.8888888888888888,
             "#fdca26"
            ],
            [
             1,
             "#f0f921"
            ]
           ],
           "sequentialminus": [
            [
             0,
             "#0d0887"
            ],
            [
             0.1111111111111111,
             "#46039f"
            ],
            [
             0.2222222222222222,
             "#7201a8"
            ],
            [
             0.3333333333333333,
             "#9c179e"
            ],
            [
             0.4444444444444444,
             "#bd3786"
            ],
            [
             0.5555555555555556,
             "#d8576b"
            ],
            [
             0.6666666666666666,
             "#ed7953"
            ],
            [
             0.7777777777777778,
             "#fb9f3a"
            ],
            [
             0.8888888888888888,
             "#fdca26"
            ],
            [
             1,
             "#f0f921"
            ]
           ]
          },
          "colorway": [
           "#636efa",
           "#EF553B",
           "#00cc96",
           "#ab63fa",
           "#FFA15A",
           "#19d3f3",
           "#FF6692",
           "#B6E880",
           "#FF97FF",
           "#FECB52"
          ],
          "font": {
           "color": "#2a3f5f"
          },
          "geo": {
           "bgcolor": "white",
           "lakecolor": "white",
           "landcolor": "#E5ECF6",
           "showlakes": true,
           "showland": true,
           "subunitcolor": "white"
          },
          "hoverlabel": {
           "align": "left"
          },
          "hovermode": "closest",
          "mapbox": {
           "style": "light"
          },
          "paper_bgcolor": "white",
          "plot_bgcolor": "#E5ECF6",
          "polar": {
           "angularaxis": {
            "gridcolor": "white",
            "linecolor": "white",
            "ticks": ""
           },
           "bgcolor": "#E5ECF6",
           "radialaxis": {
            "gridcolor": "white",
            "linecolor": "white",
            "ticks": ""
           }
          },
          "scene": {
           "xaxis": {
            "backgroundcolor": "#E5ECF6",
            "gridcolor": "white",
            "gridwidth": 2,
            "linecolor": "white",
            "showbackground": true,
            "ticks": "",
            "zerolinecolor": "white"
           },
           "yaxis": {
            "backgroundcolor": "#E5ECF6",
            "gridcolor": "white",
            "gridwidth": 2,
            "linecolor": "white",
            "showbackground": true,
            "ticks": "",
            "zerolinecolor": "white"
           },
           "zaxis": {
            "backgroundcolor": "#E5ECF6",
            "gridcolor": "white",
            "gridwidth": 2,
            "linecolor": "white",
            "showbackground": true,
            "ticks": "",
            "zerolinecolor": "white"
           }
          },
          "shapedefaults": {
           "line": {
            "color": "#2a3f5f"
           }
          },
          "ternary": {
           "aaxis": {
            "gridcolor": "white",
            "linecolor": "white",
            "ticks": ""
           },
           "baxis": {
            "gridcolor": "white",
            "linecolor": "white",
            "ticks": ""
           },
           "bgcolor": "#E5ECF6",
           "caxis": {
            "gridcolor": "white",
            "linecolor": "white",
            "ticks": ""
           }
          },
          "title": {
           "x": 0.05
          },
          "xaxis": {
           "automargin": true,
           "gridcolor": "white",
           "linecolor": "white",
           "ticks": "",
           "title": {
            "standoff": 15
           },
           "zerolinecolor": "white",
           "zerolinewidth": 2
          },
          "yaxis": {
           "automargin": true,
           "gridcolor": "white",
           "linecolor": "white",
           "ticks": "",
           "title": {
            "standoff": 15
           },
           "zerolinecolor": "white",
           "zerolinewidth": 2
          }
         }
        },
        "title": {
         "font": {
          "color": "#4D5663"
         }
        },
        "xaxis": {
         "gridcolor": "#E1E5ED",
         "showgrid": true,
         "tickfont": {
          "color": "#4D5663"
         },
         "title": {
          "font": {
           "color": "#4D5663"
          },
          "text": ""
         },
         "zerolinecolor": "#E1E5ED"
        },
        "yaxis": {
         "gridcolor": "#E1E5ED",
         "showgrid": true,
         "tickfont": {
          "color": "#4D5663"
         },
         "title": {
          "font": {
           "color": "#4D5663"
          },
          "text": ""
         },
         "zerolinecolor": "#E1E5ED"
        }
       }
      },
      "text/html": [
       "<div>                            <div id=\"8c14b2d7-9d19-43d3-aa82-c5588618d82a\" class=\"plotly-graph-div\" style=\"height:525px; width:100%;\"></div>            <script type=\"text/javascript\">                require([\"plotly\"], function(Plotly) {                    window.PLOTLYENV=window.PLOTLYENV || {};\n",
       "                    window.PLOTLYENV.BASE_URL='https://plot.ly';                                    if (document.getElementById(\"8c14b2d7-9d19-43d3-aa82-c5588618d82a\")) {                    Plotly.newPlot(                        \"8c14b2d7-9d19-43d3-aa82-c5588618d82a\",                        [{\"marker\":{\"color\":\"rgba(255, 153, 51, 0.6)\",\"line\":{\"color\":\"rgba(255, 153, 51, 1.0)\",\"width\":1}},\"name\":\"Values\",\"orientation\":\"v\",\"text\":\"\",\"x\":[\"A\",\"B\",\"C\"],\"y\":[32,43,50],\"type\":\"bar\"}],                        {\"legend\":{\"bgcolor\":\"#F5F6F9\",\"font\":{\"color\":\"#4D5663\"}},\"paper_bgcolor\":\"#F5F6F9\",\"plot_bgcolor\":\"#F5F6F9\",\"template\":{\"data\":{\"barpolar\":[{\"marker\":{\"line\":{\"color\":\"#E5ECF6\",\"width\":0.5},\"pattern\":{\"fillmode\":\"overlay\",\"size\":10,\"solidity\":0.2}},\"type\":\"barpolar\"}],\"bar\":[{\"error_x\":{\"color\":\"#2a3f5f\"},\"error_y\":{\"color\":\"#2a3f5f\"},\"marker\":{\"line\":{\"color\":\"#E5ECF6\",\"width\":0.5},\"pattern\":{\"fillmode\":\"overlay\",\"size\":10,\"solidity\":0.2}},\"type\":\"bar\"}],\"carpet\":[{\"aaxis\":{\"endlinecolor\":\"#2a3f5f\",\"gridcolor\":\"white\",\"linecolor\":\"white\",\"minorgridcolor\":\"white\",\"startlinecolor\":\"#2a3f5f\"},\"baxis\":{\"endlinecolor\":\"#2a3f5f\",\"gridcolor\":\"white\",\"linecolor\":\"white\",\"minorgridcolor\":\"white\",\"startlinecolor\":\"#2a3f5f\"},\"type\":\"carpet\"}],\"choropleth\":[{\"colorbar\":{\"outlinewidth\":0,\"ticks\":\"\"},\"type\":\"choropleth\"}],\"contourcarpet\":[{\"colorbar\":{\"outlinewidth\":0,\"ticks\":\"\"},\"type\":\"contourcarpet\"}],\"contour\":[{\"colorbar\":{\"outlinewidth\":0,\"ticks\":\"\"},\"colorscale\":[[0.0,\"#0d0887\"],[0.1111111111111111,\"#46039f\"],[0.2222222222222222,\"#7201a8\"],[0.3333333333333333,\"#9c179e\"],[0.4444444444444444,\"#bd3786\"],[0.5555555555555556,\"#d8576b\"],[0.6666666666666666,\"#ed7953\"],[0.7777777777777778,\"#fb9f3a\"],[0.8888888888888888,\"#fdca26\"],[1.0,\"#f0f921\"]],\"type\":\"contour\"}],\"heatmapgl\":[{\"colorbar\":{\"outlinewidth\":0,\"ticks\":\"\"},\"colorscale\":[[0.0,\"#0d0887\"],[0.1111111111111111,\"#46039f\"],[0.2222222222222222,\"#7201a8\"],[0.3333333333333333,\"#9c179e\"],[0.4444444444444444,\"#bd3786\"],[0.5555555555555556,\"#d8576b\"],[0.6666666666666666,\"#ed7953\"],[0.7777777777777778,\"#fb9f3a\"],[0.8888888888888888,\"#fdca26\"],[1.0,\"#f0f921\"]],\"type\":\"heatmapgl\"}],\"heatmap\":[{\"colorbar\":{\"outlinewidth\":0,\"ticks\":\"\"},\"colorscale\":[[0.0,\"#0d0887\"],[0.1111111111111111,\"#46039f\"],[0.2222222222222222,\"#7201a8\"],[0.3333333333333333,\"#9c179e\"],[0.4444444444444444,\"#bd3786\"],[0.5555555555555556,\"#d8576b\"],[0.6666666666666666,\"#ed7953\"],[0.7777777777777778,\"#fb9f3a\"],[0.8888888888888888,\"#fdca26\"],[1.0,\"#f0f921\"]],\"type\":\"heatmap\"}],\"histogram2dcontour\":[{\"colorbar\":{\"outlinewidth\":0,\"ticks\":\"\"},\"colorscale\":[[0.0,\"#0d0887\"],[0.1111111111111111,\"#46039f\"],[0.2222222222222222,\"#7201a8\"],[0.3333333333333333,\"#9c179e\"],[0.4444444444444444,\"#bd3786\"],[0.5555555555555556,\"#d8576b\"],[0.6666666666666666,\"#ed7953\"],[0.7777777777777778,\"#fb9f3a\"],[0.8888888888888888,\"#fdca26\"],[1.0,\"#f0f921\"]],\"type\":\"histogram2dcontour\"}],\"histogram2d\":[{\"colorbar\":{\"outlinewidth\":0,\"ticks\":\"\"},\"colorscale\":[[0.0,\"#0d0887\"],[0.1111111111111111,\"#46039f\"],[0.2222222222222222,\"#7201a8\"],[0.3333333333333333,\"#9c179e\"],[0.4444444444444444,\"#bd3786\"],[0.5555555555555556,\"#d8576b\"],[0.6666666666666666,\"#ed7953\"],[0.7777777777777778,\"#fb9f3a\"],[0.8888888888888888,\"#fdca26\"],[1.0,\"#f0f921\"]],\"type\":\"histogram2d\"}],\"histogram\":[{\"marker\":{\"pattern\":{\"fillmode\":\"overlay\",\"size\":10,\"solidity\":0.2}},\"type\":\"histogram\"}],\"mesh3d\":[{\"colorbar\":{\"outlinewidth\":0,\"ticks\":\"\"},\"type\":\"mesh3d\"}],\"parcoords\":[{\"line\":{\"colorbar\":{\"outlinewidth\":0,\"ticks\":\"\"}},\"type\":\"parcoords\"}],\"pie\":[{\"automargin\":true,\"type\":\"pie\"}],\"scatter3d\":[{\"line\":{\"colorbar\":{\"outlinewidth\":0,\"ticks\":\"\"}},\"marker\":{\"colorbar\":{\"outlinewidth\":0,\"ticks\":\"\"}},\"type\":\"scatter3d\"}],\"scattercarpet\":[{\"marker\":{\"colorbar\":{\"outlinewidth\":0,\"ticks\":\"\"}},\"type\":\"scattercarpet\"}],\"scattergeo\":[{\"marker\":{\"colorbar\":{\"outlinewidth\":0,\"ticks\":\"\"}},\"type\":\"scattergeo\"}],\"scattergl\":[{\"marker\":{\"colorbar\":{\"outlinewidth\":0,\"ticks\":\"\"}},\"type\":\"scattergl\"}],\"scattermapbox\":[{\"marker\":{\"colorbar\":{\"outlinewidth\":0,\"ticks\":\"\"}},\"type\":\"scattermapbox\"}],\"scatterpolargl\":[{\"marker\":{\"colorbar\":{\"outlinewidth\":0,\"ticks\":\"\"}},\"type\":\"scatterpolargl\"}],\"scatterpolar\":[{\"marker\":{\"colorbar\":{\"outlinewidth\":0,\"ticks\":\"\"}},\"type\":\"scatterpolar\"}],\"scatter\":[{\"marker\":{\"colorbar\":{\"outlinewidth\":0,\"ticks\":\"\"}},\"type\":\"scatter\"}],\"scatterternary\":[{\"marker\":{\"colorbar\":{\"outlinewidth\":0,\"ticks\":\"\"}},\"type\":\"scatterternary\"}],\"surface\":[{\"colorbar\":{\"outlinewidth\":0,\"ticks\":\"\"},\"colorscale\":[[0.0,\"#0d0887\"],[0.1111111111111111,\"#46039f\"],[0.2222222222222222,\"#7201a8\"],[0.3333333333333333,\"#9c179e\"],[0.4444444444444444,\"#bd3786\"],[0.5555555555555556,\"#d8576b\"],[0.6666666666666666,\"#ed7953\"],[0.7777777777777778,\"#fb9f3a\"],[0.8888888888888888,\"#fdca26\"],[1.0,\"#f0f921\"]],\"type\":\"surface\"}],\"table\":[{\"cells\":{\"fill\":{\"color\":\"#EBF0F8\"},\"line\":{\"color\":\"white\"}},\"header\":{\"fill\":{\"color\":\"#C8D4E3\"},\"line\":{\"color\":\"white\"}},\"type\":\"table\"}]},\"layout\":{\"annotationdefaults\":{\"arrowcolor\":\"#2a3f5f\",\"arrowhead\":0,\"arrowwidth\":1},\"autotypenumbers\":\"strict\",\"coloraxis\":{\"colorbar\":{\"outlinewidth\":0,\"ticks\":\"\"}},\"colorscale\":{\"diverging\":[[0,\"#8e0152\"],[0.1,\"#c51b7d\"],[0.2,\"#de77ae\"],[0.3,\"#f1b6da\"],[0.4,\"#fde0ef\"],[0.5,\"#f7f7f7\"],[0.6,\"#e6f5d0\"],[0.7,\"#b8e186\"],[0.8,\"#7fbc41\"],[0.9,\"#4d9221\"],[1,\"#276419\"]],\"sequential\":[[0.0,\"#0d0887\"],[0.1111111111111111,\"#46039f\"],[0.2222222222222222,\"#7201a8\"],[0.3333333333333333,\"#9c179e\"],[0.4444444444444444,\"#bd3786\"],[0.5555555555555556,\"#d8576b\"],[0.6666666666666666,\"#ed7953\"],[0.7777777777777778,\"#fb9f3a\"],[0.8888888888888888,\"#fdca26\"],[1.0,\"#f0f921\"]],\"sequentialminus\":[[0.0,\"#0d0887\"],[0.1111111111111111,\"#46039f\"],[0.2222222222222222,\"#7201a8\"],[0.3333333333333333,\"#9c179e\"],[0.4444444444444444,\"#bd3786\"],[0.5555555555555556,\"#d8576b\"],[0.6666666666666666,\"#ed7953\"],[0.7777777777777778,\"#fb9f3a\"],[0.8888888888888888,\"#fdca26\"],[1.0,\"#f0f921\"]]},\"colorway\":[\"#636efa\",\"#EF553B\",\"#00cc96\",\"#ab63fa\",\"#FFA15A\",\"#19d3f3\",\"#FF6692\",\"#B6E880\",\"#FF97FF\",\"#FECB52\"],\"font\":{\"color\":\"#2a3f5f\"},\"geo\":{\"bgcolor\":\"white\",\"lakecolor\":\"white\",\"landcolor\":\"#E5ECF6\",\"showlakes\":true,\"showland\":true,\"subunitcolor\":\"white\"},\"hoverlabel\":{\"align\":\"left\"},\"hovermode\":\"closest\",\"mapbox\":{\"style\":\"light\"},\"paper_bgcolor\":\"white\",\"plot_bgcolor\":\"#E5ECF6\",\"polar\":{\"angularaxis\":{\"gridcolor\":\"white\",\"linecolor\":\"white\",\"ticks\":\"\"},\"bgcolor\":\"#E5ECF6\",\"radialaxis\":{\"gridcolor\":\"white\",\"linecolor\":\"white\",\"ticks\":\"\"}},\"scene\":{\"xaxis\":{\"backgroundcolor\":\"#E5ECF6\",\"gridcolor\":\"white\",\"gridwidth\":2,\"linecolor\":\"white\",\"showbackground\":true,\"ticks\":\"\",\"zerolinecolor\":\"white\"},\"yaxis\":{\"backgroundcolor\":\"#E5ECF6\",\"gridcolor\":\"white\",\"gridwidth\":2,\"linecolor\":\"white\",\"showbackground\":true,\"ticks\":\"\",\"zerolinecolor\":\"white\"},\"zaxis\":{\"backgroundcolor\":\"#E5ECF6\",\"gridcolor\":\"white\",\"gridwidth\":2,\"linecolor\":\"white\",\"showbackground\":true,\"ticks\":\"\",\"zerolinecolor\":\"white\"}},\"shapedefaults\":{\"line\":{\"color\":\"#2a3f5f\"}},\"ternary\":{\"aaxis\":{\"gridcolor\":\"white\",\"linecolor\":\"white\",\"ticks\":\"\"},\"baxis\":{\"gridcolor\":\"white\",\"linecolor\":\"white\",\"ticks\":\"\"},\"bgcolor\":\"#E5ECF6\",\"caxis\":{\"gridcolor\":\"white\",\"linecolor\":\"white\",\"ticks\":\"\"}},\"title\":{\"x\":0.05},\"xaxis\":{\"automargin\":true,\"gridcolor\":\"white\",\"linecolor\":\"white\",\"ticks\":\"\",\"title\":{\"standoff\":15},\"zerolinecolor\":\"white\",\"zerolinewidth\":2},\"yaxis\":{\"automargin\":true,\"gridcolor\":\"white\",\"linecolor\":\"white\",\"ticks\":\"\",\"title\":{\"standoff\":15},\"zerolinecolor\":\"white\",\"zerolinewidth\":2}}},\"title\":{\"font\":{\"color\":\"#4D5663\"}},\"xaxis\":{\"gridcolor\":\"#E1E5ED\",\"showgrid\":true,\"tickfont\":{\"color\":\"#4D5663\"},\"title\":{\"font\":{\"color\":\"#4D5663\"},\"text\":\"\"},\"zerolinecolor\":\"#E1E5ED\"},\"yaxis\":{\"gridcolor\":\"#E1E5ED\",\"showgrid\":true,\"tickfont\":{\"color\":\"#4D5663\"},\"title\":{\"font\":{\"color\":\"#4D5663\"},\"text\":\"\"},\"zerolinecolor\":\"#E1E5ED\"}},                        {\"showLink\": true, \"linkText\": \"Export to plot.ly\", \"plotlyServerURL\": \"https://plot.ly\", \"responsive\": true}                    ).then(function(){\n",
       "                            \n",
       "var gd = document.getElementById('8c14b2d7-9d19-43d3-aa82-c5588618d82a');\n",
       "var x = new MutationObserver(function (mutations, observer) {{\n",
       "        var display = window.getComputedStyle(gd).display;\n",
       "        if (!display || display === 'none') {{\n",
       "            console.log([gd, 'removed!']);\n",
       "            Plotly.purge(gd);\n",
       "            observer.disconnect();\n",
       "        }}\n",
       "}});\n",
       "\n",
       "// Listen for the removal of the full notebook cells\n",
       "var notebookContainer = gd.closest('#notebook-container');\n",
       "if (notebookContainer) {{\n",
       "    x.observe(notebookContainer, {childList: true});\n",
       "}}\n",
       "\n",
       "// Listen for the clearing of the current output cell\n",
       "var outputEl = gd.closest('.output');\n",
       "if (outputEl) {{\n",
       "    x.observe(outputEl, {childList: true});\n",
       "}}\n",
       "\n",
       "                        })                };                });            </script>        </div>"
      ]
     },
     "metadata": {},
     "output_type": "display_data"
    }
   ],
   "source": [
    "df2.iplot(kind = 'bar', x='Category', y= 'Values')"
   ]
  },
  {
   "cell_type": "code",
   "execution_count": 28,
   "id": "6115c585",
   "metadata": {},
   "outputs": [
    {
     "data": {
      "text/html": [
       "<div>\n",
       "<style scoped>\n",
       "    .dataframe tbody tr th:only-of-type {\n",
       "        vertical-align: middle;\n",
       "    }\n",
       "\n",
       "    .dataframe tbody tr th {\n",
       "        vertical-align: top;\n",
       "    }\n",
       "\n",
       "    .dataframe thead th {\n",
       "        text-align: right;\n",
       "    }\n",
       "</style>\n",
       "<table border=\"1\" class=\"dataframe\">\n",
       "  <thead>\n",
       "    <tr style=\"text-align: right;\">\n",
       "      <th></th>\n",
       "      <th>A</th>\n",
       "      <th>B</th>\n",
       "      <th>C</th>\n",
       "      <th>D</th>\n",
       "    </tr>\n",
       "  </thead>\n",
       "  <tbody>\n",
       "    <tr>\n",
       "      <th>0</th>\n",
       "      <td>-0.804532</td>\n",
       "      <td>1.380855</td>\n",
       "      <td>-1.870888</td>\n",
       "      <td>-0.624313</td>\n",
       "    </tr>\n",
       "    <tr>\n",
       "      <th>1</th>\n",
       "      <td>-0.785751</td>\n",
       "      <td>0.119385</td>\n",
       "      <td>0.044258</td>\n",
       "      <td>-1.174055</td>\n",
       "    </tr>\n",
       "    <tr>\n",
       "      <th>2</th>\n",
       "      <td>0.394307</td>\n",
       "      <td>-1.314353</td>\n",
       "      <td>2.231810</td>\n",
       "      <td>0.038461</td>\n",
       "    </tr>\n",
       "    <tr>\n",
       "      <th>3</th>\n",
       "      <td>0.040155</td>\n",
       "      <td>0.640681</td>\n",
       "      <td>-0.193216</td>\n",
       "      <td>1.473545</td>\n",
       "    </tr>\n",
       "    <tr>\n",
       "      <th>4</th>\n",
       "      <td>-1.732242</td>\n",
       "      <td>0.459016</td>\n",
       "      <td>-0.349514</td>\n",
       "      <td>-0.952166</td>\n",
       "    </tr>\n",
       "    <tr>\n",
       "      <th>...</th>\n",
       "      <td>...</td>\n",
       "      <td>...</td>\n",
       "      <td>...</td>\n",
       "      <td>...</td>\n",
       "    </tr>\n",
       "    <tr>\n",
       "      <th>95</th>\n",
       "      <td>-0.205326</td>\n",
       "      <td>-0.065838</td>\n",
       "      <td>0.201280</td>\n",
       "      <td>1.963945</td>\n",
       "    </tr>\n",
       "    <tr>\n",
       "      <th>96</th>\n",
       "      <td>-0.258310</td>\n",
       "      <td>0.537918</td>\n",
       "      <td>0.016184</td>\n",
       "      <td>1.534690</td>\n",
       "    </tr>\n",
       "    <tr>\n",
       "      <th>97</th>\n",
       "      <td>-2.096019</td>\n",
       "      <td>0.282044</td>\n",
       "      <td>-0.420584</td>\n",
       "      <td>0.596618</td>\n",
       "    </tr>\n",
       "    <tr>\n",
       "      <th>98</th>\n",
       "      <td>0.226631</td>\n",
       "      <td>-1.045704</td>\n",
       "      <td>-1.331435</td>\n",
       "      <td>-0.334418</td>\n",
       "    </tr>\n",
       "    <tr>\n",
       "      <th>99</th>\n",
       "      <td>-1.499549</td>\n",
       "      <td>0.083768</td>\n",
       "      <td>1.307938</td>\n",
       "      <td>-0.642606</td>\n",
       "    </tr>\n",
       "  </tbody>\n",
       "</table>\n",
       "<p>100 rows × 4 columns</p>\n",
       "</div>"
      ],
      "text/plain": [
       "           A         B         C         D\n",
       "0  -0.804532  1.380855 -1.870888 -0.624313\n",
       "1  -0.785751  0.119385  0.044258 -1.174055\n",
       "2   0.394307 -1.314353  2.231810  0.038461\n",
       "3   0.040155  0.640681 -0.193216  1.473545\n",
       "4  -1.732242  0.459016 -0.349514 -0.952166\n",
       "..       ...       ...       ...       ...\n",
       "95 -0.205326 -0.065838  0.201280  1.963945\n",
       "96 -0.258310  0.537918  0.016184  1.534690\n",
       "97 -2.096019  0.282044 -0.420584  0.596618\n",
       "98  0.226631 -1.045704 -1.331435 -0.334418\n",
       "99 -1.499549  0.083768  1.307938 -0.642606\n",
       "\n",
       "[100 rows x 4 columns]"
      ]
     },
     "execution_count": 28,
     "metadata": {},
     "output_type": "execute_result"
    }
   ],
   "source": [
    "df"
   ]
  },
  {
   "cell_type": "code",
   "execution_count": 31,
   "id": "714defcc",
   "metadata": {},
   "outputs": [
    {
     "data": {
      "application/vnd.plotly.v1+json": {
       "config": {
        "linkText": "Export to plot.ly",
        "plotlyServerURL": "https://plot.ly",
        "showLink": true
       },
       "data": [
        {
         "marker": {
          "color": "rgba(255, 153, 51, 0.6)",
          "line": {
           "color": "rgba(255, 153, 51, 1.0)",
           "width": 1
          }
         },
         "name": "None",
         "orientation": "v",
         "text": "",
         "type": "bar",
         "x": [
          "A",
          "B",
          "C",
          "D"
         ],
         "y": [
          -2.0719084233571285,
          -7.012489709869406,
          -1.525956091513441,
          -15.965221933839839
         ]
        }
       ],
       "layout": {
        "legend": {
         "bgcolor": "#F5F6F9",
         "font": {
          "color": "#4D5663"
         }
        },
        "paper_bgcolor": "#F5F6F9",
        "plot_bgcolor": "#F5F6F9",
        "template": {
         "data": {
          "bar": [
           {
            "error_x": {
             "color": "#2a3f5f"
            },
            "error_y": {
             "color": "#2a3f5f"
            },
            "marker": {
             "line": {
              "color": "#E5ECF6",
              "width": 0.5
             },
             "pattern": {
              "fillmode": "overlay",
              "size": 10,
              "solidity": 0.2
             }
            },
            "type": "bar"
           }
          ],
          "barpolar": [
           {
            "marker": {
             "line": {
              "color": "#E5ECF6",
              "width": 0.5
             },
             "pattern": {
              "fillmode": "overlay",
              "size": 10,
              "solidity": 0.2
             }
            },
            "type": "barpolar"
           }
          ],
          "carpet": [
           {
            "aaxis": {
             "endlinecolor": "#2a3f5f",
             "gridcolor": "white",
             "linecolor": "white",
             "minorgridcolor": "white",
             "startlinecolor": "#2a3f5f"
            },
            "baxis": {
             "endlinecolor": "#2a3f5f",
             "gridcolor": "white",
             "linecolor": "white",
             "minorgridcolor": "white",
             "startlinecolor": "#2a3f5f"
            },
            "type": "carpet"
           }
          ],
          "choropleth": [
           {
            "colorbar": {
             "outlinewidth": 0,
             "ticks": ""
            },
            "type": "choropleth"
           }
          ],
          "contour": [
           {
            "colorbar": {
             "outlinewidth": 0,
             "ticks": ""
            },
            "colorscale": [
             [
              0,
              "#0d0887"
             ],
             [
              0.1111111111111111,
              "#46039f"
             ],
             [
              0.2222222222222222,
              "#7201a8"
             ],
             [
              0.3333333333333333,
              "#9c179e"
             ],
             [
              0.4444444444444444,
              "#bd3786"
             ],
             [
              0.5555555555555556,
              "#d8576b"
             ],
             [
              0.6666666666666666,
              "#ed7953"
             ],
             [
              0.7777777777777778,
              "#fb9f3a"
             ],
             [
              0.8888888888888888,
              "#fdca26"
             ],
             [
              1,
              "#f0f921"
             ]
            ],
            "type": "contour"
           }
          ],
          "contourcarpet": [
           {
            "colorbar": {
             "outlinewidth": 0,
             "ticks": ""
            },
            "type": "contourcarpet"
           }
          ],
          "heatmap": [
           {
            "colorbar": {
             "outlinewidth": 0,
             "ticks": ""
            },
            "colorscale": [
             [
              0,
              "#0d0887"
             ],
             [
              0.1111111111111111,
              "#46039f"
             ],
             [
              0.2222222222222222,
              "#7201a8"
             ],
             [
              0.3333333333333333,
              "#9c179e"
             ],
             [
              0.4444444444444444,
              "#bd3786"
             ],
             [
              0.5555555555555556,
              "#d8576b"
             ],
             [
              0.6666666666666666,
              "#ed7953"
             ],
             [
              0.7777777777777778,
              "#fb9f3a"
             ],
             [
              0.8888888888888888,
              "#fdca26"
             ],
             [
              1,
              "#f0f921"
             ]
            ],
            "type": "heatmap"
           }
          ],
          "heatmapgl": [
           {
            "colorbar": {
             "outlinewidth": 0,
             "ticks": ""
            },
            "colorscale": [
             [
              0,
              "#0d0887"
             ],
             [
              0.1111111111111111,
              "#46039f"
             ],
             [
              0.2222222222222222,
              "#7201a8"
             ],
             [
              0.3333333333333333,
              "#9c179e"
             ],
             [
              0.4444444444444444,
              "#bd3786"
             ],
             [
              0.5555555555555556,
              "#d8576b"
             ],
             [
              0.6666666666666666,
              "#ed7953"
             ],
             [
              0.7777777777777778,
              "#fb9f3a"
             ],
             [
              0.8888888888888888,
              "#fdca26"
             ],
             [
              1,
              "#f0f921"
             ]
            ],
            "type": "heatmapgl"
           }
          ],
          "histogram": [
           {
            "marker": {
             "pattern": {
              "fillmode": "overlay",
              "size": 10,
              "solidity": 0.2
             }
            },
            "type": "histogram"
           }
          ],
          "histogram2d": [
           {
            "colorbar": {
             "outlinewidth": 0,
             "ticks": ""
            },
            "colorscale": [
             [
              0,
              "#0d0887"
             ],
             [
              0.1111111111111111,
              "#46039f"
             ],
             [
              0.2222222222222222,
              "#7201a8"
             ],
             [
              0.3333333333333333,
              "#9c179e"
             ],
             [
              0.4444444444444444,
              "#bd3786"
             ],
             [
              0.5555555555555556,
              "#d8576b"
             ],
             [
              0.6666666666666666,
              "#ed7953"
             ],
             [
              0.7777777777777778,
              "#fb9f3a"
             ],
             [
              0.8888888888888888,
              "#fdca26"
             ],
             [
              1,
              "#f0f921"
             ]
            ],
            "type": "histogram2d"
           }
          ],
          "histogram2dcontour": [
           {
            "colorbar": {
             "outlinewidth": 0,
             "ticks": ""
            },
            "colorscale": [
             [
              0,
              "#0d0887"
             ],
             [
              0.1111111111111111,
              "#46039f"
             ],
             [
              0.2222222222222222,
              "#7201a8"
             ],
             [
              0.3333333333333333,
              "#9c179e"
             ],
             [
              0.4444444444444444,
              "#bd3786"
             ],
             [
              0.5555555555555556,
              "#d8576b"
             ],
             [
              0.6666666666666666,
              "#ed7953"
             ],
             [
              0.7777777777777778,
              "#fb9f3a"
             ],
             [
              0.8888888888888888,
              "#fdca26"
             ],
             [
              1,
              "#f0f921"
             ]
            ],
            "type": "histogram2dcontour"
           }
          ],
          "mesh3d": [
           {
            "colorbar": {
             "outlinewidth": 0,
             "ticks": ""
            },
            "type": "mesh3d"
           }
          ],
          "parcoords": [
           {
            "line": {
             "colorbar": {
              "outlinewidth": 0,
              "ticks": ""
             }
            },
            "type": "parcoords"
           }
          ],
          "pie": [
           {
            "automargin": true,
            "type": "pie"
           }
          ],
          "scatter": [
           {
            "marker": {
             "colorbar": {
              "outlinewidth": 0,
              "ticks": ""
             }
            },
            "type": "scatter"
           }
          ],
          "scatter3d": [
           {
            "line": {
             "colorbar": {
              "outlinewidth": 0,
              "ticks": ""
             }
            },
            "marker": {
             "colorbar": {
              "outlinewidth": 0,
              "ticks": ""
             }
            },
            "type": "scatter3d"
           }
          ],
          "scattercarpet": [
           {
            "marker": {
             "colorbar": {
              "outlinewidth": 0,
              "ticks": ""
             }
            },
            "type": "scattercarpet"
           }
          ],
          "scattergeo": [
           {
            "marker": {
             "colorbar": {
              "outlinewidth": 0,
              "ticks": ""
             }
            },
            "type": "scattergeo"
           }
          ],
          "scattergl": [
           {
            "marker": {
             "colorbar": {
              "outlinewidth": 0,
              "ticks": ""
             }
            },
            "type": "scattergl"
           }
          ],
          "scattermapbox": [
           {
            "marker": {
             "colorbar": {
              "outlinewidth": 0,
              "ticks": ""
             }
            },
            "type": "scattermapbox"
           }
          ],
          "scatterpolar": [
           {
            "marker": {
             "colorbar": {
              "outlinewidth": 0,
              "ticks": ""
             }
            },
            "type": "scatterpolar"
           }
          ],
          "scatterpolargl": [
           {
            "marker": {
             "colorbar": {
              "outlinewidth": 0,
              "ticks": ""
             }
            },
            "type": "scatterpolargl"
           }
          ],
          "scatterternary": [
           {
            "marker": {
             "colorbar": {
              "outlinewidth": 0,
              "ticks": ""
             }
            },
            "type": "scatterternary"
           }
          ],
          "surface": [
           {
            "colorbar": {
             "outlinewidth": 0,
             "ticks": ""
            },
            "colorscale": [
             [
              0,
              "#0d0887"
             ],
             [
              0.1111111111111111,
              "#46039f"
             ],
             [
              0.2222222222222222,
              "#7201a8"
             ],
             [
              0.3333333333333333,
              "#9c179e"
             ],
             [
              0.4444444444444444,
              "#bd3786"
             ],
             [
              0.5555555555555556,
              "#d8576b"
             ],
             [
              0.6666666666666666,
              "#ed7953"
             ],
             [
              0.7777777777777778,
              "#fb9f3a"
             ],
             [
              0.8888888888888888,
              "#fdca26"
             ],
             [
              1,
              "#f0f921"
             ]
            ],
            "type": "surface"
           }
          ],
          "table": [
           {
            "cells": {
             "fill": {
              "color": "#EBF0F8"
             },
             "line": {
              "color": "white"
             }
            },
            "header": {
             "fill": {
              "color": "#C8D4E3"
             },
             "line": {
              "color": "white"
             }
            },
            "type": "table"
           }
          ]
         },
         "layout": {
          "annotationdefaults": {
           "arrowcolor": "#2a3f5f",
           "arrowhead": 0,
           "arrowwidth": 1
          },
          "autotypenumbers": "strict",
          "coloraxis": {
           "colorbar": {
            "outlinewidth": 0,
            "ticks": ""
           }
          },
          "colorscale": {
           "diverging": [
            [
             0,
             "#8e0152"
            ],
            [
             0.1,
             "#c51b7d"
            ],
            [
             0.2,
             "#de77ae"
            ],
            [
             0.3,
             "#f1b6da"
            ],
            [
             0.4,
             "#fde0ef"
            ],
            [
             0.5,
             "#f7f7f7"
            ],
            [
             0.6,
             "#e6f5d0"
            ],
            [
             0.7,
             "#b8e186"
            ],
            [
             0.8,
             "#7fbc41"
            ],
            [
             0.9,
             "#4d9221"
            ],
            [
             1,
             "#276419"
            ]
           ],
           "sequential": [
            [
             0,
             "#0d0887"
            ],
            [
             0.1111111111111111,
             "#46039f"
            ],
            [
             0.2222222222222222,
             "#7201a8"
            ],
            [
             0.3333333333333333,
             "#9c179e"
            ],
            [
             0.4444444444444444,
             "#bd3786"
            ],
            [
             0.5555555555555556,
             "#d8576b"
            ],
            [
             0.6666666666666666,
             "#ed7953"
            ],
            [
             0.7777777777777778,
             "#fb9f3a"
            ],
            [
             0.8888888888888888,
             "#fdca26"
            ],
            [
             1,
             "#f0f921"
            ]
           ],
           "sequentialminus": [
            [
             0,
             "#0d0887"
            ],
            [
             0.1111111111111111,
             "#46039f"
            ],
            [
             0.2222222222222222,
             "#7201a8"
            ],
            [
             0.3333333333333333,
             "#9c179e"
            ],
            [
             0.4444444444444444,
             "#bd3786"
            ],
            [
             0.5555555555555556,
             "#d8576b"
            ],
            [
             0.6666666666666666,
             "#ed7953"
            ],
            [
             0.7777777777777778,
             "#fb9f3a"
            ],
            [
             0.8888888888888888,
             "#fdca26"
            ],
            [
             1,
             "#f0f921"
            ]
           ]
          },
          "colorway": [
           "#636efa",
           "#EF553B",
           "#00cc96",
           "#ab63fa",
           "#FFA15A",
           "#19d3f3",
           "#FF6692",
           "#B6E880",
           "#FF97FF",
           "#FECB52"
          ],
          "font": {
           "color": "#2a3f5f"
          },
          "geo": {
           "bgcolor": "white",
           "lakecolor": "white",
           "landcolor": "#E5ECF6",
           "showlakes": true,
           "showland": true,
           "subunitcolor": "white"
          },
          "hoverlabel": {
           "align": "left"
          },
          "hovermode": "closest",
          "mapbox": {
           "style": "light"
          },
          "paper_bgcolor": "white",
          "plot_bgcolor": "#E5ECF6",
          "polar": {
           "angularaxis": {
            "gridcolor": "white",
            "linecolor": "white",
            "ticks": ""
           },
           "bgcolor": "#E5ECF6",
           "radialaxis": {
            "gridcolor": "white",
            "linecolor": "white",
            "ticks": ""
           }
          },
          "scene": {
           "xaxis": {
            "backgroundcolor": "#E5ECF6",
            "gridcolor": "white",
            "gridwidth": 2,
            "linecolor": "white",
            "showbackground": true,
            "ticks": "",
            "zerolinecolor": "white"
           },
           "yaxis": {
            "backgroundcolor": "#E5ECF6",
            "gridcolor": "white",
            "gridwidth": 2,
            "linecolor": "white",
            "showbackground": true,
            "ticks": "",
            "zerolinecolor": "white"
           },
           "zaxis": {
            "backgroundcolor": "#E5ECF6",
            "gridcolor": "white",
            "gridwidth": 2,
            "linecolor": "white",
            "showbackground": true,
            "ticks": "",
            "zerolinecolor": "white"
           }
          },
          "shapedefaults": {
           "line": {
            "color": "#2a3f5f"
           }
          },
          "ternary": {
           "aaxis": {
            "gridcolor": "white",
            "linecolor": "white",
            "ticks": ""
           },
           "baxis": {
            "gridcolor": "white",
            "linecolor": "white",
            "ticks": ""
           },
           "bgcolor": "#E5ECF6",
           "caxis": {
            "gridcolor": "white",
            "linecolor": "white",
            "ticks": ""
           }
          },
          "title": {
           "x": 0.05
          },
          "xaxis": {
           "automargin": true,
           "gridcolor": "white",
           "linecolor": "white",
           "ticks": "",
           "title": {
            "standoff": 15
           },
           "zerolinecolor": "white",
           "zerolinewidth": 2
          },
          "yaxis": {
           "automargin": true,
           "gridcolor": "white",
           "linecolor": "white",
           "ticks": "",
           "title": {
            "standoff": 15
           },
           "zerolinecolor": "white",
           "zerolinewidth": 2
          }
         }
        },
        "title": {
         "font": {
          "color": "#4D5663"
         }
        },
        "xaxis": {
         "gridcolor": "#E1E5ED",
         "showgrid": true,
         "tickfont": {
          "color": "#4D5663"
         },
         "title": {
          "font": {
           "color": "#4D5663"
          },
          "text": ""
         },
         "zerolinecolor": "#E1E5ED"
        },
        "yaxis": {
         "gridcolor": "#E1E5ED",
         "showgrid": true,
         "tickfont": {
          "color": "#4D5663"
         },
         "title": {
          "font": {
           "color": "#4D5663"
          },
          "text": ""
         },
         "zerolinecolor": "#E1E5ED"
        }
       }
      },
      "text/html": [
       "<div>                            <div id=\"a054405c-e63c-467f-8372-e54a524f0b63\" class=\"plotly-graph-div\" style=\"height:525px; width:100%;\"></div>            <script type=\"text/javascript\">                require([\"plotly\"], function(Plotly) {                    window.PLOTLYENV=window.PLOTLYENV || {};\n",
       "                    window.PLOTLYENV.BASE_URL='https://plot.ly';                                    if (document.getElementById(\"a054405c-e63c-467f-8372-e54a524f0b63\")) {                    Plotly.newPlot(                        \"a054405c-e63c-467f-8372-e54a524f0b63\",                        [{\"marker\":{\"color\":\"rgba(255, 153, 51, 0.6)\",\"line\":{\"color\":\"rgba(255, 153, 51, 1.0)\",\"width\":1}},\"name\":\"None\",\"orientation\":\"v\",\"text\":\"\",\"x\":[\"A\",\"B\",\"C\",\"D\"],\"y\":[-2.0719084233571285,-7.012489709869406,-1.525956091513441,-15.965221933839839],\"type\":\"bar\"}],                        {\"legend\":{\"bgcolor\":\"#F5F6F9\",\"font\":{\"color\":\"#4D5663\"}},\"paper_bgcolor\":\"#F5F6F9\",\"plot_bgcolor\":\"#F5F6F9\",\"template\":{\"data\":{\"barpolar\":[{\"marker\":{\"line\":{\"color\":\"#E5ECF6\",\"width\":0.5},\"pattern\":{\"fillmode\":\"overlay\",\"size\":10,\"solidity\":0.2}},\"type\":\"barpolar\"}],\"bar\":[{\"error_x\":{\"color\":\"#2a3f5f\"},\"error_y\":{\"color\":\"#2a3f5f\"},\"marker\":{\"line\":{\"color\":\"#E5ECF6\",\"width\":0.5},\"pattern\":{\"fillmode\":\"overlay\",\"size\":10,\"solidity\":0.2}},\"type\":\"bar\"}],\"carpet\":[{\"aaxis\":{\"endlinecolor\":\"#2a3f5f\",\"gridcolor\":\"white\",\"linecolor\":\"white\",\"minorgridcolor\":\"white\",\"startlinecolor\":\"#2a3f5f\"},\"baxis\":{\"endlinecolor\":\"#2a3f5f\",\"gridcolor\":\"white\",\"linecolor\":\"white\",\"minorgridcolor\":\"white\",\"startlinecolor\":\"#2a3f5f\"},\"type\":\"carpet\"}],\"choropleth\":[{\"colorbar\":{\"outlinewidth\":0,\"ticks\":\"\"},\"type\":\"choropleth\"}],\"contourcarpet\":[{\"colorbar\":{\"outlinewidth\":0,\"ticks\":\"\"},\"type\":\"contourcarpet\"}],\"contour\":[{\"colorbar\":{\"outlinewidth\":0,\"ticks\":\"\"},\"colorscale\":[[0.0,\"#0d0887\"],[0.1111111111111111,\"#46039f\"],[0.2222222222222222,\"#7201a8\"],[0.3333333333333333,\"#9c179e\"],[0.4444444444444444,\"#bd3786\"],[0.5555555555555556,\"#d8576b\"],[0.6666666666666666,\"#ed7953\"],[0.7777777777777778,\"#fb9f3a\"],[0.8888888888888888,\"#fdca26\"],[1.0,\"#f0f921\"]],\"type\":\"contour\"}],\"heatmapgl\":[{\"colorbar\":{\"outlinewidth\":0,\"ticks\":\"\"},\"colorscale\":[[0.0,\"#0d0887\"],[0.1111111111111111,\"#46039f\"],[0.2222222222222222,\"#7201a8\"],[0.3333333333333333,\"#9c179e\"],[0.4444444444444444,\"#bd3786\"],[0.5555555555555556,\"#d8576b\"],[0.6666666666666666,\"#ed7953\"],[0.7777777777777778,\"#fb9f3a\"],[0.8888888888888888,\"#fdca26\"],[1.0,\"#f0f921\"]],\"type\":\"heatmapgl\"}],\"heatmap\":[{\"colorbar\":{\"outlinewidth\":0,\"ticks\":\"\"},\"colorscale\":[[0.0,\"#0d0887\"],[0.1111111111111111,\"#46039f\"],[0.2222222222222222,\"#7201a8\"],[0.3333333333333333,\"#9c179e\"],[0.4444444444444444,\"#bd3786\"],[0.5555555555555556,\"#d8576b\"],[0.6666666666666666,\"#ed7953\"],[0.7777777777777778,\"#fb9f3a\"],[0.8888888888888888,\"#fdca26\"],[1.0,\"#f0f921\"]],\"type\":\"heatmap\"}],\"histogram2dcontour\":[{\"colorbar\":{\"outlinewidth\":0,\"ticks\":\"\"},\"colorscale\":[[0.0,\"#0d0887\"],[0.1111111111111111,\"#46039f\"],[0.2222222222222222,\"#7201a8\"],[0.3333333333333333,\"#9c179e\"],[0.4444444444444444,\"#bd3786\"],[0.5555555555555556,\"#d8576b\"],[0.6666666666666666,\"#ed7953\"],[0.7777777777777778,\"#fb9f3a\"],[0.8888888888888888,\"#fdca26\"],[1.0,\"#f0f921\"]],\"type\":\"histogram2dcontour\"}],\"histogram2d\":[{\"colorbar\":{\"outlinewidth\":0,\"ticks\":\"\"},\"colorscale\":[[0.0,\"#0d0887\"],[0.1111111111111111,\"#46039f\"],[0.2222222222222222,\"#7201a8\"],[0.3333333333333333,\"#9c179e\"],[0.4444444444444444,\"#bd3786\"],[0.5555555555555556,\"#d8576b\"],[0.6666666666666666,\"#ed7953\"],[0.7777777777777778,\"#fb9f3a\"],[0.8888888888888888,\"#fdca26\"],[1.0,\"#f0f921\"]],\"type\":\"histogram2d\"}],\"histogram\":[{\"marker\":{\"pattern\":{\"fillmode\":\"overlay\",\"size\":10,\"solidity\":0.2}},\"type\":\"histogram\"}],\"mesh3d\":[{\"colorbar\":{\"outlinewidth\":0,\"ticks\":\"\"},\"type\":\"mesh3d\"}],\"parcoords\":[{\"line\":{\"colorbar\":{\"outlinewidth\":0,\"ticks\":\"\"}},\"type\":\"parcoords\"}],\"pie\":[{\"automargin\":true,\"type\":\"pie\"}],\"scatter3d\":[{\"line\":{\"colorbar\":{\"outlinewidth\":0,\"ticks\":\"\"}},\"marker\":{\"colorbar\":{\"outlinewidth\":0,\"ticks\":\"\"}},\"type\":\"scatter3d\"}],\"scattercarpet\":[{\"marker\":{\"colorbar\":{\"outlinewidth\":0,\"ticks\":\"\"}},\"type\":\"scattercarpet\"}],\"scattergeo\":[{\"marker\":{\"colorbar\":{\"outlinewidth\":0,\"ticks\":\"\"}},\"type\":\"scattergeo\"}],\"scattergl\":[{\"marker\":{\"colorbar\":{\"outlinewidth\":0,\"ticks\":\"\"}},\"type\":\"scattergl\"}],\"scattermapbox\":[{\"marker\":{\"colorbar\":{\"outlinewidth\":0,\"ticks\":\"\"}},\"type\":\"scattermapbox\"}],\"scatterpolargl\":[{\"marker\":{\"colorbar\":{\"outlinewidth\":0,\"ticks\":\"\"}},\"type\":\"scatterpolargl\"}],\"scatterpolar\":[{\"marker\":{\"colorbar\":{\"outlinewidth\":0,\"ticks\":\"\"}},\"type\":\"scatterpolar\"}],\"scatter\":[{\"marker\":{\"colorbar\":{\"outlinewidth\":0,\"ticks\":\"\"}},\"type\":\"scatter\"}],\"scatterternary\":[{\"marker\":{\"colorbar\":{\"outlinewidth\":0,\"ticks\":\"\"}},\"type\":\"scatterternary\"}],\"surface\":[{\"colorbar\":{\"outlinewidth\":0,\"ticks\":\"\"},\"colorscale\":[[0.0,\"#0d0887\"],[0.1111111111111111,\"#46039f\"],[0.2222222222222222,\"#7201a8\"],[0.3333333333333333,\"#9c179e\"],[0.4444444444444444,\"#bd3786\"],[0.5555555555555556,\"#d8576b\"],[0.6666666666666666,\"#ed7953\"],[0.7777777777777778,\"#fb9f3a\"],[0.8888888888888888,\"#fdca26\"],[1.0,\"#f0f921\"]],\"type\":\"surface\"}],\"table\":[{\"cells\":{\"fill\":{\"color\":\"#EBF0F8\"},\"line\":{\"color\":\"white\"}},\"header\":{\"fill\":{\"color\":\"#C8D4E3\"},\"line\":{\"color\":\"white\"}},\"type\":\"table\"}]},\"layout\":{\"annotationdefaults\":{\"arrowcolor\":\"#2a3f5f\",\"arrowhead\":0,\"arrowwidth\":1},\"autotypenumbers\":\"strict\",\"coloraxis\":{\"colorbar\":{\"outlinewidth\":0,\"ticks\":\"\"}},\"colorscale\":{\"diverging\":[[0,\"#8e0152\"],[0.1,\"#c51b7d\"],[0.2,\"#de77ae\"],[0.3,\"#f1b6da\"],[0.4,\"#fde0ef\"],[0.5,\"#f7f7f7\"],[0.6,\"#e6f5d0\"],[0.7,\"#b8e186\"],[0.8,\"#7fbc41\"],[0.9,\"#4d9221\"],[1,\"#276419\"]],\"sequential\":[[0.0,\"#0d0887\"],[0.1111111111111111,\"#46039f\"],[0.2222222222222222,\"#7201a8\"],[0.3333333333333333,\"#9c179e\"],[0.4444444444444444,\"#bd3786\"],[0.5555555555555556,\"#d8576b\"],[0.6666666666666666,\"#ed7953\"],[0.7777777777777778,\"#fb9f3a\"],[0.8888888888888888,\"#fdca26\"],[1.0,\"#f0f921\"]],\"sequentialminus\":[[0.0,\"#0d0887\"],[0.1111111111111111,\"#46039f\"],[0.2222222222222222,\"#7201a8\"],[0.3333333333333333,\"#9c179e\"],[0.4444444444444444,\"#bd3786\"],[0.5555555555555556,\"#d8576b\"],[0.6666666666666666,\"#ed7953\"],[0.7777777777777778,\"#fb9f3a\"],[0.8888888888888888,\"#fdca26\"],[1.0,\"#f0f921\"]]},\"colorway\":[\"#636efa\",\"#EF553B\",\"#00cc96\",\"#ab63fa\",\"#FFA15A\",\"#19d3f3\",\"#FF6692\",\"#B6E880\",\"#FF97FF\",\"#FECB52\"],\"font\":{\"color\":\"#2a3f5f\"},\"geo\":{\"bgcolor\":\"white\",\"lakecolor\":\"white\",\"landcolor\":\"#E5ECF6\",\"showlakes\":true,\"showland\":true,\"subunitcolor\":\"white\"},\"hoverlabel\":{\"align\":\"left\"},\"hovermode\":\"closest\",\"mapbox\":{\"style\":\"light\"},\"paper_bgcolor\":\"white\",\"plot_bgcolor\":\"#E5ECF6\",\"polar\":{\"angularaxis\":{\"gridcolor\":\"white\",\"linecolor\":\"white\",\"ticks\":\"\"},\"bgcolor\":\"#E5ECF6\",\"radialaxis\":{\"gridcolor\":\"white\",\"linecolor\":\"white\",\"ticks\":\"\"}},\"scene\":{\"xaxis\":{\"backgroundcolor\":\"#E5ECF6\",\"gridcolor\":\"white\",\"gridwidth\":2,\"linecolor\":\"white\",\"showbackground\":true,\"ticks\":\"\",\"zerolinecolor\":\"white\"},\"yaxis\":{\"backgroundcolor\":\"#E5ECF6\",\"gridcolor\":\"white\",\"gridwidth\":2,\"linecolor\":\"white\",\"showbackground\":true,\"ticks\":\"\",\"zerolinecolor\":\"white\"},\"zaxis\":{\"backgroundcolor\":\"#E5ECF6\",\"gridcolor\":\"white\",\"gridwidth\":2,\"linecolor\":\"white\",\"showbackground\":true,\"ticks\":\"\",\"zerolinecolor\":\"white\"}},\"shapedefaults\":{\"line\":{\"color\":\"#2a3f5f\"}},\"ternary\":{\"aaxis\":{\"gridcolor\":\"white\",\"linecolor\":\"white\",\"ticks\":\"\"},\"baxis\":{\"gridcolor\":\"white\",\"linecolor\":\"white\",\"ticks\":\"\"},\"bgcolor\":\"#E5ECF6\",\"caxis\":{\"gridcolor\":\"white\",\"linecolor\":\"white\",\"ticks\":\"\"}},\"title\":{\"x\":0.05},\"xaxis\":{\"automargin\":true,\"gridcolor\":\"white\",\"linecolor\":\"white\",\"ticks\":\"\",\"title\":{\"standoff\":15},\"zerolinecolor\":\"white\",\"zerolinewidth\":2},\"yaxis\":{\"automargin\":true,\"gridcolor\":\"white\",\"linecolor\":\"white\",\"ticks\":\"\",\"title\":{\"standoff\":15},\"zerolinecolor\":\"white\",\"zerolinewidth\":2}}},\"title\":{\"font\":{\"color\":\"#4D5663\"}},\"xaxis\":{\"gridcolor\":\"#E1E5ED\",\"showgrid\":true,\"tickfont\":{\"color\":\"#4D5663\"},\"title\":{\"font\":{\"color\":\"#4D5663\"},\"text\":\"\"},\"zerolinecolor\":\"#E1E5ED\"},\"yaxis\":{\"gridcolor\":\"#E1E5ED\",\"showgrid\":true,\"tickfont\":{\"color\":\"#4D5663\"},\"title\":{\"font\":{\"color\":\"#4D5663\"},\"text\":\"\"},\"zerolinecolor\":\"#E1E5ED\"}},                        {\"showLink\": true, \"linkText\": \"Export to plot.ly\", \"plotlyServerURL\": \"https://plot.ly\", \"responsive\": true}                    ).then(function(){\n",
       "                            \n",
       "var gd = document.getElementById('a054405c-e63c-467f-8372-e54a524f0b63');\n",
       "var x = new MutationObserver(function (mutations, observer) {{\n",
       "        var display = window.getComputedStyle(gd).display;\n",
       "        if (!display || display === 'none') {{\n",
       "            console.log([gd, 'removed!']);\n",
       "            Plotly.purge(gd);\n",
       "            observer.disconnect();\n",
       "        }}\n",
       "}});\n",
       "\n",
       "// Listen for the removal of the full notebook cells\n",
       "var notebookContainer = gd.closest('#notebook-container');\n",
       "if (notebookContainer) {{\n",
       "    x.observe(notebookContainer, {childList: true});\n",
       "}}\n",
       "\n",
       "// Listen for the clearing of the current output cell\n",
       "var outputEl = gd.closest('.output');\n",
       "if (outputEl) {{\n",
       "    x.observe(outputEl, {childList: true});\n",
       "}}\n",
       "\n",
       "                        })                };                });            </script>        </div>"
      ]
     },
     "metadata": {},
     "output_type": "display_data"
    }
   ],
   "source": [
    "df.sum().iplot(kind = 'bar')"
   ]
  },
  {
   "cell_type": "code",
   "execution_count": 32,
   "id": "3498f8b4",
   "metadata": {},
   "outputs": [
    {
     "data": {
      "text/html": [
       "<div>\n",
       "<style scoped>\n",
       "    .dataframe tbody tr th:only-of-type {\n",
       "        vertical-align: middle;\n",
       "    }\n",
       "\n",
       "    .dataframe tbody tr th {\n",
       "        vertical-align: top;\n",
       "    }\n",
       "\n",
       "    .dataframe thead th {\n",
       "        text-align: right;\n",
       "    }\n",
       "</style>\n",
       "<table border=\"1\" class=\"dataframe\">\n",
       "  <thead>\n",
       "    <tr style=\"text-align: right;\">\n",
       "      <th></th>\n",
       "      <th>A</th>\n",
       "      <th>B</th>\n",
       "      <th>C</th>\n",
       "      <th>D</th>\n",
       "    </tr>\n",
       "  </thead>\n",
       "  <tbody>\n",
       "    <tr>\n",
       "      <th>0</th>\n",
       "      <td>-0.804532</td>\n",
       "      <td>1.380855</td>\n",
       "      <td>-1.870888</td>\n",
       "      <td>-0.624313</td>\n",
       "    </tr>\n",
       "    <tr>\n",
       "      <th>1</th>\n",
       "      <td>-0.785751</td>\n",
       "      <td>0.119385</td>\n",
       "      <td>0.044258</td>\n",
       "      <td>-1.174055</td>\n",
       "    </tr>\n",
       "    <tr>\n",
       "      <th>2</th>\n",
       "      <td>0.394307</td>\n",
       "      <td>-1.314353</td>\n",
       "      <td>2.231810</td>\n",
       "      <td>0.038461</td>\n",
       "    </tr>\n",
       "    <tr>\n",
       "      <th>3</th>\n",
       "      <td>0.040155</td>\n",
       "      <td>0.640681</td>\n",
       "      <td>-0.193216</td>\n",
       "      <td>1.473545</td>\n",
       "    </tr>\n",
       "    <tr>\n",
       "      <th>4</th>\n",
       "      <td>-1.732242</td>\n",
       "      <td>0.459016</td>\n",
       "      <td>-0.349514</td>\n",
       "      <td>-0.952166</td>\n",
       "    </tr>\n",
       "    <tr>\n",
       "      <th>...</th>\n",
       "      <td>...</td>\n",
       "      <td>...</td>\n",
       "      <td>...</td>\n",
       "      <td>...</td>\n",
       "    </tr>\n",
       "    <tr>\n",
       "      <th>95</th>\n",
       "      <td>-0.205326</td>\n",
       "      <td>-0.065838</td>\n",
       "      <td>0.201280</td>\n",
       "      <td>1.963945</td>\n",
       "    </tr>\n",
       "    <tr>\n",
       "      <th>96</th>\n",
       "      <td>-0.258310</td>\n",
       "      <td>0.537918</td>\n",
       "      <td>0.016184</td>\n",
       "      <td>1.534690</td>\n",
       "    </tr>\n",
       "    <tr>\n",
       "      <th>97</th>\n",
       "      <td>-2.096019</td>\n",
       "      <td>0.282044</td>\n",
       "      <td>-0.420584</td>\n",
       "      <td>0.596618</td>\n",
       "    </tr>\n",
       "    <tr>\n",
       "      <th>98</th>\n",
       "      <td>0.226631</td>\n",
       "      <td>-1.045704</td>\n",
       "      <td>-1.331435</td>\n",
       "      <td>-0.334418</td>\n",
       "    </tr>\n",
       "    <tr>\n",
       "      <th>99</th>\n",
       "      <td>-1.499549</td>\n",
       "      <td>0.083768</td>\n",
       "      <td>1.307938</td>\n",
       "      <td>-0.642606</td>\n",
       "    </tr>\n",
       "  </tbody>\n",
       "</table>\n",
       "<p>100 rows × 4 columns</p>\n",
       "</div>"
      ],
      "text/plain": [
       "           A         B         C         D\n",
       "0  -0.804532  1.380855 -1.870888 -0.624313\n",
       "1  -0.785751  0.119385  0.044258 -1.174055\n",
       "2   0.394307 -1.314353  2.231810  0.038461\n",
       "3   0.040155  0.640681 -0.193216  1.473545\n",
       "4  -1.732242  0.459016 -0.349514 -0.952166\n",
       "..       ...       ...       ...       ...\n",
       "95 -0.205326 -0.065838  0.201280  1.963945\n",
       "96 -0.258310  0.537918  0.016184  1.534690\n",
       "97 -2.096019  0.282044 -0.420584  0.596618\n",
       "98  0.226631 -1.045704 -1.331435 -0.334418\n",
       "99 -1.499549  0.083768  1.307938 -0.642606\n",
       "\n",
       "[100 rows x 4 columns]"
      ]
     },
     "execution_count": 32,
     "metadata": {},
     "output_type": "execute_result"
    }
   ],
   "source": [
    "df"
   ]
  },
  {
   "cell_type": "code",
   "execution_count": 33,
   "id": "a3c8d0f1",
   "metadata": {},
   "outputs": [
    {
     "data": {
      "application/vnd.plotly.v1+json": {
       "config": {
        "linkText": "Export to plot.ly",
        "plotlyServerURL": "https://plot.ly",
        "showLink": true
       },
       "data": [
        {
         "boxpoints": false,
         "line": {
          "width": 1.3
         },
         "marker": {
          "color": "rgba(255, 153, 51, 1.0)"
         },
         "name": "A",
         "orientation": "v",
         "type": "box",
         "y": [
          -0.8045319692756239,
          -0.7857508741343778,
          0.39430716210118383,
          0.040154756846361016,
          -1.7322422804433464,
          0.23192449486695912,
          -0.6018949797227127,
          -0.26289401276907864,
          0.05250827501417779,
          1.3215808600707148,
          -0.3415752045912305,
          0.9123430324087752,
          -0.11882811971741239,
          -1.277598509738442,
          1.22129685804723,
          -0.9964878457298946,
          2.6620936089218095,
          -0.4803892863051099,
          -1.4490068334874833,
          -0.5458590243929505,
          0.1806089625886417,
          -0.04853061562212352,
          -0.7519138670027183,
          0.9822323510339834,
          1.3217667116892085,
          -0.4078361976983211,
          -0.7433064246907137,
          1.3097970819898321,
          -0.8885546830130938,
          0.08959952426663148,
          0.7613983182603498,
          1.114935205693224,
          -0.26808691289618436,
          -1.179007519613772,
          -0.8212285519866818,
          0.0171376674536935,
          -1.261984800199849,
          0.7540606103836702,
          1.0365981858780862,
          1.0894455868431638,
          1.467140241494887,
          -0.45420815578998514,
          1.4150942894048062,
          -1.0307095952537535,
          -0.8738128032396157,
          0.8499380934853883,
          0.44623467531343414,
          1.1111190821690289,
          1.5931104775281726,
          -0.4229825602717984,
          -0.347724986376733,
          -0.13542680812754604,
          0.3082974882607674,
          -1.8041564241898107,
          -0.01515489581035622,
          1.2123741242554724,
          1.6091967660300068,
          -0.9099405101509571,
          -1.0607387072884853,
          -0.01457523724299721,
          -0.4606327435061816,
          1.353930884874758,
          0.7192866992265134,
          0.35255737217605587,
          0.17943773439695976,
          -0.0008330315647807776,
          0.013257714626296735,
          -0.4853923909661426,
          0.987472645343711,
          -1.2792863154847292,
          -0.1927603830487624,
          -1.248884129883844,
          0.09746544762239337,
          0.205544722884781,
          -1.6106179773906022,
          -1.4962536071793135,
          1.8804432211155748,
          -0.9024008840300444,
          -1.2721816262871173,
          2.1523784705721707,
          -0.9891223749584839,
          -0.966689724244585,
          -1.001881325254751,
          0.09961378114378827,
          -0.6782575216848209,
          0.6993114545806943,
          0.6321315478915533,
          -0.7053759028281684,
          -0.41772962659482143,
          0.3005169214229249,
          0.6704583648794865,
          -0.3618318985451478,
          1.1737851603704852,
          0.24227025716212627,
          1.4015786878545637,
          -0.20532599663298384,
          -0.25831017270764134,
          -2.0960187662439336,
          0.22663058350173887,
          -1.499548991493352
         ]
        },
        {
         "boxpoints": false,
         "line": {
          "width": 1.3
         },
         "marker": {
          "color": "rgba(55, 128, 191, 1.0)"
         },
         "name": "B",
         "orientation": "v",
         "type": "box",
         "y": [
          1.380854838531965,
          0.11938502538426132,
          -1.3143531805255566,
          0.6406812285572712,
          0.45901609373282704,
          0.14365163997084188,
          0.04919209970407182,
          -0.14356601653396417,
          -0.13652030629061812,
          0.705737494583953,
          0.4693637488317349,
          -0.22019440349318015,
          0.023077433512087436,
          1.2240704876175075,
          -0.20295579519226248,
          -0.5507208895965063,
          -0.04503975484391459,
          -1.0716079956340958,
          -0.3498571619930785,
          0.05378116157884617,
          0.1914937961172496,
          -0.8001900502593962,
          -1.8724024669870398,
          -1.155013636557828,
          -0.8728225347049191,
          -0.9491040625196484,
          -0.01307810894809895,
          -1.7416462532512975,
          0.7582038042037499,
          1.0245971841296806,
          2.209354664513985,
          0.27962419638957986,
          -0.3625691399492275,
          -0.37384775610699056,
          -0.09090160784772924,
          -0.963449146450701,
          -0.7980032760865212,
          -0.1365887386905632,
          -0.8236488041076043,
          0.12473376344798781,
          -1.5436042717554994,
          -0.6216132617616013,
          1.6894254983684525,
          0.556296337156448,
          -0.785063041863813,
          2.483960864125458,
          -0.43302859825742124,
          0.8939916753077831,
          1.2096210869953685,
          0.9394848885610718,
          -1.4390417869534922,
          1.1168312594389562,
          -0.5365559556172983,
          1.8492172694897153,
          -0.1362841448844875,
          0.6018566047291094,
          0.6036293584590517,
          1.0888599872211706,
          -0.5537892278737087,
          -1.2571168203364704,
          -0.4422470583484276,
          -0.6044378393263163,
          -1.041592179467776,
          1.5009696060524216,
          -0.9109487853431983,
          2.1787784184384558,
          -1.0579386356798106,
          -1.7000597049686215,
          -1.3445417160500615,
          -1.1784242650767685,
          -0.5223318292191497,
          -1.6418690103787708,
          1.6251438590138476,
          -3.8913039112713124,
          -0.5316779558052692,
          0.3711369956120464,
          0.39400732044115944,
          0.5000893212146826,
          -0.1723379534232298,
          -0.8721395911197579,
          -0.36567250291673475,
          1.5156140766192698,
          2.3623075261343915,
          -1.489554844966301,
          1.6413735284669448,
          -0.0929390528011857,
          -0.714291437029099,
          0.130654739297638,
          1.4599097658828708,
          -0.46420506328524286,
          -1.3247869299650787,
          -1.0332844721276573,
          -0.6378849266767722,
          0.5187408321369664,
          0.4352512593360889,
          -0.06583816090115427,
          0.5379177916772021,
          0.28204406416968447,
          -1.04570445537743,
          0.08376817237639435
         ]
        },
        {
         "boxpoints": false,
         "line": {
          "width": 1.3
         },
         "marker": {
          "color": "rgba(50, 171, 96, 1.0)"
         },
         "name": "C",
         "orientation": "v",
         "type": "box",
         "y": [
          -1.8708875734832748,
          0.04425823550598916,
          2.2318098580876335,
          -0.1932162636185701,
          -0.3495142742950361,
          -0.9363714842063803,
          -0.3751675288083557,
          0.24096398472949992,
          0.7839074733605705,
          -0.948046660123082,
          0.9688924880089168,
          0.29601276029714685,
          -1.3281620746071872,
          1.3444769424008969,
          1.5857319136801458,
          -0.7572298115336303,
          -2.1853912146666983,
          0.5794319393647758,
          0.11438605827806371,
          -0.8174361744556506,
          0.2523687940971506,
          1.4635374612249505,
          0.2514716300708972,
          0.5909474815715231,
          0.5743582936896399,
          0.3404858368078811,
          -0.4907552024656146,
          -0.32078836101622105,
          -0.44800327053016514,
          0.9960774558527737,
          0.22467360416969342,
          2.4529081035546207,
          -0.21787418455794888,
          0.6762498754903966,
          -0.48303381928730993,
          -0.16139780190549755,
          -0.5647919533473379,
          -0.3672292350945552,
          -0.278958867299943,
          -0.07128610183100571,
          -0.0351476668971757,
          0.5375339473571906,
          -0.16054867274784868,
          1.2920755922952918,
          1.667640449645262,
          -0.36020101369593516,
          1.4831194257765556,
          0.16674921176253732,
          -0.5377061661274848,
          -1.4134058793381234,
          -0.47496514727810796,
          0.46973511175391053,
          -0.14771132817389718,
          1.5164803577234145,
          -0.6872851570369064,
          0.3298080343624988,
          -0.9444593815516463,
          0.5566413339925547,
          -1.4670673842371387,
          -0.09040314661128307,
          -0.7681215742517598,
          0.22498077143569414,
          0.27567011144228754,
          -1.7401853989682063,
          0.5830003687822239,
          0.3502144296196838,
          -1.8571529961941577,
          0.1901652524422592,
          -0.12813138347420786,
          -1.1874881142031868,
          -0.06773200120193666,
          -0.5034130203140469,
          -1.7569306963537281,
          0.9954700566699439,
          -0.7377403658835474,
          -1.9608339437686828,
          1.0887725214220043,
          1.1615126132641291,
          -1.3425676644410556,
          1.1731778312031338,
          0.5923121609965328,
          -0.49249661917257426,
          -0.13023345722216656,
          -1.459896361013488,
          0.3545202476999806,
          -1.8383904457936295,
          -0.16943713505500044,
          -0.5132237203127183,
          0.3047428775744405,
          -0.10827793167007603,
          0.3317581955489925,
          0.6011410609751754,
          1.1156955619768716,
          1.0934138206778674,
          0.47807489067700687,
          0.2012802882466331,
          0.01618371786285664,
          -0.4205840724709901,
          -1.3314350933539179,
          1.307938271004548
         ]
        },
        {
         "boxpoints": false,
         "line": {
          "width": 1.3
         },
         "marker": {
          "color": "rgba(128, 0, 128, 1.0)"
         },
         "name": "D",
         "orientation": "v",
         "type": "box",
         "y": [
          -0.6243127375617485,
          -1.1740550580744102,
          0.038460727649453415,
          1.473545397199106,
          -0.9521658151129334,
          -0.4848915430788821,
          0.0675901121034954,
          0.805327552498521,
          -0.3678164673871686,
          -0.9210994094835443,
          0.30050191780807356,
          0.12519393915142765,
          1.137088531812455,
          0.2968333543050542,
          0.9444873258850971,
          0.07407865634529899,
          -0.25029023390720306,
          0.3179564559367161,
          -2.5639417290556357,
          0.230886491505683,
          -0.0888265823761594,
          -0.09021836298835495,
          -1.0771186416949865,
          -0.8594551656352457,
          -0.10386030844563789,
          -0.5953859982931564,
          -2.1793723497553326,
          0.11283882512550318,
          -0.5749599969041304,
          -1.1233656099056193,
          2.1314646206198327,
          -1.653124713992959,
          -1.7960268785121087,
          -0.1393410261146086,
          -0.539714578867005,
          0.5856794701890018,
          -0.2071207922317129,
          -0.6972380495463055,
          -1.4852391624389962,
          -0.6132944048119481,
          1.3420483036377386,
          -1.5755224816993758,
          0.2743879523680005,
          -0.4464672218318962,
          -3.378295994805631,
          -0.6707301853353952,
          -0.7587263078274006,
          -0.27706990266371545,
          -0.8225006505775436,
          0.2503955509660361,
          0.038810602206067676,
          -1.0879790827177869,
          -0.5147650195142758,
          0.056920826723514194,
          -0.455853480689292,
          -0.37650380217157314,
          0.8415793821045491,
          0.09174178210241361,
          1.6341077538875552,
          -0.6868086957169546,
          1.2819199478532186,
          -1.182394428328359,
          -0.636493609887241,
          0.4836901410780605,
          -1.7703504544405102,
          -2.170912133455119,
          -0.0822348997199209,
          -1.1309071842819234,
          -0.5383595119236265,
          -0.014834978292038978,
          -0.6162582558907989,
          -0.6883800257753223,
          0.8954912080936425,
          0.9037166248628814,
          1.1873894608157394,
          -0.6123584271721806,
          -1.422847869128479,
          2.3106182679204,
          -0.7881045889309072,
          0.03242724161322168,
          -1.541884412644934,
          -0.9388412359867381,
          -0.5529495445987058,
          0.6732988001879391,
          -0.5893911620958981,
          2.579973066211168,
          -0.3185865876642497,
          0.5761037296869645,
          1.5547217694290791,
          0.3041990392389531,
          0.9716870695179999,
          0.3940485816680812,
          -0.6403195185889015,
          1.0750979233256113,
          0.970106939826967,
          1.9639453540327028,
          1.5346904677398219,
          0.5966181882134294,
          -0.33441777490768804,
          -0.6426062418461276
         ]
        }
       ],
       "layout": {
        "legend": {
         "bgcolor": "#F5F6F9",
         "font": {
          "color": "#4D5663"
         }
        },
        "paper_bgcolor": "#F5F6F9",
        "plot_bgcolor": "#F5F6F9",
        "template": {
         "data": {
          "bar": [
           {
            "error_x": {
             "color": "#2a3f5f"
            },
            "error_y": {
             "color": "#2a3f5f"
            },
            "marker": {
             "line": {
              "color": "#E5ECF6",
              "width": 0.5
             },
             "pattern": {
              "fillmode": "overlay",
              "size": 10,
              "solidity": 0.2
             }
            },
            "type": "bar"
           }
          ],
          "barpolar": [
           {
            "marker": {
             "line": {
              "color": "#E5ECF6",
              "width": 0.5
             },
             "pattern": {
              "fillmode": "overlay",
              "size": 10,
              "solidity": 0.2
             }
            },
            "type": "barpolar"
           }
          ],
          "carpet": [
           {
            "aaxis": {
             "endlinecolor": "#2a3f5f",
             "gridcolor": "white",
             "linecolor": "white",
             "minorgridcolor": "white",
             "startlinecolor": "#2a3f5f"
            },
            "baxis": {
             "endlinecolor": "#2a3f5f",
             "gridcolor": "white",
             "linecolor": "white",
             "minorgridcolor": "white",
             "startlinecolor": "#2a3f5f"
            },
            "type": "carpet"
           }
          ],
          "choropleth": [
           {
            "colorbar": {
             "outlinewidth": 0,
             "ticks": ""
            },
            "type": "choropleth"
           }
          ],
          "contour": [
           {
            "colorbar": {
             "outlinewidth": 0,
             "ticks": ""
            },
            "colorscale": [
             [
              0,
              "#0d0887"
             ],
             [
              0.1111111111111111,
              "#46039f"
             ],
             [
              0.2222222222222222,
              "#7201a8"
             ],
             [
              0.3333333333333333,
              "#9c179e"
             ],
             [
              0.4444444444444444,
              "#bd3786"
             ],
             [
              0.5555555555555556,
              "#d8576b"
             ],
             [
              0.6666666666666666,
              "#ed7953"
             ],
             [
              0.7777777777777778,
              "#fb9f3a"
             ],
             [
              0.8888888888888888,
              "#fdca26"
             ],
             [
              1,
              "#f0f921"
             ]
            ],
            "type": "contour"
           }
          ],
          "contourcarpet": [
           {
            "colorbar": {
             "outlinewidth": 0,
             "ticks": ""
            },
            "type": "contourcarpet"
           }
          ],
          "heatmap": [
           {
            "colorbar": {
             "outlinewidth": 0,
             "ticks": ""
            },
            "colorscale": [
             [
              0,
              "#0d0887"
             ],
             [
              0.1111111111111111,
              "#46039f"
             ],
             [
              0.2222222222222222,
              "#7201a8"
             ],
             [
              0.3333333333333333,
              "#9c179e"
             ],
             [
              0.4444444444444444,
              "#bd3786"
             ],
             [
              0.5555555555555556,
              "#d8576b"
             ],
             [
              0.6666666666666666,
              "#ed7953"
             ],
             [
              0.7777777777777778,
              "#fb9f3a"
             ],
             [
              0.8888888888888888,
              "#fdca26"
             ],
             [
              1,
              "#f0f921"
             ]
            ],
            "type": "heatmap"
           }
          ],
          "heatmapgl": [
           {
            "colorbar": {
             "outlinewidth": 0,
             "ticks": ""
            },
            "colorscale": [
             [
              0,
              "#0d0887"
             ],
             [
              0.1111111111111111,
              "#46039f"
             ],
             [
              0.2222222222222222,
              "#7201a8"
             ],
             [
              0.3333333333333333,
              "#9c179e"
             ],
             [
              0.4444444444444444,
              "#bd3786"
             ],
             [
              0.5555555555555556,
              "#d8576b"
             ],
             [
              0.6666666666666666,
              "#ed7953"
             ],
             [
              0.7777777777777778,
              "#fb9f3a"
             ],
             [
              0.8888888888888888,
              "#fdca26"
             ],
             [
              1,
              "#f0f921"
             ]
            ],
            "type": "heatmapgl"
           }
          ],
          "histogram": [
           {
            "marker": {
             "pattern": {
              "fillmode": "overlay",
              "size": 10,
              "solidity": 0.2
             }
            },
            "type": "histogram"
           }
          ],
          "histogram2d": [
           {
            "colorbar": {
             "outlinewidth": 0,
             "ticks": ""
            },
            "colorscale": [
             [
              0,
              "#0d0887"
             ],
             [
              0.1111111111111111,
              "#46039f"
             ],
             [
              0.2222222222222222,
              "#7201a8"
             ],
             [
              0.3333333333333333,
              "#9c179e"
             ],
             [
              0.4444444444444444,
              "#bd3786"
             ],
             [
              0.5555555555555556,
              "#d8576b"
             ],
             [
              0.6666666666666666,
              "#ed7953"
             ],
             [
              0.7777777777777778,
              "#fb9f3a"
             ],
             [
              0.8888888888888888,
              "#fdca26"
             ],
             [
              1,
              "#f0f921"
             ]
            ],
            "type": "histogram2d"
           }
          ],
          "histogram2dcontour": [
           {
            "colorbar": {
             "outlinewidth": 0,
             "ticks": ""
            },
            "colorscale": [
             [
              0,
              "#0d0887"
             ],
             [
              0.1111111111111111,
              "#46039f"
             ],
             [
              0.2222222222222222,
              "#7201a8"
             ],
             [
              0.3333333333333333,
              "#9c179e"
             ],
             [
              0.4444444444444444,
              "#bd3786"
             ],
             [
              0.5555555555555556,
              "#d8576b"
             ],
             [
              0.6666666666666666,
              "#ed7953"
             ],
             [
              0.7777777777777778,
              "#fb9f3a"
             ],
             [
              0.8888888888888888,
              "#fdca26"
             ],
             [
              1,
              "#f0f921"
             ]
            ],
            "type": "histogram2dcontour"
           }
          ],
          "mesh3d": [
           {
            "colorbar": {
             "outlinewidth": 0,
             "ticks": ""
            },
            "type": "mesh3d"
           }
          ],
          "parcoords": [
           {
            "line": {
             "colorbar": {
              "outlinewidth": 0,
              "ticks": ""
             }
            },
            "type": "parcoords"
           }
          ],
          "pie": [
           {
            "automargin": true,
            "type": "pie"
           }
          ],
          "scatter": [
           {
            "marker": {
             "colorbar": {
              "outlinewidth": 0,
              "ticks": ""
             }
            },
            "type": "scatter"
           }
          ],
          "scatter3d": [
           {
            "line": {
             "colorbar": {
              "outlinewidth": 0,
              "ticks": ""
             }
            },
            "marker": {
             "colorbar": {
              "outlinewidth": 0,
              "ticks": ""
             }
            },
            "type": "scatter3d"
           }
          ],
          "scattercarpet": [
           {
            "marker": {
             "colorbar": {
              "outlinewidth": 0,
              "ticks": ""
             }
            },
            "type": "scattercarpet"
           }
          ],
          "scattergeo": [
           {
            "marker": {
             "colorbar": {
              "outlinewidth": 0,
              "ticks": ""
             }
            },
            "type": "scattergeo"
           }
          ],
          "scattergl": [
           {
            "marker": {
             "colorbar": {
              "outlinewidth": 0,
              "ticks": ""
             }
            },
            "type": "scattergl"
           }
          ],
          "scattermapbox": [
           {
            "marker": {
             "colorbar": {
              "outlinewidth": 0,
              "ticks": ""
             }
            },
            "type": "scattermapbox"
           }
          ],
          "scatterpolar": [
           {
            "marker": {
             "colorbar": {
              "outlinewidth": 0,
              "ticks": ""
             }
            },
            "type": "scatterpolar"
           }
          ],
          "scatterpolargl": [
           {
            "marker": {
             "colorbar": {
              "outlinewidth": 0,
              "ticks": ""
             }
            },
            "type": "scatterpolargl"
           }
          ],
          "scatterternary": [
           {
            "marker": {
             "colorbar": {
              "outlinewidth": 0,
              "ticks": ""
             }
            },
            "type": "scatterternary"
           }
          ],
          "surface": [
           {
            "colorbar": {
             "outlinewidth": 0,
             "ticks": ""
            },
            "colorscale": [
             [
              0,
              "#0d0887"
             ],
             [
              0.1111111111111111,
              "#46039f"
             ],
             [
              0.2222222222222222,
              "#7201a8"
             ],
             [
              0.3333333333333333,
              "#9c179e"
             ],
             [
              0.4444444444444444,
              "#bd3786"
             ],
             [
              0.5555555555555556,
              "#d8576b"
             ],
             [
              0.6666666666666666,
              "#ed7953"
             ],
             [
              0.7777777777777778,
              "#fb9f3a"
             ],
             [
              0.8888888888888888,
              "#fdca26"
             ],
             [
              1,
              "#f0f921"
             ]
            ],
            "type": "surface"
           }
          ],
          "table": [
           {
            "cells": {
             "fill": {
              "color": "#EBF0F8"
             },
             "line": {
              "color": "white"
             }
            },
            "header": {
             "fill": {
              "color": "#C8D4E3"
             },
             "line": {
              "color": "white"
             }
            },
            "type": "table"
           }
          ]
         },
         "layout": {
          "annotationdefaults": {
           "arrowcolor": "#2a3f5f",
           "arrowhead": 0,
           "arrowwidth": 1
          },
          "autotypenumbers": "strict",
          "coloraxis": {
           "colorbar": {
            "outlinewidth": 0,
            "ticks": ""
           }
          },
          "colorscale": {
           "diverging": [
            [
             0,
             "#8e0152"
            ],
            [
             0.1,
             "#c51b7d"
            ],
            [
             0.2,
             "#de77ae"
            ],
            [
             0.3,
             "#f1b6da"
            ],
            [
             0.4,
             "#fde0ef"
            ],
            [
             0.5,
             "#f7f7f7"
            ],
            [
             0.6,
             "#e6f5d0"
            ],
            [
             0.7,
             "#b8e186"
            ],
            [
             0.8,
             "#7fbc41"
            ],
            [
             0.9,
             "#4d9221"
            ],
            [
             1,
             "#276419"
            ]
           ],
           "sequential": [
            [
             0,
             "#0d0887"
            ],
            [
             0.1111111111111111,
             "#46039f"
            ],
            [
             0.2222222222222222,
             "#7201a8"
            ],
            [
             0.3333333333333333,
             "#9c179e"
            ],
            [
             0.4444444444444444,
             "#bd3786"
            ],
            [
             0.5555555555555556,
             "#d8576b"
            ],
            [
             0.6666666666666666,
             "#ed7953"
            ],
            [
             0.7777777777777778,
             "#fb9f3a"
            ],
            [
             0.8888888888888888,
             "#fdca26"
            ],
            [
             1,
             "#f0f921"
            ]
           ],
           "sequentialminus": [
            [
             0,
             "#0d0887"
            ],
            [
             0.1111111111111111,
             "#46039f"
            ],
            [
             0.2222222222222222,
             "#7201a8"
            ],
            [
             0.3333333333333333,
             "#9c179e"
            ],
            [
             0.4444444444444444,
             "#bd3786"
            ],
            [
             0.5555555555555556,
             "#d8576b"
            ],
            [
             0.6666666666666666,
             "#ed7953"
            ],
            [
             0.7777777777777778,
             "#fb9f3a"
            ],
            [
             0.8888888888888888,
             "#fdca26"
            ],
            [
             1,
             "#f0f921"
            ]
           ]
          },
          "colorway": [
           "#636efa",
           "#EF553B",
           "#00cc96",
           "#ab63fa",
           "#FFA15A",
           "#19d3f3",
           "#FF6692",
           "#B6E880",
           "#FF97FF",
           "#FECB52"
          ],
          "font": {
           "color": "#2a3f5f"
          },
          "geo": {
           "bgcolor": "white",
           "lakecolor": "white",
           "landcolor": "#E5ECF6",
           "showlakes": true,
           "showland": true,
           "subunitcolor": "white"
          },
          "hoverlabel": {
           "align": "left"
          },
          "hovermode": "closest",
          "mapbox": {
           "style": "light"
          },
          "paper_bgcolor": "white",
          "plot_bgcolor": "#E5ECF6",
          "polar": {
           "angularaxis": {
            "gridcolor": "white",
            "linecolor": "white",
            "ticks": ""
           },
           "bgcolor": "#E5ECF6",
           "radialaxis": {
            "gridcolor": "white",
            "linecolor": "white",
            "ticks": ""
           }
          },
          "scene": {
           "xaxis": {
            "backgroundcolor": "#E5ECF6",
            "gridcolor": "white",
            "gridwidth": 2,
            "linecolor": "white",
            "showbackground": true,
            "ticks": "",
            "zerolinecolor": "white"
           },
           "yaxis": {
            "backgroundcolor": "#E5ECF6",
            "gridcolor": "white",
            "gridwidth": 2,
            "linecolor": "white",
            "showbackground": true,
            "ticks": "",
            "zerolinecolor": "white"
           },
           "zaxis": {
            "backgroundcolor": "#E5ECF6",
            "gridcolor": "white",
            "gridwidth": 2,
            "linecolor": "white",
            "showbackground": true,
            "ticks": "",
            "zerolinecolor": "white"
           }
          },
          "shapedefaults": {
           "line": {
            "color": "#2a3f5f"
           }
          },
          "ternary": {
           "aaxis": {
            "gridcolor": "white",
            "linecolor": "white",
            "ticks": ""
           },
           "baxis": {
            "gridcolor": "white",
            "linecolor": "white",
            "ticks": ""
           },
           "bgcolor": "#E5ECF6",
           "caxis": {
            "gridcolor": "white",
            "linecolor": "white",
            "ticks": ""
           }
          },
          "title": {
           "x": 0.05
          },
          "xaxis": {
           "automargin": true,
           "gridcolor": "white",
           "linecolor": "white",
           "ticks": "",
           "title": {
            "standoff": 15
           },
           "zerolinecolor": "white",
           "zerolinewidth": 2
          },
          "yaxis": {
           "automargin": true,
           "gridcolor": "white",
           "linecolor": "white",
           "ticks": "",
           "title": {
            "standoff": 15
           },
           "zerolinecolor": "white",
           "zerolinewidth": 2
          }
         }
        },
        "title": {
         "font": {
          "color": "#4D5663"
         }
        },
        "xaxis": {
         "gridcolor": "#E1E5ED",
         "showgrid": true,
         "tickfont": {
          "color": "#4D5663"
         },
         "title": {
          "font": {
           "color": "#4D5663"
          },
          "text": ""
         },
         "zerolinecolor": "#E1E5ED"
        },
        "yaxis": {
         "gridcolor": "#E1E5ED",
         "showgrid": true,
         "tickfont": {
          "color": "#4D5663"
         },
         "title": {
          "font": {
           "color": "#4D5663"
          },
          "text": ""
         },
         "zerolinecolor": "#E1E5ED"
        }
       }
      },
      "text/html": [
       "<div>                            <div id=\"097ce944-cb79-4a77-9ce4-07ffffb8ceb7\" class=\"plotly-graph-div\" style=\"height:525px; width:100%;\"></div>            <script type=\"text/javascript\">                require([\"plotly\"], function(Plotly) {                    window.PLOTLYENV=window.PLOTLYENV || {};\n",
       "                    window.PLOTLYENV.BASE_URL='https://plot.ly';                                    if (document.getElementById(\"097ce944-cb79-4a77-9ce4-07ffffb8ceb7\")) {                    Plotly.newPlot(                        \"097ce944-cb79-4a77-9ce4-07ffffb8ceb7\",                        [{\"boxpoints\":false,\"line\":{\"width\":1.3},\"marker\":{\"color\":\"rgba(255, 153, 51, 1.0)\"},\"name\":\"A\",\"orientation\":\"v\",\"y\":[-0.8045319692756239,-0.7857508741343778,0.39430716210118383,0.040154756846361016,-1.7322422804433464,0.23192449486695912,-0.6018949797227127,-0.26289401276907864,0.05250827501417779,1.3215808600707148,-0.3415752045912305,0.9123430324087752,-0.11882811971741239,-1.277598509738442,1.22129685804723,-0.9964878457298946,2.6620936089218095,-0.4803892863051099,-1.4490068334874833,-0.5458590243929505,0.1806089625886417,-0.04853061562212352,-0.7519138670027183,0.9822323510339834,1.3217667116892085,-0.4078361976983211,-0.7433064246907137,1.3097970819898321,-0.8885546830130938,0.08959952426663148,0.7613983182603498,1.114935205693224,-0.26808691289618436,-1.179007519613772,-0.8212285519866818,0.0171376674536935,-1.261984800199849,0.7540606103836702,1.0365981858780862,1.0894455868431638,1.467140241494887,-0.45420815578998514,1.4150942894048062,-1.0307095952537535,-0.8738128032396157,0.8499380934853883,0.44623467531343414,1.1111190821690289,1.5931104775281726,-0.4229825602717984,-0.347724986376733,-0.13542680812754604,0.3082974882607674,-1.8041564241898107,-0.01515489581035622,1.2123741242554724,1.6091967660300068,-0.9099405101509571,-1.0607387072884853,-0.01457523724299721,-0.4606327435061816,1.353930884874758,0.7192866992265134,0.35255737217605587,0.17943773439695976,-0.0008330315647807776,0.013257714626296735,-0.4853923909661426,0.987472645343711,-1.2792863154847292,-0.1927603830487624,-1.248884129883844,0.09746544762239337,0.205544722884781,-1.6106179773906022,-1.4962536071793135,1.8804432211155748,-0.9024008840300444,-1.2721816262871173,2.1523784705721707,-0.9891223749584839,-0.966689724244585,-1.001881325254751,0.09961378114378827,-0.6782575216848209,0.6993114545806943,0.6321315478915533,-0.7053759028281684,-0.41772962659482143,0.3005169214229249,0.6704583648794865,-0.3618318985451478,1.1737851603704852,0.24227025716212627,1.4015786878545637,-0.20532599663298384,-0.25831017270764134,-2.0960187662439336,0.22663058350173887,-1.499548991493352],\"type\":\"box\"},{\"boxpoints\":false,\"line\":{\"width\":1.3},\"marker\":{\"color\":\"rgba(55, 128, 191, 1.0)\"},\"name\":\"B\",\"orientation\":\"v\",\"y\":[1.380854838531965,0.11938502538426132,-1.3143531805255566,0.6406812285572712,0.45901609373282704,0.14365163997084188,0.04919209970407182,-0.14356601653396417,-0.13652030629061812,0.705737494583953,0.4693637488317349,-0.22019440349318015,0.023077433512087436,1.2240704876175075,-0.20295579519226248,-0.5507208895965063,-0.04503975484391459,-1.0716079956340958,-0.3498571619930785,0.05378116157884617,0.1914937961172496,-0.8001900502593962,-1.8724024669870398,-1.155013636557828,-0.8728225347049191,-0.9491040625196484,-0.01307810894809895,-1.7416462532512975,0.7582038042037499,1.0245971841296806,2.209354664513985,0.27962419638957986,-0.3625691399492275,-0.37384775610699056,-0.09090160784772924,-0.963449146450701,-0.7980032760865212,-0.1365887386905632,-0.8236488041076043,0.12473376344798781,-1.5436042717554994,-0.6216132617616013,1.6894254983684525,0.556296337156448,-0.785063041863813,2.483960864125458,-0.43302859825742124,0.8939916753077831,1.2096210869953685,0.9394848885610718,-1.4390417869534922,1.1168312594389562,-0.5365559556172983,1.8492172694897153,-0.1362841448844875,0.6018566047291094,0.6036293584590517,1.0888599872211706,-0.5537892278737087,-1.2571168203364704,-0.4422470583484276,-0.6044378393263163,-1.041592179467776,1.5009696060524216,-0.9109487853431983,2.1787784184384558,-1.0579386356798106,-1.7000597049686215,-1.3445417160500615,-1.1784242650767685,-0.5223318292191497,-1.6418690103787708,1.6251438590138476,-3.8913039112713124,-0.5316779558052692,0.3711369956120464,0.39400732044115944,0.5000893212146826,-0.1723379534232298,-0.8721395911197579,-0.36567250291673475,1.5156140766192698,2.3623075261343915,-1.489554844966301,1.6413735284669448,-0.0929390528011857,-0.714291437029099,0.130654739297638,1.4599097658828708,-0.46420506328524286,-1.3247869299650787,-1.0332844721276573,-0.6378849266767722,0.5187408321369664,0.4352512593360889,-0.06583816090115427,0.5379177916772021,0.28204406416968447,-1.04570445537743,0.08376817237639435],\"type\":\"box\"},{\"boxpoints\":false,\"line\":{\"width\":1.3},\"marker\":{\"color\":\"rgba(50, 171, 96, 1.0)\"},\"name\":\"C\",\"orientation\":\"v\",\"y\":[-1.8708875734832748,0.04425823550598916,2.2318098580876335,-0.1932162636185701,-0.3495142742950361,-0.9363714842063803,-0.3751675288083557,0.24096398472949992,0.7839074733605705,-0.948046660123082,0.9688924880089168,0.29601276029714685,-1.3281620746071872,1.3444769424008969,1.5857319136801458,-0.7572298115336303,-2.1853912146666983,0.5794319393647758,0.11438605827806371,-0.8174361744556506,0.2523687940971506,1.4635374612249505,0.2514716300708972,0.5909474815715231,0.5743582936896399,0.3404858368078811,-0.4907552024656146,-0.32078836101622105,-0.44800327053016514,0.9960774558527737,0.22467360416969342,2.4529081035546207,-0.21787418455794888,0.6762498754903966,-0.48303381928730993,-0.16139780190549755,-0.5647919533473379,-0.3672292350945552,-0.278958867299943,-0.07128610183100571,-0.0351476668971757,0.5375339473571906,-0.16054867274784868,1.2920755922952918,1.667640449645262,-0.36020101369593516,1.4831194257765556,0.16674921176253732,-0.5377061661274848,-1.4134058793381234,-0.47496514727810796,0.46973511175391053,-0.14771132817389718,1.5164803577234145,-0.6872851570369064,0.3298080343624988,-0.9444593815516463,0.5566413339925547,-1.4670673842371387,-0.09040314661128307,-0.7681215742517598,0.22498077143569414,0.27567011144228754,-1.7401853989682063,0.5830003687822239,0.3502144296196838,-1.8571529961941577,0.1901652524422592,-0.12813138347420786,-1.1874881142031868,-0.06773200120193666,-0.5034130203140469,-1.7569306963537281,0.9954700566699439,-0.7377403658835474,-1.9608339437686828,1.0887725214220043,1.1615126132641291,-1.3425676644410556,1.1731778312031338,0.5923121609965328,-0.49249661917257426,-0.13023345722216656,-1.459896361013488,0.3545202476999806,-1.8383904457936295,-0.16943713505500044,-0.5132237203127183,0.3047428775744405,-0.10827793167007603,0.3317581955489925,0.6011410609751754,1.1156955619768716,1.0934138206778674,0.47807489067700687,0.2012802882466331,0.01618371786285664,-0.4205840724709901,-1.3314350933539179,1.307938271004548],\"type\":\"box\"},{\"boxpoints\":false,\"line\":{\"width\":1.3},\"marker\":{\"color\":\"rgba(128, 0, 128, 1.0)\"},\"name\":\"D\",\"orientation\":\"v\",\"y\":[-0.6243127375617485,-1.1740550580744102,0.038460727649453415,1.473545397199106,-0.9521658151129334,-0.4848915430788821,0.0675901121034954,0.805327552498521,-0.3678164673871686,-0.9210994094835443,0.30050191780807356,0.12519393915142765,1.137088531812455,0.2968333543050542,0.9444873258850971,0.07407865634529899,-0.25029023390720306,0.3179564559367161,-2.5639417290556357,0.230886491505683,-0.0888265823761594,-0.09021836298835495,-1.0771186416949865,-0.8594551656352457,-0.10386030844563789,-0.5953859982931564,-2.1793723497553326,0.11283882512550318,-0.5749599969041304,-1.1233656099056193,2.1314646206198327,-1.653124713992959,-1.7960268785121087,-0.1393410261146086,-0.539714578867005,0.5856794701890018,-0.2071207922317129,-0.6972380495463055,-1.4852391624389962,-0.6132944048119481,1.3420483036377386,-1.5755224816993758,0.2743879523680005,-0.4464672218318962,-3.378295994805631,-0.6707301853353952,-0.7587263078274006,-0.27706990266371545,-0.8225006505775436,0.2503955509660361,0.038810602206067676,-1.0879790827177869,-0.5147650195142758,0.056920826723514194,-0.455853480689292,-0.37650380217157314,0.8415793821045491,0.09174178210241361,1.6341077538875552,-0.6868086957169546,1.2819199478532186,-1.182394428328359,-0.636493609887241,0.4836901410780605,-1.7703504544405102,-2.170912133455119,-0.0822348997199209,-1.1309071842819234,-0.5383595119236265,-0.014834978292038978,-0.6162582558907989,-0.6883800257753223,0.8954912080936425,0.9037166248628814,1.1873894608157394,-0.6123584271721806,-1.422847869128479,2.3106182679204,-0.7881045889309072,0.03242724161322168,-1.541884412644934,-0.9388412359867381,-0.5529495445987058,0.6732988001879391,-0.5893911620958981,2.579973066211168,-0.3185865876642497,0.5761037296869645,1.5547217694290791,0.3041990392389531,0.9716870695179999,0.3940485816680812,-0.6403195185889015,1.0750979233256113,0.970106939826967,1.9639453540327028,1.5346904677398219,0.5966181882134294,-0.33441777490768804,-0.6426062418461276],\"type\":\"box\"}],                        {\"legend\":{\"bgcolor\":\"#F5F6F9\",\"font\":{\"color\":\"#4D5663\"}},\"paper_bgcolor\":\"#F5F6F9\",\"plot_bgcolor\":\"#F5F6F9\",\"template\":{\"data\":{\"barpolar\":[{\"marker\":{\"line\":{\"color\":\"#E5ECF6\",\"width\":0.5},\"pattern\":{\"fillmode\":\"overlay\",\"size\":10,\"solidity\":0.2}},\"type\":\"barpolar\"}],\"bar\":[{\"error_x\":{\"color\":\"#2a3f5f\"},\"error_y\":{\"color\":\"#2a3f5f\"},\"marker\":{\"line\":{\"color\":\"#E5ECF6\",\"width\":0.5},\"pattern\":{\"fillmode\":\"overlay\",\"size\":10,\"solidity\":0.2}},\"type\":\"bar\"}],\"carpet\":[{\"aaxis\":{\"endlinecolor\":\"#2a3f5f\",\"gridcolor\":\"white\",\"linecolor\":\"white\",\"minorgridcolor\":\"white\",\"startlinecolor\":\"#2a3f5f\"},\"baxis\":{\"endlinecolor\":\"#2a3f5f\",\"gridcolor\":\"white\",\"linecolor\":\"white\",\"minorgridcolor\":\"white\",\"startlinecolor\":\"#2a3f5f\"},\"type\":\"carpet\"}],\"choropleth\":[{\"colorbar\":{\"outlinewidth\":0,\"ticks\":\"\"},\"type\":\"choropleth\"}],\"contourcarpet\":[{\"colorbar\":{\"outlinewidth\":0,\"ticks\":\"\"},\"type\":\"contourcarpet\"}],\"contour\":[{\"colorbar\":{\"outlinewidth\":0,\"ticks\":\"\"},\"colorscale\":[[0.0,\"#0d0887\"],[0.1111111111111111,\"#46039f\"],[0.2222222222222222,\"#7201a8\"],[0.3333333333333333,\"#9c179e\"],[0.4444444444444444,\"#bd3786\"],[0.5555555555555556,\"#d8576b\"],[0.6666666666666666,\"#ed7953\"],[0.7777777777777778,\"#fb9f3a\"],[0.8888888888888888,\"#fdca26\"],[1.0,\"#f0f921\"]],\"type\":\"contour\"}],\"heatmapgl\":[{\"colorbar\":{\"outlinewidth\":0,\"ticks\":\"\"},\"colorscale\":[[0.0,\"#0d0887\"],[0.1111111111111111,\"#46039f\"],[0.2222222222222222,\"#7201a8\"],[0.3333333333333333,\"#9c179e\"],[0.4444444444444444,\"#bd3786\"],[0.5555555555555556,\"#d8576b\"],[0.6666666666666666,\"#ed7953\"],[0.7777777777777778,\"#fb9f3a\"],[0.8888888888888888,\"#fdca26\"],[1.0,\"#f0f921\"]],\"type\":\"heatmapgl\"}],\"heatmap\":[{\"colorbar\":{\"outlinewidth\":0,\"ticks\":\"\"},\"colorscale\":[[0.0,\"#0d0887\"],[0.1111111111111111,\"#46039f\"],[0.2222222222222222,\"#7201a8\"],[0.3333333333333333,\"#9c179e\"],[0.4444444444444444,\"#bd3786\"],[0.5555555555555556,\"#d8576b\"],[0.6666666666666666,\"#ed7953\"],[0.7777777777777778,\"#fb9f3a\"],[0.8888888888888888,\"#fdca26\"],[1.0,\"#f0f921\"]],\"type\":\"heatmap\"}],\"histogram2dcontour\":[{\"colorbar\":{\"outlinewidth\":0,\"ticks\":\"\"},\"colorscale\":[[0.0,\"#0d0887\"],[0.1111111111111111,\"#46039f\"],[0.2222222222222222,\"#7201a8\"],[0.3333333333333333,\"#9c179e\"],[0.4444444444444444,\"#bd3786\"],[0.5555555555555556,\"#d8576b\"],[0.6666666666666666,\"#ed7953\"],[0.7777777777777778,\"#fb9f3a\"],[0.8888888888888888,\"#fdca26\"],[1.0,\"#f0f921\"]],\"type\":\"histogram2dcontour\"}],\"histogram2d\":[{\"colorbar\":{\"outlinewidth\":0,\"ticks\":\"\"},\"colorscale\":[[0.0,\"#0d0887\"],[0.1111111111111111,\"#46039f\"],[0.2222222222222222,\"#7201a8\"],[0.3333333333333333,\"#9c179e\"],[0.4444444444444444,\"#bd3786\"],[0.5555555555555556,\"#d8576b\"],[0.6666666666666666,\"#ed7953\"],[0.7777777777777778,\"#fb9f3a\"],[0.8888888888888888,\"#fdca26\"],[1.0,\"#f0f921\"]],\"type\":\"histogram2d\"}],\"histogram\":[{\"marker\":{\"pattern\":{\"fillmode\":\"overlay\",\"size\":10,\"solidity\":0.2}},\"type\":\"histogram\"}],\"mesh3d\":[{\"colorbar\":{\"outlinewidth\":0,\"ticks\":\"\"},\"type\":\"mesh3d\"}],\"parcoords\":[{\"line\":{\"colorbar\":{\"outlinewidth\":0,\"ticks\":\"\"}},\"type\":\"parcoords\"}],\"pie\":[{\"automargin\":true,\"type\":\"pie\"}],\"scatter3d\":[{\"line\":{\"colorbar\":{\"outlinewidth\":0,\"ticks\":\"\"}},\"marker\":{\"colorbar\":{\"outlinewidth\":0,\"ticks\":\"\"}},\"type\":\"scatter3d\"}],\"scattercarpet\":[{\"marker\":{\"colorbar\":{\"outlinewidth\":0,\"ticks\":\"\"}},\"type\":\"scattercarpet\"}],\"scattergeo\":[{\"marker\":{\"colorbar\":{\"outlinewidth\":0,\"ticks\":\"\"}},\"type\":\"scattergeo\"}],\"scattergl\":[{\"marker\":{\"colorbar\":{\"outlinewidth\":0,\"ticks\":\"\"}},\"type\":\"scattergl\"}],\"scattermapbox\":[{\"marker\":{\"colorbar\":{\"outlinewidth\":0,\"ticks\":\"\"}},\"type\":\"scattermapbox\"}],\"scatterpolargl\":[{\"marker\":{\"colorbar\":{\"outlinewidth\":0,\"ticks\":\"\"}},\"type\":\"scatterpolargl\"}],\"scatterpolar\":[{\"marker\":{\"colorbar\":{\"outlinewidth\":0,\"ticks\":\"\"}},\"type\":\"scatterpolar\"}],\"scatter\":[{\"marker\":{\"colorbar\":{\"outlinewidth\":0,\"ticks\":\"\"}},\"type\":\"scatter\"}],\"scatterternary\":[{\"marker\":{\"colorbar\":{\"outlinewidth\":0,\"ticks\":\"\"}},\"type\":\"scatterternary\"}],\"surface\":[{\"colorbar\":{\"outlinewidth\":0,\"ticks\":\"\"},\"colorscale\":[[0.0,\"#0d0887\"],[0.1111111111111111,\"#46039f\"],[0.2222222222222222,\"#7201a8\"],[0.3333333333333333,\"#9c179e\"],[0.4444444444444444,\"#bd3786\"],[0.5555555555555556,\"#d8576b\"],[0.6666666666666666,\"#ed7953\"],[0.7777777777777778,\"#fb9f3a\"],[0.8888888888888888,\"#fdca26\"],[1.0,\"#f0f921\"]],\"type\":\"surface\"}],\"table\":[{\"cells\":{\"fill\":{\"color\":\"#EBF0F8\"},\"line\":{\"color\":\"white\"}},\"header\":{\"fill\":{\"color\":\"#C8D4E3\"},\"line\":{\"color\":\"white\"}},\"type\":\"table\"}]},\"layout\":{\"annotationdefaults\":{\"arrowcolor\":\"#2a3f5f\",\"arrowhead\":0,\"arrowwidth\":1},\"autotypenumbers\":\"strict\",\"coloraxis\":{\"colorbar\":{\"outlinewidth\":0,\"ticks\":\"\"}},\"colorscale\":{\"diverging\":[[0,\"#8e0152\"],[0.1,\"#c51b7d\"],[0.2,\"#de77ae\"],[0.3,\"#f1b6da\"],[0.4,\"#fde0ef\"],[0.5,\"#f7f7f7\"],[0.6,\"#e6f5d0\"],[0.7,\"#b8e186\"],[0.8,\"#7fbc41\"],[0.9,\"#4d9221\"],[1,\"#276419\"]],\"sequential\":[[0.0,\"#0d0887\"],[0.1111111111111111,\"#46039f\"],[0.2222222222222222,\"#7201a8\"],[0.3333333333333333,\"#9c179e\"],[0.4444444444444444,\"#bd3786\"],[0.5555555555555556,\"#d8576b\"],[0.6666666666666666,\"#ed7953\"],[0.7777777777777778,\"#fb9f3a\"],[0.8888888888888888,\"#fdca26\"],[1.0,\"#f0f921\"]],\"sequentialminus\":[[0.0,\"#0d0887\"],[0.1111111111111111,\"#46039f\"],[0.2222222222222222,\"#7201a8\"],[0.3333333333333333,\"#9c179e\"],[0.4444444444444444,\"#bd3786\"],[0.5555555555555556,\"#d8576b\"],[0.6666666666666666,\"#ed7953\"],[0.7777777777777778,\"#fb9f3a\"],[0.8888888888888888,\"#fdca26\"],[1.0,\"#f0f921\"]]},\"colorway\":[\"#636efa\",\"#EF553B\",\"#00cc96\",\"#ab63fa\",\"#FFA15A\",\"#19d3f3\",\"#FF6692\",\"#B6E880\",\"#FF97FF\",\"#FECB52\"],\"font\":{\"color\":\"#2a3f5f\"},\"geo\":{\"bgcolor\":\"white\",\"lakecolor\":\"white\",\"landcolor\":\"#E5ECF6\",\"showlakes\":true,\"showland\":true,\"subunitcolor\":\"white\"},\"hoverlabel\":{\"align\":\"left\"},\"hovermode\":\"closest\",\"mapbox\":{\"style\":\"light\"},\"paper_bgcolor\":\"white\",\"plot_bgcolor\":\"#E5ECF6\",\"polar\":{\"angularaxis\":{\"gridcolor\":\"white\",\"linecolor\":\"white\",\"ticks\":\"\"},\"bgcolor\":\"#E5ECF6\",\"radialaxis\":{\"gridcolor\":\"white\",\"linecolor\":\"white\",\"ticks\":\"\"}},\"scene\":{\"xaxis\":{\"backgroundcolor\":\"#E5ECF6\",\"gridcolor\":\"white\",\"gridwidth\":2,\"linecolor\":\"white\",\"showbackground\":true,\"ticks\":\"\",\"zerolinecolor\":\"white\"},\"yaxis\":{\"backgroundcolor\":\"#E5ECF6\",\"gridcolor\":\"white\",\"gridwidth\":2,\"linecolor\":\"white\",\"showbackground\":true,\"ticks\":\"\",\"zerolinecolor\":\"white\"},\"zaxis\":{\"backgroundcolor\":\"#E5ECF6\",\"gridcolor\":\"white\",\"gridwidth\":2,\"linecolor\":\"white\",\"showbackground\":true,\"ticks\":\"\",\"zerolinecolor\":\"white\"}},\"shapedefaults\":{\"line\":{\"color\":\"#2a3f5f\"}},\"ternary\":{\"aaxis\":{\"gridcolor\":\"white\",\"linecolor\":\"white\",\"ticks\":\"\"},\"baxis\":{\"gridcolor\":\"white\",\"linecolor\":\"white\",\"ticks\":\"\"},\"bgcolor\":\"#E5ECF6\",\"caxis\":{\"gridcolor\":\"white\",\"linecolor\":\"white\",\"ticks\":\"\"}},\"title\":{\"x\":0.05},\"xaxis\":{\"automargin\":true,\"gridcolor\":\"white\",\"linecolor\":\"white\",\"ticks\":\"\",\"title\":{\"standoff\":15},\"zerolinecolor\":\"white\",\"zerolinewidth\":2},\"yaxis\":{\"automargin\":true,\"gridcolor\":\"white\",\"linecolor\":\"white\",\"ticks\":\"\",\"title\":{\"standoff\":15},\"zerolinecolor\":\"white\",\"zerolinewidth\":2}}},\"title\":{\"font\":{\"color\":\"#4D5663\"}},\"xaxis\":{\"gridcolor\":\"#E1E5ED\",\"showgrid\":true,\"tickfont\":{\"color\":\"#4D5663\"},\"title\":{\"font\":{\"color\":\"#4D5663\"},\"text\":\"\"},\"zerolinecolor\":\"#E1E5ED\"},\"yaxis\":{\"gridcolor\":\"#E1E5ED\",\"showgrid\":true,\"tickfont\":{\"color\":\"#4D5663\"},\"title\":{\"font\":{\"color\":\"#4D5663\"},\"text\":\"\"},\"zerolinecolor\":\"#E1E5ED\"}},                        {\"showLink\": true, \"linkText\": \"Export to plot.ly\", \"plotlyServerURL\": \"https://plot.ly\", \"responsive\": true}                    ).then(function(){\n",
       "                            \n",
       "var gd = document.getElementById('097ce944-cb79-4a77-9ce4-07ffffb8ceb7');\n",
       "var x = new MutationObserver(function (mutations, observer) {{\n",
       "        var display = window.getComputedStyle(gd).display;\n",
       "        if (!display || display === 'none') {{\n",
       "            console.log([gd, 'removed!']);\n",
       "            Plotly.purge(gd);\n",
       "            observer.disconnect();\n",
       "        }}\n",
       "}});\n",
       "\n",
       "// Listen for the removal of the full notebook cells\n",
       "var notebookContainer = gd.closest('#notebook-container');\n",
       "if (notebookContainer) {{\n",
       "    x.observe(notebookContainer, {childList: true});\n",
       "}}\n",
       "\n",
       "// Listen for the clearing of the current output cell\n",
       "var outputEl = gd.closest('.output');\n",
       "if (outputEl) {{\n",
       "    x.observe(outputEl, {childList: true});\n",
       "}}\n",
       "\n",
       "                        })                };                });            </script>        </div>"
      ]
     },
     "metadata": {},
     "output_type": "display_data"
    }
   ],
   "source": [
    "df.iplot(kind = 'box')"
   ]
  },
  {
   "cell_type": "code",
   "execution_count": 40,
   "id": "09012146",
   "metadata": {},
   "outputs": [],
   "source": [
    "df3 = pd.DataFrame ({'x': [1, 2, 3, 4, 5], 'y':[10, 20, 30, 20, 10], 'z': [5, 4, 3, 2, 1]});"
   ]
  },
  {
   "cell_type": "code",
   "execution_count": 42,
   "id": "dac88171",
   "metadata": {},
   "outputs": [
    {
     "data": {
      "text/html": [
       "<div>\n",
       "<style scoped>\n",
       "    .dataframe tbody tr th:only-of-type {\n",
       "        vertical-align: middle;\n",
       "    }\n",
       "\n",
       "    .dataframe tbody tr th {\n",
       "        vertical-align: top;\n",
       "    }\n",
       "\n",
       "    .dataframe thead th {\n",
       "        text-align: right;\n",
       "    }\n",
       "</style>\n",
       "<table border=\"1\" class=\"dataframe\">\n",
       "  <thead>\n",
       "    <tr style=\"text-align: right;\">\n",
       "      <th></th>\n",
       "      <th>x</th>\n",
       "      <th>y</th>\n",
       "      <th>z</th>\n",
       "    </tr>\n",
       "  </thead>\n",
       "  <tbody>\n",
       "    <tr>\n",
       "      <th>0</th>\n",
       "      <td>1</td>\n",
       "      <td>10</td>\n",
       "      <td>5</td>\n",
       "    </tr>\n",
       "    <tr>\n",
       "      <th>1</th>\n",
       "      <td>2</td>\n",
       "      <td>20</td>\n",
       "      <td>4</td>\n",
       "    </tr>\n",
       "    <tr>\n",
       "      <th>2</th>\n",
       "      <td>3</td>\n",
       "      <td>30</td>\n",
       "      <td>3</td>\n",
       "    </tr>\n",
       "    <tr>\n",
       "      <th>3</th>\n",
       "      <td>4</td>\n",
       "      <td>20</td>\n",
       "      <td>2</td>\n",
       "    </tr>\n",
       "    <tr>\n",
       "      <th>4</th>\n",
       "      <td>5</td>\n",
       "      <td>10</td>\n",
       "      <td>1</td>\n",
       "    </tr>\n",
       "  </tbody>\n",
       "</table>\n",
       "</div>"
      ],
      "text/plain": [
       "   x   y  z\n",
       "0  1  10  5\n",
       "1  2  20  4\n",
       "2  3  30  3\n",
       "3  4  20  2\n",
       "4  5  10  1"
      ]
     },
     "execution_count": 42,
     "metadata": {},
     "output_type": "execute_result"
    }
   ],
   "source": [
    "df3"
   ]
  },
  {
   "cell_type": "code",
   "execution_count": 43,
   "id": "311ce5f8",
   "metadata": {},
   "outputs": [
    {
     "data": {
      "application/vnd.plotly.v1+json": {
       "config": {
        "linkText": "Export to plot.ly",
        "plotlyServerURL": "https://plot.ly",
        "showLink": true
       },
       "data": [
        {
         "colorscale": [
          [
           0,
           "rgb(165,0,38)"
          ],
          [
           0.1,
           "rgb(215,48,39)"
          ],
          [
           0.2,
           "rgb(244,109,67)"
          ],
          [
           0.3,
           "rgb(253,174,97)"
          ],
          [
           0.4,
           "rgb(254,224,144)"
          ],
          [
           0.5,
           "rgb(255,255,191)"
          ],
          [
           0.6,
           "rgb(224,243,248)"
          ],
          [
           0.7,
           "rgb(171,217,233)"
          ],
          [
           0.8,
           "rgb(116,173,209)"
          ],
          [
           0.9,
           "rgb(69,117,180)"
          ],
          [
           1,
           "rgb(49,54,149)"
          ]
         ],
         "type": "surface",
         "x": [
          0,
          1,
          2,
          3,
          4
         ],
         "y": [
          "x",
          "y",
          "z"
         ],
         "z": [
          [
           1,
           2,
           3,
           4,
           5
          ],
          [
           10,
           20,
           30,
           20,
           10
          ],
          [
           5,
           4,
           3,
           2,
           1
          ]
         ]
        }
       ],
       "layout": {
        "legend": {
         "bgcolor": "#F5F6F9",
         "font": {
          "color": "#4D5663"
         }
        },
        "paper_bgcolor": "#F5F6F9",
        "plot_bgcolor": "#F5F6F9",
        "template": {
         "data": {
          "bar": [
           {
            "error_x": {
             "color": "#2a3f5f"
            },
            "error_y": {
             "color": "#2a3f5f"
            },
            "marker": {
             "line": {
              "color": "#E5ECF6",
              "width": 0.5
             },
             "pattern": {
              "fillmode": "overlay",
              "size": 10,
              "solidity": 0.2
             }
            },
            "type": "bar"
           }
          ],
          "barpolar": [
           {
            "marker": {
             "line": {
              "color": "#E5ECF6",
              "width": 0.5
             },
             "pattern": {
              "fillmode": "overlay",
              "size": 10,
              "solidity": 0.2
             }
            },
            "type": "barpolar"
           }
          ],
          "carpet": [
           {
            "aaxis": {
             "endlinecolor": "#2a3f5f",
             "gridcolor": "white",
             "linecolor": "white",
             "minorgridcolor": "white",
             "startlinecolor": "#2a3f5f"
            },
            "baxis": {
             "endlinecolor": "#2a3f5f",
             "gridcolor": "white",
             "linecolor": "white",
             "minorgridcolor": "white",
             "startlinecolor": "#2a3f5f"
            },
            "type": "carpet"
           }
          ],
          "choropleth": [
           {
            "colorbar": {
             "outlinewidth": 0,
             "ticks": ""
            },
            "type": "choropleth"
           }
          ],
          "contour": [
           {
            "colorbar": {
             "outlinewidth": 0,
             "ticks": ""
            },
            "colorscale": [
             [
              0,
              "#0d0887"
             ],
             [
              0.1111111111111111,
              "#46039f"
             ],
             [
              0.2222222222222222,
              "#7201a8"
             ],
             [
              0.3333333333333333,
              "#9c179e"
             ],
             [
              0.4444444444444444,
              "#bd3786"
             ],
             [
              0.5555555555555556,
              "#d8576b"
             ],
             [
              0.6666666666666666,
              "#ed7953"
             ],
             [
              0.7777777777777778,
              "#fb9f3a"
             ],
             [
              0.8888888888888888,
              "#fdca26"
             ],
             [
              1,
              "#f0f921"
             ]
            ],
            "type": "contour"
           }
          ],
          "contourcarpet": [
           {
            "colorbar": {
             "outlinewidth": 0,
             "ticks": ""
            },
            "type": "contourcarpet"
           }
          ],
          "heatmap": [
           {
            "colorbar": {
             "outlinewidth": 0,
             "ticks": ""
            },
            "colorscale": [
             [
              0,
              "#0d0887"
             ],
             [
              0.1111111111111111,
              "#46039f"
             ],
             [
              0.2222222222222222,
              "#7201a8"
             ],
             [
              0.3333333333333333,
              "#9c179e"
             ],
             [
              0.4444444444444444,
              "#bd3786"
             ],
             [
              0.5555555555555556,
              "#d8576b"
             ],
             [
              0.6666666666666666,
              "#ed7953"
             ],
             [
              0.7777777777777778,
              "#fb9f3a"
             ],
             [
              0.8888888888888888,
              "#fdca26"
             ],
             [
              1,
              "#f0f921"
             ]
            ],
            "type": "heatmap"
           }
          ],
          "heatmapgl": [
           {
            "colorbar": {
             "outlinewidth": 0,
             "ticks": ""
            },
            "colorscale": [
             [
              0,
              "#0d0887"
             ],
             [
              0.1111111111111111,
              "#46039f"
             ],
             [
              0.2222222222222222,
              "#7201a8"
             ],
             [
              0.3333333333333333,
              "#9c179e"
             ],
             [
              0.4444444444444444,
              "#bd3786"
             ],
             [
              0.5555555555555556,
              "#d8576b"
             ],
             [
              0.6666666666666666,
              "#ed7953"
             ],
             [
              0.7777777777777778,
              "#fb9f3a"
             ],
             [
              0.8888888888888888,
              "#fdca26"
             ],
             [
              1,
              "#f0f921"
             ]
            ],
            "type": "heatmapgl"
           }
          ],
          "histogram": [
           {
            "marker": {
             "pattern": {
              "fillmode": "overlay",
              "size": 10,
              "solidity": 0.2
             }
            },
            "type": "histogram"
           }
          ],
          "histogram2d": [
           {
            "colorbar": {
             "outlinewidth": 0,
             "ticks": ""
            },
            "colorscale": [
             [
              0,
              "#0d0887"
             ],
             [
              0.1111111111111111,
              "#46039f"
             ],
             [
              0.2222222222222222,
              "#7201a8"
             ],
             [
              0.3333333333333333,
              "#9c179e"
             ],
             [
              0.4444444444444444,
              "#bd3786"
             ],
             [
              0.5555555555555556,
              "#d8576b"
             ],
             [
              0.6666666666666666,
              "#ed7953"
             ],
             [
              0.7777777777777778,
              "#fb9f3a"
             ],
             [
              0.8888888888888888,
              "#fdca26"
             ],
             [
              1,
              "#f0f921"
             ]
            ],
            "type": "histogram2d"
           }
          ],
          "histogram2dcontour": [
           {
            "colorbar": {
             "outlinewidth": 0,
             "ticks": ""
            },
            "colorscale": [
             [
              0,
              "#0d0887"
             ],
             [
              0.1111111111111111,
              "#46039f"
             ],
             [
              0.2222222222222222,
              "#7201a8"
             ],
             [
              0.3333333333333333,
              "#9c179e"
             ],
             [
              0.4444444444444444,
              "#bd3786"
             ],
             [
              0.5555555555555556,
              "#d8576b"
             ],
             [
              0.6666666666666666,
              "#ed7953"
             ],
             [
              0.7777777777777778,
              "#fb9f3a"
             ],
             [
              0.8888888888888888,
              "#fdca26"
             ],
             [
              1,
              "#f0f921"
             ]
            ],
            "type": "histogram2dcontour"
           }
          ],
          "mesh3d": [
           {
            "colorbar": {
             "outlinewidth": 0,
             "ticks": ""
            },
            "type": "mesh3d"
           }
          ],
          "parcoords": [
           {
            "line": {
             "colorbar": {
              "outlinewidth": 0,
              "ticks": ""
             }
            },
            "type": "parcoords"
           }
          ],
          "pie": [
           {
            "automargin": true,
            "type": "pie"
           }
          ],
          "scatter": [
           {
            "marker": {
             "colorbar": {
              "outlinewidth": 0,
              "ticks": ""
             }
            },
            "type": "scatter"
           }
          ],
          "scatter3d": [
           {
            "line": {
             "colorbar": {
              "outlinewidth": 0,
              "ticks": ""
             }
            },
            "marker": {
             "colorbar": {
              "outlinewidth": 0,
              "ticks": ""
             }
            },
            "type": "scatter3d"
           }
          ],
          "scattercarpet": [
           {
            "marker": {
             "colorbar": {
              "outlinewidth": 0,
              "ticks": ""
             }
            },
            "type": "scattercarpet"
           }
          ],
          "scattergeo": [
           {
            "marker": {
             "colorbar": {
              "outlinewidth": 0,
              "ticks": ""
             }
            },
            "type": "scattergeo"
           }
          ],
          "scattergl": [
           {
            "marker": {
             "colorbar": {
              "outlinewidth": 0,
              "ticks": ""
             }
            },
            "type": "scattergl"
           }
          ],
          "scattermapbox": [
           {
            "marker": {
             "colorbar": {
              "outlinewidth": 0,
              "ticks": ""
             }
            },
            "type": "scattermapbox"
           }
          ],
          "scatterpolar": [
           {
            "marker": {
             "colorbar": {
              "outlinewidth": 0,
              "ticks": ""
             }
            },
            "type": "scatterpolar"
           }
          ],
          "scatterpolargl": [
           {
            "marker": {
             "colorbar": {
              "outlinewidth": 0,
              "ticks": ""
             }
            },
            "type": "scatterpolargl"
           }
          ],
          "scatterternary": [
           {
            "marker": {
             "colorbar": {
              "outlinewidth": 0,
              "ticks": ""
             }
            },
            "type": "scatterternary"
           }
          ],
          "surface": [
           {
            "colorbar": {
             "outlinewidth": 0,
             "ticks": ""
            },
            "colorscale": [
             [
              0,
              "#0d0887"
             ],
             [
              0.1111111111111111,
              "#46039f"
             ],
             [
              0.2222222222222222,
              "#7201a8"
             ],
             [
              0.3333333333333333,
              "#9c179e"
             ],
             [
              0.4444444444444444,
              "#bd3786"
             ],
             [
              0.5555555555555556,
              "#d8576b"
             ],
             [
              0.6666666666666666,
              "#ed7953"
             ],
             [
              0.7777777777777778,
              "#fb9f3a"
             ],
             [
              0.8888888888888888,
              "#fdca26"
             ],
             [
              1,
              "#f0f921"
             ]
            ],
            "type": "surface"
           }
          ],
          "table": [
           {
            "cells": {
             "fill": {
              "color": "#EBF0F8"
             },
             "line": {
              "color": "white"
             }
            },
            "header": {
             "fill": {
              "color": "#C8D4E3"
             },
             "line": {
              "color": "white"
             }
            },
            "type": "table"
           }
          ]
         },
         "layout": {
          "annotationdefaults": {
           "arrowcolor": "#2a3f5f",
           "arrowhead": 0,
           "arrowwidth": 1
          },
          "autotypenumbers": "strict",
          "coloraxis": {
           "colorbar": {
            "outlinewidth": 0,
            "ticks": ""
           }
          },
          "colorscale": {
           "diverging": [
            [
             0,
             "#8e0152"
            ],
            [
             0.1,
             "#c51b7d"
            ],
            [
             0.2,
             "#de77ae"
            ],
            [
             0.3,
             "#f1b6da"
            ],
            [
             0.4,
             "#fde0ef"
            ],
            [
             0.5,
             "#f7f7f7"
            ],
            [
             0.6,
             "#e6f5d0"
            ],
            [
             0.7,
             "#b8e186"
            ],
            [
             0.8,
             "#7fbc41"
            ],
            [
             0.9,
             "#4d9221"
            ],
            [
             1,
             "#276419"
            ]
           ],
           "sequential": [
            [
             0,
             "#0d0887"
            ],
            [
             0.1111111111111111,
             "#46039f"
            ],
            [
             0.2222222222222222,
             "#7201a8"
            ],
            [
             0.3333333333333333,
             "#9c179e"
            ],
            [
             0.4444444444444444,
             "#bd3786"
            ],
            [
             0.5555555555555556,
             "#d8576b"
            ],
            [
             0.6666666666666666,
             "#ed7953"
            ],
            [
             0.7777777777777778,
             "#fb9f3a"
            ],
            [
             0.8888888888888888,
             "#fdca26"
            ],
            [
             1,
             "#f0f921"
            ]
           ],
           "sequentialminus": [
            [
             0,
             "#0d0887"
            ],
            [
             0.1111111111111111,
             "#46039f"
            ],
            [
             0.2222222222222222,
             "#7201a8"
            ],
            [
             0.3333333333333333,
             "#9c179e"
            ],
            [
             0.4444444444444444,
             "#bd3786"
            ],
            [
             0.5555555555555556,
             "#d8576b"
            ],
            [
             0.6666666666666666,
             "#ed7953"
            ],
            [
             0.7777777777777778,
             "#fb9f3a"
            ],
            [
             0.8888888888888888,
             "#fdca26"
            ],
            [
             1,
             "#f0f921"
            ]
           ]
          },
          "colorway": [
           "#636efa",
           "#EF553B",
           "#00cc96",
           "#ab63fa",
           "#FFA15A",
           "#19d3f3",
           "#FF6692",
           "#B6E880",
           "#FF97FF",
           "#FECB52"
          ],
          "font": {
           "color": "#2a3f5f"
          },
          "geo": {
           "bgcolor": "white",
           "lakecolor": "white",
           "landcolor": "#E5ECF6",
           "showlakes": true,
           "showland": true,
           "subunitcolor": "white"
          },
          "hoverlabel": {
           "align": "left"
          },
          "hovermode": "closest",
          "mapbox": {
           "style": "light"
          },
          "paper_bgcolor": "white",
          "plot_bgcolor": "#E5ECF6",
          "polar": {
           "angularaxis": {
            "gridcolor": "white",
            "linecolor": "white",
            "ticks": ""
           },
           "bgcolor": "#E5ECF6",
           "radialaxis": {
            "gridcolor": "white",
            "linecolor": "white",
            "ticks": ""
           }
          },
          "scene": {
           "xaxis": {
            "backgroundcolor": "#E5ECF6",
            "gridcolor": "white",
            "gridwidth": 2,
            "linecolor": "white",
            "showbackground": true,
            "ticks": "",
            "zerolinecolor": "white"
           },
           "yaxis": {
            "backgroundcolor": "#E5ECF6",
            "gridcolor": "white",
            "gridwidth": 2,
            "linecolor": "white",
            "showbackground": true,
            "ticks": "",
            "zerolinecolor": "white"
           },
           "zaxis": {
            "backgroundcolor": "#E5ECF6",
            "gridcolor": "white",
            "gridwidth": 2,
            "linecolor": "white",
            "showbackground": true,
            "ticks": "",
            "zerolinecolor": "white"
           }
          },
          "shapedefaults": {
           "line": {
            "color": "#2a3f5f"
           }
          },
          "ternary": {
           "aaxis": {
            "gridcolor": "white",
            "linecolor": "white",
            "ticks": ""
           },
           "baxis": {
            "gridcolor": "white",
            "linecolor": "white",
            "ticks": ""
           },
           "bgcolor": "#E5ECF6",
           "caxis": {
            "gridcolor": "white",
            "linecolor": "white",
            "ticks": ""
           }
          },
          "title": {
           "x": 0.05
          },
          "xaxis": {
           "automargin": true,
           "gridcolor": "white",
           "linecolor": "white",
           "ticks": "",
           "title": {
            "standoff": 15
           },
           "zerolinecolor": "white",
           "zerolinewidth": 2
          },
          "yaxis": {
           "automargin": true,
           "gridcolor": "white",
           "linecolor": "white",
           "ticks": "",
           "title": {
            "standoff": 15
           },
           "zerolinecolor": "white",
           "zerolinewidth": 2
          }
         }
        },
        "title": {
         "font": {
          "color": "#4D5663"
         }
        },
        "xaxis": {
         "gridcolor": "#E1E5ED",
         "showgrid": true,
         "tickfont": {
          "color": "#4D5663"
         },
         "title": {
          "font": {
           "color": "#4D5663"
          },
          "text": ""
         },
         "zerolinecolor": "#E1E5ED"
        },
        "yaxis": {
         "gridcolor": "#E1E5ED",
         "showgrid": true,
         "tickfont": {
          "color": "#4D5663"
         },
         "title": {
          "font": {
           "color": "#4D5663"
          },
          "text": ""
         },
         "zerolinecolor": "#E1E5ED"
        }
       }
      },
      "text/html": [
       "<div>                            <div id=\"fc1bde9d-2f00-4105-aa8b-05fa821b0596\" class=\"plotly-graph-div\" style=\"height:525px; width:100%;\"></div>            <script type=\"text/javascript\">                require([\"plotly\"], function(Plotly) {                    window.PLOTLYENV=window.PLOTLYENV || {};\n",
       "                    window.PLOTLYENV.BASE_URL='https://plot.ly';                                    if (document.getElementById(\"fc1bde9d-2f00-4105-aa8b-05fa821b0596\")) {                    Plotly.newPlot(                        \"fc1bde9d-2f00-4105-aa8b-05fa821b0596\",                        [{\"colorscale\":[[0.0,\"rgb(165,0,38)\"],[0.1,\"rgb(215,48,39)\"],[0.2,\"rgb(244,109,67)\"],[0.3,\"rgb(253,174,97)\"],[0.4,\"rgb(254,224,144)\"],[0.5,\"rgb(255,255,191)\"],[0.6,\"rgb(224,243,248)\"],[0.7,\"rgb(171,217,233)\"],[0.8,\"rgb(116,173,209)\"],[0.9,\"rgb(69,117,180)\"],[1.0,\"rgb(49,54,149)\"]],\"x\":[0,1,2,3,4],\"y\":[\"x\",\"y\",\"z\"],\"z\":[[1,2,3,4,5],[10,20,30,20,10],[5,4,3,2,1]],\"type\":\"surface\"}],                        {\"legend\":{\"bgcolor\":\"#F5F6F9\",\"font\":{\"color\":\"#4D5663\"}},\"paper_bgcolor\":\"#F5F6F9\",\"plot_bgcolor\":\"#F5F6F9\",\"template\":{\"data\":{\"barpolar\":[{\"marker\":{\"line\":{\"color\":\"#E5ECF6\",\"width\":0.5},\"pattern\":{\"fillmode\":\"overlay\",\"size\":10,\"solidity\":0.2}},\"type\":\"barpolar\"}],\"bar\":[{\"error_x\":{\"color\":\"#2a3f5f\"},\"error_y\":{\"color\":\"#2a3f5f\"},\"marker\":{\"line\":{\"color\":\"#E5ECF6\",\"width\":0.5},\"pattern\":{\"fillmode\":\"overlay\",\"size\":10,\"solidity\":0.2}},\"type\":\"bar\"}],\"carpet\":[{\"aaxis\":{\"endlinecolor\":\"#2a3f5f\",\"gridcolor\":\"white\",\"linecolor\":\"white\",\"minorgridcolor\":\"white\",\"startlinecolor\":\"#2a3f5f\"},\"baxis\":{\"endlinecolor\":\"#2a3f5f\",\"gridcolor\":\"white\",\"linecolor\":\"white\",\"minorgridcolor\":\"white\",\"startlinecolor\":\"#2a3f5f\"},\"type\":\"carpet\"}],\"choropleth\":[{\"colorbar\":{\"outlinewidth\":0,\"ticks\":\"\"},\"type\":\"choropleth\"}],\"contourcarpet\":[{\"colorbar\":{\"outlinewidth\":0,\"ticks\":\"\"},\"type\":\"contourcarpet\"}],\"contour\":[{\"colorbar\":{\"outlinewidth\":0,\"ticks\":\"\"},\"colorscale\":[[0.0,\"#0d0887\"],[0.1111111111111111,\"#46039f\"],[0.2222222222222222,\"#7201a8\"],[0.3333333333333333,\"#9c179e\"],[0.4444444444444444,\"#bd3786\"],[0.5555555555555556,\"#d8576b\"],[0.6666666666666666,\"#ed7953\"],[0.7777777777777778,\"#fb9f3a\"],[0.8888888888888888,\"#fdca26\"],[1.0,\"#f0f921\"]],\"type\":\"contour\"}],\"heatmapgl\":[{\"colorbar\":{\"outlinewidth\":0,\"ticks\":\"\"},\"colorscale\":[[0.0,\"#0d0887\"],[0.1111111111111111,\"#46039f\"],[0.2222222222222222,\"#7201a8\"],[0.3333333333333333,\"#9c179e\"],[0.4444444444444444,\"#bd3786\"],[0.5555555555555556,\"#d8576b\"],[0.6666666666666666,\"#ed7953\"],[0.7777777777777778,\"#fb9f3a\"],[0.8888888888888888,\"#fdca26\"],[1.0,\"#f0f921\"]],\"type\":\"heatmapgl\"}],\"heatmap\":[{\"colorbar\":{\"outlinewidth\":0,\"ticks\":\"\"},\"colorscale\":[[0.0,\"#0d0887\"],[0.1111111111111111,\"#46039f\"],[0.2222222222222222,\"#7201a8\"],[0.3333333333333333,\"#9c179e\"],[0.4444444444444444,\"#bd3786\"],[0.5555555555555556,\"#d8576b\"],[0.6666666666666666,\"#ed7953\"],[0.7777777777777778,\"#fb9f3a\"],[0.8888888888888888,\"#fdca26\"],[1.0,\"#f0f921\"]],\"type\":\"heatmap\"}],\"histogram2dcontour\":[{\"colorbar\":{\"outlinewidth\":0,\"ticks\":\"\"},\"colorscale\":[[0.0,\"#0d0887\"],[0.1111111111111111,\"#46039f\"],[0.2222222222222222,\"#7201a8\"],[0.3333333333333333,\"#9c179e\"],[0.4444444444444444,\"#bd3786\"],[0.5555555555555556,\"#d8576b\"],[0.6666666666666666,\"#ed7953\"],[0.7777777777777778,\"#fb9f3a\"],[0.8888888888888888,\"#fdca26\"],[1.0,\"#f0f921\"]],\"type\":\"histogram2dcontour\"}],\"histogram2d\":[{\"colorbar\":{\"outlinewidth\":0,\"ticks\":\"\"},\"colorscale\":[[0.0,\"#0d0887\"],[0.1111111111111111,\"#46039f\"],[0.2222222222222222,\"#7201a8\"],[0.3333333333333333,\"#9c179e\"],[0.4444444444444444,\"#bd3786\"],[0.5555555555555556,\"#d8576b\"],[0.6666666666666666,\"#ed7953\"],[0.7777777777777778,\"#fb9f3a\"],[0.8888888888888888,\"#fdca26\"],[1.0,\"#f0f921\"]],\"type\":\"histogram2d\"}],\"histogram\":[{\"marker\":{\"pattern\":{\"fillmode\":\"overlay\",\"size\":10,\"solidity\":0.2}},\"type\":\"histogram\"}],\"mesh3d\":[{\"colorbar\":{\"outlinewidth\":0,\"ticks\":\"\"},\"type\":\"mesh3d\"}],\"parcoords\":[{\"line\":{\"colorbar\":{\"outlinewidth\":0,\"ticks\":\"\"}},\"type\":\"parcoords\"}],\"pie\":[{\"automargin\":true,\"type\":\"pie\"}],\"scatter3d\":[{\"line\":{\"colorbar\":{\"outlinewidth\":0,\"ticks\":\"\"}},\"marker\":{\"colorbar\":{\"outlinewidth\":0,\"ticks\":\"\"}},\"type\":\"scatter3d\"}],\"scattercarpet\":[{\"marker\":{\"colorbar\":{\"outlinewidth\":0,\"ticks\":\"\"}},\"type\":\"scattercarpet\"}],\"scattergeo\":[{\"marker\":{\"colorbar\":{\"outlinewidth\":0,\"ticks\":\"\"}},\"type\":\"scattergeo\"}],\"scattergl\":[{\"marker\":{\"colorbar\":{\"outlinewidth\":0,\"ticks\":\"\"}},\"type\":\"scattergl\"}],\"scattermapbox\":[{\"marker\":{\"colorbar\":{\"outlinewidth\":0,\"ticks\":\"\"}},\"type\":\"scattermapbox\"}],\"scatterpolargl\":[{\"marker\":{\"colorbar\":{\"outlinewidth\":0,\"ticks\":\"\"}},\"type\":\"scatterpolargl\"}],\"scatterpolar\":[{\"marker\":{\"colorbar\":{\"outlinewidth\":0,\"ticks\":\"\"}},\"type\":\"scatterpolar\"}],\"scatter\":[{\"marker\":{\"colorbar\":{\"outlinewidth\":0,\"ticks\":\"\"}},\"type\":\"scatter\"}],\"scatterternary\":[{\"marker\":{\"colorbar\":{\"outlinewidth\":0,\"ticks\":\"\"}},\"type\":\"scatterternary\"}],\"surface\":[{\"colorbar\":{\"outlinewidth\":0,\"ticks\":\"\"},\"colorscale\":[[0.0,\"#0d0887\"],[0.1111111111111111,\"#46039f\"],[0.2222222222222222,\"#7201a8\"],[0.3333333333333333,\"#9c179e\"],[0.4444444444444444,\"#bd3786\"],[0.5555555555555556,\"#d8576b\"],[0.6666666666666666,\"#ed7953\"],[0.7777777777777778,\"#fb9f3a\"],[0.8888888888888888,\"#fdca26\"],[1.0,\"#f0f921\"]],\"type\":\"surface\"}],\"table\":[{\"cells\":{\"fill\":{\"color\":\"#EBF0F8\"},\"line\":{\"color\":\"white\"}},\"header\":{\"fill\":{\"color\":\"#C8D4E3\"},\"line\":{\"color\":\"white\"}},\"type\":\"table\"}]},\"layout\":{\"annotationdefaults\":{\"arrowcolor\":\"#2a3f5f\",\"arrowhead\":0,\"arrowwidth\":1},\"autotypenumbers\":\"strict\",\"coloraxis\":{\"colorbar\":{\"outlinewidth\":0,\"ticks\":\"\"}},\"colorscale\":{\"diverging\":[[0,\"#8e0152\"],[0.1,\"#c51b7d\"],[0.2,\"#de77ae\"],[0.3,\"#f1b6da\"],[0.4,\"#fde0ef\"],[0.5,\"#f7f7f7\"],[0.6,\"#e6f5d0\"],[0.7,\"#b8e186\"],[0.8,\"#7fbc41\"],[0.9,\"#4d9221\"],[1,\"#276419\"]],\"sequential\":[[0.0,\"#0d0887\"],[0.1111111111111111,\"#46039f\"],[0.2222222222222222,\"#7201a8\"],[0.3333333333333333,\"#9c179e\"],[0.4444444444444444,\"#bd3786\"],[0.5555555555555556,\"#d8576b\"],[0.6666666666666666,\"#ed7953\"],[0.7777777777777778,\"#fb9f3a\"],[0.8888888888888888,\"#fdca26\"],[1.0,\"#f0f921\"]],\"sequentialminus\":[[0.0,\"#0d0887\"],[0.1111111111111111,\"#46039f\"],[0.2222222222222222,\"#7201a8\"],[0.3333333333333333,\"#9c179e\"],[0.4444444444444444,\"#bd3786\"],[0.5555555555555556,\"#d8576b\"],[0.6666666666666666,\"#ed7953\"],[0.7777777777777778,\"#fb9f3a\"],[0.8888888888888888,\"#fdca26\"],[1.0,\"#f0f921\"]]},\"colorway\":[\"#636efa\",\"#EF553B\",\"#00cc96\",\"#ab63fa\",\"#FFA15A\",\"#19d3f3\",\"#FF6692\",\"#B6E880\",\"#FF97FF\",\"#FECB52\"],\"font\":{\"color\":\"#2a3f5f\"},\"geo\":{\"bgcolor\":\"white\",\"lakecolor\":\"white\",\"landcolor\":\"#E5ECF6\",\"showlakes\":true,\"showland\":true,\"subunitcolor\":\"white\"},\"hoverlabel\":{\"align\":\"left\"},\"hovermode\":\"closest\",\"mapbox\":{\"style\":\"light\"},\"paper_bgcolor\":\"white\",\"plot_bgcolor\":\"#E5ECF6\",\"polar\":{\"angularaxis\":{\"gridcolor\":\"white\",\"linecolor\":\"white\",\"ticks\":\"\"},\"bgcolor\":\"#E5ECF6\",\"radialaxis\":{\"gridcolor\":\"white\",\"linecolor\":\"white\",\"ticks\":\"\"}},\"scene\":{\"xaxis\":{\"backgroundcolor\":\"#E5ECF6\",\"gridcolor\":\"white\",\"gridwidth\":2,\"linecolor\":\"white\",\"showbackground\":true,\"ticks\":\"\",\"zerolinecolor\":\"white\"},\"yaxis\":{\"backgroundcolor\":\"#E5ECF6\",\"gridcolor\":\"white\",\"gridwidth\":2,\"linecolor\":\"white\",\"showbackground\":true,\"ticks\":\"\",\"zerolinecolor\":\"white\"},\"zaxis\":{\"backgroundcolor\":\"#E5ECF6\",\"gridcolor\":\"white\",\"gridwidth\":2,\"linecolor\":\"white\",\"showbackground\":true,\"ticks\":\"\",\"zerolinecolor\":\"white\"}},\"shapedefaults\":{\"line\":{\"color\":\"#2a3f5f\"}},\"ternary\":{\"aaxis\":{\"gridcolor\":\"white\",\"linecolor\":\"white\",\"ticks\":\"\"},\"baxis\":{\"gridcolor\":\"white\",\"linecolor\":\"white\",\"ticks\":\"\"},\"bgcolor\":\"#E5ECF6\",\"caxis\":{\"gridcolor\":\"white\",\"linecolor\":\"white\",\"ticks\":\"\"}},\"title\":{\"x\":0.05},\"xaxis\":{\"automargin\":true,\"gridcolor\":\"white\",\"linecolor\":\"white\",\"ticks\":\"\",\"title\":{\"standoff\":15},\"zerolinecolor\":\"white\",\"zerolinewidth\":2},\"yaxis\":{\"automargin\":true,\"gridcolor\":\"white\",\"linecolor\":\"white\",\"ticks\":\"\",\"title\":{\"standoff\":15},\"zerolinecolor\":\"white\",\"zerolinewidth\":2}}},\"title\":{\"font\":{\"color\":\"#4D5663\"}},\"xaxis\":{\"gridcolor\":\"#E1E5ED\",\"showgrid\":true,\"tickfont\":{\"color\":\"#4D5663\"},\"title\":{\"font\":{\"color\":\"#4D5663\"},\"text\":\"\"},\"zerolinecolor\":\"#E1E5ED\"},\"yaxis\":{\"gridcolor\":\"#E1E5ED\",\"showgrid\":true,\"tickfont\":{\"color\":\"#4D5663\"},\"title\":{\"font\":{\"color\":\"#4D5663\"},\"text\":\"\"},\"zerolinecolor\":\"#E1E5ED\"}},                        {\"showLink\": true, \"linkText\": \"Export to plot.ly\", \"plotlyServerURL\": \"https://plot.ly\", \"responsive\": true}                    ).then(function(){\n",
       "                            \n",
       "var gd = document.getElementById('fc1bde9d-2f00-4105-aa8b-05fa821b0596');\n",
       "var x = new MutationObserver(function (mutations, observer) {{\n",
       "        var display = window.getComputedStyle(gd).display;\n",
       "        if (!display || display === 'none') {{\n",
       "            console.log([gd, 'removed!']);\n",
       "            Plotly.purge(gd);\n",
       "            observer.disconnect();\n",
       "        }}\n",
       "}});\n",
       "\n",
       "// Listen for the removal of the full notebook cells\n",
       "var notebookContainer = gd.closest('#notebook-container');\n",
       "if (notebookContainer) {{\n",
       "    x.observe(notebookContainer, {childList: true});\n",
       "}}\n",
       "\n",
       "// Listen for the clearing of the current output cell\n",
       "var outputEl = gd.closest('.output');\n",
       "if (outputEl) {{\n",
       "    x.observe(outputEl, {childList: true});\n",
       "}}\n",
       "\n",
       "                        })                };                });            </script>        </div>"
      ]
     },
     "metadata": {},
     "output_type": "display_data"
    }
   ],
   "source": [
    "df3.iplot(kind = 'surface', colorscale = 'rdylbu');"
   ]
  },
  {
   "cell_type": "code",
   "execution_count": 45,
   "id": "b2f9a695",
   "metadata": {},
   "outputs": [
    {
     "data": {
      "application/vnd.plotly.v1+json": {
       "config": {
        "linkText": "Export to plot.ly",
        "plotlyServerURL": "https://plot.ly",
        "showLink": true
       },
       "data": [
        {
         "histfunc": "count",
         "histnorm": "",
         "marker": {
          "color": "rgba(255, 153, 51, 1.0)",
          "line": {
           "color": "#4D5663",
           "width": 1.3
          }
         },
         "name": "A",
         "nbinsx": 50,
         "opacity": 0.8,
         "orientation": "v",
         "type": "histogram",
         "x": [
          -0.8045319692756239,
          -0.7857508741343778,
          0.39430716210118383,
          0.040154756846361016,
          -1.7322422804433464,
          0.23192449486695912,
          -0.6018949797227127,
          -0.26289401276907864,
          0.05250827501417779,
          1.3215808600707148,
          -0.3415752045912305,
          0.9123430324087752,
          -0.11882811971741239,
          -1.277598509738442,
          1.22129685804723,
          -0.9964878457298946,
          2.6620936089218095,
          -0.4803892863051099,
          -1.4490068334874833,
          -0.5458590243929505,
          0.1806089625886417,
          -0.04853061562212352,
          -0.7519138670027183,
          0.9822323510339834,
          1.3217667116892085,
          -0.4078361976983211,
          -0.7433064246907137,
          1.3097970819898321,
          -0.8885546830130938,
          0.08959952426663148,
          0.7613983182603498,
          1.114935205693224,
          -0.26808691289618436,
          -1.179007519613772,
          -0.8212285519866818,
          0.0171376674536935,
          -1.261984800199849,
          0.7540606103836702,
          1.0365981858780862,
          1.0894455868431638,
          1.467140241494887,
          -0.45420815578998514,
          1.4150942894048062,
          -1.0307095952537535,
          -0.8738128032396157,
          0.8499380934853883,
          0.44623467531343414,
          1.1111190821690289,
          1.5931104775281726,
          -0.4229825602717984,
          -0.347724986376733,
          -0.13542680812754604,
          0.3082974882607674,
          -1.8041564241898107,
          -0.01515489581035622,
          1.2123741242554724,
          1.6091967660300068,
          -0.9099405101509571,
          -1.0607387072884853,
          -0.01457523724299721,
          -0.4606327435061816,
          1.353930884874758,
          0.7192866992265134,
          0.35255737217605587,
          0.17943773439695976,
          -0.0008330315647807776,
          0.013257714626296735,
          -0.4853923909661426,
          0.987472645343711,
          -1.2792863154847292,
          -0.1927603830487624,
          -1.248884129883844,
          0.09746544762239337,
          0.205544722884781,
          -1.6106179773906022,
          -1.4962536071793135,
          1.8804432211155748,
          -0.9024008840300444,
          -1.2721816262871173,
          2.1523784705721707,
          -0.9891223749584839,
          -0.966689724244585,
          -1.001881325254751,
          0.09961378114378827,
          -0.6782575216848209,
          0.6993114545806943,
          0.6321315478915533,
          -0.7053759028281684,
          -0.41772962659482143,
          0.3005169214229249,
          0.6704583648794865,
          -0.3618318985451478,
          1.1737851603704852,
          0.24227025716212627,
          1.4015786878545637,
          -0.20532599663298384,
          -0.25831017270764134,
          -2.0960187662439336,
          0.22663058350173887,
          -1.499548991493352
         ]
        }
       ],
       "layout": {
        "barmode": "overlay",
        "legend": {
         "bgcolor": "#F5F6F9",
         "font": {
          "color": "#4D5663"
         }
        },
        "paper_bgcolor": "#F5F6F9",
        "plot_bgcolor": "#F5F6F9",
        "template": {
         "data": {
          "bar": [
           {
            "error_x": {
             "color": "#2a3f5f"
            },
            "error_y": {
             "color": "#2a3f5f"
            },
            "marker": {
             "line": {
              "color": "#E5ECF6",
              "width": 0.5
             },
             "pattern": {
              "fillmode": "overlay",
              "size": 10,
              "solidity": 0.2
             }
            },
            "type": "bar"
           }
          ],
          "barpolar": [
           {
            "marker": {
             "line": {
              "color": "#E5ECF6",
              "width": 0.5
             },
             "pattern": {
              "fillmode": "overlay",
              "size": 10,
              "solidity": 0.2
             }
            },
            "type": "barpolar"
           }
          ],
          "carpet": [
           {
            "aaxis": {
             "endlinecolor": "#2a3f5f",
             "gridcolor": "white",
             "linecolor": "white",
             "minorgridcolor": "white",
             "startlinecolor": "#2a3f5f"
            },
            "baxis": {
             "endlinecolor": "#2a3f5f",
             "gridcolor": "white",
             "linecolor": "white",
             "minorgridcolor": "white",
             "startlinecolor": "#2a3f5f"
            },
            "type": "carpet"
           }
          ],
          "choropleth": [
           {
            "colorbar": {
             "outlinewidth": 0,
             "ticks": ""
            },
            "type": "choropleth"
           }
          ],
          "contour": [
           {
            "colorbar": {
             "outlinewidth": 0,
             "ticks": ""
            },
            "colorscale": [
             [
              0,
              "#0d0887"
             ],
             [
              0.1111111111111111,
              "#46039f"
             ],
             [
              0.2222222222222222,
              "#7201a8"
             ],
             [
              0.3333333333333333,
              "#9c179e"
             ],
             [
              0.4444444444444444,
              "#bd3786"
             ],
             [
              0.5555555555555556,
              "#d8576b"
             ],
             [
              0.6666666666666666,
              "#ed7953"
             ],
             [
              0.7777777777777778,
              "#fb9f3a"
             ],
             [
              0.8888888888888888,
              "#fdca26"
             ],
             [
              1,
              "#f0f921"
             ]
            ],
            "type": "contour"
           }
          ],
          "contourcarpet": [
           {
            "colorbar": {
             "outlinewidth": 0,
             "ticks": ""
            },
            "type": "contourcarpet"
           }
          ],
          "heatmap": [
           {
            "colorbar": {
             "outlinewidth": 0,
             "ticks": ""
            },
            "colorscale": [
             [
              0,
              "#0d0887"
             ],
             [
              0.1111111111111111,
              "#46039f"
             ],
             [
              0.2222222222222222,
              "#7201a8"
             ],
             [
              0.3333333333333333,
              "#9c179e"
             ],
             [
              0.4444444444444444,
              "#bd3786"
             ],
             [
              0.5555555555555556,
              "#d8576b"
             ],
             [
              0.6666666666666666,
              "#ed7953"
             ],
             [
              0.7777777777777778,
              "#fb9f3a"
             ],
             [
              0.8888888888888888,
              "#fdca26"
             ],
             [
              1,
              "#f0f921"
             ]
            ],
            "type": "heatmap"
           }
          ],
          "heatmapgl": [
           {
            "colorbar": {
             "outlinewidth": 0,
             "ticks": ""
            },
            "colorscale": [
             [
              0,
              "#0d0887"
             ],
             [
              0.1111111111111111,
              "#46039f"
             ],
             [
              0.2222222222222222,
              "#7201a8"
             ],
             [
              0.3333333333333333,
              "#9c179e"
             ],
             [
              0.4444444444444444,
              "#bd3786"
             ],
             [
              0.5555555555555556,
              "#d8576b"
             ],
             [
              0.6666666666666666,
              "#ed7953"
             ],
             [
              0.7777777777777778,
              "#fb9f3a"
             ],
             [
              0.8888888888888888,
              "#fdca26"
             ],
             [
              1,
              "#f0f921"
             ]
            ],
            "type": "heatmapgl"
           }
          ],
          "histogram": [
           {
            "marker": {
             "pattern": {
              "fillmode": "overlay",
              "size": 10,
              "solidity": 0.2
             }
            },
            "type": "histogram"
           }
          ],
          "histogram2d": [
           {
            "colorbar": {
             "outlinewidth": 0,
             "ticks": ""
            },
            "colorscale": [
             [
              0,
              "#0d0887"
             ],
             [
              0.1111111111111111,
              "#46039f"
             ],
             [
              0.2222222222222222,
              "#7201a8"
             ],
             [
              0.3333333333333333,
              "#9c179e"
             ],
             [
              0.4444444444444444,
              "#bd3786"
             ],
             [
              0.5555555555555556,
              "#d8576b"
             ],
             [
              0.6666666666666666,
              "#ed7953"
             ],
             [
              0.7777777777777778,
              "#fb9f3a"
             ],
             [
              0.8888888888888888,
              "#fdca26"
             ],
             [
              1,
              "#f0f921"
             ]
            ],
            "type": "histogram2d"
           }
          ],
          "histogram2dcontour": [
           {
            "colorbar": {
             "outlinewidth": 0,
             "ticks": ""
            },
            "colorscale": [
             [
              0,
              "#0d0887"
             ],
             [
              0.1111111111111111,
              "#46039f"
             ],
             [
              0.2222222222222222,
              "#7201a8"
             ],
             [
              0.3333333333333333,
              "#9c179e"
             ],
             [
              0.4444444444444444,
              "#bd3786"
             ],
             [
              0.5555555555555556,
              "#d8576b"
             ],
             [
              0.6666666666666666,
              "#ed7953"
             ],
             [
              0.7777777777777778,
              "#fb9f3a"
             ],
             [
              0.8888888888888888,
              "#fdca26"
             ],
             [
              1,
              "#f0f921"
             ]
            ],
            "type": "histogram2dcontour"
           }
          ],
          "mesh3d": [
           {
            "colorbar": {
             "outlinewidth": 0,
             "ticks": ""
            },
            "type": "mesh3d"
           }
          ],
          "parcoords": [
           {
            "line": {
             "colorbar": {
              "outlinewidth": 0,
              "ticks": ""
             }
            },
            "type": "parcoords"
           }
          ],
          "pie": [
           {
            "automargin": true,
            "type": "pie"
           }
          ],
          "scatter": [
           {
            "marker": {
             "colorbar": {
              "outlinewidth": 0,
              "ticks": ""
             }
            },
            "type": "scatter"
           }
          ],
          "scatter3d": [
           {
            "line": {
             "colorbar": {
              "outlinewidth": 0,
              "ticks": ""
             }
            },
            "marker": {
             "colorbar": {
              "outlinewidth": 0,
              "ticks": ""
             }
            },
            "type": "scatter3d"
           }
          ],
          "scattercarpet": [
           {
            "marker": {
             "colorbar": {
              "outlinewidth": 0,
              "ticks": ""
             }
            },
            "type": "scattercarpet"
           }
          ],
          "scattergeo": [
           {
            "marker": {
             "colorbar": {
              "outlinewidth": 0,
              "ticks": ""
             }
            },
            "type": "scattergeo"
           }
          ],
          "scattergl": [
           {
            "marker": {
             "colorbar": {
              "outlinewidth": 0,
              "ticks": ""
             }
            },
            "type": "scattergl"
           }
          ],
          "scattermapbox": [
           {
            "marker": {
             "colorbar": {
              "outlinewidth": 0,
              "ticks": ""
             }
            },
            "type": "scattermapbox"
           }
          ],
          "scatterpolar": [
           {
            "marker": {
             "colorbar": {
              "outlinewidth": 0,
              "ticks": ""
             }
            },
            "type": "scatterpolar"
           }
          ],
          "scatterpolargl": [
           {
            "marker": {
             "colorbar": {
              "outlinewidth": 0,
              "ticks": ""
             }
            },
            "type": "scatterpolargl"
           }
          ],
          "scatterternary": [
           {
            "marker": {
             "colorbar": {
              "outlinewidth": 0,
              "ticks": ""
             }
            },
            "type": "scatterternary"
           }
          ],
          "surface": [
           {
            "colorbar": {
             "outlinewidth": 0,
             "ticks": ""
            },
            "colorscale": [
             [
              0,
              "#0d0887"
             ],
             [
              0.1111111111111111,
              "#46039f"
             ],
             [
              0.2222222222222222,
              "#7201a8"
             ],
             [
              0.3333333333333333,
              "#9c179e"
             ],
             [
              0.4444444444444444,
              "#bd3786"
             ],
             [
              0.5555555555555556,
              "#d8576b"
             ],
             [
              0.6666666666666666,
              "#ed7953"
             ],
             [
              0.7777777777777778,
              "#fb9f3a"
             ],
             [
              0.8888888888888888,
              "#fdca26"
             ],
             [
              1,
              "#f0f921"
             ]
            ],
            "type": "surface"
           }
          ],
          "table": [
           {
            "cells": {
             "fill": {
              "color": "#EBF0F8"
             },
             "line": {
              "color": "white"
             }
            },
            "header": {
             "fill": {
              "color": "#C8D4E3"
             },
             "line": {
              "color": "white"
             }
            },
            "type": "table"
           }
          ]
         },
         "layout": {
          "annotationdefaults": {
           "arrowcolor": "#2a3f5f",
           "arrowhead": 0,
           "arrowwidth": 1
          },
          "autotypenumbers": "strict",
          "coloraxis": {
           "colorbar": {
            "outlinewidth": 0,
            "ticks": ""
           }
          },
          "colorscale": {
           "diverging": [
            [
             0,
             "#8e0152"
            ],
            [
             0.1,
             "#c51b7d"
            ],
            [
             0.2,
             "#de77ae"
            ],
            [
             0.3,
             "#f1b6da"
            ],
            [
             0.4,
             "#fde0ef"
            ],
            [
             0.5,
             "#f7f7f7"
            ],
            [
             0.6,
             "#e6f5d0"
            ],
            [
             0.7,
             "#b8e186"
            ],
            [
             0.8,
             "#7fbc41"
            ],
            [
             0.9,
             "#4d9221"
            ],
            [
             1,
             "#276419"
            ]
           ],
           "sequential": [
            [
             0,
             "#0d0887"
            ],
            [
             0.1111111111111111,
             "#46039f"
            ],
            [
             0.2222222222222222,
             "#7201a8"
            ],
            [
             0.3333333333333333,
             "#9c179e"
            ],
            [
             0.4444444444444444,
             "#bd3786"
            ],
            [
             0.5555555555555556,
             "#d8576b"
            ],
            [
             0.6666666666666666,
             "#ed7953"
            ],
            [
             0.7777777777777778,
             "#fb9f3a"
            ],
            [
             0.8888888888888888,
             "#fdca26"
            ],
            [
             1,
             "#f0f921"
            ]
           ],
           "sequentialminus": [
            [
             0,
             "#0d0887"
            ],
            [
             0.1111111111111111,
             "#46039f"
            ],
            [
             0.2222222222222222,
             "#7201a8"
            ],
            [
             0.3333333333333333,
             "#9c179e"
            ],
            [
             0.4444444444444444,
             "#bd3786"
            ],
            [
             0.5555555555555556,
             "#d8576b"
            ],
            [
             0.6666666666666666,
             "#ed7953"
            ],
            [
             0.7777777777777778,
             "#fb9f3a"
            ],
            [
             0.8888888888888888,
             "#fdca26"
            ],
            [
             1,
             "#f0f921"
            ]
           ]
          },
          "colorway": [
           "#636efa",
           "#EF553B",
           "#00cc96",
           "#ab63fa",
           "#FFA15A",
           "#19d3f3",
           "#FF6692",
           "#B6E880",
           "#FF97FF",
           "#FECB52"
          ],
          "font": {
           "color": "#2a3f5f"
          },
          "geo": {
           "bgcolor": "white",
           "lakecolor": "white",
           "landcolor": "#E5ECF6",
           "showlakes": true,
           "showland": true,
           "subunitcolor": "white"
          },
          "hoverlabel": {
           "align": "left"
          },
          "hovermode": "closest",
          "mapbox": {
           "style": "light"
          },
          "paper_bgcolor": "white",
          "plot_bgcolor": "#E5ECF6",
          "polar": {
           "angularaxis": {
            "gridcolor": "white",
            "linecolor": "white",
            "ticks": ""
           },
           "bgcolor": "#E5ECF6",
           "radialaxis": {
            "gridcolor": "white",
            "linecolor": "white",
            "ticks": ""
           }
          },
          "scene": {
           "xaxis": {
            "backgroundcolor": "#E5ECF6",
            "gridcolor": "white",
            "gridwidth": 2,
            "linecolor": "white",
            "showbackground": true,
            "ticks": "",
            "zerolinecolor": "white"
           },
           "yaxis": {
            "backgroundcolor": "#E5ECF6",
            "gridcolor": "white",
            "gridwidth": 2,
            "linecolor": "white",
            "showbackground": true,
            "ticks": "",
            "zerolinecolor": "white"
           },
           "zaxis": {
            "backgroundcolor": "#E5ECF6",
            "gridcolor": "white",
            "gridwidth": 2,
            "linecolor": "white",
            "showbackground": true,
            "ticks": "",
            "zerolinecolor": "white"
           }
          },
          "shapedefaults": {
           "line": {
            "color": "#2a3f5f"
           }
          },
          "ternary": {
           "aaxis": {
            "gridcolor": "white",
            "linecolor": "white",
            "ticks": ""
           },
           "baxis": {
            "gridcolor": "white",
            "linecolor": "white",
            "ticks": ""
           },
           "bgcolor": "#E5ECF6",
           "caxis": {
            "gridcolor": "white",
            "linecolor": "white",
            "ticks": ""
           }
          },
          "title": {
           "x": 0.05
          },
          "xaxis": {
           "automargin": true,
           "gridcolor": "white",
           "linecolor": "white",
           "ticks": "",
           "title": {
            "standoff": 15
           },
           "zerolinecolor": "white",
           "zerolinewidth": 2
          },
          "yaxis": {
           "automargin": true,
           "gridcolor": "white",
           "linecolor": "white",
           "ticks": "",
           "title": {
            "standoff": 15
           },
           "zerolinecolor": "white",
           "zerolinewidth": 2
          }
         }
        },
        "title": {
         "font": {
          "color": "#4D5663"
         }
        },
        "xaxis": {
         "gridcolor": "#E1E5ED",
         "showgrid": true,
         "tickfont": {
          "color": "#4D5663"
         },
         "title": {
          "font": {
           "color": "#4D5663"
          },
          "text": ""
         },
         "zerolinecolor": "#E1E5ED"
        },
        "yaxis": {
         "gridcolor": "#E1E5ED",
         "showgrid": true,
         "tickfont": {
          "color": "#4D5663"
         },
         "title": {
          "font": {
           "color": "#4D5663"
          },
          "text": ""
         },
         "zerolinecolor": "#E1E5ED"
        }
       }
      },
      "text/html": [
       "<div>                            <div id=\"f30167cc-e8b1-4387-9d5d-9e17d0b65cc7\" class=\"plotly-graph-div\" style=\"height:525px; width:100%;\"></div>            <script type=\"text/javascript\">                require([\"plotly\"], function(Plotly) {                    window.PLOTLYENV=window.PLOTLYENV || {};\n",
       "                    window.PLOTLYENV.BASE_URL='https://plot.ly';                                    if (document.getElementById(\"f30167cc-e8b1-4387-9d5d-9e17d0b65cc7\")) {                    Plotly.newPlot(                        \"f30167cc-e8b1-4387-9d5d-9e17d0b65cc7\",                        [{\"histfunc\":\"count\",\"histnorm\":\"\",\"marker\":{\"color\":\"rgba(255, 153, 51, 1.0)\",\"line\":{\"color\":\"#4D5663\",\"width\":1.3}},\"name\":\"A\",\"nbinsx\":50,\"opacity\":0.8,\"orientation\":\"v\",\"x\":[-0.8045319692756239,-0.7857508741343778,0.39430716210118383,0.040154756846361016,-1.7322422804433464,0.23192449486695912,-0.6018949797227127,-0.26289401276907864,0.05250827501417779,1.3215808600707148,-0.3415752045912305,0.9123430324087752,-0.11882811971741239,-1.277598509738442,1.22129685804723,-0.9964878457298946,2.6620936089218095,-0.4803892863051099,-1.4490068334874833,-0.5458590243929505,0.1806089625886417,-0.04853061562212352,-0.7519138670027183,0.9822323510339834,1.3217667116892085,-0.4078361976983211,-0.7433064246907137,1.3097970819898321,-0.8885546830130938,0.08959952426663148,0.7613983182603498,1.114935205693224,-0.26808691289618436,-1.179007519613772,-0.8212285519866818,0.0171376674536935,-1.261984800199849,0.7540606103836702,1.0365981858780862,1.0894455868431638,1.467140241494887,-0.45420815578998514,1.4150942894048062,-1.0307095952537535,-0.8738128032396157,0.8499380934853883,0.44623467531343414,1.1111190821690289,1.5931104775281726,-0.4229825602717984,-0.347724986376733,-0.13542680812754604,0.3082974882607674,-1.8041564241898107,-0.01515489581035622,1.2123741242554724,1.6091967660300068,-0.9099405101509571,-1.0607387072884853,-0.01457523724299721,-0.4606327435061816,1.353930884874758,0.7192866992265134,0.35255737217605587,0.17943773439695976,-0.0008330315647807776,0.013257714626296735,-0.4853923909661426,0.987472645343711,-1.2792863154847292,-0.1927603830487624,-1.248884129883844,0.09746544762239337,0.205544722884781,-1.6106179773906022,-1.4962536071793135,1.8804432211155748,-0.9024008840300444,-1.2721816262871173,2.1523784705721707,-0.9891223749584839,-0.966689724244585,-1.001881325254751,0.09961378114378827,-0.6782575216848209,0.6993114545806943,0.6321315478915533,-0.7053759028281684,-0.41772962659482143,0.3005169214229249,0.6704583648794865,-0.3618318985451478,1.1737851603704852,0.24227025716212627,1.4015786878545637,-0.20532599663298384,-0.25831017270764134,-2.0960187662439336,0.22663058350173887,-1.499548991493352],\"type\":\"histogram\"}],                        {\"barmode\":\"overlay\",\"legend\":{\"bgcolor\":\"#F5F6F9\",\"font\":{\"color\":\"#4D5663\"}},\"paper_bgcolor\":\"#F5F6F9\",\"plot_bgcolor\":\"#F5F6F9\",\"template\":{\"data\":{\"barpolar\":[{\"marker\":{\"line\":{\"color\":\"#E5ECF6\",\"width\":0.5},\"pattern\":{\"fillmode\":\"overlay\",\"size\":10,\"solidity\":0.2}},\"type\":\"barpolar\"}],\"bar\":[{\"error_x\":{\"color\":\"#2a3f5f\"},\"error_y\":{\"color\":\"#2a3f5f\"},\"marker\":{\"line\":{\"color\":\"#E5ECF6\",\"width\":0.5},\"pattern\":{\"fillmode\":\"overlay\",\"size\":10,\"solidity\":0.2}},\"type\":\"bar\"}],\"carpet\":[{\"aaxis\":{\"endlinecolor\":\"#2a3f5f\",\"gridcolor\":\"white\",\"linecolor\":\"white\",\"minorgridcolor\":\"white\",\"startlinecolor\":\"#2a3f5f\"},\"baxis\":{\"endlinecolor\":\"#2a3f5f\",\"gridcolor\":\"white\",\"linecolor\":\"white\",\"minorgridcolor\":\"white\",\"startlinecolor\":\"#2a3f5f\"},\"type\":\"carpet\"}],\"choropleth\":[{\"colorbar\":{\"outlinewidth\":0,\"ticks\":\"\"},\"type\":\"choropleth\"}],\"contourcarpet\":[{\"colorbar\":{\"outlinewidth\":0,\"ticks\":\"\"},\"type\":\"contourcarpet\"}],\"contour\":[{\"colorbar\":{\"outlinewidth\":0,\"ticks\":\"\"},\"colorscale\":[[0.0,\"#0d0887\"],[0.1111111111111111,\"#46039f\"],[0.2222222222222222,\"#7201a8\"],[0.3333333333333333,\"#9c179e\"],[0.4444444444444444,\"#bd3786\"],[0.5555555555555556,\"#d8576b\"],[0.6666666666666666,\"#ed7953\"],[0.7777777777777778,\"#fb9f3a\"],[0.8888888888888888,\"#fdca26\"],[1.0,\"#f0f921\"]],\"type\":\"contour\"}],\"heatmapgl\":[{\"colorbar\":{\"outlinewidth\":0,\"ticks\":\"\"},\"colorscale\":[[0.0,\"#0d0887\"],[0.1111111111111111,\"#46039f\"],[0.2222222222222222,\"#7201a8\"],[0.3333333333333333,\"#9c179e\"],[0.4444444444444444,\"#bd3786\"],[0.5555555555555556,\"#d8576b\"],[0.6666666666666666,\"#ed7953\"],[0.7777777777777778,\"#fb9f3a\"],[0.8888888888888888,\"#fdca26\"],[1.0,\"#f0f921\"]],\"type\":\"heatmapgl\"}],\"heatmap\":[{\"colorbar\":{\"outlinewidth\":0,\"ticks\":\"\"},\"colorscale\":[[0.0,\"#0d0887\"],[0.1111111111111111,\"#46039f\"],[0.2222222222222222,\"#7201a8\"],[0.3333333333333333,\"#9c179e\"],[0.4444444444444444,\"#bd3786\"],[0.5555555555555556,\"#d8576b\"],[0.6666666666666666,\"#ed7953\"],[0.7777777777777778,\"#fb9f3a\"],[0.8888888888888888,\"#fdca26\"],[1.0,\"#f0f921\"]],\"type\":\"heatmap\"}],\"histogram2dcontour\":[{\"colorbar\":{\"outlinewidth\":0,\"ticks\":\"\"},\"colorscale\":[[0.0,\"#0d0887\"],[0.1111111111111111,\"#46039f\"],[0.2222222222222222,\"#7201a8\"],[0.3333333333333333,\"#9c179e\"],[0.4444444444444444,\"#bd3786\"],[0.5555555555555556,\"#d8576b\"],[0.6666666666666666,\"#ed7953\"],[0.7777777777777778,\"#fb9f3a\"],[0.8888888888888888,\"#fdca26\"],[1.0,\"#f0f921\"]],\"type\":\"histogram2dcontour\"}],\"histogram2d\":[{\"colorbar\":{\"outlinewidth\":0,\"ticks\":\"\"},\"colorscale\":[[0.0,\"#0d0887\"],[0.1111111111111111,\"#46039f\"],[0.2222222222222222,\"#7201a8\"],[0.3333333333333333,\"#9c179e\"],[0.4444444444444444,\"#bd3786\"],[0.5555555555555556,\"#d8576b\"],[0.6666666666666666,\"#ed7953\"],[0.7777777777777778,\"#fb9f3a\"],[0.8888888888888888,\"#fdca26\"],[1.0,\"#f0f921\"]],\"type\":\"histogram2d\"}],\"histogram\":[{\"marker\":{\"pattern\":{\"fillmode\":\"overlay\",\"size\":10,\"solidity\":0.2}},\"type\":\"histogram\"}],\"mesh3d\":[{\"colorbar\":{\"outlinewidth\":0,\"ticks\":\"\"},\"type\":\"mesh3d\"}],\"parcoords\":[{\"line\":{\"colorbar\":{\"outlinewidth\":0,\"ticks\":\"\"}},\"type\":\"parcoords\"}],\"pie\":[{\"automargin\":true,\"type\":\"pie\"}],\"scatter3d\":[{\"line\":{\"colorbar\":{\"outlinewidth\":0,\"ticks\":\"\"}},\"marker\":{\"colorbar\":{\"outlinewidth\":0,\"ticks\":\"\"}},\"type\":\"scatter3d\"}],\"scattercarpet\":[{\"marker\":{\"colorbar\":{\"outlinewidth\":0,\"ticks\":\"\"}},\"type\":\"scattercarpet\"}],\"scattergeo\":[{\"marker\":{\"colorbar\":{\"outlinewidth\":0,\"ticks\":\"\"}},\"type\":\"scattergeo\"}],\"scattergl\":[{\"marker\":{\"colorbar\":{\"outlinewidth\":0,\"ticks\":\"\"}},\"type\":\"scattergl\"}],\"scattermapbox\":[{\"marker\":{\"colorbar\":{\"outlinewidth\":0,\"ticks\":\"\"}},\"type\":\"scattermapbox\"}],\"scatterpolargl\":[{\"marker\":{\"colorbar\":{\"outlinewidth\":0,\"ticks\":\"\"}},\"type\":\"scatterpolargl\"}],\"scatterpolar\":[{\"marker\":{\"colorbar\":{\"outlinewidth\":0,\"ticks\":\"\"}},\"type\":\"scatterpolar\"}],\"scatter\":[{\"marker\":{\"colorbar\":{\"outlinewidth\":0,\"ticks\":\"\"}},\"type\":\"scatter\"}],\"scatterternary\":[{\"marker\":{\"colorbar\":{\"outlinewidth\":0,\"ticks\":\"\"}},\"type\":\"scatterternary\"}],\"surface\":[{\"colorbar\":{\"outlinewidth\":0,\"ticks\":\"\"},\"colorscale\":[[0.0,\"#0d0887\"],[0.1111111111111111,\"#46039f\"],[0.2222222222222222,\"#7201a8\"],[0.3333333333333333,\"#9c179e\"],[0.4444444444444444,\"#bd3786\"],[0.5555555555555556,\"#d8576b\"],[0.6666666666666666,\"#ed7953\"],[0.7777777777777778,\"#fb9f3a\"],[0.8888888888888888,\"#fdca26\"],[1.0,\"#f0f921\"]],\"type\":\"surface\"}],\"table\":[{\"cells\":{\"fill\":{\"color\":\"#EBF0F8\"},\"line\":{\"color\":\"white\"}},\"header\":{\"fill\":{\"color\":\"#C8D4E3\"},\"line\":{\"color\":\"white\"}},\"type\":\"table\"}]},\"layout\":{\"annotationdefaults\":{\"arrowcolor\":\"#2a3f5f\",\"arrowhead\":0,\"arrowwidth\":1},\"autotypenumbers\":\"strict\",\"coloraxis\":{\"colorbar\":{\"outlinewidth\":0,\"ticks\":\"\"}},\"colorscale\":{\"diverging\":[[0,\"#8e0152\"],[0.1,\"#c51b7d\"],[0.2,\"#de77ae\"],[0.3,\"#f1b6da\"],[0.4,\"#fde0ef\"],[0.5,\"#f7f7f7\"],[0.6,\"#e6f5d0\"],[0.7,\"#b8e186\"],[0.8,\"#7fbc41\"],[0.9,\"#4d9221\"],[1,\"#276419\"]],\"sequential\":[[0.0,\"#0d0887\"],[0.1111111111111111,\"#46039f\"],[0.2222222222222222,\"#7201a8\"],[0.3333333333333333,\"#9c179e\"],[0.4444444444444444,\"#bd3786\"],[0.5555555555555556,\"#d8576b\"],[0.6666666666666666,\"#ed7953\"],[0.7777777777777778,\"#fb9f3a\"],[0.8888888888888888,\"#fdca26\"],[1.0,\"#f0f921\"]],\"sequentialminus\":[[0.0,\"#0d0887\"],[0.1111111111111111,\"#46039f\"],[0.2222222222222222,\"#7201a8\"],[0.3333333333333333,\"#9c179e\"],[0.4444444444444444,\"#bd3786\"],[0.5555555555555556,\"#d8576b\"],[0.6666666666666666,\"#ed7953\"],[0.7777777777777778,\"#fb9f3a\"],[0.8888888888888888,\"#fdca26\"],[1.0,\"#f0f921\"]]},\"colorway\":[\"#636efa\",\"#EF553B\",\"#00cc96\",\"#ab63fa\",\"#FFA15A\",\"#19d3f3\",\"#FF6692\",\"#B6E880\",\"#FF97FF\",\"#FECB52\"],\"font\":{\"color\":\"#2a3f5f\"},\"geo\":{\"bgcolor\":\"white\",\"lakecolor\":\"white\",\"landcolor\":\"#E5ECF6\",\"showlakes\":true,\"showland\":true,\"subunitcolor\":\"white\"},\"hoverlabel\":{\"align\":\"left\"},\"hovermode\":\"closest\",\"mapbox\":{\"style\":\"light\"},\"paper_bgcolor\":\"white\",\"plot_bgcolor\":\"#E5ECF6\",\"polar\":{\"angularaxis\":{\"gridcolor\":\"white\",\"linecolor\":\"white\",\"ticks\":\"\"},\"bgcolor\":\"#E5ECF6\",\"radialaxis\":{\"gridcolor\":\"white\",\"linecolor\":\"white\",\"ticks\":\"\"}},\"scene\":{\"xaxis\":{\"backgroundcolor\":\"#E5ECF6\",\"gridcolor\":\"white\",\"gridwidth\":2,\"linecolor\":\"white\",\"showbackground\":true,\"ticks\":\"\",\"zerolinecolor\":\"white\"},\"yaxis\":{\"backgroundcolor\":\"#E5ECF6\",\"gridcolor\":\"white\",\"gridwidth\":2,\"linecolor\":\"white\",\"showbackground\":true,\"ticks\":\"\",\"zerolinecolor\":\"white\"},\"zaxis\":{\"backgroundcolor\":\"#E5ECF6\",\"gridcolor\":\"white\",\"gridwidth\":2,\"linecolor\":\"white\",\"showbackground\":true,\"ticks\":\"\",\"zerolinecolor\":\"white\"}},\"shapedefaults\":{\"line\":{\"color\":\"#2a3f5f\"}},\"ternary\":{\"aaxis\":{\"gridcolor\":\"white\",\"linecolor\":\"white\",\"ticks\":\"\"},\"baxis\":{\"gridcolor\":\"white\",\"linecolor\":\"white\",\"ticks\":\"\"},\"bgcolor\":\"#E5ECF6\",\"caxis\":{\"gridcolor\":\"white\",\"linecolor\":\"white\",\"ticks\":\"\"}},\"title\":{\"x\":0.05},\"xaxis\":{\"automargin\":true,\"gridcolor\":\"white\",\"linecolor\":\"white\",\"ticks\":\"\",\"title\":{\"standoff\":15},\"zerolinecolor\":\"white\",\"zerolinewidth\":2},\"yaxis\":{\"automargin\":true,\"gridcolor\":\"white\",\"linecolor\":\"white\",\"ticks\":\"\",\"title\":{\"standoff\":15},\"zerolinecolor\":\"white\",\"zerolinewidth\":2}}},\"title\":{\"font\":{\"color\":\"#4D5663\"}},\"xaxis\":{\"gridcolor\":\"#E1E5ED\",\"showgrid\":true,\"tickfont\":{\"color\":\"#4D5663\"},\"title\":{\"font\":{\"color\":\"#4D5663\"},\"text\":\"\"},\"zerolinecolor\":\"#E1E5ED\"},\"yaxis\":{\"gridcolor\":\"#E1E5ED\",\"showgrid\":true,\"tickfont\":{\"color\":\"#4D5663\"},\"title\":{\"font\":{\"color\":\"#4D5663\"},\"text\":\"\"},\"zerolinecolor\":\"#E1E5ED\"}},                        {\"showLink\": true, \"linkText\": \"Export to plot.ly\", \"plotlyServerURL\": \"https://plot.ly\", \"responsive\": true}                    ).then(function(){\n",
       "                            \n",
       "var gd = document.getElementById('f30167cc-e8b1-4387-9d5d-9e17d0b65cc7');\n",
       "var x = new MutationObserver(function (mutations, observer) {{\n",
       "        var display = window.getComputedStyle(gd).display;\n",
       "        if (!display || display === 'none') {{\n",
       "            console.log([gd, 'removed!']);\n",
       "            Plotly.purge(gd);\n",
       "            observer.disconnect();\n",
       "        }}\n",
       "}});\n",
       "\n",
       "// Listen for the removal of the full notebook cells\n",
       "var notebookContainer = gd.closest('#notebook-container');\n",
       "if (notebookContainer) {{\n",
       "    x.observe(notebookContainer, {childList: true});\n",
       "}}\n",
       "\n",
       "// Listen for the clearing of the current output cell\n",
       "var outputEl = gd.closest('.output');\n",
       "if (outputEl) {{\n",
       "    x.observe(outputEl, {childList: true});\n",
       "}}\n",
       "\n",
       "                        })                };                });            </script>        </div>"
      ]
     },
     "metadata": {},
     "output_type": "display_data"
    }
   ],
   "source": [
    "df['A'].iplot(kind = 'hist', bins= 50);"
   ]
  },
  {
   "cell_type": "code",
   "execution_count": 46,
   "id": "66743be1",
   "metadata": {},
   "outputs": [
    {
     "data": {
      "application/vnd.plotly.v1+json": {
       "config": {
        "linkText": "Export to plot.ly",
        "plotlyServerURL": "https://plot.ly",
        "showLink": true
       },
       "data": [
        {
         "histfunc": "count",
         "histnorm": "",
         "marker": {
          "color": "rgba(255, 153, 51, 1.0)",
          "line": {
           "color": "#4D5663",
           "width": 1.3
          }
         },
         "name": "A",
         "opacity": 0.8,
         "orientation": "v",
         "type": "histogram",
         "x": [
          -0.8045319692756239,
          -0.7857508741343778,
          0.39430716210118383,
          0.040154756846361016,
          -1.7322422804433464,
          0.23192449486695912,
          -0.6018949797227127,
          -0.26289401276907864,
          0.05250827501417779,
          1.3215808600707148,
          -0.3415752045912305,
          0.9123430324087752,
          -0.11882811971741239,
          -1.277598509738442,
          1.22129685804723,
          -0.9964878457298946,
          2.6620936089218095,
          -0.4803892863051099,
          -1.4490068334874833,
          -0.5458590243929505,
          0.1806089625886417,
          -0.04853061562212352,
          -0.7519138670027183,
          0.9822323510339834,
          1.3217667116892085,
          -0.4078361976983211,
          -0.7433064246907137,
          1.3097970819898321,
          -0.8885546830130938,
          0.08959952426663148,
          0.7613983182603498,
          1.114935205693224,
          -0.26808691289618436,
          -1.179007519613772,
          -0.8212285519866818,
          0.0171376674536935,
          -1.261984800199849,
          0.7540606103836702,
          1.0365981858780862,
          1.0894455868431638,
          1.467140241494887,
          -0.45420815578998514,
          1.4150942894048062,
          -1.0307095952537535,
          -0.8738128032396157,
          0.8499380934853883,
          0.44623467531343414,
          1.1111190821690289,
          1.5931104775281726,
          -0.4229825602717984,
          -0.347724986376733,
          -0.13542680812754604,
          0.3082974882607674,
          -1.8041564241898107,
          -0.01515489581035622,
          1.2123741242554724,
          1.6091967660300068,
          -0.9099405101509571,
          -1.0607387072884853,
          -0.01457523724299721,
          -0.4606327435061816,
          1.353930884874758,
          0.7192866992265134,
          0.35255737217605587,
          0.17943773439695976,
          -0.0008330315647807776,
          0.013257714626296735,
          -0.4853923909661426,
          0.987472645343711,
          -1.2792863154847292,
          -0.1927603830487624,
          -1.248884129883844,
          0.09746544762239337,
          0.205544722884781,
          -1.6106179773906022,
          -1.4962536071793135,
          1.8804432211155748,
          -0.9024008840300444,
          -1.2721816262871173,
          2.1523784705721707,
          -0.9891223749584839,
          -0.966689724244585,
          -1.001881325254751,
          0.09961378114378827,
          -0.6782575216848209,
          0.6993114545806943,
          0.6321315478915533,
          -0.7053759028281684,
          -0.41772962659482143,
          0.3005169214229249,
          0.6704583648794865,
          -0.3618318985451478,
          1.1737851603704852,
          0.24227025716212627,
          1.4015786878545637,
          -0.20532599663298384,
          -0.25831017270764134,
          -2.0960187662439336,
          0.22663058350173887,
          -1.499548991493352
         ]
        },
        {
         "histfunc": "count",
         "histnorm": "",
         "marker": {
          "color": "rgba(55, 128, 191, 1.0)",
          "line": {
           "color": "#4D5663",
           "width": 1.3
          }
         },
         "name": "B",
         "opacity": 0.8,
         "orientation": "v",
         "type": "histogram",
         "x": [
          1.380854838531965,
          0.11938502538426132,
          -1.3143531805255566,
          0.6406812285572712,
          0.45901609373282704,
          0.14365163997084188,
          0.04919209970407182,
          -0.14356601653396417,
          -0.13652030629061812,
          0.705737494583953,
          0.4693637488317349,
          -0.22019440349318015,
          0.023077433512087436,
          1.2240704876175075,
          -0.20295579519226248,
          -0.5507208895965063,
          -0.04503975484391459,
          -1.0716079956340958,
          -0.3498571619930785,
          0.05378116157884617,
          0.1914937961172496,
          -0.8001900502593962,
          -1.8724024669870398,
          -1.155013636557828,
          -0.8728225347049191,
          -0.9491040625196484,
          -0.01307810894809895,
          -1.7416462532512975,
          0.7582038042037499,
          1.0245971841296806,
          2.209354664513985,
          0.27962419638957986,
          -0.3625691399492275,
          -0.37384775610699056,
          -0.09090160784772924,
          -0.963449146450701,
          -0.7980032760865212,
          -0.1365887386905632,
          -0.8236488041076043,
          0.12473376344798781,
          -1.5436042717554994,
          -0.6216132617616013,
          1.6894254983684525,
          0.556296337156448,
          -0.785063041863813,
          2.483960864125458,
          -0.43302859825742124,
          0.8939916753077831,
          1.2096210869953685,
          0.9394848885610718,
          -1.4390417869534922,
          1.1168312594389562,
          -0.5365559556172983,
          1.8492172694897153,
          -0.1362841448844875,
          0.6018566047291094,
          0.6036293584590517,
          1.0888599872211706,
          -0.5537892278737087,
          -1.2571168203364704,
          -0.4422470583484276,
          -0.6044378393263163,
          -1.041592179467776,
          1.5009696060524216,
          -0.9109487853431983,
          2.1787784184384558,
          -1.0579386356798106,
          -1.7000597049686215,
          -1.3445417160500615,
          -1.1784242650767685,
          -0.5223318292191497,
          -1.6418690103787708,
          1.6251438590138476,
          -3.8913039112713124,
          -0.5316779558052692,
          0.3711369956120464,
          0.39400732044115944,
          0.5000893212146826,
          -0.1723379534232298,
          -0.8721395911197579,
          -0.36567250291673475,
          1.5156140766192698,
          2.3623075261343915,
          -1.489554844966301,
          1.6413735284669448,
          -0.0929390528011857,
          -0.714291437029099,
          0.130654739297638,
          1.4599097658828708,
          -0.46420506328524286,
          -1.3247869299650787,
          -1.0332844721276573,
          -0.6378849266767722,
          0.5187408321369664,
          0.4352512593360889,
          -0.06583816090115427,
          0.5379177916772021,
          0.28204406416968447,
          -1.04570445537743,
          0.08376817237639435
         ]
        },
        {
         "histfunc": "count",
         "histnorm": "",
         "marker": {
          "color": "rgba(50, 171, 96, 1.0)",
          "line": {
           "color": "#4D5663",
           "width": 1.3
          }
         },
         "name": "C",
         "opacity": 0.8,
         "orientation": "v",
         "type": "histogram",
         "x": [
          -1.8708875734832748,
          0.04425823550598916,
          2.2318098580876335,
          -0.1932162636185701,
          -0.3495142742950361,
          -0.9363714842063803,
          -0.3751675288083557,
          0.24096398472949992,
          0.7839074733605705,
          -0.948046660123082,
          0.9688924880089168,
          0.29601276029714685,
          -1.3281620746071872,
          1.3444769424008969,
          1.5857319136801458,
          -0.7572298115336303,
          -2.1853912146666983,
          0.5794319393647758,
          0.11438605827806371,
          -0.8174361744556506,
          0.2523687940971506,
          1.4635374612249505,
          0.2514716300708972,
          0.5909474815715231,
          0.5743582936896399,
          0.3404858368078811,
          -0.4907552024656146,
          -0.32078836101622105,
          -0.44800327053016514,
          0.9960774558527737,
          0.22467360416969342,
          2.4529081035546207,
          -0.21787418455794888,
          0.6762498754903966,
          -0.48303381928730993,
          -0.16139780190549755,
          -0.5647919533473379,
          -0.3672292350945552,
          -0.278958867299943,
          -0.07128610183100571,
          -0.0351476668971757,
          0.5375339473571906,
          -0.16054867274784868,
          1.2920755922952918,
          1.667640449645262,
          -0.36020101369593516,
          1.4831194257765556,
          0.16674921176253732,
          -0.5377061661274848,
          -1.4134058793381234,
          -0.47496514727810796,
          0.46973511175391053,
          -0.14771132817389718,
          1.5164803577234145,
          -0.6872851570369064,
          0.3298080343624988,
          -0.9444593815516463,
          0.5566413339925547,
          -1.4670673842371387,
          -0.09040314661128307,
          -0.7681215742517598,
          0.22498077143569414,
          0.27567011144228754,
          -1.7401853989682063,
          0.5830003687822239,
          0.3502144296196838,
          -1.8571529961941577,
          0.1901652524422592,
          -0.12813138347420786,
          -1.1874881142031868,
          -0.06773200120193666,
          -0.5034130203140469,
          -1.7569306963537281,
          0.9954700566699439,
          -0.7377403658835474,
          -1.9608339437686828,
          1.0887725214220043,
          1.1615126132641291,
          -1.3425676644410556,
          1.1731778312031338,
          0.5923121609965328,
          -0.49249661917257426,
          -0.13023345722216656,
          -1.459896361013488,
          0.3545202476999806,
          -1.8383904457936295,
          -0.16943713505500044,
          -0.5132237203127183,
          0.3047428775744405,
          -0.10827793167007603,
          0.3317581955489925,
          0.6011410609751754,
          1.1156955619768716,
          1.0934138206778674,
          0.47807489067700687,
          0.2012802882466331,
          0.01618371786285664,
          -0.4205840724709901,
          -1.3314350933539179,
          1.307938271004548
         ]
        },
        {
         "histfunc": "count",
         "histnorm": "",
         "marker": {
          "color": "rgba(128, 0, 128, 1.0)",
          "line": {
           "color": "#4D5663",
           "width": 1.3
          }
         },
         "name": "D",
         "opacity": 0.8,
         "orientation": "v",
         "type": "histogram",
         "x": [
          -0.6243127375617485,
          -1.1740550580744102,
          0.038460727649453415,
          1.473545397199106,
          -0.9521658151129334,
          -0.4848915430788821,
          0.0675901121034954,
          0.805327552498521,
          -0.3678164673871686,
          -0.9210994094835443,
          0.30050191780807356,
          0.12519393915142765,
          1.137088531812455,
          0.2968333543050542,
          0.9444873258850971,
          0.07407865634529899,
          -0.25029023390720306,
          0.3179564559367161,
          -2.5639417290556357,
          0.230886491505683,
          -0.0888265823761594,
          -0.09021836298835495,
          -1.0771186416949865,
          -0.8594551656352457,
          -0.10386030844563789,
          -0.5953859982931564,
          -2.1793723497553326,
          0.11283882512550318,
          -0.5749599969041304,
          -1.1233656099056193,
          2.1314646206198327,
          -1.653124713992959,
          -1.7960268785121087,
          -0.1393410261146086,
          -0.539714578867005,
          0.5856794701890018,
          -0.2071207922317129,
          -0.6972380495463055,
          -1.4852391624389962,
          -0.6132944048119481,
          1.3420483036377386,
          -1.5755224816993758,
          0.2743879523680005,
          -0.4464672218318962,
          -3.378295994805631,
          -0.6707301853353952,
          -0.7587263078274006,
          -0.27706990266371545,
          -0.8225006505775436,
          0.2503955509660361,
          0.038810602206067676,
          -1.0879790827177869,
          -0.5147650195142758,
          0.056920826723514194,
          -0.455853480689292,
          -0.37650380217157314,
          0.8415793821045491,
          0.09174178210241361,
          1.6341077538875552,
          -0.6868086957169546,
          1.2819199478532186,
          -1.182394428328359,
          -0.636493609887241,
          0.4836901410780605,
          -1.7703504544405102,
          -2.170912133455119,
          -0.0822348997199209,
          -1.1309071842819234,
          -0.5383595119236265,
          -0.014834978292038978,
          -0.6162582558907989,
          -0.6883800257753223,
          0.8954912080936425,
          0.9037166248628814,
          1.1873894608157394,
          -0.6123584271721806,
          -1.422847869128479,
          2.3106182679204,
          -0.7881045889309072,
          0.03242724161322168,
          -1.541884412644934,
          -0.9388412359867381,
          -0.5529495445987058,
          0.6732988001879391,
          -0.5893911620958981,
          2.579973066211168,
          -0.3185865876642497,
          0.5761037296869645,
          1.5547217694290791,
          0.3041990392389531,
          0.9716870695179999,
          0.3940485816680812,
          -0.6403195185889015,
          1.0750979233256113,
          0.970106939826967,
          1.9639453540327028,
          1.5346904677398219,
          0.5966181882134294,
          -0.33441777490768804,
          -0.6426062418461276
         ]
        }
       ],
       "layout": {
        "barmode": "overlay",
        "legend": {
         "bgcolor": "#F5F6F9",
         "font": {
          "color": "#4D5663"
         }
        },
        "paper_bgcolor": "#F5F6F9",
        "plot_bgcolor": "#F5F6F9",
        "template": {
         "data": {
          "bar": [
           {
            "error_x": {
             "color": "#2a3f5f"
            },
            "error_y": {
             "color": "#2a3f5f"
            },
            "marker": {
             "line": {
              "color": "#E5ECF6",
              "width": 0.5
             },
             "pattern": {
              "fillmode": "overlay",
              "size": 10,
              "solidity": 0.2
             }
            },
            "type": "bar"
           }
          ],
          "barpolar": [
           {
            "marker": {
             "line": {
              "color": "#E5ECF6",
              "width": 0.5
             },
             "pattern": {
              "fillmode": "overlay",
              "size": 10,
              "solidity": 0.2
             }
            },
            "type": "barpolar"
           }
          ],
          "carpet": [
           {
            "aaxis": {
             "endlinecolor": "#2a3f5f",
             "gridcolor": "white",
             "linecolor": "white",
             "minorgridcolor": "white",
             "startlinecolor": "#2a3f5f"
            },
            "baxis": {
             "endlinecolor": "#2a3f5f",
             "gridcolor": "white",
             "linecolor": "white",
             "minorgridcolor": "white",
             "startlinecolor": "#2a3f5f"
            },
            "type": "carpet"
           }
          ],
          "choropleth": [
           {
            "colorbar": {
             "outlinewidth": 0,
             "ticks": ""
            },
            "type": "choropleth"
           }
          ],
          "contour": [
           {
            "colorbar": {
             "outlinewidth": 0,
             "ticks": ""
            },
            "colorscale": [
             [
              0,
              "#0d0887"
             ],
             [
              0.1111111111111111,
              "#46039f"
             ],
             [
              0.2222222222222222,
              "#7201a8"
             ],
             [
              0.3333333333333333,
              "#9c179e"
             ],
             [
              0.4444444444444444,
              "#bd3786"
             ],
             [
              0.5555555555555556,
              "#d8576b"
             ],
             [
              0.6666666666666666,
              "#ed7953"
             ],
             [
              0.7777777777777778,
              "#fb9f3a"
             ],
             [
              0.8888888888888888,
              "#fdca26"
             ],
             [
              1,
              "#f0f921"
             ]
            ],
            "type": "contour"
           }
          ],
          "contourcarpet": [
           {
            "colorbar": {
             "outlinewidth": 0,
             "ticks": ""
            },
            "type": "contourcarpet"
           }
          ],
          "heatmap": [
           {
            "colorbar": {
             "outlinewidth": 0,
             "ticks": ""
            },
            "colorscale": [
             [
              0,
              "#0d0887"
             ],
             [
              0.1111111111111111,
              "#46039f"
             ],
             [
              0.2222222222222222,
              "#7201a8"
             ],
             [
              0.3333333333333333,
              "#9c179e"
             ],
             [
              0.4444444444444444,
              "#bd3786"
             ],
             [
              0.5555555555555556,
              "#d8576b"
             ],
             [
              0.6666666666666666,
              "#ed7953"
             ],
             [
              0.7777777777777778,
              "#fb9f3a"
             ],
             [
              0.8888888888888888,
              "#fdca26"
             ],
             [
              1,
              "#f0f921"
             ]
            ],
            "type": "heatmap"
           }
          ],
          "heatmapgl": [
           {
            "colorbar": {
             "outlinewidth": 0,
             "ticks": ""
            },
            "colorscale": [
             [
              0,
              "#0d0887"
             ],
             [
              0.1111111111111111,
              "#46039f"
             ],
             [
              0.2222222222222222,
              "#7201a8"
             ],
             [
              0.3333333333333333,
              "#9c179e"
             ],
             [
              0.4444444444444444,
              "#bd3786"
             ],
             [
              0.5555555555555556,
              "#d8576b"
             ],
             [
              0.6666666666666666,
              "#ed7953"
             ],
             [
              0.7777777777777778,
              "#fb9f3a"
             ],
             [
              0.8888888888888888,
              "#fdca26"
             ],
             [
              1,
              "#f0f921"
             ]
            ],
            "type": "heatmapgl"
           }
          ],
          "histogram": [
           {
            "marker": {
             "pattern": {
              "fillmode": "overlay",
              "size": 10,
              "solidity": 0.2
             }
            },
            "type": "histogram"
           }
          ],
          "histogram2d": [
           {
            "colorbar": {
             "outlinewidth": 0,
             "ticks": ""
            },
            "colorscale": [
             [
              0,
              "#0d0887"
             ],
             [
              0.1111111111111111,
              "#46039f"
             ],
             [
              0.2222222222222222,
              "#7201a8"
             ],
             [
              0.3333333333333333,
              "#9c179e"
             ],
             [
              0.4444444444444444,
              "#bd3786"
             ],
             [
              0.5555555555555556,
              "#d8576b"
             ],
             [
              0.6666666666666666,
              "#ed7953"
             ],
             [
              0.7777777777777778,
              "#fb9f3a"
             ],
             [
              0.8888888888888888,
              "#fdca26"
             ],
             [
              1,
              "#f0f921"
             ]
            ],
            "type": "histogram2d"
           }
          ],
          "histogram2dcontour": [
           {
            "colorbar": {
             "outlinewidth": 0,
             "ticks": ""
            },
            "colorscale": [
             [
              0,
              "#0d0887"
             ],
             [
              0.1111111111111111,
              "#46039f"
             ],
             [
              0.2222222222222222,
              "#7201a8"
             ],
             [
              0.3333333333333333,
              "#9c179e"
             ],
             [
              0.4444444444444444,
              "#bd3786"
             ],
             [
              0.5555555555555556,
              "#d8576b"
             ],
             [
              0.6666666666666666,
              "#ed7953"
             ],
             [
              0.7777777777777778,
              "#fb9f3a"
             ],
             [
              0.8888888888888888,
              "#fdca26"
             ],
             [
              1,
              "#f0f921"
             ]
            ],
            "type": "histogram2dcontour"
           }
          ],
          "mesh3d": [
           {
            "colorbar": {
             "outlinewidth": 0,
             "ticks": ""
            },
            "type": "mesh3d"
           }
          ],
          "parcoords": [
           {
            "line": {
             "colorbar": {
              "outlinewidth": 0,
              "ticks": ""
             }
            },
            "type": "parcoords"
           }
          ],
          "pie": [
           {
            "automargin": true,
            "type": "pie"
           }
          ],
          "scatter": [
           {
            "marker": {
             "colorbar": {
              "outlinewidth": 0,
              "ticks": ""
             }
            },
            "type": "scatter"
           }
          ],
          "scatter3d": [
           {
            "line": {
             "colorbar": {
              "outlinewidth": 0,
              "ticks": ""
             }
            },
            "marker": {
             "colorbar": {
              "outlinewidth": 0,
              "ticks": ""
             }
            },
            "type": "scatter3d"
           }
          ],
          "scattercarpet": [
           {
            "marker": {
             "colorbar": {
              "outlinewidth": 0,
              "ticks": ""
             }
            },
            "type": "scattercarpet"
           }
          ],
          "scattergeo": [
           {
            "marker": {
             "colorbar": {
              "outlinewidth": 0,
              "ticks": ""
             }
            },
            "type": "scattergeo"
           }
          ],
          "scattergl": [
           {
            "marker": {
             "colorbar": {
              "outlinewidth": 0,
              "ticks": ""
             }
            },
            "type": "scattergl"
           }
          ],
          "scattermapbox": [
           {
            "marker": {
             "colorbar": {
              "outlinewidth": 0,
              "ticks": ""
             }
            },
            "type": "scattermapbox"
           }
          ],
          "scatterpolar": [
           {
            "marker": {
             "colorbar": {
              "outlinewidth": 0,
              "ticks": ""
             }
            },
            "type": "scatterpolar"
           }
          ],
          "scatterpolargl": [
           {
            "marker": {
             "colorbar": {
              "outlinewidth": 0,
              "ticks": ""
             }
            },
            "type": "scatterpolargl"
           }
          ],
          "scatterternary": [
           {
            "marker": {
             "colorbar": {
              "outlinewidth": 0,
              "ticks": ""
             }
            },
            "type": "scatterternary"
           }
          ],
          "surface": [
           {
            "colorbar": {
             "outlinewidth": 0,
             "ticks": ""
            },
            "colorscale": [
             [
              0,
              "#0d0887"
             ],
             [
              0.1111111111111111,
              "#46039f"
             ],
             [
              0.2222222222222222,
              "#7201a8"
             ],
             [
              0.3333333333333333,
              "#9c179e"
             ],
             [
              0.4444444444444444,
              "#bd3786"
             ],
             [
              0.5555555555555556,
              "#d8576b"
             ],
             [
              0.6666666666666666,
              "#ed7953"
             ],
             [
              0.7777777777777778,
              "#fb9f3a"
             ],
             [
              0.8888888888888888,
              "#fdca26"
             ],
             [
              1,
              "#f0f921"
             ]
            ],
            "type": "surface"
           }
          ],
          "table": [
           {
            "cells": {
             "fill": {
              "color": "#EBF0F8"
             },
             "line": {
              "color": "white"
             }
            },
            "header": {
             "fill": {
              "color": "#C8D4E3"
             },
             "line": {
              "color": "white"
             }
            },
            "type": "table"
           }
          ]
         },
         "layout": {
          "annotationdefaults": {
           "arrowcolor": "#2a3f5f",
           "arrowhead": 0,
           "arrowwidth": 1
          },
          "autotypenumbers": "strict",
          "coloraxis": {
           "colorbar": {
            "outlinewidth": 0,
            "ticks": ""
           }
          },
          "colorscale": {
           "diverging": [
            [
             0,
             "#8e0152"
            ],
            [
             0.1,
             "#c51b7d"
            ],
            [
             0.2,
             "#de77ae"
            ],
            [
             0.3,
             "#f1b6da"
            ],
            [
             0.4,
             "#fde0ef"
            ],
            [
             0.5,
             "#f7f7f7"
            ],
            [
             0.6,
             "#e6f5d0"
            ],
            [
             0.7,
             "#b8e186"
            ],
            [
             0.8,
             "#7fbc41"
            ],
            [
             0.9,
             "#4d9221"
            ],
            [
             1,
             "#276419"
            ]
           ],
           "sequential": [
            [
             0,
             "#0d0887"
            ],
            [
             0.1111111111111111,
             "#46039f"
            ],
            [
             0.2222222222222222,
             "#7201a8"
            ],
            [
             0.3333333333333333,
             "#9c179e"
            ],
            [
             0.4444444444444444,
             "#bd3786"
            ],
            [
             0.5555555555555556,
             "#d8576b"
            ],
            [
             0.6666666666666666,
             "#ed7953"
            ],
            [
             0.7777777777777778,
             "#fb9f3a"
            ],
            [
             0.8888888888888888,
             "#fdca26"
            ],
            [
             1,
             "#f0f921"
            ]
           ],
           "sequentialminus": [
            [
             0,
             "#0d0887"
            ],
            [
             0.1111111111111111,
             "#46039f"
            ],
            [
             0.2222222222222222,
             "#7201a8"
            ],
            [
             0.3333333333333333,
             "#9c179e"
            ],
            [
             0.4444444444444444,
             "#bd3786"
            ],
            [
             0.5555555555555556,
             "#d8576b"
            ],
            [
             0.6666666666666666,
             "#ed7953"
            ],
            [
             0.7777777777777778,
             "#fb9f3a"
            ],
            [
             0.8888888888888888,
             "#fdca26"
            ],
            [
             1,
             "#f0f921"
            ]
           ]
          },
          "colorway": [
           "#636efa",
           "#EF553B",
           "#00cc96",
           "#ab63fa",
           "#FFA15A",
           "#19d3f3",
           "#FF6692",
           "#B6E880",
           "#FF97FF",
           "#FECB52"
          ],
          "font": {
           "color": "#2a3f5f"
          },
          "geo": {
           "bgcolor": "white",
           "lakecolor": "white",
           "landcolor": "#E5ECF6",
           "showlakes": true,
           "showland": true,
           "subunitcolor": "white"
          },
          "hoverlabel": {
           "align": "left"
          },
          "hovermode": "closest",
          "mapbox": {
           "style": "light"
          },
          "paper_bgcolor": "white",
          "plot_bgcolor": "#E5ECF6",
          "polar": {
           "angularaxis": {
            "gridcolor": "white",
            "linecolor": "white",
            "ticks": ""
           },
           "bgcolor": "#E5ECF6",
           "radialaxis": {
            "gridcolor": "white",
            "linecolor": "white",
            "ticks": ""
           }
          },
          "scene": {
           "xaxis": {
            "backgroundcolor": "#E5ECF6",
            "gridcolor": "white",
            "gridwidth": 2,
            "linecolor": "white",
            "showbackground": true,
            "ticks": "",
            "zerolinecolor": "white"
           },
           "yaxis": {
            "backgroundcolor": "#E5ECF6",
            "gridcolor": "white",
            "gridwidth": 2,
            "linecolor": "white",
            "showbackground": true,
            "ticks": "",
            "zerolinecolor": "white"
           },
           "zaxis": {
            "backgroundcolor": "#E5ECF6",
            "gridcolor": "white",
            "gridwidth": 2,
            "linecolor": "white",
            "showbackground": true,
            "ticks": "",
            "zerolinecolor": "white"
           }
          },
          "shapedefaults": {
           "line": {
            "color": "#2a3f5f"
           }
          },
          "ternary": {
           "aaxis": {
            "gridcolor": "white",
            "linecolor": "white",
            "ticks": ""
           },
           "baxis": {
            "gridcolor": "white",
            "linecolor": "white",
            "ticks": ""
           },
           "bgcolor": "#E5ECF6",
           "caxis": {
            "gridcolor": "white",
            "linecolor": "white",
            "ticks": ""
           }
          },
          "title": {
           "x": 0.05
          },
          "xaxis": {
           "automargin": true,
           "gridcolor": "white",
           "linecolor": "white",
           "ticks": "",
           "title": {
            "standoff": 15
           },
           "zerolinecolor": "white",
           "zerolinewidth": 2
          },
          "yaxis": {
           "automargin": true,
           "gridcolor": "white",
           "linecolor": "white",
           "ticks": "",
           "title": {
            "standoff": 15
           },
           "zerolinecolor": "white",
           "zerolinewidth": 2
          }
         }
        },
        "title": {
         "font": {
          "color": "#4D5663"
         }
        },
        "xaxis": {
         "gridcolor": "#E1E5ED",
         "showgrid": true,
         "tickfont": {
          "color": "#4D5663"
         },
         "title": {
          "font": {
           "color": "#4D5663"
          },
          "text": ""
         },
         "zerolinecolor": "#E1E5ED"
        },
        "yaxis": {
         "gridcolor": "#E1E5ED",
         "showgrid": true,
         "tickfont": {
          "color": "#4D5663"
         },
         "title": {
          "font": {
           "color": "#4D5663"
          },
          "text": ""
         },
         "zerolinecolor": "#E1E5ED"
        }
       }
      },
      "text/html": [
       "<div>                            <div id=\"9f4ce939-600d-40e7-9635-787cd665ee71\" class=\"plotly-graph-div\" style=\"height:525px; width:100%;\"></div>            <script type=\"text/javascript\">                require([\"plotly\"], function(Plotly) {                    window.PLOTLYENV=window.PLOTLYENV || {};\n",
       "                    window.PLOTLYENV.BASE_URL='https://plot.ly';                                    if (document.getElementById(\"9f4ce939-600d-40e7-9635-787cd665ee71\")) {                    Plotly.newPlot(                        \"9f4ce939-600d-40e7-9635-787cd665ee71\",                        [{\"histfunc\":\"count\",\"histnorm\":\"\",\"marker\":{\"color\":\"rgba(255, 153, 51, 1.0)\",\"line\":{\"color\":\"#4D5663\",\"width\":1.3}},\"name\":\"A\",\"opacity\":0.8,\"orientation\":\"v\",\"x\":[-0.8045319692756239,-0.7857508741343778,0.39430716210118383,0.040154756846361016,-1.7322422804433464,0.23192449486695912,-0.6018949797227127,-0.26289401276907864,0.05250827501417779,1.3215808600707148,-0.3415752045912305,0.9123430324087752,-0.11882811971741239,-1.277598509738442,1.22129685804723,-0.9964878457298946,2.6620936089218095,-0.4803892863051099,-1.4490068334874833,-0.5458590243929505,0.1806089625886417,-0.04853061562212352,-0.7519138670027183,0.9822323510339834,1.3217667116892085,-0.4078361976983211,-0.7433064246907137,1.3097970819898321,-0.8885546830130938,0.08959952426663148,0.7613983182603498,1.114935205693224,-0.26808691289618436,-1.179007519613772,-0.8212285519866818,0.0171376674536935,-1.261984800199849,0.7540606103836702,1.0365981858780862,1.0894455868431638,1.467140241494887,-0.45420815578998514,1.4150942894048062,-1.0307095952537535,-0.8738128032396157,0.8499380934853883,0.44623467531343414,1.1111190821690289,1.5931104775281726,-0.4229825602717984,-0.347724986376733,-0.13542680812754604,0.3082974882607674,-1.8041564241898107,-0.01515489581035622,1.2123741242554724,1.6091967660300068,-0.9099405101509571,-1.0607387072884853,-0.01457523724299721,-0.4606327435061816,1.353930884874758,0.7192866992265134,0.35255737217605587,0.17943773439695976,-0.0008330315647807776,0.013257714626296735,-0.4853923909661426,0.987472645343711,-1.2792863154847292,-0.1927603830487624,-1.248884129883844,0.09746544762239337,0.205544722884781,-1.6106179773906022,-1.4962536071793135,1.8804432211155748,-0.9024008840300444,-1.2721816262871173,2.1523784705721707,-0.9891223749584839,-0.966689724244585,-1.001881325254751,0.09961378114378827,-0.6782575216848209,0.6993114545806943,0.6321315478915533,-0.7053759028281684,-0.41772962659482143,0.3005169214229249,0.6704583648794865,-0.3618318985451478,1.1737851603704852,0.24227025716212627,1.4015786878545637,-0.20532599663298384,-0.25831017270764134,-2.0960187662439336,0.22663058350173887,-1.499548991493352],\"type\":\"histogram\"},{\"histfunc\":\"count\",\"histnorm\":\"\",\"marker\":{\"color\":\"rgba(55, 128, 191, 1.0)\",\"line\":{\"color\":\"#4D5663\",\"width\":1.3}},\"name\":\"B\",\"opacity\":0.8,\"orientation\":\"v\",\"x\":[1.380854838531965,0.11938502538426132,-1.3143531805255566,0.6406812285572712,0.45901609373282704,0.14365163997084188,0.04919209970407182,-0.14356601653396417,-0.13652030629061812,0.705737494583953,0.4693637488317349,-0.22019440349318015,0.023077433512087436,1.2240704876175075,-0.20295579519226248,-0.5507208895965063,-0.04503975484391459,-1.0716079956340958,-0.3498571619930785,0.05378116157884617,0.1914937961172496,-0.8001900502593962,-1.8724024669870398,-1.155013636557828,-0.8728225347049191,-0.9491040625196484,-0.01307810894809895,-1.7416462532512975,0.7582038042037499,1.0245971841296806,2.209354664513985,0.27962419638957986,-0.3625691399492275,-0.37384775610699056,-0.09090160784772924,-0.963449146450701,-0.7980032760865212,-0.1365887386905632,-0.8236488041076043,0.12473376344798781,-1.5436042717554994,-0.6216132617616013,1.6894254983684525,0.556296337156448,-0.785063041863813,2.483960864125458,-0.43302859825742124,0.8939916753077831,1.2096210869953685,0.9394848885610718,-1.4390417869534922,1.1168312594389562,-0.5365559556172983,1.8492172694897153,-0.1362841448844875,0.6018566047291094,0.6036293584590517,1.0888599872211706,-0.5537892278737087,-1.2571168203364704,-0.4422470583484276,-0.6044378393263163,-1.041592179467776,1.5009696060524216,-0.9109487853431983,2.1787784184384558,-1.0579386356798106,-1.7000597049686215,-1.3445417160500615,-1.1784242650767685,-0.5223318292191497,-1.6418690103787708,1.6251438590138476,-3.8913039112713124,-0.5316779558052692,0.3711369956120464,0.39400732044115944,0.5000893212146826,-0.1723379534232298,-0.8721395911197579,-0.36567250291673475,1.5156140766192698,2.3623075261343915,-1.489554844966301,1.6413735284669448,-0.0929390528011857,-0.714291437029099,0.130654739297638,1.4599097658828708,-0.46420506328524286,-1.3247869299650787,-1.0332844721276573,-0.6378849266767722,0.5187408321369664,0.4352512593360889,-0.06583816090115427,0.5379177916772021,0.28204406416968447,-1.04570445537743,0.08376817237639435],\"type\":\"histogram\"},{\"histfunc\":\"count\",\"histnorm\":\"\",\"marker\":{\"color\":\"rgba(50, 171, 96, 1.0)\",\"line\":{\"color\":\"#4D5663\",\"width\":1.3}},\"name\":\"C\",\"opacity\":0.8,\"orientation\":\"v\",\"x\":[-1.8708875734832748,0.04425823550598916,2.2318098580876335,-0.1932162636185701,-0.3495142742950361,-0.9363714842063803,-0.3751675288083557,0.24096398472949992,0.7839074733605705,-0.948046660123082,0.9688924880089168,0.29601276029714685,-1.3281620746071872,1.3444769424008969,1.5857319136801458,-0.7572298115336303,-2.1853912146666983,0.5794319393647758,0.11438605827806371,-0.8174361744556506,0.2523687940971506,1.4635374612249505,0.2514716300708972,0.5909474815715231,0.5743582936896399,0.3404858368078811,-0.4907552024656146,-0.32078836101622105,-0.44800327053016514,0.9960774558527737,0.22467360416969342,2.4529081035546207,-0.21787418455794888,0.6762498754903966,-0.48303381928730993,-0.16139780190549755,-0.5647919533473379,-0.3672292350945552,-0.278958867299943,-0.07128610183100571,-0.0351476668971757,0.5375339473571906,-0.16054867274784868,1.2920755922952918,1.667640449645262,-0.36020101369593516,1.4831194257765556,0.16674921176253732,-0.5377061661274848,-1.4134058793381234,-0.47496514727810796,0.46973511175391053,-0.14771132817389718,1.5164803577234145,-0.6872851570369064,0.3298080343624988,-0.9444593815516463,0.5566413339925547,-1.4670673842371387,-0.09040314661128307,-0.7681215742517598,0.22498077143569414,0.27567011144228754,-1.7401853989682063,0.5830003687822239,0.3502144296196838,-1.8571529961941577,0.1901652524422592,-0.12813138347420786,-1.1874881142031868,-0.06773200120193666,-0.5034130203140469,-1.7569306963537281,0.9954700566699439,-0.7377403658835474,-1.9608339437686828,1.0887725214220043,1.1615126132641291,-1.3425676644410556,1.1731778312031338,0.5923121609965328,-0.49249661917257426,-0.13023345722216656,-1.459896361013488,0.3545202476999806,-1.8383904457936295,-0.16943713505500044,-0.5132237203127183,0.3047428775744405,-0.10827793167007603,0.3317581955489925,0.6011410609751754,1.1156955619768716,1.0934138206778674,0.47807489067700687,0.2012802882466331,0.01618371786285664,-0.4205840724709901,-1.3314350933539179,1.307938271004548],\"type\":\"histogram\"},{\"histfunc\":\"count\",\"histnorm\":\"\",\"marker\":{\"color\":\"rgba(128, 0, 128, 1.0)\",\"line\":{\"color\":\"#4D5663\",\"width\":1.3}},\"name\":\"D\",\"opacity\":0.8,\"orientation\":\"v\",\"x\":[-0.6243127375617485,-1.1740550580744102,0.038460727649453415,1.473545397199106,-0.9521658151129334,-0.4848915430788821,0.0675901121034954,0.805327552498521,-0.3678164673871686,-0.9210994094835443,0.30050191780807356,0.12519393915142765,1.137088531812455,0.2968333543050542,0.9444873258850971,0.07407865634529899,-0.25029023390720306,0.3179564559367161,-2.5639417290556357,0.230886491505683,-0.0888265823761594,-0.09021836298835495,-1.0771186416949865,-0.8594551656352457,-0.10386030844563789,-0.5953859982931564,-2.1793723497553326,0.11283882512550318,-0.5749599969041304,-1.1233656099056193,2.1314646206198327,-1.653124713992959,-1.7960268785121087,-0.1393410261146086,-0.539714578867005,0.5856794701890018,-0.2071207922317129,-0.6972380495463055,-1.4852391624389962,-0.6132944048119481,1.3420483036377386,-1.5755224816993758,0.2743879523680005,-0.4464672218318962,-3.378295994805631,-0.6707301853353952,-0.7587263078274006,-0.27706990266371545,-0.8225006505775436,0.2503955509660361,0.038810602206067676,-1.0879790827177869,-0.5147650195142758,0.056920826723514194,-0.455853480689292,-0.37650380217157314,0.8415793821045491,0.09174178210241361,1.6341077538875552,-0.6868086957169546,1.2819199478532186,-1.182394428328359,-0.636493609887241,0.4836901410780605,-1.7703504544405102,-2.170912133455119,-0.0822348997199209,-1.1309071842819234,-0.5383595119236265,-0.014834978292038978,-0.6162582558907989,-0.6883800257753223,0.8954912080936425,0.9037166248628814,1.1873894608157394,-0.6123584271721806,-1.422847869128479,2.3106182679204,-0.7881045889309072,0.03242724161322168,-1.541884412644934,-0.9388412359867381,-0.5529495445987058,0.6732988001879391,-0.5893911620958981,2.579973066211168,-0.3185865876642497,0.5761037296869645,1.5547217694290791,0.3041990392389531,0.9716870695179999,0.3940485816680812,-0.6403195185889015,1.0750979233256113,0.970106939826967,1.9639453540327028,1.5346904677398219,0.5966181882134294,-0.33441777490768804,-0.6426062418461276],\"type\":\"histogram\"}],                        {\"barmode\":\"overlay\",\"legend\":{\"bgcolor\":\"#F5F6F9\",\"font\":{\"color\":\"#4D5663\"}},\"paper_bgcolor\":\"#F5F6F9\",\"plot_bgcolor\":\"#F5F6F9\",\"template\":{\"data\":{\"barpolar\":[{\"marker\":{\"line\":{\"color\":\"#E5ECF6\",\"width\":0.5},\"pattern\":{\"fillmode\":\"overlay\",\"size\":10,\"solidity\":0.2}},\"type\":\"barpolar\"}],\"bar\":[{\"error_x\":{\"color\":\"#2a3f5f\"},\"error_y\":{\"color\":\"#2a3f5f\"},\"marker\":{\"line\":{\"color\":\"#E5ECF6\",\"width\":0.5},\"pattern\":{\"fillmode\":\"overlay\",\"size\":10,\"solidity\":0.2}},\"type\":\"bar\"}],\"carpet\":[{\"aaxis\":{\"endlinecolor\":\"#2a3f5f\",\"gridcolor\":\"white\",\"linecolor\":\"white\",\"minorgridcolor\":\"white\",\"startlinecolor\":\"#2a3f5f\"},\"baxis\":{\"endlinecolor\":\"#2a3f5f\",\"gridcolor\":\"white\",\"linecolor\":\"white\",\"minorgridcolor\":\"white\",\"startlinecolor\":\"#2a3f5f\"},\"type\":\"carpet\"}],\"choropleth\":[{\"colorbar\":{\"outlinewidth\":0,\"ticks\":\"\"},\"type\":\"choropleth\"}],\"contourcarpet\":[{\"colorbar\":{\"outlinewidth\":0,\"ticks\":\"\"},\"type\":\"contourcarpet\"}],\"contour\":[{\"colorbar\":{\"outlinewidth\":0,\"ticks\":\"\"},\"colorscale\":[[0.0,\"#0d0887\"],[0.1111111111111111,\"#46039f\"],[0.2222222222222222,\"#7201a8\"],[0.3333333333333333,\"#9c179e\"],[0.4444444444444444,\"#bd3786\"],[0.5555555555555556,\"#d8576b\"],[0.6666666666666666,\"#ed7953\"],[0.7777777777777778,\"#fb9f3a\"],[0.8888888888888888,\"#fdca26\"],[1.0,\"#f0f921\"]],\"type\":\"contour\"}],\"heatmapgl\":[{\"colorbar\":{\"outlinewidth\":0,\"ticks\":\"\"},\"colorscale\":[[0.0,\"#0d0887\"],[0.1111111111111111,\"#46039f\"],[0.2222222222222222,\"#7201a8\"],[0.3333333333333333,\"#9c179e\"],[0.4444444444444444,\"#bd3786\"],[0.5555555555555556,\"#d8576b\"],[0.6666666666666666,\"#ed7953\"],[0.7777777777777778,\"#fb9f3a\"],[0.8888888888888888,\"#fdca26\"],[1.0,\"#f0f921\"]],\"type\":\"heatmapgl\"}],\"heatmap\":[{\"colorbar\":{\"outlinewidth\":0,\"ticks\":\"\"},\"colorscale\":[[0.0,\"#0d0887\"],[0.1111111111111111,\"#46039f\"],[0.2222222222222222,\"#7201a8\"],[0.3333333333333333,\"#9c179e\"],[0.4444444444444444,\"#bd3786\"],[0.5555555555555556,\"#d8576b\"],[0.6666666666666666,\"#ed7953\"],[0.7777777777777778,\"#fb9f3a\"],[0.8888888888888888,\"#fdca26\"],[1.0,\"#f0f921\"]],\"type\":\"heatmap\"}],\"histogram2dcontour\":[{\"colorbar\":{\"outlinewidth\":0,\"ticks\":\"\"},\"colorscale\":[[0.0,\"#0d0887\"],[0.1111111111111111,\"#46039f\"],[0.2222222222222222,\"#7201a8\"],[0.3333333333333333,\"#9c179e\"],[0.4444444444444444,\"#bd3786\"],[0.5555555555555556,\"#d8576b\"],[0.6666666666666666,\"#ed7953\"],[0.7777777777777778,\"#fb9f3a\"],[0.8888888888888888,\"#fdca26\"],[1.0,\"#f0f921\"]],\"type\":\"histogram2dcontour\"}],\"histogram2d\":[{\"colorbar\":{\"outlinewidth\":0,\"ticks\":\"\"},\"colorscale\":[[0.0,\"#0d0887\"],[0.1111111111111111,\"#46039f\"],[0.2222222222222222,\"#7201a8\"],[0.3333333333333333,\"#9c179e\"],[0.4444444444444444,\"#bd3786\"],[0.5555555555555556,\"#d8576b\"],[0.6666666666666666,\"#ed7953\"],[0.7777777777777778,\"#fb9f3a\"],[0.8888888888888888,\"#fdca26\"],[1.0,\"#f0f921\"]],\"type\":\"histogram2d\"}],\"histogram\":[{\"marker\":{\"pattern\":{\"fillmode\":\"overlay\",\"size\":10,\"solidity\":0.2}},\"type\":\"histogram\"}],\"mesh3d\":[{\"colorbar\":{\"outlinewidth\":0,\"ticks\":\"\"},\"type\":\"mesh3d\"}],\"parcoords\":[{\"line\":{\"colorbar\":{\"outlinewidth\":0,\"ticks\":\"\"}},\"type\":\"parcoords\"}],\"pie\":[{\"automargin\":true,\"type\":\"pie\"}],\"scatter3d\":[{\"line\":{\"colorbar\":{\"outlinewidth\":0,\"ticks\":\"\"}},\"marker\":{\"colorbar\":{\"outlinewidth\":0,\"ticks\":\"\"}},\"type\":\"scatter3d\"}],\"scattercarpet\":[{\"marker\":{\"colorbar\":{\"outlinewidth\":0,\"ticks\":\"\"}},\"type\":\"scattercarpet\"}],\"scattergeo\":[{\"marker\":{\"colorbar\":{\"outlinewidth\":0,\"ticks\":\"\"}},\"type\":\"scattergeo\"}],\"scattergl\":[{\"marker\":{\"colorbar\":{\"outlinewidth\":0,\"ticks\":\"\"}},\"type\":\"scattergl\"}],\"scattermapbox\":[{\"marker\":{\"colorbar\":{\"outlinewidth\":0,\"ticks\":\"\"}},\"type\":\"scattermapbox\"}],\"scatterpolargl\":[{\"marker\":{\"colorbar\":{\"outlinewidth\":0,\"ticks\":\"\"}},\"type\":\"scatterpolargl\"}],\"scatterpolar\":[{\"marker\":{\"colorbar\":{\"outlinewidth\":0,\"ticks\":\"\"}},\"type\":\"scatterpolar\"}],\"scatter\":[{\"marker\":{\"colorbar\":{\"outlinewidth\":0,\"ticks\":\"\"}},\"type\":\"scatter\"}],\"scatterternary\":[{\"marker\":{\"colorbar\":{\"outlinewidth\":0,\"ticks\":\"\"}},\"type\":\"scatterternary\"}],\"surface\":[{\"colorbar\":{\"outlinewidth\":0,\"ticks\":\"\"},\"colorscale\":[[0.0,\"#0d0887\"],[0.1111111111111111,\"#46039f\"],[0.2222222222222222,\"#7201a8\"],[0.3333333333333333,\"#9c179e\"],[0.4444444444444444,\"#bd3786\"],[0.5555555555555556,\"#d8576b\"],[0.6666666666666666,\"#ed7953\"],[0.7777777777777778,\"#fb9f3a\"],[0.8888888888888888,\"#fdca26\"],[1.0,\"#f0f921\"]],\"type\":\"surface\"}],\"table\":[{\"cells\":{\"fill\":{\"color\":\"#EBF0F8\"},\"line\":{\"color\":\"white\"}},\"header\":{\"fill\":{\"color\":\"#C8D4E3\"},\"line\":{\"color\":\"white\"}},\"type\":\"table\"}]},\"layout\":{\"annotationdefaults\":{\"arrowcolor\":\"#2a3f5f\",\"arrowhead\":0,\"arrowwidth\":1},\"autotypenumbers\":\"strict\",\"coloraxis\":{\"colorbar\":{\"outlinewidth\":0,\"ticks\":\"\"}},\"colorscale\":{\"diverging\":[[0,\"#8e0152\"],[0.1,\"#c51b7d\"],[0.2,\"#de77ae\"],[0.3,\"#f1b6da\"],[0.4,\"#fde0ef\"],[0.5,\"#f7f7f7\"],[0.6,\"#e6f5d0\"],[0.7,\"#b8e186\"],[0.8,\"#7fbc41\"],[0.9,\"#4d9221\"],[1,\"#276419\"]],\"sequential\":[[0.0,\"#0d0887\"],[0.1111111111111111,\"#46039f\"],[0.2222222222222222,\"#7201a8\"],[0.3333333333333333,\"#9c179e\"],[0.4444444444444444,\"#bd3786\"],[0.5555555555555556,\"#d8576b\"],[0.6666666666666666,\"#ed7953\"],[0.7777777777777778,\"#fb9f3a\"],[0.8888888888888888,\"#fdca26\"],[1.0,\"#f0f921\"]],\"sequentialminus\":[[0.0,\"#0d0887\"],[0.1111111111111111,\"#46039f\"],[0.2222222222222222,\"#7201a8\"],[0.3333333333333333,\"#9c179e\"],[0.4444444444444444,\"#bd3786\"],[0.5555555555555556,\"#d8576b\"],[0.6666666666666666,\"#ed7953\"],[0.7777777777777778,\"#fb9f3a\"],[0.8888888888888888,\"#fdca26\"],[1.0,\"#f0f921\"]]},\"colorway\":[\"#636efa\",\"#EF553B\",\"#00cc96\",\"#ab63fa\",\"#FFA15A\",\"#19d3f3\",\"#FF6692\",\"#B6E880\",\"#FF97FF\",\"#FECB52\"],\"font\":{\"color\":\"#2a3f5f\"},\"geo\":{\"bgcolor\":\"white\",\"lakecolor\":\"white\",\"landcolor\":\"#E5ECF6\",\"showlakes\":true,\"showland\":true,\"subunitcolor\":\"white\"},\"hoverlabel\":{\"align\":\"left\"},\"hovermode\":\"closest\",\"mapbox\":{\"style\":\"light\"},\"paper_bgcolor\":\"white\",\"plot_bgcolor\":\"#E5ECF6\",\"polar\":{\"angularaxis\":{\"gridcolor\":\"white\",\"linecolor\":\"white\",\"ticks\":\"\"},\"bgcolor\":\"#E5ECF6\",\"radialaxis\":{\"gridcolor\":\"white\",\"linecolor\":\"white\",\"ticks\":\"\"}},\"scene\":{\"xaxis\":{\"backgroundcolor\":\"#E5ECF6\",\"gridcolor\":\"white\",\"gridwidth\":2,\"linecolor\":\"white\",\"showbackground\":true,\"ticks\":\"\",\"zerolinecolor\":\"white\"},\"yaxis\":{\"backgroundcolor\":\"#E5ECF6\",\"gridcolor\":\"white\",\"gridwidth\":2,\"linecolor\":\"white\",\"showbackground\":true,\"ticks\":\"\",\"zerolinecolor\":\"white\"},\"zaxis\":{\"backgroundcolor\":\"#E5ECF6\",\"gridcolor\":\"white\",\"gridwidth\":2,\"linecolor\":\"white\",\"showbackground\":true,\"ticks\":\"\",\"zerolinecolor\":\"white\"}},\"shapedefaults\":{\"line\":{\"color\":\"#2a3f5f\"}},\"ternary\":{\"aaxis\":{\"gridcolor\":\"white\",\"linecolor\":\"white\",\"ticks\":\"\"},\"baxis\":{\"gridcolor\":\"white\",\"linecolor\":\"white\",\"ticks\":\"\"},\"bgcolor\":\"#E5ECF6\",\"caxis\":{\"gridcolor\":\"white\",\"linecolor\":\"white\",\"ticks\":\"\"}},\"title\":{\"x\":0.05},\"xaxis\":{\"automargin\":true,\"gridcolor\":\"white\",\"linecolor\":\"white\",\"ticks\":\"\",\"title\":{\"standoff\":15},\"zerolinecolor\":\"white\",\"zerolinewidth\":2},\"yaxis\":{\"automargin\":true,\"gridcolor\":\"white\",\"linecolor\":\"white\",\"ticks\":\"\",\"title\":{\"standoff\":15},\"zerolinecolor\":\"white\",\"zerolinewidth\":2}}},\"title\":{\"font\":{\"color\":\"#4D5663\"}},\"xaxis\":{\"gridcolor\":\"#E1E5ED\",\"showgrid\":true,\"tickfont\":{\"color\":\"#4D5663\"},\"title\":{\"font\":{\"color\":\"#4D5663\"},\"text\":\"\"},\"zerolinecolor\":\"#E1E5ED\"},\"yaxis\":{\"gridcolor\":\"#E1E5ED\",\"showgrid\":true,\"tickfont\":{\"color\":\"#4D5663\"},\"title\":{\"font\":{\"color\":\"#4D5663\"},\"text\":\"\"},\"zerolinecolor\":\"#E1E5ED\"}},                        {\"showLink\": true, \"linkText\": \"Export to plot.ly\", \"plotlyServerURL\": \"https://plot.ly\", \"responsive\": true}                    ).then(function(){\n",
       "                            \n",
       "var gd = document.getElementById('9f4ce939-600d-40e7-9635-787cd665ee71');\n",
       "var x = new MutationObserver(function (mutations, observer) {{\n",
       "        var display = window.getComputedStyle(gd).display;\n",
       "        if (!display || display === 'none') {{\n",
       "            console.log([gd, 'removed!']);\n",
       "            Plotly.purge(gd);\n",
       "            observer.disconnect();\n",
       "        }}\n",
       "}});\n",
       "\n",
       "// Listen for the removal of the full notebook cells\n",
       "var notebookContainer = gd.closest('#notebook-container');\n",
       "if (notebookContainer) {{\n",
       "    x.observe(notebookContainer, {childList: true});\n",
       "}}\n",
       "\n",
       "// Listen for the clearing of the current output cell\n",
       "var outputEl = gd.closest('.output');\n",
       "if (outputEl) {{\n",
       "    x.observe(outputEl, {childList: true});\n",
       "}}\n",
       "\n",
       "                        })                };                });            </script>        </div>"
      ]
     },
     "metadata": {},
     "output_type": "display_data"
    }
   ],
   "source": [
    "df.iplot(kind= 'hist');"
   ]
  },
  {
   "cell_type": "code",
   "execution_count": 47,
   "id": "c3457fd7",
   "metadata": {},
   "outputs": [
    {
     "data": {
      "text/html": [
       "<div>\n",
       "<style scoped>\n",
       "    .dataframe tbody tr th:only-of-type {\n",
       "        vertical-align: middle;\n",
       "    }\n",
       "\n",
       "    .dataframe tbody tr th {\n",
       "        vertical-align: top;\n",
       "    }\n",
       "\n",
       "    .dataframe thead th {\n",
       "        text-align: right;\n",
       "    }\n",
       "</style>\n",
       "<table border=\"1\" class=\"dataframe\">\n",
       "  <thead>\n",
       "    <tr style=\"text-align: right;\">\n",
       "      <th></th>\n",
       "      <th>A</th>\n",
       "      <th>B</th>\n",
       "    </tr>\n",
       "  </thead>\n",
       "  <tbody>\n",
       "    <tr>\n",
       "      <th>0</th>\n",
       "      <td>-0.804532</td>\n",
       "      <td>1.380855</td>\n",
       "    </tr>\n",
       "    <tr>\n",
       "      <th>1</th>\n",
       "      <td>-0.785751</td>\n",
       "      <td>0.119385</td>\n",
       "    </tr>\n",
       "    <tr>\n",
       "      <th>2</th>\n",
       "      <td>0.394307</td>\n",
       "      <td>-1.314353</td>\n",
       "    </tr>\n",
       "    <tr>\n",
       "      <th>3</th>\n",
       "      <td>0.040155</td>\n",
       "      <td>0.640681</td>\n",
       "    </tr>\n",
       "    <tr>\n",
       "      <th>4</th>\n",
       "      <td>-1.732242</td>\n",
       "      <td>0.459016</td>\n",
       "    </tr>\n",
       "    <tr>\n",
       "      <th>...</th>\n",
       "      <td>...</td>\n",
       "      <td>...</td>\n",
       "    </tr>\n",
       "    <tr>\n",
       "      <th>95</th>\n",
       "      <td>-0.205326</td>\n",
       "      <td>-0.065838</td>\n",
       "    </tr>\n",
       "    <tr>\n",
       "      <th>96</th>\n",
       "      <td>-0.258310</td>\n",
       "      <td>0.537918</td>\n",
       "    </tr>\n",
       "    <tr>\n",
       "      <th>97</th>\n",
       "      <td>-2.096019</td>\n",
       "      <td>0.282044</td>\n",
       "    </tr>\n",
       "    <tr>\n",
       "      <th>98</th>\n",
       "      <td>0.226631</td>\n",
       "      <td>-1.045704</td>\n",
       "    </tr>\n",
       "    <tr>\n",
       "      <th>99</th>\n",
       "      <td>-1.499549</td>\n",
       "      <td>0.083768</td>\n",
       "    </tr>\n",
       "  </tbody>\n",
       "</table>\n",
       "<p>100 rows × 2 columns</p>\n",
       "</div>"
      ],
      "text/plain": [
       "           A         B\n",
       "0  -0.804532  1.380855\n",
       "1  -0.785751  0.119385\n",
       "2   0.394307 -1.314353\n",
       "3   0.040155  0.640681\n",
       "4  -1.732242  0.459016\n",
       "..       ...       ...\n",
       "95 -0.205326 -0.065838\n",
       "96 -0.258310  0.537918\n",
       "97 -2.096019  0.282044\n",
       "98  0.226631 -1.045704\n",
       "99 -1.499549  0.083768\n",
       "\n",
       "[100 rows x 2 columns]"
      ]
     },
     "execution_count": 47,
     "metadata": {},
     "output_type": "execute_result"
    }
   ],
   "source": [
    "df[['A', 'B']]"
   ]
  },
  {
   "cell_type": "code",
   "execution_count": 48,
   "id": "35ab627a",
   "metadata": {},
   "outputs": [
    {
     "name": "stderr",
     "output_type": "stream",
     "text": [
      "C:\\Users\\Shahbaz\\anaconda3\\lib\\site-packages\\cufflinks\\plotlytools.py:849: FutureWarning:\n",
      "\n",
      "The pandas.np module is deprecated and will be removed from pandas in a future version. Import numpy directly instead\n",
      "\n",
      "C:\\Users\\Shahbaz\\anaconda3\\lib\\site-packages\\cufflinks\\plotlytools.py:850: FutureWarning:\n",
      "\n",
      "The pandas.np module is deprecated and will be removed from pandas in a future version. Import numpy directly instead\n",
      "\n"
     ]
    },
    {
     "data": {
      "application/vnd.plotly.v1+json": {
       "config": {
        "linkText": "Export to plot.ly",
        "plotlyServerURL": "https://plot.ly",
        "showLink": true
       },
       "data": [
        {
         "line": {
          "color": "rgba(255, 153, 51, 1.0)",
          "dash": "solid",
          "shape": "linear",
          "width": 1.3
         },
         "mode": "lines",
         "name": "A",
         "text": "",
         "type": "scatter",
         "x": [
          0,
          1,
          2,
          3,
          4,
          5,
          6,
          7,
          8,
          9,
          10,
          11,
          12,
          13,
          14,
          15,
          16,
          17,
          18,
          19,
          20,
          21,
          22,
          23,
          24,
          25,
          26,
          27,
          28,
          29,
          30,
          31,
          32,
          33,
          34,
          35,
          36,
          37,
          38,
          39,
          40,
          41,
          42,
          43,
          44,
          45,
          46,
          47,
          48,
          49,
          50,
          51,
          52,
          53,
          54,
          55,
          56,
          57,
          58,
          59,
          60,
          61,
          62,
          63,
          64,
          65,
          66,
          67,
          68,
          69,
          70,
          71,
          72,
          73,
          74,
          75,
          76,
          77,
          78,
          79,
          80,
          81,
          82,
          83,
          84,
          85,
          86,
          87,
          88,
          89,
          90,
          91,
          92,
          93,
          94,
          95,
          96,
          97,
          98,
          99
         ],
         "y": [
          -0.8045319692756239,
          -0.7857508741343778,
          0.39430716210118383,
          0.040154756846361016,
          -1.7322422804433464,
          0.23192449486695912,
          -0.6018949797227127,
          -0.26289401276907864,
          0.05250827501417779,
          1.3215808600707148,
          -0.3415752045912305,
          0.9123430324087752,
          -0.11882811971741239,
          -1.277598509738442,
          1.22129685804723,
          -0.9964878457298946,
          2.6620936089218095,
          -0.4803892863051099,
          -1.4490068334874833,
          -0.5458590243929505,
          0.1806089625886417,
          -0.04853061562212352,
          -0.7519138670027183,
          0.9822323510339834,
          1.3217667116892085,
          -0.4078361976983211,
          -0.7433064246907137,
          1.3097970819898321,
          -0.8885546830130938,
          0.08959952426663148,
          0.7613983182603498,
          1.114935205693224,
          -0.26808691289618436,
          -1.179007519613772,
          -0.8212285519866818,
          0.0171376674536935,
          -1.261984800199849,
          0.7540606103836702,
          1.0365981858780862,
          1.0894455868431638,
          1.467140241494887,
          -0.45420815578998514,
          1.4150942894048062,
          -1.0307095952537535,
          -0.8738128032396157,
          0.8499380934853883,
          0.44623467531343414,
          1.1111190821690289,
          1.5931104775281726,
          -0.4229825602717984,
          -0.347724986376733,
          -0.13542680812754604,
          0.3082974882607674,
          -1.8041564241898107,
          -0.01515489581035622,
          1.2123741242554724,
          1.6091967660300068,
          -0.9099405101509571,
          -1.0607387072884853,
          -0.01457523724299721,
          -0.4606327435061816,
          1.353930884874758,
          0.7192866992265134,
          0.35255737217605587,
          0.17943773439695976,
          -0.0008330315647807776,
          0.013257714626296735,
          -0.4853923909661426,
          0.987472645343711,
          -1.2792863154847292,
          -0.1927603830487624,
          -1.248884129883844,
          0.09746544762239337,
          0.205544722884781,
          -1.6106179773906022,
          -1.4962536071793135,
          1.8804432211155748,
          -0.9024008840300444,
          -1.2721816262871173,
          2.1523784705721707,
          -0.9891223749584839,
          -0.966689724244585,
          -1.001881325254751,
          0.09961378114378827,
          -0.6782575216848209,
          0.6993114545806943,
          0.6321315478915533,
          -0.7053759028281684,
          -0.41772962659482143,
          0.3005169214229249,
          0.6704583648794865,
          -0.3618318985451478,
          1.1737851603704852,
          0.24227025716212627,
          1.4015786878545637,
          -0.20532599663298384,
          -0.25831017270764134,
          -2.0960187662439336,
          0.22663058350173887,
          -1.499548991493352
         ]
        },
        {
         "line": {
          "color": "rgba(55, 128, 191, 1.0)",
          "dash": "solid",
          "shape": "linear",
          "width": 1.3
         },
         "mode": "lines",
         "name": "B",
         "text": "",
         "type": "scatter",
         "x": [
          0,
          1,
          2,
          3,
          4,
          5,
          6,
          7,
          8,
          9,
          10,
          11,
          12,
          13,
          14,
          15,
          16,
          17,
          18,
          19,
          20,
          21,
          22,
          23,
          24,
          25,
          26,
          27,
          28,
          29,
          30,
          31,
          32,
          33,
          34,
          35,
          36,
          37,
          38,
          39,
          40,
          41,
          42,
          43,
          44,
          45,
          46,
          47,
          48,
          49,
          50,
          51,
          52,
          53,
          54,
          55,
          56,
          57,
          58,
          59,
          60,
          61,
          62,
          63,
          64,
          65,
          66,
          67,
          68,
          69,
          70,
          71,
          72,
          73,
          74,
          75,
          76,
          77,
          78,
          79,
          80,
          81,
          82,
          83,
          84,
          85,
          86,
          87,
          88,
          89,
          90,
          91,
          92,
          93,
          94,
          95,
          96,
          97,
          98,
          99
         ],
         "y": [
          1.380854838531965,
          0.11938502538426132,
          -1.3143531805255566,
          0.6406812285572712,
          0.45901609373282704,
          0.14365163997084188,
          0.04919209970407182,
          -0.14356601653396417,
          -0.13652030629061812,
          0.705737494583953,
          0.4693637488317349,
          -0.22019440349318015,
          0.023077433512087436,
          1.2240704876175075,
          -0.20295579519226248,
          -0.5507208895965063,
          -0.04503975484391459,
          -1.0716079956340958,
          -0.3498571619930785,
          0.05378116157884617,
          0.1914937961172496,
          -0.8001900502593962,
          -1.8724024669870398,
          -1.155013636557828,
          -0.8728225347049191,
          -0.9491040625196484,
          -0.01307810894809895,
          -1.7416462532512975,
          0.7582038042037499,
          1.0245971841296806,
          2.209354664513985,
          0.27962419638957986,
          -0.3625691399492275,
          -0.37384775610699056,
          -0.09090160784772924,
          -0.963449146450701,
          -0.7980032760865212,
          -0.1365887386905632,
          -0.8236488041076043,
          0.12473376344798781,
          -1.5436042717554994,
          -0.6216132617616013,
          1.6894254983684525,
          0.556296337156448,
          -0.785063041863813,
          2.483960864125458,
          -0.43302859825742124,
          0.8939916753077831,
          1.2096210869953685,
          0.9394848885610718,
          -1.4390417869534922,
          1.1168312594389562,
          -0.5365559556172983,
          1.8492172694897153,
          -0.1362841448844875,
          0.6018566047291094,
          0.6036293584590517,
          1.0888599872211706,
          -0.5537892278737087,
          -1.2571168203364704,
          -0.4422470583484276,
          -0.6044378393263163,
          -1.041592179467776,
          1.5009696060524216,
          -0.9109487853431983,
          2.1787784184384558,
          -1.0579386356798106,
          -1.7000597049686215,
          -1.3445417160500615,
          -1.1784242650767685,
          -0.5223318292191497,
          -1.6418690103787708,
          1.6251438590138476,
          -3.8913039112713124,
          -0.5316779558052692,
          0.3711369956120464,
          0.39400732044115944,
          0.5000893212146826,
          -0.1723379534232298,
          -0.8721395911197579,
          -0.36567250291673475,
          1.5156140766192698,
          2.3623075261343915,
          -1.489554844966301,
          1.6413735284669448,
          -0.0929390528011857,
          -0.714291437029099,
          0.130654739297638,
          1.4599097658828708,
          -0.46420506328524286,
          -1.3247869299650787,
          -1.0332844721276573,
          -0.6378849266767722,
          0.5187408321369664,
          0.4352512593360889,
          -0.06583816090115427,
          0.5379177916772021,
          0.28204406416968447,
          -1.04570445537743,
          0.08376817237639435
         ]
        },
        {
         "connectgaps": false,
         "fill": "tozeroy",
         "line": {
          "color": "green",
          "dash": "solid",
          "shape": "linear",
          "width": 0.5
         },
         "mode": "lines",
         "name": "Spread",
         "showlegend": false,
         "type": "scatter",
         "x": [
          0,
          1,
          2,
          3,
          4,
          5,
          6,
          7,
          8,
          9,
          10,
          11,
          12,
          13,
          14,
          15,
          16,
          17,
          18,
          19,
          20,
          21,
          22,
          23,
          24,
          25,
          26,
          27,
          28,
          29,
          30,
          31,
          32,
          33,
          34,
          35,
          36,
          37,
          38,
          39,
          40,
          41,
          42,
          43,
          44,
          45,
          46,
          47,
          48,
          49,
          50,
          51,
          52,
          53,
          54,
          55,
          56,
          57,
          58,
          59,
          60,
          61,
          62,
          63,
          64,
          65,
          66,
          67,
          68,
          69,
          70,
          71,
          72,
          73,
          74,
          75,
          76,
          77,
          78,
          79,
          80,
          81,
          82,
          83,
          84,
          85,
          86,
          87,
          88,
          89,
          90,
          91,
          92,
          93,
          94,
          95,
          96,
          97,
          98,
          99
         ],
         "xaxis": "x2",
         "y": [
          "",
          "",
          1.7086603426267404,
          "",
          "",
          0.08827285489611725,
          "",
          "",
          0.1890285813047959,
          0.6158433654867619,
          "",
          1.1325374359019553,
          "",
          "",
          1.4242526532394926,
          "",
          2.707133363765724,
          0.5912187093289859,
          "",
          "",
          "",
          0.7516594346372727,
          1.1204885999843215,
          2.1372459875918115,
          2.1945892463941274,
          0.5412678648213274,
          "",
          3.05144333524113,
          "",
          "",
          "",
          0.8353110093036442,
          0.09448222705304316,
          "",
          "",
          0.9805868139043945,
          "",
          0.8906493490742334,
          1.8602469899856904,
          0.964711823395176,
          3.0107445132503865,
          0.16740510597161612,
          "",
          "",
          "",
          "",
          0.8792632735708554,
          0.21712740686124576,
          0.38348939053280406,
          "",
          1.091316800576759,
          "",
          0.8448534438780657,
          "",
          0.12112924907413129,
          0.610517519526363,
          1.005567407570955,
          "",
          "",
          1.2425415830934732,
          "",
          1.9583687242010743,
          1.7608788786942895,
          "",
          1.090386519740158,
          "",
          1.0711963503061073,
          1.2146673140024788,
          2.3320143613937727,
          "",
          0.32957144617038725,
          0.39298488049492675,
          "",
          4.0968486341560935,
          "",
          "",
          1.4864359006744154,
          "",
          "",
          3.0245180616919285,
          "",
          "",
          "",
          1.5891686261100892,
          "",
          0.79225050738188,
          1.3464229849206524,
          "",
          "",
          0.7647219847081678,
          1.9952452948445654,
          0.6714525735825094,
          1.8116700870472573,
          "",
          0.9663274285184749,
          "",
          "",
          "",
          1.2723350388791688,
          ""
         ],
         "yaxis": "y2"
        },
        {
         "connectgaps": false,
         "fill": "tozeroy",
         "line": {
          "color": "red",
          "dash": "solid",
          "shape": "linear",
          "width": 0.5
         },
         "mode": "lines",
         "name": "Spread",
         "showlegend": false,
         "type": "scatter",
         "x": [
          0,
          1,
          2,
          3,
          4,
          5,
          6,
          7,
          8,
          9,
          10,
          11,
          12,
          13,
          14,
          15,
          16,
          17,
          18,
          19,
          20,
          21,
          22,
          23,
          24,
          25,
          26,
          27,
          28,
          29,
          30,
          31,
          32,
          33,
          34,
          35,
          36,
          37,
          38,
          39,
          40,
          41,
          42,
          43,
          44,
          45,
          46,
          47,
          48,
          49,
          50,
          51,
          52,
          53,
          54,
          55,
          56,
          57,
          58,
          59,
          60,
          61,
          62,
          63,
          64,
          65,
          66,
          67,
          68,
          69,
          70,
          71,
          72,
          73,
          74,
          75,
          76,
          77,
          78,
          79,
          80,
          81,
          82,
          83,
          84,
          85,
          86,
          87,
          88,
          89,
          90,
          91,
          92,
          93,
          94,
          95,
          96,
          97,
          98,
          99
         ],
         "xaxis": "x2",
         "y": [
          -2.185386807807589,
          -0.9051358995186392,
          "",
          -0.6005264717109101,
          -2.1912583741761735,
          "",
          -0.6510870794267845,
          -0.11932799623511448,
          "",
          "",
          -0.8109389534229654,
          "",
          -0.14190555322949983,
          -2.5016689973559494,
          "",
          -0.44576695613338824,
          "",
          "",
          -1.0991496714944047,
          -0.5996401859717967,
          -0.01088483352860789,
          "",
          "",
          "",
          "",
          "",
          -0.7302283157426148,
          "",
          -1.6467584872168437,
          -0.9349976598630492,
          -1.4479563462536351,
          "",
          "",
          -0.8051597635067813,
          -0.7303269441389525,
          "",
          -0.4639815241133278,
          "",
          "",
          "",
          "",
          "",
          -0.27433120896364627,
          -1.5870059324102015,
          -0.0887497613758027,
          -1.6340227706400698,
          "",
          "",
          "",
          -1.3624674488328703,
          "",
          -1.2522580675665023,
          "",
          -3.653373693679526,
          "",
          "",
          "",
          -1.9988004973721276,
          -0.5069494794147766,
          "",
          -0.018385685157754017,
          "",
          "",
          -1.1484122338763658,
          "",
          -2.1796114500032364,
          "",
          "",
          "",
          -0.1008620504079607,
          "",
          "",
          -1.5276784113914543,
          "",
          -1.0789400215853329,
          -1.8673906027913598,
          "",
          -1.402490205244727,
          -1.0998436728638874,
          "",
          -0.6234498720417492,
          -2.4823038008638547,
          -3.3641888513891427,
          "",
          -2.3196310501517656,
          "",
          "",
          -0.8360306421258064,
          -1.8776393924776922,
          "",
          "",
          "",
          "",
          -0.2764705749748402,
          "",
          -0.13948783573182957,
          -0.7962279643848434,
          -2.378062830413618,
          "",
          -1.5833171638697463
         ],
         "yaxis": "y2"
        }
       ],
       "layout": {
        "hovermode": "x",
        "legend": {
         "bgcolor": "#F5F6F9",
         "font": {
          "color": "#4D5663"
         }
        },
        "paper_bgcolor": "#F5F6F9",
        "plot_bgcolor": "#F5F6F9",
        "template": {
         "data": {
          "bar": [
           {
            "error_x": {
             "color": "#2a3f5f"
            },
            "error_y": {
             "color": "#2a3f5f"
            },
            "marker": {
             "line": {
              "color": "#E5ECF6",
              "width": 0.5
             },
             "pattern": {
              "fillmode": "overlay",
              "size": 10,
              "solidity": 0.2
             }
            },
            "type": "bar"
           }
          ],
          "barpolar": [
           {
            "marker": {
             "line": {
              "color": "#E5ECF6",
              "width": 0.5
             },
             "pattern": {
              "fillmode": "overlay",
              "size": 10,
              "solidity": 0.2
             }
            },
            "type": "barpolar"
           }
          ],
          "carpet": [
           {
            "aaxis": {
             "endlinecolor": "#2a3f5f",
             "gridcolor": "white",
             "linecolor": "white",
             "minorgridcolor": "white",
             "startlinecolor": "#2a3f5f"
            },
            "baxis": {
             "endlinecolor": "#2a3f5f",
             "gridcolor": "white",
             "linecolor": "white",
             "minorgridcolor": "white",
             "startlinecolor": "#2a3f5f"
            },
            "type": "carpet"
           }
          ],
          "choropleth": [
           {
            "colorbar": {
             "outlinewidth": 0,
             "ticks": ""
            },
            "type": "choropleth"
           }
          ],
          "contour": [
           {
            "colorbar": {
             "outlinewidth": 0,
             "ticks": ""
            },
            "colorscale": [
             [
              0,
              "#0d0887"
             ],
             [
              0.1111111111111111,
              "#46039f"
             ],
             [
              0.2222222222222222,
              "#7201a8"
             ],
             [
              0.3333333333333333,
              "#9c179e"
             ],
             [
              0.4444444444444444,
              "#bd3786"
             ],
             [
              0.5555555555555556,
              "#d8576b"
             ],
             [
              0.6666666666666666,
              "#ed7953"
             ],
             [
              0.7777777777777778,
              "#fb9f3a"
             ],
             [
              0.8888888888888888,
              "#fdca26"
             ],
             [
              1,
              "#f0f921"
             ]
            ],
            "type": "contour"
           }
          ],
          "contourcarpet": [
           {
            "colorbar": {
             "outlinewidth": 0,
             "ticks": ""
            },
            "type": "contourcarpet"
           }
          ],
          "heatmap": [
           {
            "colorbar": {
             "outlinewidth": 0,
             "ticks": ""
            },
            "colorscale": [
             [
              0,
              "#0d0887"
             ],
             [
              0.1111111111111111,
              "#46039f"
             ],
             [
              0.2222222222222222,
              "#7201a8"
             ],
             [
              0.3333333333333333,
              "#9c179e"
             ],
             [
              0.4444444444444444,
              "#bd3786"
             ],
             [
              0.5555555555555556,
              "#d8576b"
             ],
             [
              0.6666666666666666,
              "#ed7953"
             ],
             [
              0.7777777777777778,
              "#fb9f3a"
             ],
             [
              0.8888888888888888,
              "#fdca26"
             ],
             [
              1,
              "#f0f921"
             ]
            ],
            "type": "heatmap"
           }
          ],
          "heatmapgl": [
           {
            "colorbar": {
             "outlinewidth": 0,
             "ticks": ""
            },
            "colorscale": [
             [
              0,
              "#0d0887"
             ],
             [
              0.1111111111111111,
              "#46039f"
             ],
             [
              0.2222222222222222,
              "#7201a8"
             ],
             [
              0.3333333333333333,
              "#9c179e"
             ],
             [
              0.4444444444444444,
              "#bd3786"
             ],
             [
              0.5555555555555556,
              "#d8576b"
             ],
             [
              0.6666666666666666,
              "#ed7953"
             ],
             [
              0.7777777777777778,
              "#fb9f3a"
             ],
             [
              0.8888888888888888,
              "#fdca26"
             ],
             [
              1,
              "#f0f921"
             ]
            ],
            "type": "heatmapgl"
           }
          ],
          "histogram": [
           {
            "marker": {
             "pattern": {
              "fillmode": "overlay",
              "size": 10,
              "solidity": 0.2
             }
            },
            "type": "histogram"
           }
          ],
          "histogram2d": [
           {
            "colorbar": {
             "outlinewidth": 0,
             "ticks": ""
            },
            "colorscale": [
             [
              0,
              "#0d0887"
             ],
             [
              0.1111111111111111,
              "#46039f"
             ],
             [
              0.2222222222222222,
              "#7201a8"
             ],
             [
              0.3333333333333333,
              "#9c179e"
             ],
             [
              0.4444444444444444,
              "#bd3786"
             ],
             [
              0.5555555555555556,
              "#d8576b"
             ],
             [
              0.6666666666666666,
              "#ed7953"
             ],
             [
              0.7777777777777778,
              "#fb9f3a"
             ],
             [
              0.8888888888888888,
              "#fdca26"
             ],
             [
              1,
              "#f0f921"
             ]
            ],
            "type": "histogram2d"
           }
          ],
          "histogram2dcontour": [
           {
            "colorbar": {
             "outlinewidth": 0,
             "ticks": ""
            },
            "colorscale": [
             [
              0,
              "#0d0887"
             ],
             [
              0.1111111111111111,
              "#46039f"
             ],
             [
              0.2222222222222222,
              "#7201a8"
             ],
             [
              0.3333333333333333,
              "#9c179e"
             ],
             [
              0.4444444444444444,
              "#bd3786"
             ],
             [
              0.5555555555555556,
              "#d8576b"
             ],
             [
              0.6666666666666666,
              "#ed7953"
             ],
             [
              0.7777777777777778,
              "#fb9f3a"
             ],
             [
              0.8888888888888888,
              "#fdca26"
             ],
             [
              1,
              "#f0f921"
             ]
            ],
            "type": "histogram2dcontour"
           }
          ],
          "mesh3d": [
           {
            "colorbar": {
             "outlinewidth": 0,
             "ticks": ""
            },
            "type": "mesh3d"
           }
          ],
          "parcoords": [
           {
            "line": {
             "colorbar": {
              "outlinewidth": 0,
              "ticks": ""
             }
            },
            "type": "parcoords"
           }
          ],
          "pie": [
           {
            "automargin": true,
            "type": "pie"
           }
          ],
          "scatter": [
           {
            "marker": {
             "colorbar": {
              "outlinewidth": 0,
              "ticks": ""
             }
            },
            "type": "scatter"
           }
          ],
          "scatter3d": [
           {
            "line": {
             "colorbar": {
              "outlinewidth": 0,
              "ticks": ""
             }
            },
            "marker": {
             "colorbar": {
              "outlinewidth": 0,
              "ticks": ""
             }
            },
            "type": "scatter3d"
           }
          ],
          "scattercarpet": [
           {
            "marker": {
             "colorbar": {
              "outlinewidth": 0,
              "ticks": ""
             }
            },
            "type": "scattercarpet"
           }
          ],
          "scattergeo": [
           {
            "marker": {
             "colorbar": {
              "outlinewidth": 0,
              "ticks": ""
             }
            },
            "type": "scattergeo"
           }
          ],
          "scattergl": [
           {
            "marker": {
             "colorbar": {
              "outlinewidth": 0,
              "ticks": ""
             }
            },
            "type": "scattergl"
           }
          ],
          "scattermapbox": [
           {
            "marker": {
             "colorbar": {
              "outlinewidth": 0,
              "ticks": ""
             }
            },
            "type": "scattermapbox"
           }
          ],
          "scatterpolar": [
           {
            "marker": {
             "colorbar": {
              "outlinewidth": 0,
              "ticks": ""
             }
            },
            "type": "scatterpolar"
           }
          ],
          "scatterpolargl": [
           {
            "marker": {
             "colorbar": {
              "outlinewidth": 0,
              "ticks": ""
             }
            },
            "type": "scatterpolargl"
           }
          ],
          "scatterternary": [
           {
            "marker": {
             "colorbar": {
              "outlinewidth": 0,
              "ticks": ""
             }
            },
            "type": "scatterternary"
           }
          ],
          "surface": [
           {
            "colorbar": {
             "outlinewidth": 0,
             "ticks": ""
            },
            "colorscale": [
             [
              0,
              "#0d0887"
             ],
             [
              0.1111111111111111,
              "#46039f"
             ],
             [
              0.2222222222222222,
              "#7201a8"
             ],
             [
              0.3333333333333333,
              "#9c179e"
             ],
             [
              0.4444444444444444,
              "#bd3786"
             ],
             [
              0.5555555555555556,
              "#d8576b"
             ],
             [
              0.6666666666666666,
              "#ed7953"
             ],
             [
              0.7777777777777778,
              "#fb9f3a"
             ],
             [
              0.8888888888888888,
              "#fdca26"
             ],
             [
              1,
              "#f0f921"
             ]
            ],
            "type": "surface"
           }
          ],
          "table": [
           {
            "cells": {
             "fill": {
              "color": "#EBF0F8"
             },
             "line": {
              "color": "white"
             }
            },
            "header": {
             "fill": {
              "color": "#C8D4E3"
             },
             "line": {
              "color": "white"
             }
            },
            "type": "table"
           }
          ]
         },
         "layout": {
          "annotationdefaults": {
           "arrowcolor": "#2a3f5f",
           "arrowhead": 0,
           "arrowwidth": 1
          },
          "autotypenumbers": "strict",
          "coloraxis": {
           "colorbar": {
            "outlinewidth": 0,
            "ticks": ""
           }
          },
          "colorscale": {
           "diverging": [
            [
             0,
             "#8e0152"
            ],
            [
             0.1,
             "#c51b7d"
            ],
            [
             0.2,
             "#de77ae"
            ],
            [
             0.3,
             "#f1b6da"
            ],
            [
             0.4,
             "#fde0ef"
            ],
            [
             0.5,
             "#f7f7f7"
            ],
            [
             0.6,
             "#e6f5d0"
            ],
            [
             0.7,
             "#b8e186"
            ],
            [
             0.8,
             "#7fbc41"
            ],
            [
             0.9,
             "#4d9221"
            ],
            [
             1,
             "#276419"
            ]
           ],
           "sequential": [
            [
             0,
             "#0d0887"
            ],
            [
             0.1111111111111111,
             "#46039f"
            ],
            [
             0.2222222222222222,
             "#7201a8"
            ],
            [
             0.3333333333333333,
             "#9c179e"
            ],
            [
             0.4444444444444444,
             "#bd3786"
            ],
            [
             0.5555555555555556,
             "#d8576b"
            ],
            [
             0.6666666666666666,
             "#ed7953"
            ],
            [
             0.7777777777777778,
             "#fb9f3a"
            ],
            [
             0.8888888888888888,
             "#fdca26"
            ],
            [
             1,
             "#f0f921"
            ]
           ],
           "sequentialminus": [
            [
             0,
             "#0d0887"
            ],
            [
             0.1111111111111111,
             "#46039f"
            ],
            [
             0.2222222222222222,
             "#7201a8"
            ],
            [
             0.3333333333333333,
             "#9c179e"
            ],
            [
             0.4444444444444444,
             "#bd3786"
            ],
            [
             0.5555555555555556,
             "#d8576b"
            ],
            [
             0.6666666666666666,
             "#ed7953"
            ],
            [
             0.7777777777777778,
             "#fb9f3a"
            ],
            [
             0.8888888888888888,
             "#fdca26"
            ],
            [
             1,
             "#f0f921"
            ]
           ]
          },
          "colorway": [
           "#636efa",
           "#EF553B",
           "#00cc96",
           "#ab63fa",
           "#FFA15A",
           "#19d3f3",
           "#FF6692",
           "#B6E880",
           "#FF97FF",
           "#FECB52"
          ],
          "font": {
           "color": "#2a3f5f"
          },
          "geo": {
           "bgcolor": "white",
           "lakecolor": "white",
           "landcolor": "#E5ECF6",
           "showlakes": true,
           "showland": true,
           "subunitcolor": "white"
          },
          "hoverlabel": {
           "align": "left"
          },
          "hovermode": "closest",
          "mapbox": {
           "style": "light"
          },
          "paper_bgcolor": "white",
          "plot_bgcolor": "#E5ECF6",
          "polar": {
           "angularaxis": {
            "gridcolor": "white",
            "linecolor": "white",
            "ticks": ""
           },
           "bgcolor": "#E5ECF6",
           "radialaxis": {
            "gridcolor": "white",
            "linecolor": "white",
            "ticks": ""
           }
          },
          "scene": {
           "xaxis": {
            "backgroundcolor": "#E5ECF6",
            "gridcolor": "white",
            "gridwidth": 2,
            "linecolor": "white",
            "showbackground": true,
            "ticks": "",
            "zerolinecolor": "white"
           },
           "yaxis": {
            "backgroundcolor": "#E5ECF6",
            "gridcolor": "white",
            "gridwidth": 2,
            "linecolor": "white",
            "showbackground": true,
            "ticks": "",
            "zerolinecolor": "white"
           },
           "zaxis": {
            "backgroundcolor": "#E5ECF6",
            "gridcolor": "white",
            "gridwidth": 2,
            "linecolor": "white",
            "showbackground": true,
            "ticks": "",
            "zerolinecolor": "white"
           }
          },
          "shapedefaults": {
           "line": {
            "color": "#2a3f5f"
           }
          },
          "ternary": {
           "aaxis": {
            "gridcolor": "white",
            "linecolor": "white",
            "ticks": ""
           },
           "baxis": {
            "gridcolor": "white",
            "linecolor": "white",
            "ticks": ""
           },
           "bgcolor": "#E5ECF6",
           "caxis": {
            "gridcolor": "white",
            "linecolor": "white",
            "ticks": ""
           }
          },
          "title": {
           "x": 0.05
          },
          "xaxis": {
           "automargin": true,
           "gridcolor": "white",
           "linecolor": "white",
           "ticks": "",
           "title": {
            "standoff": 15
           },
           "zerolinecolor": "white",
           "zerolinewidth": 2
          },
          "yaxis": {
           "automargin": true,
           "gridcolor": "white",
           "linecolor": "white",
           "ticks": "",
           "title": {
            "standoff": 15
           },
           "zerolinecolor": "white",
           "zerolinewidth": 2
          }
         }
        },
        "title": {
         "font": {
          "color": "#4D5663"
         }
        },
        "xaxis": {
         "gridcolor": "#E1E5ED",
         "showgrid": true,
         "tickfont": {
          "color": "#4D5663"
         },
         "title": {
          "font": {
           "color": "#4D5663"
          },
          "text": ""
         },
         "zerolinecolor": "#E1E5ED"
        },
        "xaxis2": {
         "anchor": "y2",
         "gridcolor": "#E1E5ED",
         "showgrid": true,
         "showticklabels": false,
         "tickfont": {
          "color": "#4D5663"
         },
         "title": {
          "font": {
           "color": "#4D5663"
          },
          "text": ""
         },
         "zerolinecolor": "#E1E5ED"
        },
        "yaxis": {
         "domain": [
          0.3,
          1
         ],
         "gridcolor": "#E1E5ED",
         "showgrid": true,
         "tickfont": {
          "color": "#4D5663"
         },
         "title": {
          "font": {
           "color": "#4D5663"
          },
          "text": ""
         },
         "zerolinecolor": "#E1E5ED"
        },
        "yaxis2": {
         "domain": [
          0,
          0.25
         ],
         "gridcolor": "#E1E5ED",
         "showgrid": true,
         "tickfont": {
          "color": "#4D5663"
         },
         "title": {
          "font": {
           "color": "#4D5663"
          },
          "text": "Spread"
         },
         "zerolinecolor": "#E1E5ED"
        }
       }
      },
      "text/html": [
       "<div>                            <div id=\"f38957af-f227-4279-aa29-ba55729ee8f2\" class=\"plotly-graph-div\" style=\"height:525px; width:100%;\"></div>            <script type=\"text/javascript\">                require([\"plotly\"], function(Plotly) {                    window.PLOTLYENV=window.PLOTLYENV || {};\n",
       "                    window.PLOTLYENV.BASE_URL='https://plot.ly';                                    if (document.getElementById(\"f38957af-f227-4279-aa29-ba55729ee8f2\")) {                    Plotly.newPlot(                        \"f38957af-f227-4279-aa29-ba55729ee8f2\",                        [{\"line\":{\"color\":\"rgba(255, 153, 51, 1.0)\",\"dash\":\"solid\",\"shape\":\"linear\",\"width\":1.3},\"mode\":\"lines\",\"name\":\"A\",\"text\":\"\",\"x\":[0,1,2,3,4,5,6,7,8,9,10,11,12,13,14,15,16,17,18,19,20,21,22,23,24,25,26,27,28,29,30,31,32,33,34,35,36,37,38,39,40,41,42,43,44,45,46,47,48,49,50,51,52,53,54,55,56,57,58,59,60,61,62,63,64,65,66,67,68,69,70,71,72,73,74,75,76,77,78,79,80,81,82,83,84,85,86,87,88,89,90,91,92,93,94,95,96,97,98,99],\"y\":[-0.8045319692756239,-0.7857508741343778,0.39430716210118383,0.040154756846361016,-1.7322422804433464,0.23192449486695912,-0.6018949797227127,-0.26289401276907864,0.05250827501417779,1.3215808600707148,-0.3415752045912305,0.9123430324087752,-0.11882811971741239,-1.277598509738442,1.22129685804723,-0.9964878457298946,2.6620936089218095,-0.4803892863051099,-1.4490068334874833,-0.5458590243929505,0.1806089625886417,-0.04853061562212352,-0.7519138670027183,0.9822323510339834,1.3217667116892085,-0.4078361976983211,-0.7433064246907137,1.3097970819898321,-0.8885546830130938,0.08959952426663148,0.7613983182603498,1.114935205693224,-0.26808691289618436,-1.179007519613772,-0.8212285519866818,0.0171376674536935,-1.261984800199849,0.7540606103836702,1.0365981858780862,1.0894455868431638,1.467140241494887,-0.45420815578998514,1.4150942894048062,-1.0307095952537535,-0.8738128032396157,0.8499380934853883,0.44623467531343414,1.1111190821690289,1.5931104775281726,-0.4229825602717984,-0.347724986376733,-0.13542680812754604,0.3082974882607674,-1.8041564241898107,-0.01515489581035622,1.2123741242554724,1.6091967660300068,-0.9099405101509571,-1.0607387072884853,-0.01457523724299721,-0.4606327435061816,1.353930884874758,0.7192866992265134,0.35255737217605587,0.17943773439695976,-0.0008330315647807776,0.013257714626296735,-0.4853923909661426,0.987472645343711,-1.2792863154847292,-0.1927603830487624,-1.248884129883844,0.09746544762239337,0.205544722884781,-1.6106179773906022,-1.4962536071793135,1.8804432211155748,-0.9024008840300444,-1.2721816262871173,2.1523784705721707,-0.9891223749584839,-0.966689724244585,-1.001881325254751,0.09961378114378827,-0.6782575216848209,0.6993114545806943,0.6321315478915533,-0.7053759028281684,-0.41772962659482143,0.3005169214229249,0.6704583648794865,-0.3618318985451478,1.1737851603704852,0.24227025716212627,1.4015786878545637,-0.20532599663298384,-0.25831017270764134,-2.0960187662439336,0.22663058350173887,-1.499548991493352],\"type\":\"scatter\"},{\"line\":{\"color\":\"rgba(55, 128, 191, 1.0)\",\"dash\":\"solid\",\"shape\":\"linear\",\"width\":1.3},\"mode\":\"lines\",\"name\":\"B\",\"text\":\"\",\"x\":[0,1,2,3,4,5,6,7,8,9,10,11,12,13,14,15,16,17,18,19,20,21,22,23,24,25,26,27,28,29,30,31,32,33,34,35,36,37,38,39,40,41,42,43,44,45,46,47,48,49,50,51,52,53,54,55,56,57,58,59,60,61,62,63,64,65,66,67,68,69,70,71,72,73,74,75,76,77,78,79,80,81,82,83,84,85,86,87,88,89,90,91,92,93,94,95,96,97,98,99],\"y\":[1.380854838531965,0.11938502538426132,-1.3143531805255566,0.6406812285572712,0.45901609373282704,0.14365163997084188,0.04919209970407182,-0.14356601653396417,-0.13652030629061812,0.705737494583953,0.4693637488317349,-0.22019440349318015,0.023077433512087436,1.2240704876175075,-0.20295579519226248,-0.5507208895965063,-0.04503975484391459,-1.0716079956340958,-0.3498571619930785,0.05378116157884617,0.1914937961172496,-0.8001900502593962,-1.8724024669870398,-1.155013636557828,-0.8728225347049191,-0.9491040625196484,-0.01307810894809895,-1.7416462532512975,0.7582038042037499,1.0245971841296806,2.209354664513985,0.27962419638957986,-0.3625691399492275,-0.37384775610699056,-0.09090160784772924,-0.963449146450701,-0.7980032760865212,-0.1365887386905632,-0.8236488041076043,0.12473376344798781,-1.5436042717554994,-0.6216132617616013,1.6894254983684525,0.556296337156448,-0.785063041863813,2.483960864125458,-0.43302859825742124,0.8939916753077831,1.2096210869953685,0.9394848885610718,-1.4390417869534922,1.1168312594389562,-0.5365559556172983,1.8492172694897153,-0.1362841448844875,0.6018566047291094,0.6036293584590517,1.0888599872211706,-0.5537892278737087,-1.2571168203364704,-0.4422470583484276,-0.6044378393263163,-1.041592179467776,1.5009696060524216,-0.9109487853431983,2.1787784184384558,-1.0579386356798106,-1.7000597049686215,-1.3445417160500615,-1.1784242650767685,-0.5223318292191497,-1.6418690103787708,1.6251438590138476,-3.8913039112713124,-0.5316779558052692,0.3711369956120464,0.39400732044115944,0.5000893212146826,-0.1723379534232298,-0.8721395911197579,-0.36567250291673475,1.5156140766192698,2.3623075261343915,-1.489554844966301,1.6413735284669448,-0.0929390528011857,-0.714291437029099,0.130654739297638,1.4599097658828708,-0.46420506328524286,-1.3247869299650787,-1.0332844721276573,-0.6378849266767722,0.5187408321369664,0.4352512593360889,-0.06583816090115427,0.5379177916772021,0.28204406416968447,-1.04570445537743,0.08376817237639435],\"type\":\"scatter\"},{\"connectgaps\":false,\"fill\":\"tozeroy\",\"line\":{\"color\":\"green\",\"dash\":\"solid\",\"shape\":\"linear\",\"width\":0.5},\"mode\":\"lines\",\"name\":\"Spread\",\"showlegend\":false,\"x\":[0,1,2,3,4,5,6,7,8,9,10,11,12,13,14,15,16,17,18,19,20,21,22,23,24,25,26,27,28,29,30,31,32,33,34,35,36,37,38,39,40,41,42,43,44,45,46,47,48,49,50,51,52,53,54,55,56,57,58,59,60,61,62,63,64,65,66,67,68,69,70,71,72,73,74,75,76,77,78,79,80,81,82,83,84,85,86,87,88,89,90,91,92,93,94,95,96,97,98,99],\"xaxis\":\"x2\",\"y\":[\"\",\"\",1.7086603426267404,\"\",\"\",0.08827285489611725,\"\",\"\",0.1890285813047959,0.6158433654867619,\"\",1.1325374359019553,\"\",\"\",1.4242526532394926,\"\",2.707133363765724,0.5912187093289859,\"\",\"\",\"\",0.7516594346372727,1.1204885999843215,2.1372459875918115,2.1945892463941274,0.5412678648213274,\"\",3.05144333524113,\"\",\"\",\"\",0.8353110093036442,0.09448222705304316,\"\",\"\",0.9805868139043945,\"\",0.8906493490742334,1.8602469899856904,0.964711823395176,3.0107445132503865,0.16740510597161612,\"\",\"\",\"\",\"\",0.8792632735708554,0.21712740686124576,0.38348939053280406,\"\",1.091316800576759,\"\",0.8448534438780657,\"\",0.12112924907413129,0.610517519526363,1.005567407570955,\"\",\"\",1.2425415830934732,\"\",1.9583687242010743,1.7608788786942895,\"\",1.090386519740158,\"\",1.0711963503061073,1.2146673140024788,2.3320143613937727,\"\",0.32957144617038725,0.39298488049492675,\"\",4.0968486341560935,\"\",\"\",1.4864359006744154,\"\",\"\",3.0245180616919285,\"\",\"\",\"\",1.5891686261100892,\"\",0.79225050738188,1.3464229849206524,\"\",\"\",0.7647219847081678,1.9952452948445654,0.6714525735825094,1.8116700870472573,\"\",0.9663274285184749,\"\",\"\",\"\",1.2723350388791688,\"\"],\"yaxis\":\"y2\",\"type\":\"scatter\"},{\"connectgaps\":false,\"fill\":\"tozeroy\",\"line\":{\"color\":\"red\",\"dash\":\"solid\",\"shape\":\"linear\",\"width\":0.5},\"mode\":\"lines\",\"name\":\"Spread\",\"showlegend\":false,\"x\":[0,1,2,3,4,5,6,7,8,9,10,11,12,13,14,15,16,17,18,19,20,21,22,23,24,25,26,27,28,29,30,31,32,33,34,35,36,37,38,39,40,41,42,43,44,45,46,47,48,49,50,51,52,53,54,55,56,57,58,59,60,61,62,63,64,65,66,67,68,69,70,71,72,73,74,75,76,77,78,79,80,81,82,83,84,85,86,87,88,89,90,91,92,93,94,95,96,97,98,99],\"xaxis\":\"x2\",\"y\":[-2.185386807807589,-0.9051358995186392,\"\",-0.6005264717109101,-2.1912583741761735,\"\",-0.6510870794267845,-0.11932799623511448,\"\",\"\",-0.8109389534229654,\"\",-0.14190555322949983,-2.5016689973559494,\"\",-0.44576695613338824,\"\",\"\",-1.0991496714944047,-0.5996401859717967,-0.01088483352860789,\"\",\"\",\"\",\"\",\"\",-0.7302283157426148,\"\",-1.6467584872168437,-0.9349976598630492,-1.4479563462536351,\"\",\"\",-0.8051597635067813,-0.7303269441389525,\"\",-0.4639815241133278,\"\",\"\",\"\",\"\",\"\",-0.27433120896364627,-1.5870059324102015,-0.0887497613758027,-1.6340227706400698,\"\",\"\",\"\",-1.3624674488328703,\"\",-1.2522580675665023,\"\",-3.653373693679526,\"\",\"\",\"\",-1.9988004973721276,-0.5069494794147766,\"\",-0.018385685157754017,\"\",\"\",-1.1484122338763658,\"\",-2.1796114500032364,\"\",\"\",\"\",-0.1008620504079607,\"\",\"\",-1.5276784113914543,\"\",-1.0789400215853329,-1.8673906027913598,\"\",-1.402490205244727,-1.0998436728638874,\"\",-0.6234498720417492,-2.4823038008638547,-3.3641888513891427,\"\",-2.3196310501517656,\"\",\"\",-0.8360306421258064,-1.8776393924776922,\"\",\"\",\"\",\"\",-0.2764705749748402,\"\",-0.13948783573182957,-0.7962279643848434,-2.378062830413618,\"\",-1.5833171638697463],\"yaxis\":\"y2\",\"type\":\"scatter\"}],                        {\"hovermode\":\"x\",\"legend\":{\"bgcolor\":\"#F5F6F9\",\"font\":{\"color\":\"#4D5663\"}},\"paper_bgcolor\":\"#F5F6F9\",\"plot_bgcolor\":\"#F5F6F9\",\"template\":{\"data\":{\"barpolar\":[{\"marker\":{\"line\":{\"color\":\"#E5ECF6\",\"width\":0.5},\"pattern\":{\"fillmode\":\"overlay\",\"size\":10,\"solidity\":0.2}},\"type\":\"barpolar\"}],\"bar\":[{\"error_x\":{\"color\":\"#2a3f5f\"},\"error_y\":{\"color\":\"#2a3f5f\"},\"marker\":{\"line\":{\"color\":\"#E5ECF6\",\"width\":0.5},\"pattern\":{\"fillmode\":\"overlay\",\"size\":10,\"solidity\":0.2}},\"type\":\"bar\"}],\"carpet\":[{\"aaxis\":{\"endlinecolor\":\"#2a3f5f\",\"gridcolor\":\"white\",\"linecolor\":\"white\",\"minorgridcolor\":\"white\",\"startlinecolor\":\"#2a3f5f\"},\"baxis\":{\"endlinecolor\":\"#2a3f5f\",\"gridcolor\":\"white\",\"linecolor\":\"white\",\"minorgridcolor\":\"white\",\"startlinecolor\":\"#2a3f5f\"},\"type\":\"carpet\"}],\"choropleth\":[{\"colorbar\":{\"outlinewidth\":0,\"ticks\":\"\"},\"type\":\"choropleth\"}],\"contourcarpet\":[{\"colorbar\":{\"outlinewidth\":0,\"ticks\":\"\"},\"type\":\"contourcarpet\"}],\"contour\":[{\"colorbar\":{\"outlinewidth\":0,\"ticks\":\"\"},\"colorscale\":[[0.0,\"#0d0887\"],[0.1111111111111111,\"#46039f\"],[0.2222222222222222,\"#7201a8\"],[0.3333333333333333,\"#9c179e\"],[0.4444444444444444,\"#bd3786\"],[0.5555555555555556,\"#d8576b\"],[0.6666666666666666,\"#ed7953\"],[0.7777777777777778,\"#fb9f3a\"],[0.8888888888888888,\"#fdca26\"],[1.0,\"#f0f921\"]],\"type\":\"contour\"}],\"heatmapgl\":[{\"colorbar\":{\"outlinewidth\":0,\"ticks\":\"\"},\"colorscale\":[[0.0,\"#0d0887\"],[0.1111111111111111,\"#46039f\"],[0.2222222222222222,\"#7201a8\"],[0.3333333333333333,\"#9c179e\"],[0.4444444444444444,\"#bd3786\"],[0.5555555555555556,\"#d8576b\"],[0.6666666666666666,\"#ed7953\"],[0.7777777777777778,\"#fb9f3a\"],[0.8888888888888888,\"#fdca26\"],[1.0,\"#f0f921\"]],\"type\":\"heatmapgl\"}],\"heatmap\":[{\"colorbar\":{\"outlinewidth\":0,\"ticks\":\"\"},\"colorscale\":[[0.0,\"#0d0887\"],[0.1111111111111111,\"#46039f\"],[0.2222222222222222,\"#7201a8\"],[0.3333333333333333,\"#9c179e\"],[0.4444444444444444,\"#bd3786\"],[0.5555555555555556,\"#d8576b\"],[0.6666666666666666,\"#ed7953\"],[0.7777777777777778,\"#fb9f3a\"],[0.8888888888888888,\"#fdca26\"],[1.0,\"#f0f921\"]],\"type\":\"heatmap\"}],\"histogram2dcontour\":[{\"colorbar\":{\"outlinewidth\":0,\"ticks\":\"\"},\"colorscale\":[[0.0,\"#0d0887\"],[0.1111111111111111,\"#46039f\"],[0.2222222222222222,\"#7201a8\"],[0.3333333333333333,\"#9c179e\"],[0.4444444444444444,\"#bd3786\"],[0.5555555555555556,\"#d8576b\"],[0.6666666666666666,\"#ed7953\"],[0.7777777777777778,\"#fb9f3a\"],[0.8888888888888888,\"#fdca26\"],[1.0,\"#f0f921\"]],\"type\":\"histogram2dcontour\"}],\"histogram2d\":[{\"colorbar\":{\"outlinewidth\":0,\"ticks\":\"\"},\"colorscale\":[[0.0,\"#0d0887\"],[0.1111111111111111,\"#46039f\"],[0.2222222222222222,\"#7201a8\"],[0.3333333333333333,\"#9c179e\"],[0.4444444444444444,\"#bd3786\"],[0.5555555555555556,\"#d8576b\"],[0.6666666666666666,\"#ed7953\"],[0.7777777777777778,\"#fb9f3a\"],[0.8888888888888888,\"#fdca26\"],[1.0,\"#f0f921\"]],\"type\":\"histogram2d\"}],\"histogram\":[{\"marker\":{\"pattern\":{\"fillmode\":\"overlay\",\"size\":10,\"solidity\":0.2}},\"type\":\"histogram\"}],\"mesh3d\":[{\"colorbar\":{\"outlinewidth\":0,\"ticks\":\"\"},\"type\":\"mesh3d\"}],\"parcoords\":[{\"line\":{\"colorbar\":{\"outlinewidth\":0,\"ticks\":\"\"}},\"type\":\"parcoords\"}],\"pie\":[{\"automargin\":true,\"type\":\"pie\"}],\"scatter3d\":[{\"line\":{\"colorbar\":{\"outlinewidth\":0,\"ticks\":\"\"}},\"marker\":{\"colorbar\":{\"outlinewidth\":0,\"ticks\":\"\"}},\"type\":\"scatter3d\"}],\"scattercarpet\":[{\"marker\":{\"colorbar\":{\"outlinewidth\":0,\"ticks\":\"\"}},\"type\":\"scattercarpet\"}],\"scattergeo\":[{\"marker\":{\"colorbar\":{\"outlinewidth\":0,\"ticks\":\"\"}},\"type\":\"scattergeo\"}],\"scattergl\":[{\"marker\":{\"colorbar\":{\"outlinewidth\":0,\"ticks\":\"\"}},\"type\":\"scattergl\"}],\"scattermapbox\":[{\"marker\":{\"colorbar\":{\"outlinewidth\":0,\"ticks\":\"\"}},\"type\":\"scattermapbox\"}],\"scatterpolargl\":[{\"marker\":{\"colorbar\":{\"outlinewidth\":0,\"ticks\":\"\"}},\"type\":\"scatterpolargl\"}],\"scatterpolar\":[{\"marker\":{\"colorbar\":{\"outlinewidth\":0,\"ticks\":\"\"}},\"type\":\"scatterpolar\"}],\"scatter\":[{\"marker\":{\"colorbar\":{\"outlinewidth\":0,\"ticks\":\"\"}},\"type\":\"scatter\"}],\"scatterternary\":[{\"marker\":{\"colorbar\":{\"outlinewidth\":0,\"ticks\":\"\"}},\"type\":\"scatterternary\"}],\"surface\":[{\"colorbar\":{\"outlinewidth\":0,\"ticks\":\"\"},\"colorscale\":[[0.0,\"#0d0887\"],[0.1111111111111111,\"#46039f\"],[0.2222222222222222,\"#7201a8\"],[0.3333333333333333,\"#9c179e\"],[0.4444444444444444,\"#bd3786\"],[0.5555555555555556,\"#d8576b\"],[0.6666666666666666,\"#ed7953\"],[0.7777777777777778,\"#fb9f3a\"],[0.8888888888888888,\"#fdca26\"],[1.0,\"#f0f921\"]],\"type\":\"surface\"}],\"table\":[{\"cells\":{\"fill\":{\"color\":\"#EBF0F8\"},\"line\":{\"color\":\"white\"}},\"header\":{\"fill\":{\"color\":\"#C8D4E3\"},\"line\":{\"color\":\"white\"}},\"type\":\"table\"}]},\"layout\":{\"annotationdefaults\":{\"arrowcolor\":\"#2a3f5f\",\"arrowhead\":0,\"arrowwidth\":1},\"autotypenumbers\":\"strict\",\"coloraxis\":{\"colorbar\":{\"outlinewidth\":0,\"ticks\":\"\"}},\"colorscale\":{\"diverging\":[[0,\"#8e0152\"],[0.1,\"#c51b7d\"],[0.2,\"#de77ae\"],[0.3,\"#f1b6da\"],[0.4,\"#fde0ef\"],[0.5,\"#f7f7f7\"],[0.6,\"#e6f5d0\"],[0.7,\"#b8e186\"],[0.8,\"#7fbc41\"],[0.9,\"#4d9221\"],[1,\"#276419\"]],\"sequential\":[[0.0,\"#0d0887\"],[0.1111111111111111,\"#46039f\"],[0.2222222222222222,\"#7201a8\"],[0.3333333333333333,\"#9c179e\"],[0.4444444444444444,\"#bd3786\"],[0.5555555555555556,\"#d8576b\"],[0.6666666666666666,\"#ed7953\"],[0.7777777777777778,\"#fb9f3a\"],[0.8888888888888888,\"#fdca26\"],[1.0,\"#f0f921\"]],\"sequentialminus\":[[0.0,\"#0d0887\"],[0.1111111111111111,\"#46039f\"],[0.2222222222222222,\"#7201a8\"],[0.3333333333333333,\"#9c179e\"],[0.4444444444444444,\"#bd3786\"],[0.5555555555555556,\"#d8576b\"],[0.6666666666666666,\"#ed7953\"],[0.7777777777777778,\"#fb9f3a\"],[0.8888888888888888,\"#fdca26\"],[1.0,\"#f0f921\"]]},\"colorway\":[\"#636efa\",\"#EF553B\",\"#00cc96\",\"#ab63fa\",\"#FFA15A\",\"#19d3f3\",\"#FF6692\",\"#B6E880\",\"#FF97FF\",\"#FECB52\"],\"font\":{\"color\":\"#2a3f5f\"},\"geo\":{\"bgcolor\":\"white\",\"lakecolor\":\"white\",\"landcolor\":\"#E5ECF6\",\"showlakes\":true,\"showland\":true,\"subunitcolor\":\"white\"},\"hoverlabel\":{\"align\":\"left\"},\"hovermode\":\"closest\",\"mapbox\":{\"style\":\"light\"},\"paper_bgcolor\":\"white\",\"plot_bgcolor\":\"#E5ECF6\",\"polar\":{\"angularaxis\":{\"gridcolor\":\"white\",\"linecolor\":\"white\",\"ticks\":\"\"},\"bgcolor\":\"#E5ECF6\",\"radialaxis\":{\"gridcolor\":\"white\",\"linecolor\":\"white\",\"ticks\":\"\"}},\"scene\":{\"xaxis\":{\"backgroundcolor\":\"#E5ECF6\",\"gridcolor\":\"white\",\"gridwidth\":2,\"linecolor\":\"white\",\"showbackground\":true,\"ticks\":\"\",\"zerolinecolor\":\"white\"},\"yaxis\":{\"backgroundcolor\":\"#E5ECF6\",\"gridcolor\":\"white\",\"gridwidth\":2,\"linecolor\":\"white\",\"showbackground\":true,\"ticks\":\"\",\"zerolinecolor\":\"white\"},\"zaxis\":{\"backgroundcolor\":\"#E5ECF6\",\"gridcolor\":\"white\",\"gridwidth\":2,\"linecolor\":\"white\",\"showbackground\":true,\"ticks\":\"\",\"zerolinecolor\":\"white\"}},\"shapedefaults\":{\"line\":{\"color\":\"#2a3f5f\"}},\"ternary\":{\"aaxis\":{\"gridcolor\":\"white\",\"linecolor\":\"white\",\"ticks\":\"\"},\"baxis\":{\"gridcolor\":\"white\",\"linecolor\":\"white\",\"ticks\":\"\"},\"bgcolor\":\"#E5ECF6\",\"caxis\":{\"gridcolor\":\"white\",\"linecolor\":\"white\",\"ticks\":\"\"}},\"title\":{\"x\":0.05},\"xaxis\":{\"automargin\":true,\"gridcolor\":\"white\",\"linecolor\":\"white\",\"ticks\":\"\",\"title\":{\"standoff\":15},\"zerolinecolor\":\"white\",\"zerolinewidth\":2},\"yaxis\":{\"automargin\":true,\"gridcolor\":\"white\",\"linecolor\":\"white\",\"ticks\":\"\",\"title\":{\"standoff\":15},\"zerolinecolor\":\"white\",\"zerolinewidth\":2}}},\"title\":{\"font\":{\"color\":\"#4D5663\"}},\"xaxis\":{\"gridcolor\":\"#E1E5ED\",\"showgrid\":true,\"tickfont\":{\"color\":\"#4D5663\"},\"title\":{\"font\":{\"color\":\"#4D5663\"},\"text\":\"\"},\"zerolinecolor\":\"#E1E5ED\"},\"yaxis\":{\"domain\":[0.3,1],\"gridcolor\":\"#E1E5ED\",\"showgrid\":true,\"tickfont\":{\"color\":\"#4D5663\"},\"title\":{\"font\":{\"color\":\"#4D5663\"},\"text\":\"\"},\"zerolinecolor\":\"#E1E5ED\"},\"yaxis2\":{\"domain\":[0,0.25],\"gridcolor\":\"#E1E5ED\",\"showgrid\":true,\"tickfont\":{\"color\":\"#4D5663\"},\"title\":{\"font\":{\"color\":\"#4D5663\"},\"text\":\"Spread\"},\"zerolinecolor\":\"#E1E5ED\"},\"xaxis2\":{\"anchor\":\"y2\",\"gridcolor\":\"#E1E5ED\",\"showgrid\":true,\"showticklabels\":false,\"tickfont\":{\"color\":\"#4D5663\"},\"title\":{\"font\":{\"color\":\"#4D5663\"},\"text\":\"\"},\"zerolinecolor\":\"#E1E5ED\"}},                        {\"showLink\": true, \"linkText\": \"Export to plot.ly\", \"plotlyServerURL\": \"https://plot.ly\", \"responsive\": true}                    ).then(function(){\n",
       "                            \n",
       "var gd = document.getElementById('f38957af-f227-4279-aa29-ba55729ee8f2');\n",
       "var x = new MutationObserver(function (mutations, observer) {{\n",
       "        var display = window.getComputedStyle(gd).display;\n",
       "        if (!display || display === 'none') {{\n",
       "            console.log([gd, 'removed!']);\n",
       "            Plotly.purge(gd);\n",
       "            observer.disconnect();\n",
       "        }}\n",
       "}});\n",
       "\n",
       "// Listen for the removal of the full notebook cells\n",
       "var notebookContainer = gd.closest('#notebook-container');\n",
       "if (notebookContainer) {{\n",
       "    x.observe(notebookContainer, {childList: true});\n",
       "}}\n",
       "\n",
       "// Listen for the clearing of the current output cell\n",
       "var outputEl = gd.closest('.output');\n",
       "if (outputEl) {{\n",
       "    x.observe(outputEl, {childList: true});\n",
       "}}\n",
       "\n",
       "                        })                };                });            </script>        </div>"
      ]
     },
     "metadata": {},
     "output_type": "display_data"
    }
   ],
   "source": [
    "# spread type data is used a lot for stocks\n",
    "df[['A', 'B']].iplot(kind = 'spread')"
   ]
  },
  {
   "cell_type": "code",
   "execution_count": 50,
   "id": "b39d6169",
   "metadata": {},
   "outputs": [
    {
     "data": {
      "application/vnd.plotly.v1+json": {
       "config": {
        "linkText": "Export to plot.ly",
        "plotlyServerURL": "https://plot.ly",
        "showLink": true
       },
       "data": [
        {
         "marker": {
          "color": [
           "rgb(255, 153, 51)",
           "rgb(55, 128, 191)",
           "rgb(50, 171, 96)",
           "rgb(128, 0, 128)",
           "rgb(219, 64, 82)",
           "rgb(0, 128, 128)",
           "rgb(255, 255, 51)",
           "rgb(128, 128, 0)",
           "rgb(251, 128, 114)",
           "rgb(128, 177, 211)"
          ],
          "line": {
           "width": 1.3
          },
          "size": [
           18,
           60,
           107,
           54,
           51,
           38,
           51,
           64,
           76,
           38,
           80,
           65,
           30,
           88,
           93,
           42,
           12,
           71,
           61,
           41,
           64,
           90,
           64,
           71,
           71,
           66,
           48,
           52,
           49,
           80,
           63,
           112,
           54,
           73,
           48,
           55,
           46,
           51,
           53,
           57,
           58,
           70,
           55,
           86,
           95,
           51,
           91,
           62,
           47,
           28,
           48,
           69,
           55,
           91,
           44,
           66,
           38,
           71,
           27,
           57,
           42,
           63,
           65,
           21,
           71,
           66,
           19,
           63,
           56,
           33,
           57,
           48,
           21,
           80,
           43,
           16,
           82,
           84,
           30,
           84,
           71,
           48,
           56,
           27,
           66,
           19,
           55,
           48,
           65,
           56,
           66,
           72,
           83,
           82,
           69,
           63,
           59,
           50,
           30,
           87
          ],
          "symbol": "circle"
         },
         "mode": "markers",
         "text": "",
         "type": "scatter",
         "x": [
          -0.8045319692756239,
          -0.7857508741343778,
          0.39430716210118383,
          0.040154756846361016,
          -1.7322422804433464,
          0.23192449486695912,
          -0.6018949797227127,
          -0.26289401276907864,
          0.05250827501417779,
          1.3215808600707148,
          -0.3415752045912305,
          0.9123430324087752,
          -0.11882811971741239,
          -1.277598509738442,
          1.22129685804723,
          -0.9964878457298946,
          2.6620936089218095,
          -0.4803892863051099,
          -1.4490068334874833,
          -0.5458590243929505,
          0.1806089625886417,
          -0.04853061562212352,
          -0.7519138670027183,
          0.9822323510339834,
          1.3217667116892085,
          -0.4078361976983211,
          -0.7433064246907137,
          1.3097970819898321,
          -0.8885546830130938,
          0.08959952426663148,
          0.7613983182603498,
          1.114935205693224,
          -0.26808691289618436,
          -1.179007519613772,
          -0.8212285519866818,
          0.0171376674536935,
          -1.261984800199849,
          0.7540606103836702,
          1.0365981858780862,
          1.0894455868431638,
          1.467140241494887,
          -0.45420815578998514,
          1.4150942894048062,
          -1.0307095952537535,
          -0.8738128032396157,
          0.8499380934853883,
          0.44623467531343414,
          1.1111190821690289,
          1.5931104775281726,
          -0.4229825602717984,
          -0.347724986376733,
          -0.13542680812754604,
          0.3082974882607674,
          -1.8041564241898107,
          -0.01515489581035622,
          1.2123741242554724,
          1.6091967660300068,
          -0.9099405101509571,
          -1.0607387072884853,
          -0.01457523724299721,
          -0.4606327435061816,
          1.353930884874758,
          0.7192866992265134,
          0.35255737217605587,
          0.17943773439695976,
          -0.0008330315647807776,
          0.013257714626296735,
          -0.4853923909661426,
          0.987472645343711,
          -1.2792863154847292,
          -0.1927603830487624,
          -1.248884129883844,
          0.09746544762239337,
          0.205544722884781,
          -1.6106179773906022,
          -1.4962536071793135,
          1.8804432211155748,
          -0.9024008840300444,
          -1.2721816262871173,
          2.1523784705721707,
          -0.9891223749584839,
          -0.966689724244585,
          -1.001881325254751,
          0.09961378114378827,
          -0.6782575216848209,
          0.6993114545806943,
          0.6321315478915533,
          -0.7053759028281684,
          -0.41772962659482143,
          0.3005169214229249,
          0.6704583648794865,
          -0.3618318985451478,
          1.1737851603704852,
          0.24227025716212627,
          1.4015786878545637,
          -0.20532599663298384,
          -0.25831017270764134,
          -2.0960187662439336,
          0.22663058350173887,
          -1.499548991493352
         ],
         "y": [
          1.380854838531965,
          0.11938502538426132,
          -1.3143531805255566,
          0.6406812285572712,
          0.45901609373282704,
          0.14365163997084188,
          0.04919209970407182,
          -0.14356601653396417,
          -0.13652030629061812,
          0.705737494583953,
          0.4693637488317349,
          -0.22019440349318015,
          0.023077433512087436,
          1.2240704876175075,
          -0.20295579519226248,
          -0.5507208895965063,
          -0.04503975484391459,
          -1.0716079956340958,
          -0.3498571619930785,
          0.05378116157884617,
          0.1914937961172496,
          -0.8001900502593962,
          -1.8724024669870398,
          -1.155013636557828,
          -0.8728225347049191,
          -0.9491040625196484,
          -0.01307810894809895,
          -1.7416462532512975,
          0.7582038042037499,
          1.0245971841296806,
          2.209354664513985,
          0.27962419638957986,
          -0.3625691399492275,
          -0.37384775610699056,
          -0.09090160784772924,
          -0.963449146450701,
          -0.7980032760865212,
          -0.1365887386905632,
          -0.8236488041076043,
          0.12473376344798781,
          -1.5436042717554994,
          -0.6216132617616013,
          1.6894254983684525,
          0.556296337156448,
          -0.785063041863813,
          2.483960864125458,
          -0.43302859825742124,
          0.8939916753077831,
          1.2096210869953685,
          0.9394848885610718,
          -1.4390417869534922,
          1.1168312594389562,
          -0.5365559556172983,
          1.8492172694897153,
          -0.1362841448844875,
          0.6018566047291094,
          0.6036293584590517,
          1.0888599872211706,
          -0.5537892278737087,
          -1.2571168203364704,
          -0.4422470583484276,
          -0.6044378393263163,
          -1.041592179467776,
          1.5009696060524216,
          -0.9109487853431983,
          2.1787784184384558,
          -1.0579386356798106,
          -1.7000597049686215,
          -1.3445417160500615,
          -1.1784242650767685,
          -0.5223318292191497,
          -1.6418690103787708,
          1.6251438590138476,
          -3.8913039112713124,
          -0.5316779558052692,
          0.3711369956120464,
          0.39400732044115944,
          0.5000893212146826,
          -0.1723379534232298,
          -0.8721395911197579,
          -0.36567250291673475,
          1.5156140766192698,
          2.3623075261343915,
          -1.489554844966301,
          1.6413735284669448,
          -0.0929390528011857,
          -0.714291437029099,
          0.130654739297638,
          1.4599097658828708,
          -0.46420506328524286,
          -1.3247869299650787,
          -1.0332844721276573,
          -0.6378849266767722,
          0.5187408321369664,
          0.4352512593360889,
          -0.06583816090115427,
          0.5379177916772021,
          0.28204406416968447,
          -1.04570445537743,
          0.08376817237639435
         ]
        }
       ],
       "layout": {
        "legend": {
         "bgcolor": "#F5F6F9",
         "font": {
          "color": "#4D5663"
         }
        },
        "paper_bgcolor": "#F5F6F9",
        "plot_bgcolor": "#F5F6F9",
        "template": {
         "data": {
          "bar": [
           {
            "error_x": {
             "color": "#2a3f5f"
            },
            "error_y": {
             "color": "#2a3f5f"
            },
            "marker": {
             "line": {
              "color": "#E5ECF6",
              "width": 0.5
             },
             "pattern": {
              "fillmode": "overlay",
              "size": 10,
              "solidity": 0.2
             }
            },
            "type": "bar"
           }
          ],
          "barpolar": [
           {
            "marker": {
             "line": {
              "color": "#E5ECF6",
              "width": 0.5
             },
             "pattern": {
              "fillmode": "overlay",
              "size": 10,
              "solidity": 0.2
             }
            },
            "type": "barpolar"
           }
          ],
          "carpet": [
           {
            "aaxis": {
             "endlinecolor": "#2a3f5f",
             "gridcolor": "white",
             "linecolor": "white",
             "minorgridcolor": "white",
             "startlinecolor": "#2a3f5f"
            },
            "baxis": {
             "endlinecolor": "#2a3f5f",
             "gridcolor": "white",
             "linecolor": "white",
             "minorgridcolor": "white",
             "startlinecolor": "#2a3f5f"
            },
            "type": "carpet"
           }
          ],
          "choropleth": [
           {
            "colorbar": {
             "outlinewidth": 0,
             "ticks": ""
            },
            "type": "choropleth"
           }
          ],
          "contour": [
           {
            "colorbar": {
             "outlinewidth": 0,
             "ticks": ""
            },
            "colorscale": [
             [
              0,
              "#0d0887"
             ],
             [
              0.1111111111111111,
              "#46039f"
             ],
             [
              0.2222222222222222,
              "#7201a8"
             ],
             [
              0.3333333333333333,
              "#9c179e"
             ],
             [
              0.4444444444444444,
              "#bd3786"
             ],
             [
              0.5555555555555556,
              "#d8576b"
             ],
             [
              0.6666666666666666,
              "#ed7953"
             ],
             [
              0.7777777777777778,
              "#fb9f3a"
             ],
             [
              0.8888888888888888,
              "#fdca26"
             ],
             [
              1,
              "#f0f921"
             ]
            ],
            "type": "contour"
           }
          ],
          "contourcarpet": [
           {
            "colorbar": {
             "outlinewidth": 0,
             "ticks": ""
            },
            "type": "contourcarpet"
           }
          ],
          "heatmap": [
           {
            "colorbar": {
             "outlinewidth": 0,
             "ticks": ""
            },
            "colorscale": [
             [
              0,
              "#0d0887"
             ],
             [
              0.1111111111111111,
              "#46039f"
             ],
             [
              0.2222222222222222,
              "#7201a8"
             ],
             [
              0.3333333333333333,
              "#9c179e"
             ],
             [
              0.4444444444444444,
              "#bd3786"
             ],
             [
              0.5555555555555556,
              "#d8576b"
             ],
             [
              0.6666666666666666,
              "#ed7953"
             ],
             [
              0.7777777777777778,
              "#fb9f3a"
             ],
             [
              0.8888888888888888,
              "#fdca26"
             ],
             [
              1,
              "#f0f921"
             ]
            ],
            "type": "heatmap"
           }
          ],
          "heatmapgl": [
           {
            "colorbar": {
             "outlinewidth": 0,
             "ticks": ""
            },
            "colorscale": [
             [
              0,
              "#0d0887"
             ],
             [
              0.1111111111111111,
              "#46039f"
             ],
             [
              0.2222222222222222,
              "#7201a8"
             ],
             [
              0.3333333333333333,
              "#9c179e"
             ],
             [
              0.4444444444444444,
              "#bd3786"
             ],
             [
              0.5555555555555556,
              "#d8576b"
             ],
             [
              0.6666666666666666,
              "#ed7953"
             ],
             [
              0.7777777777777778,
              "#fb9f3a"
             ],
             [
              0.8888888888888888,
              "#fdca26"
             ],
             [
              1,
              "#f0f921"
             ]
            ],
            "type": "heatmapgl"
           }
          ],
          "histogram": [
           {
            "marker": {
             "pattern": {
              "fillmode": "overlay",
              "size": 10,
              "solidity": 0.2
             }
            },
            "type": "histogram"
           }
          ],
          "histogram2d": [
           {
            "colorbar": {
             "outlinewidth": 0,
             "ticks": ""
            },
            "colorscale": [
             [
              0,
              "#0d0887"
             ],
             [
              0.1111111111111111,
              "#46039f"
             ],
             [
              0.2222222222222222,
              "#7201a8"
             ],
             [
              0.3333333333333333,
              "#9c179e"
             ],
             [
              0.4444444444444444,
              "#bd3786"
             ],
             [
              0.5555555555555556,
              "#d8576b"
             ],
             [
              0.6666666666666666,
              "#ed7953"
             ],
             [
              0.7777777777777778,
              "#fb9f3a"
             ],
             [
              0.8888888888888888,
              "#fdca26"
             ],
             [
              1,
              "#f0f921"
             ]
            ],
            "type": "histogram2d"
           }
          ],
          "histogram2dcontour": [
           {
            "colorbar": {
             "outlinewidth": 0,
             "ticks": ""
            },
            "colorscale": [
             [
              0,
              "#0d0887"
             ],
             [
              0.1111111111111111,
              "#46039f"
             ],
             [
              0.2222222222222222,
              "#7201a8"
             ],
             [
              0.3333333333333333,
              "#9c179e"
             ],
             [
              0.4444444444444444,
              "#bd3786"
             ],
             [
              0.5555555555555556,
              "#d8576b"
             ],
             [
              0.6666666666666666,
              "#ed7953"
             ],
             [
              0.7777777777777778,
              "#fb9f3a"
             ],
             [
              0.8888888888888888,
              "#fdca26"
             ],
             [
              1,
              "#f0f921"
             ]
            ],
            "type": "histogram2dcontour"
           }
          ],
          "mesh3d": [
           {
            "colorbar": {
             "outlinewidth": 0,
             "ticks": ""
            },
            "type": "mesh3d"
           }
          ],
          "parcoords": [
           {
            "line": {
             "colorbar": {
              "outlinewidth": 0,
              "ticks": ""
             }
            },
            "type": "parcoords"
           }
          ],
          "pie": [
           {
            "automargin": true,
            "type": "pie"
           }
          ],
          "scatter": [
           {
            "marker": {
             "colorbar": {
              "outlinewidth": 0,
              "ticks": ""
             }
            },
            "type": "scatter"
           }
          ],
          "scatter3d": [
           {
            "line": {
             "colorbar": {
              "outlinewidth": 0,
              "ticks": ""
             }
            },
            "marker": {
             "colorbar": {
              "outlinewidth": 0,
              "ticks": ""
             }
            },
            "type": "scatter3d"
           }
          ],
          "scattercarpet": [
           {
            "marker": {
             "colorbar": {
              "outlinewidth": 0,
              "ticks": ""
             }
            },
            "type": "scattercarpet"
           }
          ],
          "scattergeo": [
           {
            "marker": {
             "colorbar": {
              "outlinewidth": 0,
              "ticks": ""
             }
            },
            "type": "scattergeo"
           }
          ],
          "scattergl": [
           {
            "marker": {
             "colorbar": {
              "outlinewidth": 0,
              "ticks": ""
             }
            },
            "type": "scattergl"
           }
          ],
          "scattermapbox": [
           {
            "marker": {
             "colorbar": {
              "outlinewidth": 0,
              "ticks": ""
             }
            },
            "type": "scattermapbox"
           }
          ],
          "scatterpolar": [
           {
            "marker": {
             "colorbar": {
              "outlinewidth": 0,
              "ticks": ""
             }
            },
            "type": "scatterpolar"
           }
          ],
          "scatterpolargl": [
           {
            "marker": {
             "colorbar": {
              "outlinewidth": 0,
              "ticks": ""
             }
            },
            "type": "scatterpolargl"
           }
          ],
          "scatterternary": [
           {
            "marker": {
             "colorbar": {
              "outlinewidth": 0,
              "ticks": ""
             }
            },
            "type": "scatterternary"
           }
          ],
          "surface": [
           {
            "colorbar": {
             "outlinewidth": 0,
             "ticks": ""
            },
            "colorscale": [
             [
              0,
              "#0d0887"
             ],
             [
              0.1111111111111111,
              "#46039f"
             ],
             [
              0.2222222222222222,
              "#7201a8"
             ],
             [
              0.3333333333333333,
              "#9c179e"
             ],
             [
              0.4444444444444444,
              "#bd3786"
             ],
             [
              0.5555555555555556,
              "#d8576b"
             ],
             [
              0.6666666666666666,
              "#ed7953"
             ],
             [
              0.7777777777777778,
              "#fb9f3a"
             ],
             [
              0.8888888888888888,
              "#fdca26"
             ],
             [
              1,
              "#f0f921"
             ]
            ],
            "type": "surface"
           }
          ],
          "table": [
           {
            "cells": {
             "fill": {
              "color": "#EBF0F8"
             },
             "line": {
              "color": "white"
             }
            },
            "header": {
             "fill": {
              "color": "#C8D4E3"
             },
             "line": {
              "color": "white"
             }
            },
            "type": "table"
           }
          ]
         },
         "layout": {
          "annotationdefaults": {
           "arrowcolor": "#2a3f5f",
           "arrowhead": 0,
           "arrowwidth": 1
          },
          "autotypenumbers": "strict",
          "coloraxis": {
           "colorbar": {
            "outlinewidth": 0,
            "ticks": ""
           }
          },
          "colorscale": {
           "diverging": [
            [
             0,
             "#8e0152"
            ],
            [
             0.1,
             "#c51b7d"
            ],
            [
             0.2,
             "#de77ae"
            ],
            [
             0.3,
             "#f1b6da"
            ],
            [
             0.4,
             "#fde0ef"
            ],
            [
             0.5,
             "#f7f7f7"
            ],
            [
             0.6,
             "#e6f5d0"
            ],
            [
             0.7,
             "#b8e186"
            ],
            [
             0.8,
             "#7fbc41"
            ],
            [
             0.9,
             "#4d9221"
            ],
            [
             1,
             "#276419"
            ]
           ],
           "sequential": [
            [
             0,
             "#0d0887"
            ],
            [
             0.1111111111111111,
             "#46039f"
            ],
            [
             0.2222222222222222,
             "#7201a8"
            ],
            [
             0.3333333333333333,
             "#9c179e"
            ],
            [
             0.4444444444444444,
             "#bd3786"
            ],
            [
             0.5555555555555556,
             "#d8576b"
            ],
            [
             0.6666666666666666,
             "#ed7953"
            ],
            [
             0.7777777777777778,
             "#fb9f3a"
            ],
            [
             0.8888888888888888,
             "#fdca26"
            ],
            [
             1,
             "#f0f921"
            ]
           ],
           "sequentialminus": [
            [
             0,
             "#0d0887"
            ],
            [
             0.1111111111111111,
             "#46039f"
            ],
            [
             0.2222222222222222,
             "#7201a8"
            ],
            [
             0.3333333333333333,
             "#9c179e"
            ],
            [
             0.4444444444444444,
             "#bd3786"
            ],
            [
             0.5555555555555556,
             "#d8576b"
            ],
            [
             0.6666666666666666,
             "#ed7953"
            ],
            [
             0.7777777777777778,
             "#fb9f3a"
            ],
            [
             0.8888888888888888,
             "#fdca26"
            ],
            [
             1,
             "#f0f921"
            ]
           ]
          },
          "colorway": [
           "#636efa",
           "#EF553B",
           "#00cc96",
           "#ab63fa",
           "#FFA15A",
           "#19d3f3",
           "#FF6692",
           "#B6E880",
           "#FF97FF",
           "#FECB52"
          ],
          "font": {
           "color": "#2a3f5f"
          },
          "geo": {
           "bgcolor": "white",
           "lakecolor": "white",
           "landcolor": "#E5ECF6",
           "showlakes": true,
           "showland": true,
           "subunitcolor": "white"
          },
          "hoverlabel": {
           "align": "left"
          },
          "hovermode": "closest",
          "mapbox": {
           "style": "light"
          },
          "paper_bgcolor": "white",
          "plot_bgcolor": "#E5ECF6",
          "polar": {
           "angularaxis": {
            "gridcolor": "white",
            "linecolor": "white",
            "ticks": ""
           },
           "bgcolor": "#E5ECF6",
           "radialaxis": {
            "gridcolor": "white",
            "linecolor": "white",
            "ticks": ""
           }
          },
          "scene": {
           "xaxis": {
            "backgroundcolor": "#E5ECF6",
            "gridcolor": "white",
            "gridwidth": 2,
            "linecolor": "white",
            "showbackground": true,
            "ticks": "",
            "zerolinecolor": "white"
           },
           "yaxis": {
            "backgroundcolor": "#E5ECF6",
            "gridcolor": "white",
            "gridwidth": 2,
            "linecolor": "white",
            "showbackground": true,
            "ticks": "",
            "zerolinecolor": "white"
           },
           "zaxis": {
            "backgroundcolor": "#E5ECF6",
            "gridcolor": "white",
            "gridwidth": 2,
            "linecolor": "white",
            "showbackground": true,
            "ticks": "",
            "zerolinecolor": "white"
           }
          },
          "shapedefaults": {
           "line": {
            "color": "#2a3f5f"
           }
          },
          "ternary": {
           "aaxis": {
            "gridcolor": "white",
            "linecolor": "white",
            "ticks": ""
           },
           "baxis": {
            "gridcolor": "white",
            "linecolor": "white",
            "ticks": ""
           },
           "bgcolor": "#E5ECF6",
           "caxis": {
            "gridcolor": "white",
            "linecolor": "white",
            "ticks": ""
           }
          },
          "title": {
           "x": 0.05
          },
          "xaxis": {
           "automargin": true,
           "gridcolor": "white",
           "linecolor": "white",
           "ticks": "",
           "title": {
            "standoff": 15
           },
           "zerolinecolor": "white",
           "zerolinewidth": 2
          },
          "yaxis": {
           "automargin": true,
           "gridcolor": "white",
           "linecolor": "white",
           "ticks": "",
           "title": {
            "standoff": 15
           },
           "zerolinecolor": "white",
           "zerolinewidth": 2
          }
         }
        },
        "title": {
         "font": {
          "color": "#4D5663"
         }
        },
        "xaxis": {
         "gridcolor": "#E1E5ED",
         "showgrid": true,
         "tickfont": {
          "color": "#4D5663"
         },
         "title": {
          "font": {
           "color": "#4D5663"
          },
          "text": ""
         },
         "zerolinecolor": "#E1E5ED"
        },
        "yaxis": {
         "gridcolor": "#E1E5ED",
         "showgrid": true,
         "tickfont": {
          "color": "#4D5663"
         },
         "title": {
          "font": {
           "color": "#4D5663"
          },
          "text": ""
         },
         "zerolinecolor": "#E1E5ED"
        }
       }
      },
      "text/html": [
       "<div>                            <div id=\"e42493fd-c9d1-4298-947c-0aee2356227a\" class=\"plotly-graph-div\" style=\"height:525px; width:100%;\"></div>            <script type=\"text/javascript\">                require([\"plotly\"], function(Plotly) {                    window.PLOTLYENV=window.PLOTLYENV || {};\n",
       "                    window.PLOTLYENV.BASE_URL='https://plot.ly';                                    if (document.getElementById(\"e42493fd-c9d1-4298-947c-0aee2356227a\")) {                    Plotly.newPlot(                        \"e42493fd-c9d1-4298-947c-0aee2356227a\",                        [{\"marker\":{\"color\":[\"rgb(255, 153, 51)\",\"rgb(55, 128, 191)\",\"rgb(50, 171, 96)\",\"rgb(128, 0, 128)\",\"rgb(219, 64, 82)\",\"rgb(0, 128, 128)\",\"rgb(255, 255, 51)\",\"rgb(128, 128, 0)\",\"rgb(251, 128, 114)\",\"rgb(128, 177, 211)\"],\"line\":{\"width\":1.3},\"size\":[18,60,107,54,51,38,51,64,76,38,80,65,30,88,93,42,12,71,61,41,64,90,64,71,71,66,48,52,49,80,63,112,54,73,48,55,46,51,53,57,58,70,55,86,95,51,91,62,47,28,48,69,55,91,44,66,38,71,27,57,42,63,65,21,71,66,19,63,56,33,57,48,21,80,43,16,82,84,30,84,71,48,56,27,66,19,55,48,65,56,66,72,83,82,69,63,59,50,30,87],\"symbol\":\"circle\"},\"mode\":\"markers\",\"text\":\"\",\"x\":[-0.8045319692756239,-0.7857508741343778,0.39430716210118383,0.040154756846361016,-1.7322422804433464,0.23192449486695912,-0.6018949797227127,-0.26289401276907864,0.05250827501417779,1.3215808600707148,-0.3415752045912305,0.9123430324087752,-0.11882811971741239,-1.277598509738442,1.22129685804723,-0.9964878457298946,2.6620936089218095,-0.4803892863051099,-1.4490068334874833,-0.5458590243929505,0.1806089625886417,-0.04853061562212352,-0.7519138670027183,0.9822323510339834,1.3217667116892085,-0.4078361976983211,-0.7433064246907137,1.3097970819898321,-0.8885546830130938,0.08959952426663148,0.7613983182603498,1.114935205693224,-0.26808691289618436,-1.179007519613772,-0.8212285519866818,0.0171376674536935,-1.261984800199849,0.7540606103836702,1.0365981858780862,1.0894455868431638,1.467140241494887,-0.45420815578998514,1.4150942894048062,-1.0307095952537535,-0.8738128032396157,0.8499380934853883,0.44623467531343414,1.1111190821690289,1.5931104775281726,-0.4229825602717984,-0.347724986376733,-0.13542680812754604,0.3082974882607674,-1.8041564241898107,-0.01515489581035622,1.2123741242554724,1.6091967660300068,-0.9099405101509571,-1.0607387072884853,-0.01457523724299721,-0.4606327435061816,1.353930884874758,0.7192866992265134,0.35255737217605587,0.17943773439695976,-0.0008330315647807776,0.013257714626296735,-0.4853923909661426,0.987472645343711,-1.2792863154847292,-0.1927603830487624,-1.248884129883844,0.09746544762239337,0.205544722884781,-1.6106179773906022,-1.4962536071793135,1.8804432211155748,-0.9024008840300444,-1.2721816262871173,2.1523784705721707,-0.9891223749584839,-0.966689724244585,-1.001881325254751,0.09961378114378827,-0.6782575216848209,0.6993114545806943,0.6321315478915533,-0.7053759028281684,-0.41772962659482143,0.3005169214229249,0.6704583648794865,-0.3618318985451478,1.1737851603704852,0.24227025716212627,1.4015786878545637,-0.20532599663298384,-0.25831017270764134,-2.0960187662439336,0.22663058350173887,-1.499548991493352],\"y\":[1.380854838531965,0.11938502538426132,-1.3143531805255566,0.6406812285572712,0.45901609373282704,0.14365163997084188,0.04919209970407182,-0.14356601653396417,-0.13652030629061812,0.705737494583953,0.4693637488317349,-0.22019440349318015,0.023077433512087436,1.2240704876175075,-0.20295579519226248,-0.5507208895965063,-0.04503975484391459,-1.0716079956340958,-0.3498571619930785,0.05378116157884617,0.1914937961172496,-0.8001900502593962,-1.8724024669870398,-1.155013636557828,-0.8728225347049191,-0.9491040625196484,-0.01307810894809895,-1.7416462532512975,0.7582038042037499,1.0245971841296806,2.209354664513985,0.27962419638957986,-0.3625691399492275,-0.37384775610699056,-0.09090160784772924,-0.963449146450701,-0.7980032760865212,-0.1365887386905632,-0.8236488041076043,0.12473376344798781,-1.5436042717554994,-0.6216132617616013,1.6894254983684525,0.556296337156448,-0.785063041863813,2.483960864125458,-0.43302859825742124,0.8939916753077831,1.2096210869953685,0.9394848885610718,-1.4390417869534922,1.1168312594389562,-0.5365559556172983,1.8492172694897153,-0.1362841448844875,0.6018566047291094,0.6036293584590517,1.0888599872211706,-0.5537892278737087,-1.2571168203364704,-0.4422470583484276,-0.6044378393263163,-1.041592179467776,1.5009696060524216,-0.9109487853431983,2.1787784184384558,-1.0579386356798106,-1.7000597049686215,-1.3445417160500615,-1.1784242650767685,-0.5223318292191497,-1.6418690103787708,1.6251438590138476,-3.8913039112713124,-0.5316779558052692,0.3711369956120464,0.39400732044115944,0.5000893212146826,-0.1723379534232298,-0.8721395911197579,-0.36567250291673475,1.5156140766192698,2.3623075261343915,-1.489554844966301,1.6413735284669448,-0.0929390528011857,-0.714291437029099,0.130654739297638,1.4599097658828708,-0.46420506328524286,-1.3247869299650787,-1.0332844721276573,-0.6378849266767722,0.5187408321369664,0.4352512593360889,-0.06583816090115427,0.5379177916772021,0.28204406416968447,-1.04570445537743,0.08376817237639435],\"type\":\"scatter\"}],                        {\"legend\":{\"bgcolor\":\"#F5F6F9\",\"font\":{\"color\":\"#4D5663\"}},\"paper_bgcolor\":\"#F5F6F9\",\"plot_bgcolor\":\"#F5F6F9\",\"template\":{\"data\":{\"barpolar\":[{\"marker\":{\"line\":{\"color\":\"#E5ECF6\",\"width\":0.5},\"pattern\":{\"fillmode\":\"overlay\",\"size\":10,\"solidity\":0.2}},\"type\":\"barpolar\"}],\"bar\":[{\"error_x\":{\"color\":\"#2a3f5f\"},\"error_y\":{\"color\":\"#2a3f5f\"},\"marker\":{\"line\":{\"color\":\"#E5ECF6\",\"width\":0.5},\"pattern\":{\"fillmode\":\"overlay\",\"size\":10,\"solidity\":0.2}},\"type\":\"bar\"}],\"carpet\":[{\"aaxis\":{\"endlinecolor\":\"#2a3f5f\",\"gridcolor\":\"white\",\"linecolor\":\"white\",\"minorgridcolor\":\"white\",\"startlinecolor\":\"#2a3f5f\"},\"baxis\":{\"endlinecolor\":\"#2a3f5f\",\"gridcolor\":\"white\",\"linecolor\":\"white\",\"minorgridcolor\":\"white\",\"startlinecolor\":\"#2a3f5f\"},\"type\":\"carpet\"}],\"choropleth\":[{\"colorbar\":{\"outlinewidth\":0,\"ticks\":\"\"},\"type\":\"choropleth\"}],\"contourcarpet\":[{\"colorbar\":{\"outlinewidth\":0,\"ticks\":\"\"},\"type\":\"contourcarpet\"}],\"contour\":[{\"colorbar\":{\"outlinewidth\":0,\"ticks\":\"\"},\"colorscale\":[[0.0,\"#0d0887\"],[0.1111111111111111,\"#46039f\"],[0.2222222222222222,\"#7201a8\"],[0.3333333333333333,\"#9c179e\"],[0.4444444444444444,\"#bd3786\"],[0.5555555555555556,\"#d8576b\"],[0.6666666666666666,\"#ed7953\"],[0.7777777777777778,\"#fb9f3a\"],[0.8888888888888888,\"#fdca26\"],[1.0,\"#f0f921\"]],\"type\":\"contour\"}],\"heatmapgl\":[{\"colorbar\":{\"outlinewidth\":0,\"ticks\":\"\"},\"colorscale\":[[0.0,\"#0d0887\"],[0.1111111111111111,\"#46039f\"],[0.2222222222222222,\"#7201a8\"],[0.3333333333333333,\"#9c179e\"],[0.4444444444444444,\"#bd3786\"],[0.5555555555555556,\"#d8576b\"],[0.6666666666666666,\"#ed7953\"],[0.7777777777777778,\"#fb9f3a\"],[0.8888888888888888,\"#fdca26\"],[1.0,\"#f0f921\"]],\"type\":\"heatmapgl\"}],\"heatmap\":[{\"colorbar\":{\"outlinewidth\":0,\"ticks\":\"\"},\"colorscale\":[[0.0,\"#0d0887\"],[0.1111111111111111,\"#46039f\"],[0.2222222222222222,\"#7201a8\"],[0.3333333333333333,\"#9c179e\"],[0.4444444444444444,\"#bd3786\"],[0.5555555555555556,\"#d8576b\"],[0.6666666666666666,\"#ed7953\"],[0.7777777777777778,\"#fb9f3a\"],[0.8888888888888888,\"#fdca26\"],[1.0,\"#f0f921\"]],\"type\":\"heatmap\"}],\"histogram2dcontour\":[{\"colorbar\":{\"outlinewidth\":0,\"ticks\":\"\"},\"colorscale\":[[0.0,\"#0d0887\"],[0.1111111111111111,\"#46039f\"],[0.2222222222222222,\"#7201a8\"],[0.3333333333333333,\"#9c179e\"],[0.4444444444444444,\"#bd3786\"],[0.5555555555555556,\"#d8576b\"],[0.6666666666666666,\"#ed7953\"],[0.7777777777777778,\"#fb9f3a\"],[0.8888888888888888,\"#fdca26\"],[1.0,\"#f0f921\"]],\"type\":\"histogram2dcontour\"}],\"histogram2d\":[{\"colorbar\":{\"outlinewidth\":0,\"ticks\":\"\"},\"colorscale\":[[0.0,\"#0d0887\"],[0.1111111111111111,\"#46039f\"],[0.2222222222222222,\"#7201a8\"],[0.3333333333333333,\"#9c179e\"],[0.4444444444444444,\"#bd3786\"],[0.5555555555555556,\"#d8576b\"],[0.6666666666666666,\"#ed7953\"],[0.7777777777777778,\"#fb9f3a\"],[0.8888888888888888,\"#fdca26\"],[1.0,\"#f0f921\"]],\"type\":\"histogram2d\"}],\"histogram\":[{\"marker\":{\"pattern\":{\"fillmode\":\"overlay\",\"size\":10,\"solidity\":0.2}},\"type\":\"histogram\"}],\"mesh3d\":[{\"colorbar\":{\"outlinewidth\":0,\"ticks\":\"\"},\"type\":\"mesh3d\"}],\"parcoords\":[{\"line\":{\"colorbar\":{\"outlinewidth\":0,\"ticks\":\"\"}},\"type\":\"parcoords\"}],\"pie\":[{\"automargin\":true,\"type\":\"pie\"}],\"scatter3d\":[{\"line\":{\"colorbar\":{\"outlinewidth\":0,\"ticks\":\"\"}},\"marker\":{\"colorbar\":{\"outlinewidth\":0,\"ticks\":\"\"}},\"type\":\"scatter3d\"}],\"scattercarpet\":[{\"marker\":{\"colorbar\":{\"outlinewidth\":0,\"ticks\":\"\"}},\"type\":\"scattercarpet\"}],\"scattergeo\":[{\"marker\":{\"colorbar\":{\"outlinewidth\":0,\"ticks\":\"\"}},\"type\":\"scattergeo\"}],\"scattergl\":[{\"marker\":{\"colorbar\":{\"outlinewidth\":0,\"ticks\":\"\"}},\"type\":\"scattergl\"}],\"scattermapbox\":[{\"marker\":{\"colorbar\":{\"outlinewidth\":0,\"ticks\":\"\"}},\"type\":\"scattermapbox\"}],\"scatterpolargl\":[{\"marker\":{\"colorbar\":{\"outlinewidth\":0,\"ticks\":\"\"}},\"type\":\"scatterpolargl\"}],\"scatterpolar\":[{\"marker\":{\"colorbar\":{\"outlinewidth\":0,\"ticks\":\"\"}},\"type\":\"scatterpolar\"}],\"scatter\":[{\"marker\":{\"colorbar\":{\"outlinewidth\":0,\"ticks\":\"\"}},\"type\":\"scatter\"}],\"scatterternary\":[{\"marker\":{\"colorbar\":{\"outlinewidth\":0,\"ticks\":\"\"}},\"type\":\"scatterternary\"}],\"surface\":[{\"colorbar\":{\"outlinewidth\":0,\"ticks\":\"\"},\"colorscale\":[[0.0,\"#0d0887\"],[0.1111111111111111,\"#46039f\"],[0.2222222222222222,\"#7201a8\"],[0.3333333333333333,\"#9c179e\"],[0.4444444444444444,\"#bd3786\"],[0.5555555555555556,\"#d8576b\"],[0.6666666666666666,\"#ed7953\"],[0.7777777777777778,\"#fb9f3a\"],[0.8888888888888888,\"#fdca26\"],[1.0,\"#f0f921\"]],\"type\":\"surface\"}],\"table\":[{\"cells\":{\"fill\":{\"color\":\"#EBF0F8\"},\"line\":{\"color\":\"white\"}},\"header\":{\"fill\":{\"color\":\"#C8D4E3\"},\"line\":{\"color\":\"white\"}},\"type\":\"table\"}]},\"layout\":{\"annotationdefaults\":{\"arrowcolor\":\"#2a3f5f\",\"arrowhead\":0,\"arrowwidth\":1},\"autotypenumbers\":\"strict\",\"coloraxis\":{\"colorbar\":{\"outlinewidth\":0,\"ticks\":\"\"}},\"colorscale\":{\"diverging\":[[0,\"#8e0152\"],[0.1,\"#c51b7d\"],[0.2,\"#de77ae\"],[0.3,\"#f1b6da\"],[0.4,\"#fde0ef\"],[0.5,\"#f7f7f7\"],[0.6,\"#e6f5d0\"],[0.7,\"#b8e186\"],[0.8,\"#7fbc41\"],[0.9,\"#4d9221\"],[1,\"#276419\"]],\"sequential\":[[0.0,\"#0d0887\"],[0.1111111111111111,\"#46039f\"],[0.2222222222222222,\"#7201a8\"],[0.3333333333333333,\"#9c179e\"],[0.4444444444444444,\"#bd3786\"],[0.5555555555555556,\"#d8576b\"],[0.6666666666666666,\"#ed7953\"],[0.7777777777777778,\"#fb9f3a\"],[0.8888888888888888,\"#fdca26\"],[1.0,\"#f0f921\"]],\"sequentialminus\":[[0.0,\"#0d0887\"],[0.1111111111111111,\"#46039f\"],[0.2222222222222222,\"#7201a8\"],[0.3333333333333333,\"#9c179e\"],[0.4444444444444444,\"#bd3786\"],[0.5555555555555556,\"#d8576b\"],[0.6666666666666666,\"#ed7953\"],[0.7777777777777778,\"#fb9f3a\"],[0.8888888888888888,\"#fdca26\"],[1.0,\"#f0f921\"]]},\"colorway\":[\"#636efa\",\"#EF553B\",\"#00cc96\",\"#ab63fa\",\"#FFA15A\",\"#19d3f3\",\"#FF6692\",\"#B6E880\",\"#FF97FF\",\"#FECB52\"],\"font\":{\"color\":\"#2a3f5f\"},\"geo\":{\"bgcolor\":\"white\",\"lakecolor\":\"white\",\"landcolor\":\"#E5ECF6\",\"showlakes\":true,\"showland\":true,\"subunitcolor\":\"white\"},\"hoverlabel\":{\"align\":\"left\"},\"hovermode\":\"closest\",\"mapbox\":{\"style\":\"light\"},\"paper_bgcolor\":\"white\",\"plot_bgcolor\":\"#E5ECF6\",\"polar\":{\"angularaxis\":{\"gridcolor\":\"white\",\"linecolor\":\"white\",\"ticks\":\"\"},\"bgcolor\":\"#E5ECF6\",\"radialaxis\":{\"gridcolor\":\"white\",\"linecolor\":\"white\",\"ticks\":\"\"}},\"scene\":{\"xaxis\":{\"backgroundcolor\":\"#E5ECF6\",\"gridcolor\":\"white\",\"gridwidth\":2,\"linecolor\":\"white\",\"showbackground\":true,\"ticks\":\"\",\"zerolinecolor\":\"white\"},\"yaxis\":{\"backgroundcolor\":\"#E5ECF6\",\"gridcolor\":\"white\",\"gridwidth\":2,\"linecolor\":\"white\",\"showbackground\":true,\"ticks\":\"\",\"zerolinecolor\":\"white\"},\"zaxis\":{\"backgroundcolor\":\"#E5ECF6\",\"gridcolor\":\"white\",\"gridwidth\":2,\"linecolor\":\"white\",\"showbackground\":true,\"ticks\":\"\",\"zerolinecolor\":\"white\"}},\"shapedefaults\":{\"line\":{\"color\":\"#2a3f5f\"}},\"ternary\":{\"aaxis\":{\"gridcolor\":\"white\",\"linecolor\":\"white\",\"ticks\":\"\"},\"baxis\":{\"gridcolor\":\"white\",\"linecolor\":\"white\",\"ticks\":\"\"},\"bgcolor\":\"#E5ECF6\",\"caxis\":{\"gridcolor\":\"white\",\"linecolor\":\"white\",\"ticks\":\"\"}},\"title\":{\"x\":0.05},\"xaxis\":{\"automargin\":true,\"gridcolor\":\"white\",\"linecolor\":\"white\",\"ticks\":\"\",\"title\":{\"standoff\":15},\"zerolinecolor\":\"white\",\"zerolinewidth\":2},\"yaxis\":{\"automargin\":true,\"gridcolor\":\"white\",\"linecolor\":\"white\",\"ticks\":\"\",\"title\":{\"standoff\":15},\"zerolinecolor\":\"white\",\"zerolinewidth\":2}}},\"title\":{\"font\":{\"color\":\"#4D5663\"}},\"xaxis\":{\"gridcolor\":\"#E1E5ED\",\"showgrid\":true,\"tickfont\":{\"color\":\"#4D5663\"},\"title\":{\"font\":{\"color\":\"#4D5663\"},\"text\":\"\"},\"zerolinecolor\":\"#E1E5ED\"},\"yaxis\":{\"gridcolor\":\"#E1E5ED\",\"showgrid\":true,\"tickfont\":{\"color\":\"#4D5663\"},\"title\":{\"font\":{\"color\":\"#4D5663\"},\"text\":\"\"},\"zerolinecolor\":\"#E1E5ED\"}},                        {\"showLink\": true, \"linkText\": \"Export to plot.ly\", \"plotlyServerURL\": \"https://plot.ly\", \"responsive\": true}                    ).then(function(){\n",
       "                            \n",
       "var gd = document.getElementById('e42493fd-c9d1-4298-947c-0aee2356227a');\n",
       "var x = new MutationObserver(function (mutations, observer) {{\n",
       "        var display = window.getComputedStyle(gd).display;\n",
       "        if (!display || display === 'none') {{\n",
       "            console.log([gd, 'removed!']);\n",
       "            Plotly.purge(gd);\n",
       "            observer.disconnect();\n",
       "        }}\n",
       "}});\n",
       "\n",
       "// Listen for the removal of the full notebook cells\n",
       "var notebookContainer = gd.closest('#notebook-container');\n",
       "if (notebookContainer) {{\n",
       "    x.observe(notebookContainer, {childList: true});\n",
       "}}\n",
       "\n",
       "// Listen for the clearing of the current output cell\n",
       "var outputEl = gd.closest('.output');\n",
       "if (outputEl) {{\n",
       "    x.observe(outputEl, {childList: true});\n",
       "}}\n",
       "\n",
       "                        })                };                });            </script>        </div>"
      ]
     },
     "metadata": {},
     "output_type": "display_data"
    }
   ],
   "source": [
    "# common in the UN; for GDP, happiness index charts, etc.\n",
    "df.iplot(kind = 'bubble', x = 'A', y = 'B', size = 'C');"
   ]
  },
  {
   "cell_type": "code",
   "execution_count": 51,
   "id": "0a9f4ea8",
   "metadata": {},
   "outputs": [
    {
     "data": {
      "application/vnd.plotly.v1+json": {
       "config": {
        "linkText": "Export to plot.ly",
        "plotlyServerURL": "https://plot.ly",
        "showLink": true
       },
       "data": [
        {
         "histfunc": "count",
         "histnorm": "",
         "marker": {
          "color": "rgba(255, 153, 51, 1.0)",
          "line": {
           "color": "#4D5663",
           "width": 1.3
          }
         },
         "name": "A",
         "nbinsx": 10,
         "opacity": 0.8,
         "orientation": "v",
         "type": "histogram",
         "x": [
          -0.8045319692756239,
          -0.7857508741343778,
          0.39430716210118383,
          0.040154756846361016,
          -1.7322422804433464,
          0.23192449486695912,
          -0.6018949797227127,
          -0.26289401276907864,
          0.05250827501417779,
          1.3215808600707148,
          -0.3415752045912305,
          0.9123430324087752,
          -0.11882811971741239,
          -1.277598509738442,
          1.22129685804723,
          -0.9964878457298946,
          2.6620936089218095,
          -0.4803892863051099,
          -1.4490068334874833,
          -0.5458590243929505,
          0.1806089625886417,
          -0.04853061562212352,
          -0.7519138670027183,
          0.9822323510339834,
          1.3217667116892085,
          -0.4078361976983211,
          -0.7433064246907137,
          1.3097970819898321,
          -0.8885546830130938,
          0.08959952426663148,
          0.7613983182603498,
          1.114935205693224,
          -0.26808691289618436,
          -1.179007519613772,
          -0.8212285519866818,
          0.0171376674536935,
          -1.261984800199849,
          0.7540606103836702,
          1.0365981858780862,
          1.0894455868431638,
          1.467140241494887,
          -0.45420815578998514,
          1.4150942894048062,
          -1.0307095952537535,
          -0.8738128032396157,
          0.8499380934853883,
          0.44623467531343414,
          1.1111190821690289,
          1.5931104775281726,
          -0.4229825602717984,
          -0.347724986376733,
          -0.13542680812754604,
          0.3082974882607674,
          -1.8041564241898107,
          -0.01515489581035622,
          1.2123741242554724,
          1.6091967660300068,
          -0.9099405101509571,
          -1.0607387072884853,
          -0.01457523724299721,
          -0.4606327435061816,
          1.353930884874758,
          0.7192866992265134,
          0.35255737217605587,
          0.17943773439695976,
          -0.0008330315647807776,
          0.013257714626296735,
          -0.4853923909661426,
          0.987472645343711,
          -1.2792863154847292,
          -0.1927603830487624,
          -1.248884129883844,
          0.09746544762239337,
          0.205544722884781,
          -1.6106179773906022,
          -1.4962536071793135,
          1.8804432211155748,
          -0.9024008840300444,
          -1.2721816262871173,
          2.1523784705721707,
          -0.9891223749584839,
          -0.966689724244585,
          -1.001881325254751,
          0.09961378114378827,
          -0.6782575216848209,
          0.6993114545806943,
          0.6321315478915533,
          -0.7053759028281684,
          -0.41772962659482143,
          0.3005169214229249,
          0.6704583648794865,
          -0.3618318985451478,
          1.1737851603704852,
          0.24227025716212627,
          1.4015786878545637,
          -0.20532599663298384,
          -0.25831017270764134,
          -2.0960187662439336,
          0.22663058350173887,
          -1.499548991493352
         ],
         "xaxis": "x",
         "yaxis": "y"
        },
        {
         "line": {
          "color": "rgba(128, 128, 128, 1.0)",
          "dash": "solid",
          "shape": "linear",
          "width": 1.3
         },
         "marker": {
          "size": 2,
          "symbol": "circle"
         },
         "mode": "markers",
         "name": "A",
         "text": "",
         "type": "scatter",
         "x": [
          1.380854838531965,
          0.11938502538426132,
          -1.3143531805255566,
          0.6406812285572712,
          0.45901609373282704,
          0.14365163997084188,
          0.04919209970407182,
          -0.14356601653396417,
          -0.13652030629061812,
          0.705737494583953,
          0.4693637488317349,
          -0.22019440349318015,
          0.023077433512087436,
          1.2240704876175075,
          -0.20295579519226248,
          -0.5507208895965063,
          -0.04503975484391459,
          -1.0716079956340958,
          -0.3498571619930785,
          0.05378116157884617,
          0.1914937961172496,
          -0.8001900502593962,
          -1.8724024669870398,
          -1.155013636557828,
          -0.8728225347049191,
          -0.9491040625196484,
          -0.01307810894809895,
          -1.7416462532512975,
          0.7582038042037499,
          1.0245971841296806,
          2.209354664513985,
          0.27962419638957986,
          -0.3625691399492275,
          -0.37384775610699056,
          -0.09090160784772924,
          -0.963449146450701,
          -0.7980032760865212,
          -0.1365887386905632,
          -0.8236488041076043,
          0.12473376344798781,
          -1.5436042717554994,
          -0.6216132617616013,
          1.6894254983684525,
          0.556296337156448,
          -0.785063041863813,
          2.483960864125458,
          -0.43302859825742124,
          0.8939916753077831,
          1.2096210869953685,
          0.9394848885610718,
          -1.4390417869534922,
          1.1168312594389562,
          -0.5365559556172983,
          1.8492172694897153,
          -0.1362841448844875,
          0.6018566047291094,
          0.6036293584590517,
          1.0888599872211706,
          -0.5537892278737087,
          -1.2571168203364704,
          -0.4422470583484276,
          -0.6044378393263163,
          -1.041592179467776,
          1.5009696060524216,
          -0.9109487853431983,
          2.1787784184384558,
          -1.0579386356798106,
          -1.7000597049686215,
          -1.3445417160500615,
          -1.1784242650767685,
          -0.5223318292191497,
          -1.6418690103787708,
          1.6251438590138476,
          -3.8913039112713124,
          -0.5316779558052692,
          0.3711369956120464,
          0.39400732044115944,
          0.5000893212146826,
          -0.1723379534232298,
          -0.8721395911197579,
          -0.36567250291673475,
          1.5156140766192698,
          2.3623075261343915,
          -1.489554844966301,
          1.6413735284669448,
          -0.0929390528011857,
          -0.714291437029099,
          0.130654739297638,
          1.4599097658828708,
          -0.46420506328524286,
          -1.3247869299650787,
          -1.0332844721276573,
          -0.6378849266767722,
          0.5187408321369664,
          0.4352512593360889,
          -0.06583816090115427,
          0.5379177916772021,
          0.28204406416968447,
          -1.04570445537743,
          0.08376817237639435
         ],
         "xaxis": "x2",
         "y": [
          -0.8045319692756239,
          -0.7857508741343778,
          0.39430716210118383,
          0.040154756846361016,
          -1.7322422804433464,
          0.23192449486695912,
          -0.6018949797227127,
          -0.26289401276907864,
          0.05250827501417779,
          1.3215808600707148,
          -0.3415752045912305,
          0.9123430324087752,
          -0.11882811971741239,
          -1.277598509738442,
          1.22129685804723,
          -0.9964878457298946,
          2.6620936089218095,
          -0.4803892863051099,
          -1.4490068334874833,
          -0.5458590243929505,
          0.1806089625886417,
          -0.04853061562212352,
          -0.7519138670027183,
          0.9822323510339834,
          1.3217667116892085,
          -0.4078361976983211,
          -0.7433064246907137,
          1.3097970819898321,
          -0.8885546830130938,
          0.08959952426663148,
          0.7613983182603498,
          1.114935205693224,
          -0.26808691289618436,
          -1.179007519613772,
          -0.8212285519866818,
          0.0171376674536935,
          -1.261984800199849,
          0.7540606103836702,
          1.0365981858780862,
          1.0894455868431638,
          1.467140241494887,
          -0.45420815578998514,
          1.4150942894048062,
          -1.0307095952537535,
          -0.8738128032396157,
          0.8499380934853883,
          0.44623467531343414,
          1.1111190821690289,
          1.5931104775281726,
          -0.4229825602717984,
          -0.347724986376733,
          -0.13542680812754604,
          0.3082974882607674,
          -1.8041564241898107,
          -0.01515489581035622,
          1.2123741242554724,
          1.6091967660300068,
          -0.9099405101509571,
          -1.0607387072884853,
          -0.01457523724299721,
          -0.4606327435061816,
          1.353930884874758,
          0.7192866992265134,
          0.35255737217605587,
          0.17943773439695976,
          -0.0008330315647807776,
          0.013257714626296735,
          -0.4853923909661426,
          0.987472645343711,
          -1.2792863154847292,
          -0.1927603830487624,
          -1.248884129883844,
          0.09746544762239337,
          0.205544722884781,
          -1.6106179773906022,
          -1.4962536071793135,
          1.8804432211155748,
          -0.9024008840300444,
          -1.2721816262871173,
          2.1523784705721707,
          -0.9891223749584839,
          -0.966689724244585,
          -1.001881325254751,
          0.09961378114378827,
          -0.6782575216848209,
          0.6993114545806943,
          0.6321315478915533,
          -0.7053759028281684,
          -0.41772962659482143,
          0.3005169214229249,
          0.6704583648794865,
          -0.3618318985451478,
          1.1737851603704852,
          0.24227025716212627,
          1.4015786878545637,
          -0.20532599663298384,
          -0.25831017270764134,
          -2.0960187662439336,
          0.22663058350173887,
          -1.499548991493352
         ],
         "yaxis": "y2"
        },
        {
         "line": {
          "color": "rgba(128, 128, 128, 1.0)",
          "dash": "solid",
          "shape": "linear",
          "width": 1.3
         },
         "marker": {
          "size": 2,
          "symbol": "circle"
         },
         "mode": "markers",
         "name": "A",
         "text": "",
         "type": "scatter",
         "x": [
          -1.8708875734832748,
          0.04425823550598916,
          2.2318098580876335,
          -0.1932162636185701,
          -0.3495142742950361,
          -0.9363714842063803,
          -0.3751675288083557,
          0.24096398472949992,
          0.7839074733605705,
          -0.948046660123082,
          0.9688924880089168,
          0.29601276029714685,
          -1.3281620746071872,
          1.3444769424008969,
          1.5857319136801458,
          -0.7572298115336303,
          -2.1853912146666983,
          0.5794319393647758,
          0.11438605827806371,
          -0.8174361744556506,
          0.2523687940971506,
          1.4635374612249505,
          0.2514716300708972,
          0.5909474815715231,
          0.5743582936896399,
          0.3404858368078811,
          -0.4907552024656146,
          -0.32078836101622105,
          -0.44800327053016514,
          0.9960774558527737,
          0.22467360416969342,
          2.4529081035546207,
          -0.21787418455794888,
          0.6762498754903966,
          -0.48303381928730993,
          -0.16139780190549755,
          -0.5647919533473379,
          -0.3672292350945552,
          -0.278958867299943,
          -0.07128610183100571,
          -0.0351476668971757,
          0.5375339473571906,
          -0.16054867274784868,
          1.2920755922952918,
          1.667640449645262,
          -0.36020101369593516,
          1.4831194257765556,
          0.16674921176253732,
          -0.5377061661274848,
          -1.4134058793381234,
          -0.47496514727810796,
          0.46973511175391053,
          -0.14771132817389718,
          1.5164803577234145,
          -0.6872851570369064,
          0.3298080343624988,
          -0.9444593815516463,
          0.5566413339925547,
          -1.4670673842371387,
          -0.09040314661128307,
          -0.7681215742517598,
          0.22498077143569414,
          0.27567011144228754,
          -1.7401853989682063,
          0.5830003687822239,
          0.3502144296196838,
          -1.8571529961941577,
          0.1901652524422592,
          -0.12813138347420786,
          -1.1874881142031868,
          -0.06773200120193666,
          -0.5034130203140469,
          -1.7569306963537281,
          0.9954700566699439,
          -0.7377403658835474,
          -1.9608339437686828,
          1.0887725214220043,
          1.1615126132641291,
          -1.3425676644410556,
          1.1731778312031338,
          0.5923121609965328,
          -0.49249661917257426,
          -0.13023345722216656,
          -1.459896361013488,
          0.3545202476999806,
          -1.8383904457936295,
          -0.16943713505500044,
          -0.5132237203127183,
          0.3047428775744405,
          -0.10827793167007603,
          0.3317581955489925,
          0.6011410609751754,
          1.1156955619768716,
          1.0934138206778674,
          0.47807489067700687,
          0.2012802882466331,
          0.01618371786285664,
          -0.4205840724709901,
          -1.3314350933539179,
          1.307938271004548
         ],
         "xaxis": "x3",
         "y": [
          -0.8045319692756239,
          -0.7857508741343778,
          0.39430716210118383,
          0.040154756846361016,
          -1.7322422804433464,
          0.23192449486695912,
          -0.6018949797227127,
          -0.26289401276907864,
          0.05250827501417779,
          1.3215808600707148,
          -0.3415752045912305,
          0.9123430324087752,
          -0.11882811971741239,
          -1.277598509738442,
          1.22129685804723,
          -0.9964878457298946,
          2.6620936089218095,
          -0.4803892863051099,
          -1.4490068334874833,
          -0.5458590243929505,
          0.1806089625886417,
          -0.04853061562212352,
          -0.7519138670027183,
          0.9822323510339834,
          1.3217667116892085,
          -0.4078361976983211,
          -0.7433064246907137,
          1.3097970819898321,
          -0.8885546830130938,
          0.08959952426663148,
          0.7613983182603498,
          1.114935205693224,
          -0.26808691289618436,
          -1.179007519613772,
          -0.8212285519866818,
          0.0171376674536935,
          -1.261984800199849,
          0.7540606103836702,
          1.0365981858780862,
          1.0894455868431638,
          1.467140241494887,
          -0.45420815578998514,
          1.4150942894048062,
          -1.0307095952537535,
          -0.8738128032396157,
          0.8499380934853883,
          0.44623467531343414,
          1.1111190821690289,
          1.5931104775281726,
          -0.4229825602717984,
          -0.347724986376733,
          -0.13542680812754604,
          0.3082974882607674,
          -1.8041564241898107,
          -0.01515489581035622,
          1.2123741242554724,
          1.6091967660300068,
          -0.9099405101509571,
          -1.0607387072884853,
          -0.01457523724299721,
          -0.4606327435061816,
          1.353930884874758,
          0.7192866992265134,
          0.35255737217605587,
          0.17943773439695976,
          -0.0008330315647807776,
          0.013257714626296735,
          -0.4853923909661426,
          0.987472645343711,
          -1.2792863154847292,
          -0.1927603830487624,
          -1.248884129883844,
          0.09746544762239337,
          0.205544722884781,
          -1.6106179773906022,
          -1.4962536071793135,
          1.8804432211155748,
          -0.9024008840300444,
          -1.2721816262871173,
          2.1523784705721707,
          -0.9891223749584839,
          -0.966689724244585,
          -1.001881325254751,
          0.09961378114378827,
          -0.6782575216848209,
          0.6993114545806943,
          0.6321315478915533,
          -0.7053759028281684,
          -0.41772962659482143,
          0.3005169214229249,
          0.6704583648794865,
          -0.3618318985451478,
          1.1737851603704852,
          0.24227025716212627,
          1.4015786878545637,
          -0.20532599663298384,
          -0.25831017270764134,
          -2.0960187662439336,
          0.22663058350173887,
          -1.499548991493352
         ],
         "yaxis": "y3"
        },
        {
         "line": {
          "color": "rgba(128, 128, 128, 1.0)",
          "dash": "solid",
          "shape": "linear",
          "width": 1.3
         },
         "marker": {
          "size": 2,
          "symbol": "circle"
         },
         "mode": "markers",
         "name": "A",
         "text": "",
         "type": "scatter",
         "x": [
          -0.6243127375617485,
          -1.1740550580744102,
          0.038460727649453415,
          1.473545397199106,
          -0.9521658151129334,
          -0.4848915430788821,
          0.0675901121034954,
          0.805327552498521,
          -0.3678164673871686,
          -0.9210994094835443,
          0.30050191780807356,
          0.12519393915142765,
          1.137088531812455,
          0.2968333543050542,
          0.9444873258850971,
          0.07407865634529899,
          -0.25029023390720306,
          0.3179564559367161,
          -2.5639417290556357,
          0.230886491505683,
          -0.0888265823761594,
          -0.09021836298835495,
          -1.0771186416949865,
          -0.8594551656352457,
          -0.10386030844563789,
          -0.5953859982931564,
          -2.1793723497553326,
          0.11283882512550318,
          -0.5749599969041304,
          -1.1233656099056193,
          2.1314646206198327,
          -1.653124713992959,
          -1.7960268785121087,
          -0.1393410261146086,
          -0.539714578867005,
          0.5856794701890018,
          -0.2071207922317129,
          -0.6972380495463055,
          -1.4852391624389962,
          -0.6132944048119481,
          1.3420483036377386,
          -1.5755224816993758,
          0.2743879523680005,
          -0.4464672218318962,
          -3.378295994805631,
          -0.6707301853353952,
          -0.7587263078274006,
          -0.27706990266371545,
          -0.8225006505775436,
          0.2503955509660361,
          0.038810602206067676,
          -1.0879790827177869,
          -0.5147650195142758,
          0.056920826723514194,
          -0.455853480689292,
          -0.37650380217157314,
          0.8415793821045491,
          0.09174178210241361,
          1.6341077538875552,
          -0.6868086957169546,
          1.2819199478532186,
          -1.182394428328359,
          -0.636493609887241,
          0.4836901410780605,
          -1.7703504544405102,
          -2.170912133455119,
          -0.0822348997199209,
          -1.1309071842819234,
          -0.5383595119236265,
          -0.014834978292038978,
          -0.6162582558907989,
          -0.6883800257753223,
          0.8954912080936425,
          0.9037166248628814,
          1.1873894608157394,
          -0.6123584271721806,
          -1.422847869128479,
          2.3106182679204,
          -0.7881045889309072,
          0.03242724161322168,
          -1.541884412644934,
          -0.9388412359867381,
          -0.5529495445987058,
          0.6732988001879391,
          -0.5893911620958981,
          2.579973066211168,
          -0.3185865876642497,
          0.5761037296869645,
          1.5547217694290791,
          0.3041990392389531,
          0.9716870695179999,
          0.3940485816680812,
          -0.6403195185889015,
          1.0750979233256113,
          0.970106939826967,
          1.9639453540327028,
          1.5346904677398219,
          0.5966181882134294,
          -0.33441777490768804,
          -0.6426062418461276
         ],
         "xaxis": "x4",
         "y": [
          -0.8045319692756239,
          -0.7857508741343778,
          0.39430716210118383,
          0.040154756846361016,
          -1.7322422804433464,
          0.23192449486695912,
          -0.6018949797227127,
          -0.26289401276907864,
          0.05250827501417779,
          1.3215808600707148,
          -0.3415752045912305,
          0.9123430324087752,
          -0.11882811971741239,
          -1.277598509738442,
          1.22129685804723,
          -0.9964878457298946,
          2.6620936089218095,
          -0.4803892863051099,
          -1.4490068334874833,
          -0.5458590243929505,
          0.1806089625886417,
          -0.04853061562212352,
          -0.7519138670027183,
          0.9822323510339834,
          1.3217667116892085,
          -0.4078361976983211,
          -0.7433064246907137,
          1.3097970819898321,
          -0.8885546830130938,
          0.08959952426663148,
          0.7613983182603498,
          1.114935205693224,
          -0.26808691289618436,
          -1.179007519613772,
          -0.8212285519866818,
          0.0171376674536935,
          -1.261984800199849,
          0.7540606103836702,
          1.0365981858780862,
          1.0894455868431638,
          1.467140241494887,
          -0.45420815578998514,
          1.4150942894048062,
          -1.0307095952537535,
          -0.8738128032396157,
          0.8499380934853883,
          0.44623467531343414,
          1.1111190821690289,
          1.5931104775281726,
          -0.4229825602717984,
          -0.347724986376733,
          -0.13542680812754604,
          0.3082974882607674,
          -1.8041564241898107,
          -0.01515489581035622,
          1.2123741242554724,
          1.6091967660300068,
          -0.9099405101509571,
          -1.0607387072884853,
          -0.01457523724299721,
          -0.4606327435061816,
          1.353930884874758,
          0.7192866992265134,
          0.35255737217605587,
          0.17943773439695976,
          -0.0008330315647807776,
          0.013257714626296735,
          -0.4853923909661426,
          0.987472645343711,
          -1.2792863154847292,
          -0.1927603830487624,
          -1.248884129883844,
          0.09746544762239337,
          0.205544722884781,
          -1.6106179773906022,
          -1.4962536071793135,
          1.8804432211155748,
          -0.9024008840300444,
          -1.2721816262871173,
          2.1523784705721707,
          -0.9891223749584839,
          -0.966689724244585,
          -1.001881325254751,
          0.09961378114378827,
          -0.6782575216848209,
          0.6993114545806943,
          0.6321315478915533,
          -0.7053759028281684,
          -0.41772962659482143,
          0.3005169214229249,
          0.6704583648794865,
          -0.3618318985451478,
          1.1737851603704852,
          0.24227025716212627,
          1.4015786878545637,
          -0.20532599663298384,
          -0.25831017270764134,
          -2.0960187662439336,
          0.22663058350173887,
          -1.499548991493352
         ],
         "yaxis": "y4"
        },
        {
         "line": {
          "color": "rgba(128, 128, 128, 1.0)",
          "dash": "solid",
          "shape": "linear",
          "width": 1.3
         },
         "marker": {
          "size": 2,
          "symbol": "circle"
         },
         "mode": "markers",
         "name": "B",
         "text": "",
         "type": "scatter",
         "x": [
          -0.8045319692756239,
          -0.7857508741343778,
          0.39430716210118383,
          0.040154756846361016,
          -1.7322422804433464,
          0.23192449486695912,
          -0.6018949797227127,
          -0.26289401276907864,
          0.05250827501417779,
          1.3215808600707148,
          -0.3415752045912305,
          0.9123430324087752,
          -0.11882811971741239,
          -1.277598509738442,
          1.22129685804723,
          -0.9964878457298946,
          2.6620936089218095,
          -0.4803892863051099,
          -1.4490068334874833,
          -0.5458590243929505,
          0.1806089625886417,
          -0.04853061562212352,
          -0.7519138670027183,
          0.9822323510339834,
          1.3217667116892085,
          -0.4078361976983211,
          -0.7433064246907137,
          1.3097970819898321,
          -0.8885546830130938,
          0.08959952426663148,
          0.7613983182603498,
          1.114935205693224,
          -0.26808691289618436,
          -1.179007519613772,
          -0.8212285519866818,
          0.0171376674536935,
          -1.261984800199849,
          0.7540606103836702,
          1.0365981858780862,
          1.0894455868431638,
          1.467140241494887,
          -0.45420815578998514,
          1.4150942894048062,
          -1.0307095952537535,
          -0.8738128032396157,
          0.8499380934853883,
          0.44623467531343414,
          1.1111190821690289,
          1.5931104775281726,
          -0.4229825602717984,
          -0.347724986376733,
          -0.13542680812754604,
          0.3082974882607674,
          -1.8041564241898107,
          -0.01515489581035622,
          1.2123741242554724,
          1.6091967660300068,
          -0.9099405101509571,
          -1.0607387072884853,
          -0.01457523724299721,
          -0.4606327435061816,
          1.353930884874758,
          0.7192866992265134,
          0.35255737217605587,
          0.17943773439695976,
          -0.0008330315647807776,
          0.013257714626296735,
          -0.4853923909661426,
          0.987472645343711,
          -1.2792863154847292,
          -0.1927603830487624,
          -1.248884129883844,
          0.09746544762239337,
          0.205544722884781,
          -1.6106179773906022,
          -1.4962536071793135,
          1.8804432211155748,
          -0.9024008840300444,
          -1.2721816262871173,
          2.1523784705721707,
          -0.9891223749584839,
          -0.966689724244585,
          -1.001881325254751,
          0.09961378114378827,
          -0.6782575216848209,
          0.6993114545806943,
          0.6321315478915533,
          -0.7053759028281684,
          -0.41772962659482143,
          0.3005169214229249,
          0.6704583648794865,
          -0.3618318985451478,
          1.1737851603704852,
          0.24227025716212627,
          1.4015786878545637,
          -0.20532599663298384,
          -0.25831017270764134,
          -2.0960187662439336,
          0.22663058350173887,
          -1.499548991493352
         ],
         "xaxis": "x5",
         "y": [
          1.380854838531965,
          0.11938502538426132,
          -1.3143531805255566,
          0.6406812285572712,
          0.45901609373282704,
          0.14365163997084188,
          0.04919209970407182,
          -0.14356601653396417,
          -0.13652030629061812,
          0.705737494583953,
          0.4693637488317349,
          -0.22019440349318015,
          0.023077433512087436,
          1.2240704876175075,
          -0.20295579519226248,
          -0.5507208895965063,
          -0.04503975484391459,
          -1.0716079956340958,
          -0.3498571619930785,
          0.05378116157884617,
          0.1914937961172496,
          -0.8001900502593962,
          -1.8724024669870398,
          -1.155013636557828,
          -0.8728225347049191,
          -0.9491040625196484,
          -0.01307810894809895,
          -1.7416462532512975,
          0.7582038042037499,
          1.0245971841296806,
          2.209354664513985,
          0.27962419638957986,
          -0.3625691399492275,
          -0.37384775610699056,
          -0.09090160784772924,
          -0.963449146450701,
          -0.7980032760865212,
          -0.1365887386905632,
          -0.8236488041076043,
          0.12473376344798781,
          -1.5436042717554994,
          -0.6216132617616013,
          1.6894254983684525,
          0.556296337156448,
          -0.785063041863813,
          2.483960864125458,
          -0.43302859825742124,
          0.8939916753077831,
          1.2096210869953685,
          0.9394848885610718,
          -1.4390417869534922,
          1.1168312594389562,
          -0.5365559556172983,
          1.8492172694897153,
          -0.1362841448844875,
          0.6018566047291094,
          0.6036293584590517,
          1.0888599872211706,
          -0.5537892278737087,
          -1.2571168203364704,
          -0.4422470583484276,
          -0.6044378393263163,
          -1.041592179467776,
          1.5009696060524216,
          -0.9109487853431983,
          2.1787784184384558,
          -1.0579386356798106,
          -1.7000597049686215,
          -1.3445417160500615,
          -1.1784242650767685,
          -0.5223318292191497,
          -1.6418690103787708,
          1.6251438590138476,
          -3.8913039112713124,
          -0.5316779558052692,
          0.3711369956120464,
          0.39400732044115944,
          0.5000893212146826,
          -0.1723379534232298,
          -0.8721395911197579,
          -0.36567250291673475,
          1.5156140766192698,
          2.3623075261343915,
          -1.489554844966301,
          1.6413735284669448,
          -0.0929390528011857,
          -0.714291437029099,
          0.130654739297638,
          1.4599097658828708,
          -0.46420506328524286,
          -1.3247869299650787,
          -1.0332844721276573,
          -0.6378849266767722,
          0.5187408321369664,
          0.4352512593360889,
          -0.06583816090115427,
          0.5379177916772021,
          0.28204406416968447,
          -1.04570445537743,
          0.08376817237639435
         ],
         "yaxis": "y5"
        },
        {
         "histfunc": "count",
         "histnorm": "",
         "marker": {
          "color": "rgba(55, 128, 191, 1.0)",
          "line": {
           "color": "#4D5663",
           "width": 1.3
          }
         },
         "name": "B",
         "nbinsx": 10,
         "opacity": 0.8,
         "orientation": "v",
         "type": "histogram",
         "x": [
          1.380854838531965,
          0.11938502538426132,
          -1.3143531805255566,
          0.6406812285572712,
          0.45901609373282704,
          0.14365163997084188,
          0.04919209970407182,
          -0.14356601653396417,
          -0.13652030629061812,
          0.705737494583953,
          0.4693637488317349,
          -0.22019440349318015,
          0.023077433512087436,
          1.2240704876175075,
          -0.20295579519226248,
          -0.5507208895965063,
          -0.04503975484391459,
          -1.0716079956340958,
          -0.3498571619930785,
          0.05378116157884617,
          0.1914937961172496,
          -0.8001900502593962,
          -1.8724024669870398,
          -1.155013636557828,
          -0.8728225347049191,
          -0.9491040625196484,
          -0.01307810894809895,
          -1.7416462532512975,
          0.7582038042037499,
          1.0245971841296806,
          2.209354664513985,
          0.27962419638957986,
          -0.3625691399492275,
          -0.37384775610699056,
          -0.09090160784772924,
          -0.963449146450701,
          -0.7980032760865212,
          -0.1365887386905632,
          -0.8236488041076043,
          0.12473376344798781,
          -1.5436042717554994,
          -0.6216132617616013,
          1.6894254983684525,
          0.556296337156448,
          -0.785063041863813,
          2.483960864125458,
          -0.43302859825742124,
          0.8939916753077831,
          1.2096210869953685,
          0.9394848885610718,
          -1.4390417869534922,
          1.1168312594389562,
          -0.5365559556172983,
          1.8492172694897153,
          -0.1362841448844875,
          0.6018566047291094,
          0.6036293584590517,
          1.0888599872211706,
          -0.5537892278737087,
          -1.2571168203364704,
          -0.4422470583484276,
          -0.6044378393263163,
          -1.041592179467776,
          1.5009696060524216,
          -0.9109487853431983,
          2.1787784184384558,
          -1.0579386356798106,
          -1.7000597049686215,
          -1.3445417160500615,
          -1.1784242650767685,
          -0.5223318292191497,
          -1.6418690103787708,
          1.6251438590138476,
          -3.8913039112713124,
          -0.5316779558052692,
          0.3711369956120464,
          0.39400732044115944,
          0.5000893212146826,
          -0.1723379534232298,
          -0.8721395911197579,
          -0.36567250291673475,
          1.5156140766192698,
          2.3623075261343915,
          -1.489554844966301,
          1.6413735284669448,
          -0.0929390528011857,
          -0.714291437029099,
          0.130654739297638,
          1.4599097658828708,
          -0.46420506328524286,
          -1.3247869299650787,
          -1.0332844721276573,
          -0.6378849266767722,
          0.5187408321369664,
          0.4352512593360889,
          -0.06583816090115427,
          0.5379177916772021,
          0.28204406416968447,
          -1.04570445537743,
          0.08376817237639435
         ],
         "xaxis": "x6",
         "yaxis": "y6"
        },
        {
         "line": {
          "color": "rgba(128, 128, 128, 1.0)",
          "dash": "solid",
          "shape": "linear",
          "width": 1.3
         },
         "marker": {
          "size": 2,
          "symbol": "circle"
         },
         "mode": "markers",
         "name": "B",
         "text": "",
         "type": "scatter",
         "x": [
          -1.8708875734832748,
          0.04425823550598916,
          2.2318098580876335,
          -0.1932162636185701,
          -0.3495142742950361,
          -0.9363714842063803,
          -0.3751675288083557,
          0.24096398472949992,
          0.7839074733605705,
          -0.948046660123082,
          0.9688924880089168,
          0.29601276029714685,
          -1.3281620746071872,
          1.3444769424008969,
          1.5857319136801458,
          -0.7572298115336303,
          -2.1853912146666983,
          0.5794319393647758,
          0.11438605827806371,
          -0.8174361744556506,
          0.2523687940971506,
          1.4635374612249505,
          0.2514716300708972,
          0.5909474815715231,
          0.5743582936896399,
          0.3404858368078811,
          -0.4907552024656146,
          -0.32078836101622105,
          -0.44800327053016514,
          0.9960774558527737,
          0.22467360416969342,
          2.4529081035546207,
          -0.21787418455794888,
          0.6762498754903966,
          -0.48303381928730993,
          -0.16139780190549755,
          -0.5647919533473379,
          -0.3672292350945552,
          -0.278958867299943,
          -0.07128610183100571,
          -0.0351476668971757,
          0.5375339473571906,
          -0.16054867274784868,
          1.2920755922952918,
          1.667640449645262,
          -0.36020101369593516,
          1.4831194257765556,
          0.16674921176253732,
          -0.5377061661274848,
          -1.4134058793381234,
          -0.47496514727810796,
          0.46973511175391053,
          -0.14771132817389718,
          1.5164803577234145,
          -0.6872851570369064,
          0.3298080343624988,
          -0.9444593815516463,
          0.5566413339925547,
          -1.4670673842371387,
          -0.09040314661128307,
          -0.7681215742517598,
          0.22498077143569414,
          0.27567011144228754,
          -1.7401853989682063,
          0.5830003687822239,
          0.3502144296196838,
          -1.8571529961941577,
          0.1901652524422592,
          -0.12813138347420786,
          -1.1874881142031868,
          -0.06773200120193666,
          -0.5034130203140469,
          -1.7569306963537281,
          0.9954700566699439,
          -0.7377403658835474,
          -1.9608339437686828,
          1.0887725214220043,
          1.1615126132641291,
          -1.3425676644410556,
          1.1731778312031338,
          0.5923121609965328,
          -0.49249661917257426,
          -0.13023345722216656,
          -1.459896361013488,
          0.3545202476999806,
          -1.8383904457936295,
          -0.16943713505500044,
          -0.5132237203127183,
          0.3047428775744405,
          -0.10827793167007603,
          0.3317581955489925,
          0.6011410609751754,
          1.1156955619768716,
          1.0934138206778674,
          0.47807489067700687,
          0.2012802882466331,
          0.01618371786285664,
          -0.4205840724709901,
          -1.3314350933539179,
          1.307938271004548
         ],
         "xaxis": "x7",
         "y": [
          1.380854838531965,
          0.11938502538426132,
          -1.3143531805255566,
          0.6406812285572712,
          0.45901609373282704,
          0.14365163997084188,
          0.04919209970407182,
          -0.14356601653396417,
          -0.13652030629061812,
          0.705737494583953,
          0.4693637488317349,
          -0.22019440349318015,
          0.023077433512087436,
          1.2240704876175075,
          -0.20295579519226248,
          -0.5507208895965063,
          -0.04503975484391459,
          -1.0716079956340958,
          -0.3498571619930785,
          0.05378116157884617,
          0.1914937961172496,
          -0.8001900502593962,
          -1.8724024669870398,
          -1.155013636557828,
          -0.8728225347049191,
          -0.9491040625196484,
          -0.01307810894809895,
          -1.7416462532512975,
          0.7582038042037499,
          1.0245971841296806,
          2.209354664513985,
          0.27962419638957986,
          -0.3625691399492275,
          -0.37384775610699056,
          -0.09090160784772924,
          -0.963449146450701,
          -0.7980032760865212,
          -0.1365887386905632,
          -0.8236488041076043,
          0.12473376344798781,
          -1.5436042717554994,
          -0.6216132617616013,
          1.6894254983684525,
          0.556296337156448,
          -0.785063041863813,
          2.483960864125458,
          -0.43302859825742124,
          0.8939916753077831,
          1.2096210869953685,
          0.9394848885610718,
          -1.4390417869534922,
          1.1168312594389562,
          -0.5365559556172983,
          1.8492172694897153,
          -0.1362841448844875,
          0.6018566047291094,
          0.6036293584590517,
          1.0888599872211706,
          -0.5537892278737087,
          -1.2571168203364704,
          -0.4422470583484276,
          -0.6044378393263163,
          -1.041592179467776,
          1.5009696060524216,
          -0.9109487853431983,
          2.1787784184384558,
          -1.0579386356798106,
          -1.7000597049686215,
          -1.3445417160500615,
          -1.1784242650767685,
          -0.5223318292191497,
          -1.6418690103787708,
          1.6251438590138476,
          -3.8913039112713124,
          -0.5316779558052692,
          0.3711369956120464,
          0.39400732044115944,
          0.5000893212146826,
          -0.1723379534232298,
          -0.8721395911197579,
          -0.36567250291673475,
          1.5156140766192698,
          2.3623075261343915,
          -1.489554844966301,
          1.6413735284669448,
          -0.0929390528011857,
          -0.714291437029099,
          0.130654739297638,
          1.4599097658828708,
          -0.46420506328524286,
          -1.3247869299650787,
          -1.0332844721276573,
          -0.6378849266767722,
          0.5187408321369664,
          0.4352512593360889,
          -0.06583816090115427,
          0.5379177916772021,
          0.28204406416968447,
          -1.04570445537743,
          0.08376817237639435
         ],
         "yaxis": "y7"
        },
        {
         "line": {
          "color": "rgba(128, 128, 128, 1.0)",
          "dash": "solid",
          "shape": "linear",
          "width": 1.3
         },
         "marker": {
          "size": 2,
          "symbol": "circle"
         },
         "mode": "markers",
         "name": "B",
         "text": "",
         "type": "scatter",
         "x": [
          -0.6243127375617485,
          -1.1740550580744102,
          0.038460727649453415,
          1.473545397199106,
          -0.9521658151129334,
          -0.4848915430788821,
          0.0675901121034954,
          0.805327552498521,
          -0.3678164673871686,
          -0.9210994094835443,
          0.30050191780807356,
          0.12519393915142765,
          1.137088531812455,
          0.2968333543050542,
          0.9444873258850971,
          0.07407865634529899,
          -0.25029023390720306,
          0.3179564559367161,
          -2.5639417290556357,
          0.230886491505683,
          -0.0888265823761594,
          -0.09021836298835495,
          -1.0771186416949865,
          -0.8594551656352457,
          -0.10386030844563789,
          -0.5953859982931564,
          -2.1793723497553326,
          0.11283882512550318,
          -0.5749599969041304,
          -1.1233656099056193,
          2.1314646206198327,
          -1.653124713992959,
          -1.7960268785121087,
          -0.1393410261146086,
          -0.539714578867005,
          0.5856794701890018,
          -0.2071207922317129,
          -0.6972380495463055,
          -1.4852391624389962,
          -0.6132944048119481,
          1.3420483036377386,
          -1.5755224816993758,
          0.2743879523680005,
          -0.4464672218318962,
          -3.378295994805631,
          -0.6707301853353952,
          -0.7587263078274006,
          -0.27706990266371545,
          -0.8225006505775436,
          0.2503955509660361,
          0.038810602206067676,
          -1.0879790827177869,
          -0.5147650195142758,
          0.056920826723514194,
          -0.455853480689292,
          -0.37650380217157314,
          0.8415793821045491,
          0.09174178210241361,
          1.6341077538875552,
          -0.6868086957169546,
          1.2819199478532186,
          -1.182394428328359,
          -0.636493609887241,
          0.4836901410780605,
          -1.7703504544405102,
          -2.170912133455119,
          -0.0822348997199209,
          -1.1309071842819234,
          -0.5383595119236265,
          -0.014834978292038978,
          -0.6162582558907989,
          -0.6883800257753223,
          0.8954912080936425,
          0.9037166248628814,
          1.1873894608157394,
          -0.6123584271721806,
          -1.422847869128479,
          2.3106182679204,
          -0.7881045889309072,
          0.03242724161322168,
          -1.541884412644934,
          -0.9388412359867381,
          -0.5529495445987058,
          0.6732988001879391,
          -0.5893911620958981,
          2.579973066211168,
          -0.3185865876642497,
          0.5761037296869645,
          1.5547217694290791,
          0.3041990392389531,
          0.9716870695179999,
          0.3940485816680812,
          -0.6403195185889015,
          1.0750979233256113,
          0.970106939826967,
          1.9639453540327028,
          1.5346904677398219,
          0.5966181882134294,
          -0.33441777490768804,
          -0.6426062418461276
         ],
         "xaxis": "x8",
         "y": [
          1.380854838531965,
          0.11938502538426132,
          -1.3143531805255566,
          0.6406812285572712,
          0.45901609373282704,
          0.14365163997084188,
          0.04919209970407182,
          -0.14356601653396417,
          -0.13652030629061812,
          0.705737494583953,
          0.4693637488317349,
          -0.22019440349318015,
          0.023077433512087436,
          1.2240704876175075,
          -0.20295579519226248,
          -0.5507208895965063,
          -0.04503975484391459,
          -1.0716079956340958,
          -0.3498571619930785,
          0.05378116157884617,
          0.1914937961172496,
          -0.8001900502593962,
          -1.8724024669870398,
          -1.155013636557828,
          -0.8728225347049191,
          -0.9491040625196484,
          -0.01307810894809895,
          -1.7416462532512975,
          0.7582038042037499,
          1.0245971841296806,
          2.209354664513985,
          0.27962419638957986,
          -0.3625691399492275,
          -0.37384775610699056,
          -0.09090160784772924,
          -0.963449146450701,
          -0.7980032760865212,
          -0.1365887386905632,
          -0.8236488041076043,
          0.12473376344798781,
          -1.5436042717554994,
          -0.6216132617616013,
          1.6894254983684525,
          0.556296337156448,
          -0.785063041863813,
          2.483960864125458,
          -0.43302859825742124,
          0.8939916753077831,
          1.2096210869953685,
          0.9394848885610718,
          -1.4390417869534922,
          1.1168312594389562,
          -0.5365559556172983,
          1.8492172694897153,
          -0.1362841448844875,
          0.6018566047291094,
          0.6036293584590517,
          1.0888599872211706,
          -0.5537892278737087,
          -1.2571168203364704,
          -0.4422470583484276,
          -0.6044378393263163,
          -1.041592179467776,
          1.5009696060524216,
          -0.9109487853431983,
          2.1787784184384558,
          -1.0579386356798106,
          -1.7000597049686215,
          -1.3445417160500615,
          -1.1784242650767685,
          -0.5223318292191497,
          -1.6418690103787708,
          1.6251438590138476,
          -3.8913039112713124,
          -0.5316779558052692,
          0.3711369956120464,
          0.39400732044115944,
          0.5000893212146826,
          -0.1723379534232298,
          -0.8721395911197579,
          -0.36567250291673475,
          1.5156140766192698,
          2.3623075261343915,
          -1.489554844966301,
          1.6413735284669448,
          -0.0929390528011857,
          -0.714291437029099,
          0.130654739297638,
          1.4599097658828708,
          -0.46420506328524286,
          -1.3247869299650787,
          -1.0332844721276573,
          -0.6378849266767722,
          0.5187408321369664,
          0.4352512593360889,
          -0.06583816090115427,
          0.5379177916772021,
          0.28204406416968447,
          -1.04570445537743,
          0.08376817237639435
         ],
         "yaxis": "y8"
        },
        {
         "line": {
          "color": "rgba(128, 128, 128, 1.0)",
          "dash": "solid",
          "shape": "linear",
          "width": 1.3
         },
         "marker": {
          "size": 2,
          "symbol": "circle"
         },
         "mode": "markers",
         "name": "C",
         "text": "",
         "type": "scatter",
         "x": [
          -0.8045319692756239,
          -0.7857508741343778,
          0.39430716210118383,
          0.040154756846361016,
          -1.7322422804433464,
          0.23192449486695912,
          -0.6018949797227127,
          -0.26289401276907864,
          0.05250827501417779,
          1.3215808600707148,
          -0.3415752045912305,
          0.9123430324087752,
          -0.11882811971741239,
          -1.277598509738442,
          1.22129685804723,
          -0.9964878457298946,
          2.6620936089218095,
          -0.4803892863051099,
          -1.4490068334874833,
          -0.5458590243929505,
          0.1806089625886417,
          -0.04853061562212352,
          -0.7519138670027183,
          0.9822323510339834,
          1.3217667116892085,
          -0.4078361976983211,
          -0.7433064246907137,
          1.3097970819898321,
          -0.8885546830130938,
          0.08959952426663148,
          0.7613983182603498,
          1.114935205693224,
          -0.26808691289618436,
          -1.179007519613772,
          -0.8212285519866818,
          0.0171376674536935,
          -1.261984800199849,
          0.7540606103836702,
          1.0365981858780862,
          1.0894455868431638,
          1.467140241494887,
          -0.45420815578998514,
          1.4150942894048062,
          -1.0307095952537535,
          -0.8738128032396157,
          0.8499380934853883,
          0.44623467531343414,
          1.1111190821690289,
          1.5931104775281726,
          -0.4229825602717984,
          -0.347724986376733,
          -0.13542680812754604,
          0.3082974882607674,
          -1.8041564241898107,
          -0.01515489581035622,
          1.2123741242554724,
          1.6091967660300068,
          -0.9099405101509571,
          -1.0607387072884853,
          -0.01457523724299721,
          -0.4606327435061816,
          1.353930884874758,
          0.7192866992265134,
          0.35255737217605587,
          0.17943773439695976,
          -0.0008330315647807776,
          0.013257714626296735,
          -0.4853923909661426,
          0.987472645343711,
          -1.2792863154847292,
          -0.1927603830487624,
          -1.248884129883844,
          0.09746544762239337,
          0.205544722884781,
          -1.6106179773906022,
          -1.4962536071793135,
          1.8804432211155748,
          -0.9024008840300444,
          -1.2721816262871173,
          2.1523784705721707,
          -0.9891223749584839,
          -0.966689724244585,
          -1.001881325254751,
          0.09961378114378827,
          -0.6782575216848209,
          0.6993114545806943,
          0.6321315478915533,
          -0.7053759028281684,
          -0.41772962659482143,
          0.3005169214229249,
          0.6704583648794865,
          -0.3618318985451478,
          1.1737851603704852,
          0.24227025716212627,
          1.4015786878545637,
          -0.20532599663298384,
          -0.25831017270764134,
          -2.0960187662439336,
          0.22663058350173887,
          -1.499548991493352
         ],
         "xaxis": "x9",
         "y": [
          -1.8708875734832748,
          0.04425823550598916,
          2.2318098580876335,
          -0.1932162636185701,
          -0.3495142742950361,
          -0.9363714842063803,
          -0.3751675288083557,
          0.24096398472949992,
          0.7839074733605705,
          -0.948046660123082,
          0.9688924880089168,
          0.29601276029714685,
          -1.3281620746071872,
          1.3444769424008969,
          1.5857319136801458,
          -0.7572298115336303,
          -2.1853912146666983,
          0.5794319393647758,
          0.11438605827806371,
          -0.8174361744556506,
          0.2523687940971506,
          1.4635374612249505,
          0.2514716300708972,
          0.5909474815715231,
          0.5743582936896399,
          0.3404858368078811,
          -0.4907552024656146,
          -0.32078836101622105,
          -0.44800327053016514,
          0.9960774558527737,
          0.22467360416969342,
          2.4529081035546207,
          -0.21787418455794888,
          0.6762498754903966,
          -0.48303381928730993,
          -0.16139780190549755,
          -0.5647919533473379,
          -0.3672292350945552,
          -0.278958867299943,
          -0.07128610183100571,
          -0.0351476668971757,
          0.5375339473571906,
          -0.16054867274784868,
          1.2920755922952918,
          1.667640449645262,
          -0.36020101369593516,
          1.4831194257765556,
          0.16674921176253732,
          -0.5377061661274848,
          -1.4134058793381234,
          -0.47496514727810796,
          0.46973511175391053,
          -0.14771132817389718,
          1.5164803577234145,
          -0.6872851570369064,
          0.3298080343624988,
          -0.9444593815516463,
          0.5566413339925547,
          -1.4670673842371387,
          -0.09040314661128307,
          -0.7681215742517598,
          0.22498077143569414,
          0.27567011144228754,
          -1.7401853989682063,
          0.5830003687822239,
          0.3502144296196838,
          -1.8571529961941577,
          0.1901652524422592,
          -0.12813138347420786,
          -1.1874881142031868,
          -0.06773200120193666,
          -0.5034130203140469,
          -1.7569306963537281,
          0.9954700566699439,
          -0.7377403658835474,
          -1.9608339437686828,
          1.0887725214220043,
          1.1615126132641291,
          -1.3425676644410556,
          1.1731778312031338,
          0.5923121609965328,
          -0.49249661917257426,
          -0.13023345722216656,
          -1.459896361013488,
          0.3545202476999806,
          -1.8383904457936295,
          -0.16943713505500044,
          -0.5132237203127183,
          0.3047428775744405,
          -0.10827793167007603,
          0.3317581955489925,
          0.6011410609751754,
          1.1156955619768716,
          1.0934138206778674,
          0.47807489067700687,
          0.2012802882466331,
          0.01618371786285664,
          -0.4205840724709901,
          -1.3314350933539179,
          1.307938271004548
         ],
         "yaxis": "y9"
        },
        {
         "line": {
          "color": "rgba(128, 128, 128, 1.0)",
          "dash": "solid",
          "shape": "linear",
          "width": 1.3
         },
         "marker": {
          "size": 2,
          "symbol": "circle"
         },
         "mode": "markers",
         "name": "C",
         "text": "",
         "type": "scatter",
         "x": [
          1.380854838531965,
          0.11938502538426132,
          -1.3143531805255566,
          0.6406812285572712,
          0.45901609373282704,
          0.14365163997084188,
          0.04919209970407182,
          -0.14356601653396417,
          -0.13652030629061812,
          0.705737494583953,
          0.4693637488317349,
          -0.22019440349318015,
          0.023077433512087436,
          1.2240704876175075,
          -0.20295579519226248,
          -0.5507208895965063,
          -0.04503975484391459,
          -1.0716079956340958,
          -0.3498571619930785,
          0.05378116157884617,
          0.1914937961172496,
          -0.8001900502593962,
          -1.8724024669870398,
          -1.155013636557828,
          -0.8728225347049191,
          -0.9491040625196484,
          -0.01307810894809895,
          -1.7416462532512975,
          0.7582038042037499,
          1.0245971841296806,
          2.209354664513985,
          0.27962419638957986,
          -0.3625691399492275,
          -0.37384775610699056,
          -0.09090160784772924,
          -0.963449146450701,
          -0.7980032760865212,
          -0.1365887386905632,
          -0.8236488041076043,
          0.12473376344798781,
          -1.5436042717554994,
          -0.6216132617616013,
          1.6894254983684525,
          0.556296337156448,
          -0.785063041863813,
          2.483960864125458,
          -0.43302859825742124,
          0.8939916753077831,
          1.2096210869953685,
          0.9394848885610718,
          -1.4390417869534922,
          1.1168312594389562,
          -0.5365559556172983,
          1.8492172694897153,
          -0.1362841448844875,
          0.6018566047291094,
          0.6036293584590517,
          1.0888599872211706,
          -0.5537892278737087,
          -1.2571168203364704,
          -0.4422470583484276,
          -0.6044378393263163,
          -1.041592179467776,
          1.5009696060524216,
          -0.9109487853431983,
          2.1787784184384558,
          -1.0579386356798106,
          -1.7000597049686215,
          -1.3445417160500615,
          -1.1784242650767685,
          -0.5223318292191497,
          -1.6418690103787708,
          1.6251438590138476,
          -3.8913039112713124,
          -0.5316779558052692,
          0.3711369956120464,
          0.39400732044115944,
          0.5000893212146826,
          -0.1723379534232298,
          -0.8721395911197579,
          -0.36567250291673475,
          1.5156140766192698,
          2.3623075261343915,
          -1.489554844966301,
          1.6413735284669448,
          -0.0929390528011857,
          -0.714291437029099,
          0.130654739297638,
          1.4599097658828708,
          -0.46420506328524286,
          -1.3247869299650787,
          -1.0332844721276573,
          -0.6378849266767722,
          0.5187408321369664,
          0.4352512593360889,
          -0.06583816090115427,
          0.5379177916772021,
          0.28204406416968447,
          -1.04570445537743,
          0.08376817237639435
         ],
         "xaxis": "x10",
         "y": [
          -1.8708875734832748,
          0.04425823550598916,
          2.2318098580876335,
          -0.1932162636185701,
          -0.3495142742950361,
          -0.9363714842063803,
          -0.3751675288083557,
          0.24096398472949992,
          0.7839074733605705,
          -0.948046660123082,
          0.9688924880089168,
          0.29601276029714685,
          -1.3281620746071872,
          1.3444769424008969,
          1.5857319136801458,
          -0.7572298115336303,
          -2.1853912146666983,
          0.5794319393647758,
          0.11438605827806371,
          -0.8174361744556506,
          0.2523687940971506,
          1.4635374612249505,
          0.2514716300708972,
          0.5909474815715231,
          0.5743582936896399,
          0.3404858368078811,
          -0.4907552024656146,
          -0.32078836101622105,
          -0.44800327053016514,
          0.9960774558527737,
          0.22467360416969342,
          2.4529081035546207,
          -0.21787418455794888,
          0.6762498754903966,
          -0.48303381928730993,
          -0.16139780190549755,
          -0.5647919533473379,
          -0.3672292350945552,
          -0.278958867299943,
          -0.07128610183100571,
          -0.0351476668971757,
          0.5375339473571906,
          -0.16054867274784868,
          1.2920755922952918,
          1.667640449645262,
          -0.36020101369593516,
          1.4831194257765556,
          0.16674921176253732,
          -0.5377061661274848,
          -1.4134058793381234,
          -0.47496514727810796,
          0.46973511175391053,
          -0.14771132817389718,
          1.5164803577234145,
          -0.6872851570369064,
          0.3298080343624988,
          -0.9444593815516463,
          0.5566413339925547,
          -1.4670673842371387,
          -0.09040314661128307,
          -0.7681215742517598,
          0.22498077143569414,
          0.27567011144228754,
          -1.7401853989682063,
          0.5830003687822239,
          0.3502144296196838,
          -1.8571529961941577,
          0.1901652524422592,
          -0.12813138347420786,
          -1.1874881142031868,
          -0.06773200120193666,
          -0.5034130203140469,
          -1.7569306963537281,
          0.9954700566699439,
          -0.7377403658835474,
          -1.9608339437686828,
          1.0887725214220043,
          1.1615126132641291,
          -1.3425676644410556,
          1.1731778312031338,
          0.5923121609965328,
          -0.49249661917257426,
          -0.13023345722216656,
          -1.459896361013488,
          0.3545202476999806,
          -1.8383904457936295,
          -0.16943713505500044,
          -0.5132237203127183,
          0.3047428775744405,
          -0.10827793167007603,
          0.3317581955489925,
          0.6011410609751754,
          1.1156955619768716,
          1.0934138206778674,
          0.47807489067700687,
          0.2012802882466331,
          0.01618371786285664,
          -0.4205840724709901,
          -1.3314350933539179,
          1.307938271004548
         ],
         "yaxis": "y10"
        },
        {
         "histfunc": "count",
         "histnorm": "",
         "marker": {
          "color": "rgba(50, 171, 96, 1.0)",
          "line": {
           "color": "#4D5663",
           "width": 1.3
          }
         },
         "name": "C",
         "nbinsx": 10,
         "opacity": 0.8,
         "orientation": "v",
         "type": "histogram",
         "x": [
          -1.8708875734832748,
          0.04425823550598916,
          2.2318098580876335,
          -0.1932162636185701,
          -0.3495142742950361,
          -0.9363714842063803,
          -0.3751675288083557,
          0.24096398472949992,
          0.7839074733605705,
          -0.948046660123082,
          0.9688924880089168,
          0.29601276029714685,
          -1.3281620746071872,
          1.3444769424008969,
          1.5857319136801458,
          -0.7572298115336303,
          -2.1853912146666983,
          0.5794319393647758,
          0.11438605827806371,
          -0.8174361744556506,
          0.2523687940971506,
          1.4635374612249505,
          0.2514716300708972,
          0.5909474815715231,
          0.5743582936896399,
          0.3404858368078811,
          -0.4907552024656146,
          -0.32078836101622105,
          -0.44800327053016514,
          0.9960774558527737,
          0.22467360416969342,
          2.4529081035546207,
          -0.21787418455794888,
          0.6762498754903966,
          -0.48303381928730993,
          -0.16139780190549755,
          -0.5647919533473379,
          -0.3672292350945552,
          -0.278958867299943,
          -0.07128610183100571,
          -0.0351476668971757,
          0.5375339473571906,
          -0.16054867274784868,
          1.2920755922952918,
          1.667640449645262,
          -0.36020101369593516,
          1.4831194257765556,
          0.16674921176253732,
          -0.5377061661274848,
          -1.4134058793381234,
          -0.47496514727810796,
          0.46973511175391053,
          -0.14771132817389718,
          1.5164803577234145,
          -0.6872851570369064,
          0.3298080343624988,
          -0.9444593815516463,
          0.5566413339925547,
          -1.4670673842371387,
          -0.09040314661128307,
          -0.7681215742517598,
          0.22498077143569414,
          0.27567011144228754,
          -1.7401853989682063,
          0.5830003687822239,
          0.3502144296196838,
          -1.8571529961941577,
          0.1901652524422592,
          -0.12813138347420786,
          -1.1874881142031868,
          -0.06773200120193666,
          -0.5034130203140469,
          -1.7569306963537281,
          0.9954700566699439,
          -0.7377403658835474,
          -1.9608339437686828,
          1.0887725214220043,
          1.1615126132641291,
          -1.3425676644410556,
          1.1731778312031338,
          0.5923121609965328,
          -0.49249661917257426,
          -0.13023345722216656,
          -1.459896361013488,
          0.3545202476999806,
          -1.8383904457936295,
          -0.16943713505500044,
          -0.5132237203127183,
          0.3047428775744405,
          -0.10827793167007603,
          0.3317581955489925,
          0.6011410609751754,
          1.1156955619768716,
          1.0934138206778674,
          0.47807489067700687,
          0.2012802882466331,
          0.01618371786285664,
          -0.4205840724709901,
          -1.3314350933539179,
          1.307938271004548
         ],
         "xaxis": "x11",
         "yaxis": "y11"
        },
        {
         "line": {
          "color": "rgba(128, 128, 128, 1.0)",
          "dash": "solid",
          "shape": "linear",
          "width": 1.3
         },
         "marker": {
          "size": 2,
          "symbol": "circle"
         },
         "mode": "markers",
         "name": "C",
         "text": "",
         "type": "scatter",
         "x": [
          -0.6243127375617485,
          -1.1740550580744102,
          0.038460727649453415,
          1.473545397199106,
          -0.9521658151129334,
          -0.4848915430788821,
          0.0675901121034954,
          0.805327552498521,
          -0.3678164673871686,
          -0.9210994094835443,
          0.30050191780807356,
          0.12519393915142765,
          1.137088531812455,
          0.2968333543050542,
          0.9444873258850971,
          0.07407865634529899,
          -0.25029023390720306,
          0.3179564559367161,
          -2.5639417290556357,
          0.230886491505683,
          -0.0888265823761594,
          -0.09021836298835495,
          -1.0771186416949865,
          -0.8594551656352457,
          -0.10386030844563789,
          -0.5953859982931564,
          -2.1793723497553326,
          0.11283882512550318,
          -0.5749599969041304,
          -1.1233656099056193,
          2.1314646206198327,
          -1.653124713992959,
          -1.7960268785121087,
          -0.1393410261146086,
          -0.539714578867005,
          0.5856794701890018,
          -0.2071207922317129,
          -0.6972380495463055,
          -1.4852391624389962,
          -0.6132944048119481,
          1.3420483036377386,
          -1.5755224816993758,
          0.2743879523680005,
          -0.4464672218318962,
          -3.378295994805631,
          -0.6707301853353952,
          -0.7587263078274006,
          -0.27706990266371545,
          -0.8225006505775436,
          0.2503955509660361,
          0.038810602206067676,
          -1.0879790827177869,
          -0.5147650195142758,
          0.056920826723514194,
          -0.455853480689292,
          -0.37650380217157314,
          0.8415793821045491,
          0.09174178210241361,
          1.6341077538875552,
          -0.6868086957169546,
          1.2819199478532186,
          -1.182394428328359,
          -0.636493609887241,
          0.4836901410780605,
          -1.7703504544405102,
          -2.170912133455119,
          -0.0822348997199209,
          -1.1309071842819234,
          -0.5383595119236265,
          -0.014834978292038978,
          -0.6162582558907989,
          -0.6883800257753223,
          0.8954912080936425,
          0.9037166248628814,
          1.1873894608157394,
          -0.6123584271721806,
          -1.422847869128479,
          2.3106182679204,
          -0.7881045889309072,
          0.03242724161322168,
          -1.541884412644934,
          -0.9388412359867381,
          -0.5529495445987058,
          0.6732988001879391,
          -0.5893911620958981,
          2.579973066211168,
          -0.3185865876642497,
          0.5761037296869645,
          1.5547217694290791,
          0.3041990392389531,
          0.9716870695179999,
          0.3940485816680812,
          -0.6403195185889015,
          1.0750979233256113,
          0.970106939826967,
          1.9639453540327028,
          1.5346904677398219,
          0.5966181882134294,
          -0.33441777490768804,
          -0.6426062418461276
         ],
         "xaxis": "x12",
         "y": [
          -1.8708875734832748,
          0.04425823550598916,
          2.2318098580876335,
          -0.1932162636185701,
          -0.3495142742950361,
          -0.9363714842063803,
          -0.3751675288083557,
          0.24096398472949992,
          0.7839074733605705,
          -0.948046660123082,
          0.9688924880089168,
          0.29601276029714685,
          -1.3281620746071872,
          1.3444769424008969,
          1.5857319136801458,
          -0.7572298115336303,
          -2.1853912146666983,
          0.5794319393647758,
          0.11438605827806371,
          -0.8174361744556506,
          0.2523687940971506,
          1.4635374612249505,
          0.2514716300708972,
          0.5909474815715231,
          0.5743582936896399,
          0.3404858368078811,
          -0.4907552024656146,
          -0.32078836101622105,
          -0.44800327053016514,
          0.9960774558527737,
          0.22467360416969342,
          2.4529081035546207,
          -0.21787418455794888,
          0.6762498754903966,
          -0.48303381928730993,
          -0.16139780190549755,
          -0.5647919533473379,
          -0.3672292350945552,
          -0.278958867299943,
          -0.07128610183100571,
          -0.0351476668971757,
          0.5375339473571906,
          -0.16054867274784868,
          1.2920755922952918,
          1.667640449645262,
          -0.36020101369593516,
          1.4831194257765556,
          0.16674921176253732,
          -0.5377061661274848,
          -1.4134058793381234,
          -0.47496514727810796,
          0.46973511175391053,
          -0.14771132817389718,
          1.5164803577234145,
          -0.6872851570369064,
          0.3298080343624988,
          -0.9444593815516463,
          0.5566413339925547,
          -1.4670673842371387,
          -0.09040314661128307,
          -0.7681215742517598,
          0.22498077143569414,
          0.27567011144228754,
          -1.7401853989682063,
          0.5830003687822239,
          0.3502144296196838,
          -1.8571529961941577,
          0.1901652524422592,
          -0.12813138347420786,
          -1.1874881142031868,
          -0.06773200120193666,
          -0.5034130203140469,
          -1.7569306963537281,
          0.9954700566699439,
          -0.7377403658835474,
          -1.9608339437686828,
          1.0887725214220043,
          1.1615126132641291,
          -1.3425676644410556,
          1.1731778312031338,
          0.5923121609965328,
          -0.49249661917257426,
          -0.13023345722216656,
          -1.459896361013488,
          0.3545202476999806,
          -1.8383904457936295,
          -0.16943713505500044,
          -0.5132237203127183,
          0.3047428775744405,
          -0.10827793167007603,
          0.3317581955489925,
          0.6011410609751754,
          1.1156955619768716,
          1.0934138206778674,
          0.47807489067700687,
          0.2012802882466331,
          0.01618371786285664,
          -0.4205840724709901,
          -1.3314350933539179,
          1.307938271004548
         ],
         "yaxis": "y12"
        },
        {
         "line": {
          "color": "rgba(128, 128, 128, 1.0)",
          "dash": "solid",
          "shape": "linear",
          "width": 1.3
         },
         "marker": {
          "size": 2,
          "symbol": "circle"
         },
         "mode": "markers",
         "name": "D",
         "text": "",
         "type": "scatter",
         "x": [
          -0.8045319692756239,
          -0.7857508741343778,
          0.39430716210118383,
          0.040154756846361016,
          -1.7322422804433464,
          0.23192449486695912,
          -0.6018949797227127,
          -0.26289401276907864,
          0.05250827501417779,
          1.3215808600707148,
          -0.3415752045912305,
          0.9123430324087752,
          -0.11882811971741239,
          -1.277598509738442,
          1.22129685804723,
          -0.9964878457298946,
          2.6620936089218095,
          -0.4803892863051099,
          -1.4490068334874833,
          -0.5458590243929505,
          0.1806089625886417,
          -0.04853061562212352,
          -0.7519138670027183,
          0.9822323510339834,
          1.3217667116892085,
          -0.4078361976983211,
          -0.7433064246907137,
          1.3097970819898321,
          -0.8885546830130938,
          0.08959952426663148,
          0.7613983182603498,
          1.114935205693224,
          -0.26808691289618436,
          -1.179007519613772,
          -0.8212285519866818,
          0.0171376674536935,
          -1.261984800199849,
          0.7540606103836702,
          1.0365981858780862,
          1.0894455868431638,
          1.467140241494887,
          -0.45420815578998514,
          1.4150942894048062,
          -1.0307095952537535,
          -0.8738128032396157,
          0.8499380934853883,
          0.44623467531343414,
          1.1111190821690289,
          1.5931104775281726,
          -0.4229825602717984,
          -0.347724986376733,
          -0.13542680812754604,
          0.3082974882607674,
          -1.8041564241898107,
          -0.01515489581035622,
          1.2123741242554724,
          1.6091967660300068,
          -0.9099405101509571,
          -1.0607387072884853,
          -0.01457523724299721,
          -0.4606327435061816,
          1.353930884874758,
          0.7192866992265134,
          0.35255737217605587,
          0.17943773439695976,
          -0.0008330315647807776,
          0.013257714626296735,
          -0.4853923909661426,
          0.987472645343711,
          -1.2792863154847292,
          -0.1927603830487624,
          -1.248884129883844,
          0.09746544762239337,
          0.205544722884781,
          -1.6106179773906022,
          -1.4962536071793135,
          1.8804432211155748,
          -0.9024008840300444,
          -1.2721816262871173,
          2.1523784705721707,
          -0.9891223749584839,
          -0.966689724244585,
          -1.001881325254751,
          0.09961378114378827,
          -0.6782575216848209,
          0.6993114545806943,
          0.6321315478915533,
          -0.7053759028281684,
          -0.41772962659482143,
          0.3005169214229249,
          0.6704583648794865,
          -0.3618318985451478,
          1.1737851603704852,
          0.24227025716212627,
          1.4015786878545637,
          -0.20532599663298384,
          -0.25831017270764134,
          -2.0960187662439336,
          0.22663058350173887,
          -1.499548991493352
         ],
         "xaxis": "x13",
         "y": [
          -0.6243127375617485,
          -1.1740550580744102,
          0.038460727649453415,
          1.473545397199106,
          -0.9521658151129334,
          -0.4848915430788821,
          0.0675901121034954,
          0.805327552498521,
          -0.3678164673871686,
          -0.9210994094835443,
          0.30050191780807356,
          0.12519393915142765,
          1.137088531812455,
          0.2968333543050542,
          0.9444873258850971,
          0.07407865634529899,
          -0.25029023390720306,
          0.3179564559367161,
          -2.5639417290556357,
          0.230886491505683,
          -0.0888265823761594,
          -0.09021836298835495,
          -1.0771186416949865,
          -0.8594551656352457,
          -0.10386030844563789,
          -0.5953859982931564,
          -2.1793723497553326,
          0.11283882512550318,
          -0.5749599969041304,
          -1.1233656099056193,
          2.1314646206198327,
          -1.653124713992959,
          -1.7960268785121087,
          -0.1393410261146086,
          -0.539714578867005,
          0.5856794701890018,
          -0.2071207922317129,
          -0.6972380495463055,
          -1.4852391624389962,
          -0.6132944048119481,
          1.3420483036377386,
          -1.5755224816993758,
          0.2743879523680005,
          -0.4464672218318962,
          -3.378295994805631,
          -0.6707301853353952,
          -0.7587263078274006,
          -0.27706990266371545,
          -0.8225006505775436,
          0.2503955509660361,
          0.038810602206067676,
          -1.0879790827177869,
          -0.5147650195142758,
          0.056920826723514194,
          -0.455853480689292,
          -0.37650380217157314,
          0.8415793821045491,
          0.09174178210241361,
          1.6341077538875552,
          -0.6868086957169546,
          1.2819199478532186,
          -1.182394428328359,
          -0.636493609887241,
          0.4836901410780605,
          -1.7703504544405102,
          -2.170912133455119,
          -0.0822348997199209,
          -1.1309071842819234,
          -0.5383595119236265,
          -0.014834978292038978,
          -0.6162582558907989,
          -0.6883800257753223,
          0.8954912080936425,
          0.9037166248628814,
          1.1873894608157394,
          -0.6123584271721806,
          -1.422847869128479,
          2.3106182679204,
          -0.7881045889309072,
          0.03242724161322168,
          -1.541884412644934,
          -0.9388412359867381,
          -0.5529495445987058,
          0.6732988001879391,
          -0.5893911620958981,
          2.579973066211168,
          -0.3185865876642497,
          0.5761037296869645,
          1.5547217694290791,
          0.3041990392389531,
          0.9716870695179999,
          0.3940485816680812,
          -0.6403195185889015,
          1.0750979233256113,
          0.970106939826967,
          1.9639453540327028,
          1.5346904677398219,
          0.5966181882134294,
          -0.33441777490768804,
          -0.6426062418461276
         ],
         "yaxis": "y13"
        },
        {
         "line": {
          "color": "rgba(128, 128, 128, 1.0)",
          "dash": "solid",
          "shape": "linear",
          "width": 1.3
         },
         "marker": {
          "size": 2,
          "symbol": "circle"
         },
         "mode": "markers",
         "name": "D",
         "text": "",
         "type": "scatter",
         "x": [
          1.380854838531965,
          0.11938502538426132,
          -1.3143531805255566,
          0.6406812285572712,
          0.45901609373282704,
          0.14365163997084188,
          0.04919209970407182,
          -0.14356601653396417,
          -0.13652030629061812,
          0.705737494583953,
          0.4693637488317349,
          -0.22019440349318015,
          0.023077433512087436,
          1.2240704876175075,
          -0.20295579519226248,
          -0.5507208895965063,
          -0.04503975484391459,
          -1.0716079956340958,
          -0.3498571619930785,
          0.05378116157884617,
          0.1914937961172496,
          -0.8001900502593962,
          -1.8724024669870398,
          -1.155013636557828,
          -0.8728225347049191,
          -0.9491040625196484,
          -0.01307810894809895,
          -1.7416462532512975,
          0.7582038042037499,
          1.0245971841296806,
          2.209354664513985,
          0.27962419638957986,
          -0.3625691399492275,
          -0.37384775610699056,
          -0.09090160784772924,
          -0.963449146450701,
          -0.7980032760865212,
          -0.1365887386905632,
          -0.8236488041076043,
          0.12473376344798781,
          -1.5436042717554994,
          -0.6216132617616013,
          1.6894254983684525,
          0.556296337156448,
          -0.785063041863813,
          2.483960864125458,
          -0.43302859825742124,
          0.8939916753077831,
          1.2096210869953685,
          0.9394848885610718,
          -1.4390417869534922,
          1.1168312594389562,
          -0.5365559556172983,
          1.8492172694897153,
          -0.1362841448844875,
          0.6018566047291094,
          0.6036293584590517,
          1.0888599872211706,
          -0.5537892278737087,
          -1.2571168203364704,
          -0.4422470583484276,
          -0.6044378393263163,
          -1.041592179467776,
          1.5009696060524216,
          -0.9109487853431983,
          2.1787784184384558,
          -1.0579386356798106,
          -1.7000597049686215,
          -1.3445417160500615,
          -1.1784242650767685,
          -0.5223318292191497,
          -1.6418690103787708,
          1.6251438590138476,
          -3.8913039112713124,
          -0.5316779558052692,
          0.3711369956120464,
          0.39400732044115944,
          0.5000893212146826,
          -0.1723379534232298,
          -0.8721395911197579,
          -0.36567250291673475,
          1.5156140766192698,
          2.3623075261343915,
          -1.489554844966301,
          1.6413735284669448,
          -0.0929390528011857,
          -0.714291437029099,
          0.130654739297638,
          1.4599097658828708,
          -0.46420506328524286,
          -1.3247869299650787,
          -1.0332844721276573,
          -0.6378849266767722,
          0.5187408321369664,
          0.4352512593360889,
          -0.06583816090115427,
          0.5379177916772021,
          0.28204406416968447,
          -1.04570445537743,
          0.08376817237639435
         ],
         "xaxis": "x14",
         "y": [
          -0.6243127375617485,
          -1.1740550580744102,
          0.038460727649453415,
          1.473545397199106,
          -0.9521658151129334,
          -0.4848915430788821,
          0.0675901121034954,
          0.805327552498521,
          -0.3678164673871686,
          -0.9210994094835443,
          0.30050191780807356,
          0.12519393915142765,
          1.137088531812455,
          0.2968333543050542,
          0.9444873258850971,
          0.07407865634529899,
          -0.25029023390720306,
          0.3179564559367161,
          -2.5639417290556357,
          0.230886491505683,
          -0.0888265823761594,
          -0.09021836298835495,
          -1.0771186416949865,
          -0.8594551656352457,
          -0.10386030844563789,
          -0.5953859982931564,
          -2.1793723497553326,
          0.11283882512550318,
          -0.5749599969041304,
          -1.1233656099056193,
          2.1314646206198327,
          -1.653124713992959,
          -1.7960268785121087,
          -0.1393410261146086,
          -0.539714578867005,
          0.5856794701890018,
          -0.2071207922317129,
          -0.6972380495463055,
          -1.4852391624389962,
          -0.6132944048119481,
          1.3420483036377386,
          -1.5755224816993758,
          0.2743879523680005,
          -0.4464672218318962,
          -3.378295994805631,
          -0.6707301853353952,
          -0.7587263078274006,
          -0.27706990266371545,
          -0.8225006505775436,
          0.2503955509660361,
          0.038810602206067676,
          -1.0879790827177869,
          -0.5147650195142758,
          0.056920826723514194,
          -0.455853480689292,
          -0.37650380217157314,
          0.8415793821045491,
          0.09174178210241361,
          1.6341077538875552,
          -0.6868086957169546,
          1.2819199478532186,
          -1.182394428328359,
          -0.636493609887241,
          0.4836901410780605,
          -1.7703504544405102,
          -2.170912133455119,
          -0.0822348997199209,
          -1.1309071842819234,
          -0.5383595119236265,
          -0.014834978292038978,
          -0.6162582558907989,
          -0.6883800257753223,
          0.8954912080936425,
          0.9037166248628814,
          1.1873894608157394,
          -0.6123584271721806,
          -1.422847869128479,
          2.3106182679204,
          -0.7881045889309072,
          0.03242724161322168,
          -1.541884412644934,
          -0.9388412359867381,
          -0.5529495445987058,
          0.6732988001879391,
          -0.5893911620958981,
          2.579973066211168,
          -0.3185865876642497,
          0.5761037296869645,
          1.5547217694290791,
          0.3041990392389531,
          0.9716870695179999,
          0.3940485816680812,
          -0.6403195185889015,
          1.0750979233256113,
          0.970106939826967,
          1.9639453540327028,
          1.5346904677398219,
          0.5966181882134294,
          -0.33441777490768804,
          -0.6426062418461276
         ],
         "yaxis": "y14"
        },
        {
         "line": {
          "color": "rgba(128, 128, 128, 1.0)",
          "dash": "solid",
          "shape": "linear",
          "width": 1.3
         },
         "marker": {
          "size": 2,
          "symbol": "circle"
         },
         "mode": "markers",
         "name": "D",
         "text": "",
         "type": "scatter",
         "x": [
          -1.8708875734832748,
          0.04425823550598916,
          2.2318098580876335,
          -0.1932162636185701,
          -0.3495142742950361,
          -0.9363714842063803,
          -0.3751675288083557,
          0.24096398472949992,
          0.7839074733605705,
          -0.948046660123082,
          0.9688924880089168,
          0.29601276029714685,
          -1.3281620746071872,
          1.3444769424008969,
          1.5857319136801458,
          -0.7572298115336303,
          -2.1853912146666983,
          0.5794319393647758,
          0.11438605827806371,
          -0.8174361744556506,
          0.2523687940971506,
          1.4635374612249505,
          0.2514716300708972,
          0.5909474815715231,
          0.5743582936896399,
          0.3404858368078811,
          -0.4907552024656146,
          -0.32078836101622105,
          -0.44800327053016514,
          0.9960774558527737,
          0.22467360416969342,
          2.4529081035546207,
          -0.21787418455794888,
          0.6762498754903966,
          -0.48303381928730993,
          -0.16139780190549755,
          -0.5647919533473379,
          -0.3672292350945552,
          -0.278958867299943,
          -0.07128610183100571,
          -0.0351476668971757,
          0.5375339473571906,
          -0.16054867274784868,
          1.2920755922952918,
          1.667640449645262,
          -0.36020101369593516,
          1.4831194257765556,
          0.16674921176253732,
          -0.5377061661274848,
          -1.4134058793381234,
          -0.47496514727810796,
          0.46973511175391053,
          -0.14771132817389718,
          1.5164803577234145,
          -0.6872851570369064,
          0.3298080343624988,
          -0.9444593815516463,
          0.5566413339925547,
          -1.4670673842371387,
          -0.09040314661128307,
          -0.7681215742517598,
          0.22498077143569414,
          0.27567011144228754,
          -1.7401853989682063,
          0.5830003687822239,
          0.3502144296196838,
          -1.8571529961941577,
          0.1901652524422592,
          -0.12813138347420786,
          -1.1874881142031868,
          -0.06773200120193666,
          -0.5034130203140469,
          -1.7569306963537281,
          0.9954700566699439,
          -0.7377403658835474,
          -1.9608339437686828,
          1.0887725214220043,
          1.1615126132641291,
          -1.3425676644410556,
          1.1731778312031338,
          0.5923121609965328,
          -0.49249661917257426,
          -0.13023345722216656,
          -1.459896361013488,
          0.3545202476999806,
          -1.8383904457936295,
          -0.16943713505500044,
          -0.5132237203127183,
          0.3047428775744405,
          -0.10827793167007603,
          0.3317581955489925,
          0.6011410609751754,
          1.1156955619768716,
          1.0934138206778674,
          0.47807489067700687,
          0.2012802882466331,
          0.01618371786285664,
          -0.4205840724709901,
          -1.3314350933539179,
          1.307938271004548
         ],
         "xaxis": "x15",
         "y": [
          -0.6243127375617485,
          -1.1740550580744102,
          0.038460727649453415,
          1.473545397199106,
          -0.9521658151129334,
          -0.4848915430788821,
          0.0675901121034954,
          0.805327552498521,
          -0.3678164673871686,
          -0.9210994094835443,
          0.30050191780807356,
          0.12519393915142765,
          1.137088531812455,
          0.2968333543050542,
          0.9444873258850971,
          0.07407865634529899,
          -0.25029023390720306,
          0.3179564559367161,
          -2.5639417290556357,
          0.230886491505683,
          -0.0888265823761594,
          -0.09021836298835495,
          -1.0771186416949865,
          -0.8594551656352457,
          -0.10386030844563789,
          -0.5953859982931564,
          -2.1793723497553326,
          0.11283882512550318,
          -0.5749599969041304,
          -1.1233656099056193,
          2.1314646206198327,
          -1.653124713992959,
          -1.7960268785121087,
          -0.1393410261146086,
          -0.539714578867005,
          0.5856794701890018,
          -0.2071207922317129,
          -0.6972380495463055,
          -1.4852391624389962,
          -0.6132944048119481,
          1.3420483036377386,
          -1.5755224816993758,
          0.2743879523680005,
          -0.4464672218318962,
          -3.378295994805631,
          -0.6707301853353952,
          -0.7587263078274006,
          -0.27706990266371545,
          -0.8225006505775436,
          0.2503955509660361,
          0.038810602206067676,
          -1.0879790827177869,
          -0.5147650195142758,
          0.056920826723514194,
          -0.455853480689292,
          -0.37650380217157314,
          0.8415793821045491,
          0.09174178210241361,
          1.6341077538875552,
          -0.6868086957169546,
          1.2819199478532186,
          -1.182394428328359,
          -0.636493609887241,
          0.4836901410780605,
          -1.7703504544405102,
          -2.170912133455119,
          -0.0822348997199209,
          -1.1309071842819234,
          -0.5383595119236265,
          -0.014834978292038978,
          -0.6162582558907989,
          -0.6883800257753223,
          0.8954912080936425,
          0.9037166248628814,
          1.1873894608157394,
          -0.6123584271721806,
          -1.422847869128479,
          2.3106182679204,
          -0.7881045889309072,
          0.03242724161322168,
          -1.541884412644934,
          -0.9388412359867381,
          -0.5529495445987058,
          0.6732988001879391,
          -0.5893911620958981,
          2.579973066211168,
          -0.3185865876642497,
          0.5761037296869645,
          1.5547217694290791,
          0.3041990392389531,
          0.9716870695179999,
          0.3940485816680812,
          -0.6403195185889015,
          1.0750979233256113,
          0.970106939826967,
          1.9639453540327028,
          1.5346904677398219,
          0.5966181882134294,
          -0.33441777490768804,
          -0.6426062418461276
         ],
         "yaxis": "y15"
        },
        {
         "histfunc": "count",
         "histnorm": "",
         "marker": {
          "color": "rgba(128, 0, 128, 1.0)",
          "line": {
           "color": "#4D5663",
           "width": 1.3
          }
         },
         "name": "D",
         "nbinsx": 10,
         "opacity": 0.8,
         "orientation": "v",
         "type": "histogram",
         "x": [
          -0.6243127375617485,
          -1.1740550580744102,
          0.038460727649453415,
          1.473545397199106,
          -0.9521658151129334,
          -0.4848915430788821,
          0.0675901121034954,
          0.805327552498521,
          -0.3678164673871686,
          -0.9210994094835443,
          0.30050191780807356,
          0.12519393915142765,
          1.137088531812455,
          0.2968333543050542,
          0.9444873258850971,
          0.07407865634529899,
          -0.25029023390720306,
          0.3179564559367161,
          -2.5639417290556357,
          0.230886491505683,
          -0.0888265823761594,
          -0.09021836298835495,
          -1.0771186416949865,
          -0.8594551656352457,
          -0.10386030844563789,
          -0.5953859982931564,
          -2.1793723497553326,
          0.11283882512550318,
          -0.5749599969041304,
          -1.1233656099056193,
          2.1314646206198327,
          -1.653124713992959,
          -1.7960268785121087,
          -0.1393410261146086,
          -0.539714578867005,
          0.5856794701890018,
          -0.2071207922317129,
          -0.6972380495463055,
          -1.4852391624389962,
          -0.6132944048119481,
          1.3420483036377386,
          -1.5755224816993758,
          0.2743879523680005,
          -0.4464672218318962,
          -3.378295994805631,
          -0.6707301853353952,
          -0.7587263078274006,
          -0.27706990266371545,
          -0.8225006505775436,
          0.2503955509660361,
          0.038810602206067676,
          -1.0879790827177869,
          -0.5147650195142758,
          0.056920826723514194,
          -0.455853480689292,
          -0.37650380217157314,
          0.8415793821045491,
          0.09174178210241361,
          1.6341077538875552,
          -0.6868086957169546,
          1.2819199478532186,
          -1.182394428328359,
          -0.636493609887241,
          0.4836901410780605,
          -1.7703504544405102,
          -2.170912133455119,
          -0.0822348997199209,
          -1.1309071842819234,
          -0.5383595119236265,
          -0.014834978292038978,
          -0.6162582558907989,
          -0.6883800257753223,
          0.8954912080936425,
          0.9037166248628814,
          1.1873894608157394,
          -0.6123584271721806,
          -1.422847869128479,
          2.3106182679204,
          -0.7881045889309072,
          0.03242724161322168,
          -1.541884412644934,
          -0.9388412359867381,
          -0.5529495445987058,
          0.6732988001879391,
          -0.5893911620958981,
          2.579973066211168,
          -0.3185865876642497,
          0.5761037296869645,
          1.5547217694290791,
          0.3041990392389531,
          0.9716870695179999,
          0.3940485816680812,
          -0.6403195185889015,
          1.0750979233256113,
          0.970106939826967,
          1.9639453540327028,
          1.5346904677398219,
          0.5966181882134294,
          -0.33441777490768804,
          -0.6426062418461276
         ],
         "xaxis": "x16",
         "yaxis": "y16"
        }
       ],
       "layout": {
        "bargap": 0.02,
        "legend": {
         "bgcolor": "#F5F6F9",
         "font": {
          "color": "#4D5663"
         }
        },
        "paper_bgcolor": "#F5F6F9",
        "plot_bgcolor": "#F5F6F9",
        "showlegend": false,
        "template": {
         "data": {
          "bar": [
           {
            "error_x": {
             "color": "#2a3f5f"
            },
            "error_y": {
             "color": "#2a3f5f"
            },
            "marker": {
             "line": {
              "color": "#E5ECF6",
              "width": 0.5
             },
             "pattern": {
              "fillmode": "overlay",
              "size": 10,
              "solidity": 0.2
             }
            },
            "type": "bar"
           }
          ],
          "barpolar": [
           {
            "marker": {
             "line": {
              "color": "#E5ECF6",
              "width": 0.5
             },
             "pattern": {
              "fillmode": "overlay",
              "size": 10,
              "solidity": 0.2
             }
            },
            "type": "barpolar"
           }
          ],
          "carpet": [
           {
            "aaxis": {
             "endlinecolor": "#2a3f5f",
             "gridcolor": "white",
             "linecolor": "white",
             "minorgridcolor": "white",
             "startlinecolor": "#2a3f5f"
            },
            "baxis": {
             "endlinecolor": "#2a3f5f",
             "gridcolor": "white",
             "linecolor": "white",
             "minorgridcolor": "white",
             "startlinecolor": "#2a3f5f"
            },
            "type": "carpet"
           }
          ],
          "choropleth": [
           {
            "colorbar": {
             "outlinewidth": 0,
             "ticks": ""
            },
            "type": "choropleth"
           }
          ],
          "contour": [
           {
            "colorbar": {
             "outlinewidth": 0,
             "ticks": ""
            },
            "colorscale": [
             [
              0,
              "#0d0887"
             ],
             [
              0.1111111111111111,
              "#46039f"
             ],
             [
              0.2222222222222222,
              "#7201a8"
             ],
             [
              0.3333333333333333,
              "#9c179e"
             ],
             [
              0.4444444444444444,
              "#bd3786"
             ],
             [
              0.5555555555555556,
              "#d8576b"
             ],
             [
              0.6666666666666666,
              "#ed7953"
             ],
             [
              0.7777777777777778,
              "#fb9f3a"
             ],
             [
              0.8888888888888888,
              "#fdca26"
             ],
             [
              1,
              "#f0f921"
             ]
            ],
            "type": "contour"
           }
          ],
          "contourcarpet": [
           {
            "colorbar": {
             "outlinewidth": 0,
             "ticks": ""
            },
            "type": "contourcarpet"
           }
          ],
          "heatmap": [
           {
            "colorbar": {
             "outlinewidth": 0,
             "ticks": ""
            },
            "colorscale": [
             [
              0,
              "#0d0887"
             ],
             [
              0.1111111111111111,
              "#46039f"
             ],
             [
              0.2222222222222222,
              "#7201a8"
             ],
             [
              0.3333333333333333,
              "#9c179e"
             ],
             [
              0.4444444444444444,
              "#bd3786"
             ],
             [
              0.5555555555555556,
              "#d8576b"
             ],
             [
              0.6666666666666666,
              "#ed7953"
             ],
             [
              0.7777777777777778,
              "#fb9f3a"
             ],
             [
              0.8888888888888888,
              "#fdca26"
             ],
             [
              1,
              "#f0f921"
             ]
            ],
            "type": "heatmap"
           }
          ],
          "heatmapgl": [
           {
            "colorbar": {
             "outlinewidth": 0,
             "ticks": ""
            },
            "colorscale": [
             [
              0,
              "#0d0887"
             ],
             [
              0.1111111111111111,
              "#46039f"
             ],
             [
              0.2222222222222222,
              "#7201a8"
             ],
             [
              0.3333333333333333,
              "#9c179e"
             ],
             [
              0.4444444444444444,
              "#bd3786"
             ],
             [
              0.5555555555555556,
              "#d8576b"
             ],
             [
              0.6666666666666666,
              "#ed7953"
             ],
             [
              0.7777777777777778,
              "#fb9f3a"
             ],
             [
              0.8888888888888888,
              "#fdca26"
             ],
             [
              1,
              "#f0f921"
             ]
            ],
            "type": "heatmapgl"
           }
          ],
          "histogram": [
           {
            "marker": {
             "pattern": {
              "fillmode": "overlay",
              "size": 10,
              "solidity": 0.2
             }
            },
            "type": "histogram"
           }
          ],
          "histogram2d": [
           {
            "colorbar": {
             "outlinewidth": 0,
             "ticks": ""
            },
            "colorscale": [
             [
              0,
              "#0d0887"
             ],
             [
              0.1111111111111111,
              "#46039f"
             ],
             [
              0.2222222222222222,
              "#7201a8"
             ],
             [
              0.3333333333333333,
              "#9c179e"
             ],
             [
              0.4444444444444444,
              "#bd3786"
             ],
             [
              0.5555555555555556,
              "#d8576b"
             ],
             [
              0.6666666666666666,
              "#ed7953"
             ],
             [
              0.7777777777777778,
              "#fb9f3a"
             ],
             [
              0.8888888888888888,
              "#fdca26"
             ],
             [
              1,
              "#f0f921"
             ]
            ],
            "type": "histogram2d"
           }
          ],
          "histogram2dcontour": [
           {
            "colorbar": {
             "outlinewidth": 0,
             "ticks": ""
            },
            "colorscale": [
             [
              0,
              "#0d0887"
             ],
             [
              0.1111111111111111,
              "#46039f"
             ],
             [
              0.2222222222222222,
              "#7201a8"
             ],
             [
              0.3333333333333333,
              "#9c179e"
             ],
             [
              0.4444444444444444,
              "#bd3786"
             ],
             [
              0.5555555555555556,
              "#d8576b"
             ],
             [
              0.6666666666666666,
              "#ed7953"
             ],
             [
              0.7777777777777778,
              "#fb9f3a"
             ],
             [
              0.8888888888888888,
              "#fdca26"
             ],
             [
              1,
              "#f0f921"
             ]
            ],
            "type": "histogram2dcontour"
           }
          ],
          "mesh3d": [
           {
            "colorbar": {
             "outlinewidth": 0,
             "ticks": ""
            },
            "type": "mesh3d"
           }
          ],
          "parcoords": [
           {
            "line": {
             "colorbar": {
              "outlinewidth": 0,
              "ticks": ""
             }
            },
            "type": "parcoords"
           }
          ],
          "pie": [
           {
            "automargin": true,
            "type": "pie"
           }
          ],
          "scatter": [
           {
            "marker": {
             "colorbar": {
              "outlinewidth": 0,
              "ticks": ""
             }
            },
            "type": "scatter"
           }
          ],
          "scatter3d": [
           {
            "line": {
             "colorbar": {
              "outlinewidth": 0,
              "ticks": ""
             }
            },
            "marker": {
             "colorbar": {
              "outlinewidth": 0,
              "ticks": ""
             }
            },
            "type": "scatter3d"
           }
          ],
          "scattercarpet": [
           {
            "marker": {
             "colorbar": {
              "outlinewidth": 0,
              "ticks": ""
             }
            },
            "type": "scattercarpet"
           }
          ],
          "scattergeo": [
           {
            "marker": {
             "colorbar": {
              "outlinewidth": 0,
              "ticks": ""
             }
            },
            "type": "scattergeo"
           }
          ],
          "scattergl": [
           {
            "marker": {
             "colorbar": {
              "outlinewidth": 0,
              "ticks": ""
             }
            },
            "type": "scattergl"
           }
          ],
          "scattermapbox": [
           {
            "marker": {
             "colorbar": {
              "outlinewidth": 0,
              "ticks": ""
             }
            },
            "type": "scattermapbox"
           }
          ],
          "scatterpolar": [
           {
            "marker": {
             "colorbar": {
              "outlinewidth": 0,
              "ticks": ""
             }
            },
            "type": "scatterpolar"
           }
          ],
          "scatterpolargl": [
           {
            "marker": {
             "colorbar": {
              "outlinewidth": 0,
              "ticks": ""
             }
            },
            "type": "scatterpolargl"
           }
          ],
          "scatterternary": [
           {
            "marker": {
             "colorbar": {
              "outlinewidth": 0,
              "ticks": ""
             }
            },
            "type": "scatterternary"
           }
          ],
          "surface": [
           {
            "colorbar": {
             "outlinewidth": 0,
             "ticks": ""
            },
            "colorscale": [
             [
              0,
              "#0d0887"
             ],
             [
              0.1111111111111111,
              "#46039f"
             ],
             [
              0.2222222222222222,
              "#7201a8"
             ],
             [
              0.3333333333333333,
              "#9c179e"
             ],
             [
              0.4444444444444444,
              "#bd3786"
             ],
             [
              0.5555555555555556,
              "#d8576b"
             ],
             [
              0.6666666666666666,
              "#ed7953"
             ],
             [
              0.7777777777777778,
              "#fb9f3a"
             ],
             [
              0.8888888888888888,
              "#fdca26"
             ],
             [
              1,
              "#f0f921"
             ]
            ],
            "type": "surface"
           }
          ],
          "table": [
           {
            "cells": {
             "fill": {
              "color": "#EBF0F8"
             },
             "line": {
              "color": "white"
             }
            },
            "header": {
             "fill": {
              "color": "#C8D4E3"
             },
             "line": {
              "color": "white"
             }
            },
            "type": "table"
           }
          ]
         },
         "layout": {
          "annotationdefaults": {
           "arrowcolor": "#2a3f5f",
           "arrowhead": 0,
           "arrowwidth": 1
          },
          "autotypenumbers": "strict",
          "coloraxis": {
           "colorbar": {
            "outlinewidth": 0,
            "ticks": ""
           }
          },
          "colorscale": {
           "diverging": [
            [
             0,
             "#8e0152"
            ],
            [
             0.1,
             "#c51b7d"
            ],
            [
             0.2,
             "#de77ae"
            ],
            [
             0.3,
             "#f1b6da"
            ],
            [
             0.4,
             "#fde0ef"
            ],
            [
             0.5,
             "#f7f7f7"
            ],
            [
             0.6,
             "#e6f5d0"
            ],
            [
             0.7,
             "#b8e186"
            ],
            [
             0.8,
             "#7fbc41"
            ],
            [
             0.9,
             "#4d9221"
            ],
            [
             1,
             "#276419"
            ]
           ],
           "sequential": [
            [
             0,
             "#0d0887"
            ],
            [
             0.1111111111111111,
             "#46039f"
            ],
            [
             0.2222222222222222,
             "#7201a8"
            ],
            [
             0.3333333333333333,
             "#9c179e"
            ],
            [
             0.4444444444444444,
             "#bd3786"
            ],
            [
             0.5555555555555556,
             "#d8576b"
            ],
            [
             0.6666666666666666,
             "#ed7953"
            ],
            [
             0.7777777777777778,
             "#fb9f3a"
            ],
            [
             0.8888888888888888,
             "#fdca26"
            ],
            [
             1,
             "#f0f921"
            ]
           ],
           "sequentialminus": [
            [
             0,
             "#0d0887"
            ],
            [
             0.1111111111111111,
             "#46039f"
            ],
            [
             0.2222222222222222,
             "#7201a8"
            ],
            [
             0.3333333333333333,
             "#9c179e"
            ],
            [
             0.4444444444444444,
             "#bd3786"
            ],
            [
             0.5555555555555556,
             "#d8576b"
            ],
            [
             0.6666666666666666,
             "#ed7953"
            ],
            [
             0.7777777777777778,
             "#fb9f3a"
            ],
            [
             0.8888888888888888,
             "#fdca26"
            ],
            [
             1,
             "#f0f921"
            ]
           ]
          },
          "colorway": [
           "#636efa",
           "#EF553B",
           "#00cc96",
           "#ab63fa",
           "#FFA15A",
           "#19d3f3",
           "#FF6692",
           "#B6E880",
           "#FF97FF",
           "#FECB52"
          ],
          "font": {
           "color": "#2a3f5f"
          },
          "geo": {
           "bgcolor": "white",
           "lakecolor": "white",
           "landcolor": "#E5ECF6",
           "showlakes": true,
           "showland": true,
           "subunitcolor": "white"
          },
          "hoverlabel": {
           "align": "left"
          },
          "hovermode": "closest",
          "mapbox": {
           "style": "light"
          },
          "paper_bgcolor": "white",
          "plot_bgcolor": "#E5ECF6",
          "polar": {
           "angularaxis": {
            "gridcolor": "white",
            "linecolor": "white",
            "ticks": ""
           },
           "bgcolor": "#E5ECF6",
           "radialaxis": {
            "gridcolor": "white",
            "linecolor": "white",
            "ticks": ""
           }
          },
          "scene": {
           "xaxis": {
            "backgroundcolor": "#E5ECF6",
            "gridcolor": "white",
            "gridwidth": 2,
            "linecolor": "white",
            "showbackground": true,
            "ticks": "",
            "zerolinecolor": "white"
           },
           "yaxis": {
            "backgroundcolor": "#E5ECF6",
            "gridcolor": "white",
            "gridwidth": 2,
            "linecolor": "white",
            "showbackground": true,
            "ticks": "",
            "zerolinecolor": "white"
           },
           "zaxis": {
            "backgroundcolor": "#E5ECF6",
            "gridcolor": "white",
            "gridwidth": 2,
            "linecolor": "white",
            "showbackground": true,
            "ticks": "",
            "zerolinecolor": "white"
           }
          },
          "shapedefaults": {
           "line": {
            "color": "#2a3f5f"
           }
          },
          "ternary": {
           "aaxis": {
            "gridcolor": "white",
            "linecolor": "white",
            "ticks": ""
           },
           "baxis": {
            "gridcolor": "white",
            "linecolor": "white",
            "ticks": ""
           },
           "bgcolor": "#E5ECF6",
           "caxis": {
            "gridcolor": "white",
            "linecolor": "white",
            "ticks": ""
           }
          },
          "title": {
           "x": 0.05
          },
          "xaxis": {
           "automargin": true,
           "gridcolor": "white",
           "linecolor": "white",
           "ticks": "",
           "title": {
            "standoff": 15
           },
           "zerolinecolor": "white",
           "zerolinewidth": 2
          },
          "yaxis": {
           "automargin": true,
           "gridcolor": "white",
           "linecolor": "white",
           "ticks": "",
           "title": {
            "standoff": 15
           },
           "zerolinecolor": "white",
           "zerolinewidth": 2
          }
         }
        },
        "title": {
         "font": {
          "color": "#4D5663"
         }
        },
        "xaxis": {
         "anchor": "y",
         "domain": [
          0,
          0.2125
         ],
         "gridcolor": "#E1E5ED",
         "showgrid": false,
         "tickfont": {
          "color": "#4D5663"
         },
         "title": {
          "font": {
           "color": "#4D5663"
          },
          "text": ""
         },
         "zerolinecolor": "#E1E5ED"
        },
        "xaxis10": {
         "anchor": "y10",
         "domain": [
          0.2625,
          0.475
         ],
         "gridcolor": "#E1E5ED",
         "showgrid": false,
         "tickfont": {
          "color": "#4D5663"
         },
         "title": {
          "font": {
           "color": "#4D5663"
          },
          "text": ""
         },
         "zerolinecolor": "#E1E5ED"
        },
        "xaxis11": {
         "anchor": "y11",
         "domain": [
          0.525,
          0.7375
         ],
         "gridcolor": "#E1E5ED",
         "showgrid": false,
         "tickfont": {
          "color": "#4D5663"
         },
         "title": {
          "font": {
           "color": "#4D5663"
          },
          "text": ""
         },
         "zerolinecolor": "#E1E5ED"
        },
        "xaxis12": {
         "anchor": "y12",
         "domain": [
          0.7875,
          1
         ],
         "gridcolor": "#E1E5ED",
         "showgrid": false,
         "tickfont": {
          "color": "#4D5663"
         },
         "title": {
          "font": {
           "color": "#4D5663"
          },
          "text": ""
         },
         "zerolinecolor": "#E1E5ED"
        },
        "xaxis13": {
         "anchor": "y13",
         "domain": [
          0,
          0.2125
         ],
         "gridcolor": "#E1E5ED",
         "showgrid": false,
         "tickfont": {
          "color": "#4D5663"
         },
         "title": {
          "font": {
           "color": "#4D5663"
          },
          "text": ""
         },
         "zerolinecolor": "#E1E5ED"
        },
        "xaxis14": {
         "anchor": "y14",
         "domain": [
          0.2625,
          0.475
         ],
         "gridcolor": "#E1E5ED",
         "showgrid": false,
         "tickfont": {
          "color": "#4D5663"
         },
         "title": {
          "font": {
           "color": "#4D5663"
          },
          "text": ""
         },
         "zerolinecolor": "#E1E5ED"
        },
        "xaxis15": {
         "anchor": "y15",
         "domain": [
          0.525,
          0.7375
         ],
         "gridcolor": "#E1E5ED",
         "showgrid": false,
         "tickfont": {
          "color": "#4D5663"
         },
         "title": {
          "font": {
           "color": "#4D5663"
          },
          "text": ""
         },
         "zerolinecolor": "#E1E5ED"
        },
        "xaxis16": {
         "anchor": "y16",
         "domain": [
          0.7875,
          1
         ],
         "gridcolor": "#E1E5ED",
         "showgrid": false,
         "tickfont": {
          "color": "#4D5663"
         },
         "title": {
          "font": {
           "color": "#4D5663"
          },
          "text": ""
         },
         "zerolinecolor": "#E1E5ED"
        },
        "xaxis2": {
         "anchor": "y2",
         "domain": [
          0.2625,
          0.475
         ],
         "gridcolor": "#E1E5ED",
         "showgrid": false,
         "tickfont": {
          "color": "#4D5663"
         },
         "title": {
          "font": {
           "color": "#4D5663"
          },
          "text": ""
         },
         "zerolinecolor": "#E1E5ED"
        },
        "xaxis3": {
         "anchor": "y3",
         "domain": [
          0.525,
          0.7375
         ],
         "gridcolor": "#E1E5ED",
         "showgrid": false,
         "tickfont": {
          "color": "#4D5663"
         },
         "title": {
          "font": {
           "color": "#4D5663"
          },
          "text": ""
         },
         "zerolinecolor": "#E1E5ED"
        },
        "xaxis4": {
         "anchor": "y4",
         "domain": [
          0.7875,
          1
         ],
         "gridcolor": "#E1E5ED",
         "showgrid": false,
         "tickfont": {
          "color": "#4D5663"
         },
         "title": {
          "font": {
           "color": "#4D5663"
          },
          "text": ""
         },
         "zerolinecolor": "#E1E5ED"
        },
        "xaxis5": {
         "anchor": "y5",
         "domain": [
          0,
          0.2125
         ],
         "gridcolor": "#E1E5ED",
         "showgrid": false,
         "tickfont": {
          "color": "#4D5663"
         },
         "title": {
          "font": {
           "color": "#4D5663"
          },
          "text": ""
         },
         "zerolinecolor": "#E1E5ED"
        },
        "xaxis6": {
         "anchor": "y6",
         "domain": [
          0.2625,
          0.475
         ],
         "gridcolor": "#E1E5ED",
         "showgrid": false,
         "tickfont": {
          "color": "#4D5663"
         },
         "title": {
          "font": {
           "color": "#4D5663"
          },
          "text": ""
         },
         "zerolinecolor": "#E1E5ED"
        },
        "xaxis7": {
         "anchor": "y7",
         "domain": [
          0.525,
          0.7375
         ],
         "gridcolor": "#E1E5ED",
         "showgrid": false,
         "tickfont": {
          "color": "#4D5663"
         },
         "title": {
          "font": {
           "color": "#4D5663"
          },
          "text": ""
         },
         "zerolinecolor": "#E1E5ED"
        },
        "xaxis8": {
         "anchor": "y8",
         "domain": [
          0.7875,
          1
         ],
         "gridcolor": "#E1E5ED",
         "showgrid": false,
         "tickfont": {
          "color": "#4D5663"
         },
         "title": {
          "font": {
           "color": "#4D5663"
          },
          "text": ""
         },
         "zerolinecolor": "#E1E5ED"
        },
        "xaxis9": {
         "anchor": "y9",
         "domain": [
          0,
          0.2125
         ],
         "gridcolor": "#E1E5ED",
         "showgrid": false,
         "tickfont": {
          "color": "#4D5663"
         },
         "title": {
          "font": {
           "color": "#4D5663"
          },
          "text": ""
         },
         "zerolinecolor": "#E1E5ED"
        },
        "yaxis": {
         "anchor": "x",
         "domain": [
          0.8025,
          1
         ],
         "gridcolor": "#E1E5ED",
         "showgrid": false,
         "tickfont": {
          "color": "#4D5663"
         },
         "title": {
          "font": {
           "color": "#4D5663"
          },
          "text": ""
         },
         "zerolinecolor": "#E1E5ED"
        },
        "yaxis10": {
         "anchor": "x10",
         "domain": [
          0.2675,
          0.465
         ],
         "gridcolor": "#E1E5ED",
         "showgrid": false,
         "tickfont": {
          "color": "#4D5663"
         },
         "title": {
          "font": {
           "color": "#4D5663"
          },
          "text": ""
         },
         "zerolinecolor": "#E1E5ED"
        },
        "yaxis11": {
         "anchor": "x11",
         "domain": [
          0.2675,
          0.465
         ],
         "gridcolor": "#E1E5ED",
         "showgrid": false,
         "tickfont": {
          "color": "#4D5663"
         },
         "title": {
          "font": {
           "color": "#4D5663"
          },
          "text": ""
         },
         "zerolinecolor": "#E1E5ED"
        },
        "yaxis12": {
         "anchor": "x12",
         "domain": [
          0.2675,
          0.465
         ],
         "gridcolor": "#E1E5ED",
         "showgrid": false,
         "tickfont": {
          "color": "#4D5663"
         },
         "title": {
          "font": {
           "color": "#4D5663"
          },
          "text": ""
         },
         "zerolinecolor": "#E1E5ED"
        },
        "yaxis13": {
         "anchor": "x13",
         "domain": [
          0,
          0.1975
         ],
         "gridcolor": "#E1E5ED",
         "showgrid": false,
         "tickfont": {
          "color": "#4D5663"
         },
         "title": {
          "font": {
           "color": "#4D5663"
          },
          "text": ""
         },
         "zerolinecolor": "#E1E5ED"
        },
        "yaxis14": {
         "anchor": "x14",
         "domain": [
          0,
          0.1975
         ],
         "gridcolor": "#E1E5ED",
         "showgrid": false,
         "tickfont": {
          "color": "#4D5663"
         },
         "title": {
          "font": {
           "color": "#4D5663"
          },
          "text": ""
         },
         "zerolinecolor": "#E1E5ED"
        },
        "yaxis15": {
         "anchor": "x15",
         "domain": [
          0,
          0.1975
         ],
         "gridcolor": "#E1E5ED",
         "showgrid": false,
         "tickfont": {
          "color": "#4D5663"
         },
         "title": {
          "font": {
           "color": "#4D5663"
          },
          "text": ""
         },
         "zerolinecolor": "#E1E5ED"
        },
        "yaxis16": {
         "anchor": "x16",
         "domain": [
          0,
          0.1975
         ],
         "gridcolor": "#E1E5ED",
         "showgrid": false,
         "tickfont": {
          "color": "#4D5663"
         },
         "title": {
          "font": {
           "color": "#4D5663"
          },
          "text": ""
         },
         "zerolinecolor": "#E1E5ED"
        },
        "yaxis2": {
         "anchor": "x2",
         "domain": [
          0.8025,
          1
         ],
         "gridcolor": "#E1E5ED",
         "showgrid": false,
         "tickfont": {
          "color": "#4D5663"
         },
         "title": {
          "font": {
           "color": "#4D5663"
          },
          "text": ""
         },
         "zerolinecolor": "#E1E5ED"
        },
        "yaxis3": {
         "anchor": "x3",
         "domain": [
          0.8025,
          1
         ],
         "gridcolor": "#E1E5ED",
         "showgrid": false,
         "tickfont": {
          "color": "#4D5663"
         },
         "title": {
          "font": {
           "color": "#4D5663"
          },
          "text": ""
         },
         "zerolinecolor": "#E1E5ED"
        },
        "yaxis4": {
         "anchor": "x4",
         "domain": [
          0.8025,
          1
         ],
         "gridcolor": "#E1E5ED",
         "showgrid": false,
         "tickfont": {
          "color": "#4D5663"
         },
         "title": {
          "font": {
           "color": "#4D5663"
          },
          "text": ""
         },
         "zerolinecolor": "#E1E5ED"
        },
        "yaxis5": {
         "anchor": "x5",
         "domain": [
          0.535,
          0.7325
         ],
         "gridcolor": "#E1E5ED",
         "showgrid": false,
         "tickfont": {
          "color": "#4D5663"
         },
         "title": {
          "font": {
           "color": "#4D5663"
          },
          "text": ""
         },
         "zerolinecolor": "#E1E5ED"
        },
        "yaxis6": {
         "anchor": "x6",
         "domain": [
          0.535,
          0.7325
         ],
         "gridcolor": "#E1E5ED",
         "showgrid": false,
         "tickfont": {
          "color": "#4D5663"
         },
         "title": {
          "font": {
           "color": "#4D5663"
          },
          "text": ""
         },
         "zerolinecolor": "#E1E5ED"
        },
        "yaxis7": {
         "anchor": "x7",
         "domain": [
          0.535,
          0.7325
         ],
         "gridcolor": "#E1E5ED",
         "showgrid": false,
         "tickfont": {
          "color": "#4D5663"
         },
         "title": {
          "font": {
           "color": "#4D5663"
          },
          "text": ""
         },
         "zerolinecolor": "#E1E5ED"
        },
        "yaxis8": {
         "anchor": "x8",
         "domain": [
          0.535,
          0.7325
         ],
         "gridcolor": "#E1E5ED",
         "showgrid": false,
         "tickfont": {
          "color": "#4D5663"
         },
         "title": {
          "font": {
           "color": "#4D5663"
          },
          "text": ""
         },
         "zerolinecolor": "#E1E5ED"
        },
        "yaxis9": {
         "anchor": "x9",
         "domain": [
          0.2675,
          0.465
         ],
         "gridcolor": "#E1E5ED",
         "showgrid": false,
         "tickfont": {
          "color": "#4D5663"
         },
         "title": {
          "font": {
           "color": "#4D5663"
          },
          "text": ""
         },
         "zerolinecolor": "#E1E5ED"
        }
       }
      },
      "text/html": [
       "<div>                            <div id=\"17b691ba-db6a-4649-9fe3-2ec1ee50df8b\" class=\"plotly-graph-div\" style=\"height:525px; width:100%;\"></div>            <script type=\"text/javascript\">                require([\"plotly\"], function(Plotly) {                    window.PLOTLYENV=window.PLOTLYENV || {};\n",
       "                    window.PLOTLYENV.BASE_URL='https://plot.ly';                                    if (document.getElementById(\"17b691ba-db6a-4649-9fe3-2ec1ee50df8b\")) {                    Plotly.newPlot(                        \"17b691ba-db6a-4649-9fe3-2ec1ee50df8b\",                        [{\"histfunc\":\"count\",\"histnorm\":\"\",\"marker\":{\"color\":\"rgba(255, 153, 51, 1.0)\",\"line\":{\"color\":\"#4D5663\",\"width\":1.3}},\"name\":\"A\",\"nbinsx\":10,\"opacity\":0.8,\"orientation\":\"v\",\"x\":[-0.8045319692756239,-0.7857508741343778,0.39430716210118383,0.040154756846361016,-1.7322422804433464,0.23192449486695912,-0.6018949797227127,-0.26289401276907864,0.05250827501417779,1.3215808600707148,-0.3415752045912305,0.9123430324087752,-0.11882811971741239,-1.277598509738442,1.22129685804723,-0.9964878457298946,2.6620936089218095,-0.4803892863051099,-1.4490068334874833,-0.5458590243929505,0.1806089625886417,-0.04853061562212352,-0.7519138670027183,0.9822323510339834,1.3217667116892085,-0.4078361976983211,-0.7433064246907137,1.3097970819898321,-0.8885546830130938,0.08959952426663148,0.7613983182603498,1.114935205693224,-0.26808691289618436,-1.179007519613772,-0.8212285519866818,0.0171376674536935,-1.261984800199849,0.7540606103836702,1.0365981858780862,1.0894455868431638,1.467140241494887,-0.45420815578998514,1.4150942894048062,-1.0307095952537535,-0.8738128032396157,0.8499380934853883,0.44623467531343414,1.1111190821690289,1.5931104775281726,-0.4229825602717984,-0.347724986376733,-0.13542680812754604,0.3082974882607674,-1.8041564241898107,-0.01515489581035622,1.2123741242554724,1.6091967660300068,-0.9099405101509571,-1.0607387072884853,-0.01457523724299721,-0.4606327435061816,1.353930884874758,0.7192866992265134,0.35255737217605587,0.17943773439695976,-0.0008330315647807776,0.013257714626296735,-0.4853923909661426,0.987472645343711,-1.2792863154847292,-0.1927603830487624,-1.248884129883844,0.09746544762239337,0.205544722884781,-1.6106179773906022,-1.4962536071793135,1.8804432211155748,-0.9024008840300444,-1.2721816262871173,2.1523784705721707,-0.9891223749584839,-0.966689724244585,-1.001881325254751,0.09961378114378827,-0.6782575216848209,0.6993114545806943,0.6321315478915533,-0.7053759028281684,-0.41772962659482143,0.3005169214229249,0.6704583648794865,-0.3618318985451478,1.1737851603704852,0.24227025716212627,1.4015786878545637,-0.20532599663298384,-0.25831017270764134,-2.0960187662439336,0.22663058350173887,-1.499548991493352],\"xaxis\":\"x\",\"yaxis\":\"y\",\"type\":\"histogram\"},{\"line\":{\"color\":\"rgba(128, 128, 128, 1.0)\",\"dash\":\"solid\",\"shape\":\"linear\",\"width\":1.3},\"marker\":{\"size\":2,\"symbol\":\"circle\"},\"mode\":\"markers\",\"name\":\"A\",\"text\":\"\",\"x\":[1.380854838531965,0.11938502538426132,-1.3143531805255566,0.6406812285572712,0.45901609373282704,0.14365163997084188,0.04919209970407182,-0.14356601653396417,-0.13652030629061812,0.705737494583953,0.4693637488317349,-0.22019440349318015,0.023077433512087436,1.2240704876175075,-0.20295579519226248,-0.5507208895965063,-0.04503975484391459,-1.0716079956340958,-0.3498571619930785,0.05378116157884617,0.1914937961172496,-0.8001900502593962,-1.8724024669870398,-1.155013636557828,-0.8728225347049191,-0.9491040625196484,-0.01307810894809895,-1.7416462532512975,0.7582038042037499,1.0245971841296806,2.209354664513985,0.27962419638957986,-0.3625691399492275,-0.37384775610699056,-0.09090160784772924,-0.963449146450701,-0.7980032760865212,-0.1365887386905632,-0.8236488041076043,0.12473376344798781,-1.5436042717554994,-0.6216132617616013,1.6894254983684525,0.556296337156448,-0.785063041863813,2.483960864125458,-0.43302859825742124,0.8939916753077831,1.2096210869953685,0.9394848885610718,-1.4390417869534922,1.1168312594389562,-0.5365559556172983,1.8492172694897153,-0.1362841448844875,0.6018566047291094,0.6036293584590517,1.0888599872211706,-0.5537892278737087,-1.2571168203364704,-0.4422470583484276,-0.6044378393263163,-1.041592179467776,1.5009696060524216,-0.9109487853431983,2.1787784184384558,-1.0579386356798106,-1.7000597049686215,-1.3445417160500615,-1.1784242650767685,-0.5223318292191497,-1.6418690103787708,1.6251438590138476,-3.8913039112713124,-0.5316779558052692,0.3711369956120464,0.39400732044115944,0.5000893212146826,-0.1723379534232298,-0.8721395911197579,-0.36567250291673475,1.5156140766192698,2.3623075261343915,-1.489554844966301,1.6413735284669448,-0.0929390528011857,-0.714291437029099,0.130654739297638,1.4599097658828708,-0.46420506328524286,-1.3247869299650787,-1.0332844721276573,-0.6378849266767722,0.5187408321369664,0.4352512593360889,-0.06583816090115427,0.5379177916772021,0.28204406416968447,-1.04570445537743,0.08376817237639435],\"xaxis\":\"x2\",\"y\":[-0.8045319692756239,-0.7857508741343778,0.39430716210118383,0.040154756846361016,-1.7322422804433464,0.23192449486695912,-0.6018949797227127,-0.26289401276907864,0.05250827501417779,1.3215808600707148,-0.3415752045912305,0.9123430324087752,-0.11882811971741239,-1.277598509738442,1.22129685804723,-0.9964878457298946,2.6620936089218095,-0.4803892863051099,-1.4490068334874833,-0.5458590243929505,0.1806089625886417,-0.04853061562212352,-0.7519138670027183,0.9822323510339834,1.3217667116892085,-0.4078361976983211,-0.7433064246907137,1.3097970819898321,-0.8885546830130938,0.08959952426663148,0.7613983182603498,1.114935205693224,-0.26808691289618436,-1.179007519613772,-0.8212285519866818,0.0171376674536935,-1.261984800199849,0.7540606103836702,1.0365981858780862,1.0894455868431638,1.467140241494887,-0.45420815578998514,1.4150942894048062,-1.0307095952537535,-0.8738128032396157,0.8499380934853883,0.44623467531343414,1.1111190821690289,1.5931104775281726,-0.4229825602717984,-0.347724986376733,-0.13542680812754604,0.3082974882607674,-1.8041564241898107,-0.01515489581035622,1.2123741242554724,1.6091967660300068,-0.9099405101509571,-1.0607387072884853,-0.01457523724299721,-0.4606327435061816,1.353930884874758,0.7192866992265134,0.35255737217605587,0.17943773439695976,-0.0008330315647807776,0.013257714626296735,-0.4853923909661426,0.987472645343711,-1.2792863154847292,-0.1927603830487624,-1.248884129883844,0.09746544762239337,0.205544722884781,-1.6106179773906022,-1.4962536071793135,1.8804432211155748,-0.9024008840300444,-1.2721816262871173,2.1523784705721707,-0.9891223749584839,-0.966689724244585,-1.001881325254751,0.09961378114378827,-0.6782575216848209,0.6993114545806943,0.6321315478915533,-0.7053759028281684,-0.41772962659482143,0.3005169214229249,0.6704583648794865,-0.3618318985451478,1.1737851603704852,0.24227025716212627,1.4015786878545637,-0.20532599663298384,-0.25831017270764134,-2.0960187662439336,0.22663058350173887,-1.499548991493352],\"yaxis\":\"y2\",\"type\":\"scatter\"},{\"line\":{\"color\":\"rgba(128, 128, 128, 1.0)\",\"dash\":\"solid\",\"shape\":\"linear\",\"width\":1.3},\"marker\":{\"size\":2,\"symbol\":\"circle\"},\"mode\":\"markers\",\"name\":\"A\",\"text\":\"\",\"x\":[-1.8708875734832748,0.04425823550598916,2.2318098580876335,-0.1932162636185701,-0.3495142742950361,-0.9363714842063803,-0.3751675288083557,0.24096398472949992,0.7839074733605705,-0.948046660123082,0.9688924880089168,0.29601276029714685,-1.3281620746071872,1.3444769424008969,1.5857319136801458,-0.7572298115336303,-2.1853912146666983,0.5794319393647758,0.11438605827806371,-0.8174361744556506,0.2523687940971506,1.4635374612249505,0.2514716300708972,0.5909474815715231,0.5743582936896399,0.3404858368078811,-0.4907552024656146,-0.32078836101622105,-0.44800327053016514,0.9960774558527737,0.22467360416969342,2.4529081035546207,-0.21787418455794888,0.6762498754903966,-0.48303381928730993,-0.16139780190549755,-0.5647919533473379,-0.3672292350945552,-0.278958867299943,-0.07128610183100571,-0.0351476668971757,0.5375339473571906,-0.16054867274784868,1.2920755922952918,1.667640449645262,-0.36020101369593516,1.4831194257765556,0.16674921176253732,-0.5377061661274848,-1.4134058793381234,-0.47496514727810796,0.46973511175391053,-0.14771132817389718,1.5164803577234145,-0.6872851570369064,0.3298080343624988,-0.9444593815516463,0.5566413339925547,-1.4670673842371387,-0.09040314661128307,-0.7681215742517598,0.22498077143569414,0.27567011144228754,-1.7401853989682063,0.5830003687822239,0.3502144296196838,-1.8571529961941577,0.1901652524422592,-0.12813138347420786,-1.1874881142031868,-0.06773200120193666,-0.5034130203140469,-1.7569306963537281,0.9954700566699439,-0.7377403658835474,-1.9608339437686828,1.0887725214220043,1.1615126132641291,-1.3425676644410556,1.1731778312031338,0.5923121609965328,-0.49249661917257426,-0.13023345722216656,-1.459896361013488,0.3545202476999806,-1.8383904457936295,-0.16943713505500044,-0.5132237203127183,0.3047428775744405,-0.10827793167007603,0.3317581955489925,0.6011410609751754,1.1156955619768716,1.0934138206778674,0.47807489067700687,0.2012802882466331,0.01618371786285664,-0.4205840724709901,-1.3314350933539179,1.307938271004548],\"xaxis\":\"x3\",\"y\":[-0.8045319692756239,-0.7857508741343778,0.39430716210118383,0.040154756846361016,-1.7322422804433464,0.23192449486695912,-0.6018949797227127,-0.26289401276907864,0.05250827501417779,1.3215808600707148,-0.3415752045912305,0.9123430324087752,-0.11882811971741239,-1.277598509738442,1.22129685804723,-0.9964878457298946,2.6620936089218095,-0.4803892863051099,-1.4490068334874833,-0.5458590243929505,0.1806089625886417,-0.04853061562212352,-0.7519138670027183,0.9822323510339834,1.3217667116892085,-0.4078361976983211,-0.7433064246907137,1.3097970819898321,-0.8885546830130938,0.08959952426663148,0.7613983182603498,1.114935205693224,-0.26808691289618436,-1.179007519613772,-0.8212285519866818,0.0171376674536935,-1.261984800199849,0.7540606103836702,1.0365981858780862,1.0894455868431638,1.467140241494887,-0.45420815578998514,1.4150942894048062,-1.0307095952537535,-0.8738128032396157,0.8499380934853883,0.44623467531343414,1.1111190821690289,1.5931104775281726,-0.4229825602717984,-0.347724986376733,-0.13542680812754604,0.3082974882607674,-1.8041564241898107,-0.01515489581035622,1.2123741242554724,1.6091967660300068,-0.9099405101509571,-1.0607387072884853,-0.01457523724299721,-0.4606327435061816,1.353930884874758,0.7192866992265134,0.35255737217605587,0.17943773439695976,-0.0008330315647807776,0.013257714626296735,-0.4853923909661426,0.987472645343711,-1.2792863154847292,-0.1927603830487624,-1.248884129883844,0.09746544762239337,0.205544722884781,-1.6106179773906022,-1.4962536071793135,1.8804432211155748,-0.9024008840300444,-1.2721816262871173,2.1523784705721707,-0.9891223749584839,-0.966689724244585,-1.001881325254751,0.09961378114378827,-0.6782575216848209,0.6993114545806943,0.6321315478915533,-0.7053759028281684,-0.41772962659482143,0.3005169214229249,0.6704583648794865,-0.3618318985451478,1.1737851603704852,0.24227025716212627,1.4015786878545637,-0.20532599663298384,-0.25831017270764134,-2.0960187662439336,0.22663058350173887,-1.499548991493352],\"yaxis\":\"y3\",\"type\":\"scatter\"},{\"line\":{\"color\":\"rgba(128, 128, 128, 1.0)\",\"dash\":\"solid\",\"shape\":\"linear\",\"width\":1.3},\"marker\":{\"size\":2,\"symbol\":\"circle\"},\"mode\":\"markers\",\"name\":\"A\",\"text\":\"\",\"x\":[-0.6243127375617485,-1.1740550580744102,0.038460727649453415,1.473545397199106,-0.9521658151129334,-0.4848915430788821,0.0675901121034954,0.805327552498521,-0.3678164673871686,-0.9210994094835443,0.30050191780807356,0.12519393915142765,1.137088531812455,0.2968333543050542,0.9444873258850971,0.07407865634529899,-0.25029023390720306,0.3179564559367161,-2.5639417290556357,0.230886491505683,-0.0888265823761594,-0.09021836298835495,-1.0771186416949865,-0.8594551656352457,-0.10386030844563789,-0.5953859982931564,-2.1793723497553326,0.11283882512550318,-0.5749599969041304,-1.1233656099056193,2.1314646206198327,-1.653124713992959,-1.7960268785121087,-0.1393410261146086,-0.539714578867005,0.5856794701890018,-0.2071207922317129,-0.6972380495463055,-1.4852391624389962,-0.6132944048119481,1.3420483036377386,-1.5755224816993758,0.2743879523680005,-0.4464672218318962,-3.378295994805631,-0.6707301853353952,-0.7587263078274006,-0.27706990266371545,-0.8225006505775436,0.2503955509660361,0.038810602206067676,-1.0879790827177869,-0.5147650195142758,0.056920826723514194,-0.455853480689292,-0.37650380217157314,0.8415793821045491,0.09174178210241361,1.6341077538875552,-0.6868086957169546,1.2819199478532186,-1.182394428328359,-0.636493609887241,0.4836901410780605,-1.7703504544405102,-2.170912133455119,-0.0822348997199209,-1.1309071842819234,-0.5383595119236265,-0.014834978292038978,-0.6162582558907989,-0.6883800257753223,0.8954912080936425,0.9037166248628814,1.1873894608157394,-0.6123584271721806,-1.422847869128479,2.3106182679204,-0.7881045889309072,0.03242724161322168,-1.541884412644934,-0.9388412359867381,-0.5529495445987058,0.6732988001879391,-0.5893911620958981,2.579973066211168,-0.3185865876642497,0.5761037296869645,1.5547217694290791,0.3041990392389531,0.9716870695179999,0.3940485816680812,-0.6403195185889015,1.0750979233256113,0.970106939826967,1.9639453540327028,1.5346904677398219,0.5966181882134294,-0.33441777490768804,-0.6426062418461276],\"xaxis\":\"x4\",\"y\":[-0.8045319692756239,-0.7857508741343778,0.39430716210118383,0.040154756846361016,-1.7322422804433464,0.23192449486695912,-0.6018949797227127,-0.26289401276907864,0.05250827501417779,1.3215808600707148,-0.3415752045912305,0.9123430324087752,-0.11882811971741239,-1.277598509738442,1.22129685804723,-0.9964878457298946,2.6620936089218095,-0.4803892863051099,-1.4490068334874833,-0.5458590243929505,0.1806089625886417,-0.04853061562212352,-0.7519138670027183,0.9822323510339834,1.3217667116892085,-0.4078361976983211,-0.7433064246907137,1.3097970819898321,-0.8885546830130938,0.08959952426663148,0.7613983182603498,1.114935205693224,-0.26808691289618436,-1.179007519613772,-0.8212285519866818,0.0171376674536935,-1.261984800199849,0.7540606103836702,1.0365981858780862,1.0894455868431638,1.467140241494887,-0.45420815578998514,1.4150942894048062,-1.0307095952537535,-0.8738128032396157,0.8499380934853883,0.44623467531343414,1.1111190821690289,1.5931104775281726,-0.4229825602717984,-0.347724986376733,-0.13542680812754604,0.3082974882607674,-1.8041564241898107,-0.01515489581035622,1.2123741242554724,1.6091967660300068,-0.9099405101509571,-1.0607387072884853,-0.01457523724299721,-0.4606327435061816,1.353930884874758,0.7192866992265134,0.35255737217605587,0.17943773439695976,-0.0008330315647807776,0.013257714626296735,-0.4853923909661426,0.987472645343711,-1.2792863154847292,-0.1927603830487624,-1.248884129883844,0.09746544762239337,0.205544722884781,-1.6106179773906022,-1.4962536071793135,1.8804432211155748,-0.9024008840300444,-1.2721816262871173,2.1523784705721707,-0.9891223749584839,-0.966689724244585,-1.001881325254751,0.09961378114378827,-0.6782575216848209,0.6993114545806943,0.6321315478915533,-0.7053759028281684,-0.41772962659482143,0.3005169214229249,0.6704583648794865,-0.3618318985451478,1.1737851603704852,0.24227025716212627,1.4015786878545637,-0.20532599663298384,-0.25831017270764134,-2.0960187662439336,0.22663058350173887,-1.499548991493352],\"yaxis\":\"y4\",\"type\":\"scatter\"},{\"line\":{\"color\":\"rgba(128, 128, 128, 1.0)\",\"dash\":\"solid\",\"shape\":\"linear\",\"width\":1.3},\"marker\":{\"size\":2,\"symbol\":\"circle\"},\"mode\":\"markers\",\"name\":\"B\",\"text\":\"\",\"x\":[-0.8045319692756239,-0.7857508741343778,0.39430716210118383,0.040154756846361016,-1.7322422804433464,0.23192449486695912,-0.6018949797227127,-0.26289401276907864,0.05250827501417779,1.3215808600707148,-0.3415752045912305,0.9123430324087752,-0.11882811971741239,-1.277598509738442,1.22129685804723,-0.9964878457298946,2.6620936089218095,-0.4803892863051099,-1.4490068334874833,-0.5458590243929505,0.1806089625886417,-0.04853061562212352,-0.7519138670027183,0.9822323510339834,1.3217667116892085,-0.4078361976983211,-0.7433064246907137,1.3097970819898321,-0.8885546830130938,0.08959952426663148,0.7613983182603498,1.114935205693224,-0.26808691289618436,-1.179007519613772,-0.8212285519866818,0.0171376674536935,-1.261984800199849,0.7540606103836702,1.0365981858780862,1.0894455868431638,1.467140241494887,-0.45420815578998514,1.4150942894048062,-1.0307095952537535,-0.8738128032396157,0.8499380934853883,0.44623467531343414,1.1111190821690289,1.5931104775281726,-0.4229825602717984,-0.347724986376733,-0.13542680812754604,0.3082974882607674,-1.8041564241898107,-0.01515489581035622,1.2123741242554724,1.6091967660300068,-0.9099405101509571,-1.0607387072884853,-0.01457523724299721,-0.4606327435061816,1.353930884874758,0.7192866992265134,0.35255737217605587,0.17943773439695976,-0.0008330315647807776,0.013257714626296735,-0.4853923909661426,0.987472645343711,-1.2792863154847292,-0.1927603830487624,-1.248884129883844,0.09746544762239337,0.205544722884781,-1.6106179773906022,-1.4962536071793135,1.8804432211155748,-0.9024008840300444,-1.2721816262871173,2.1523784705721707,-0.9891223749584839,-0.966689724244585,-1.001881325254751,0.09961378114378827,-0.6782575216848209,0.6993114545806943,0.6321315478915533,-0.7053759028281684,-0.41772962659482143,0.3005169214229249,0.6704583648794865,-0.3618318985451478,1.1737851603704852,0.24227025716212627,1.4015786878545637,-0.20532599663298384,-0.25831017270764134,-2.0960187662439336,0.22663058350173887,-1.499548991493352],\"xaxis\":\"x5\",\"y\":[1.380854838531965,0.11938502538426132,-1.3143531805255566,0.6406812285572712,0.45901609373282704,0.14365163997084188,0.04919209970407182,-0.14356601653396417,-0.13652030629061812,0.705737494583953,0.4693637488317349,-0.22019440349318015,0.023077433512087436,1.2240704876175075,-0.20295579519226248,-0.5507208895965063,-0.04503975484391459,-1.0716079956340958,-0.3498571619930785,0.05378116157884617,0.1914937961172496,-0.8001900502593962,-1.8724024669870398,-1.155013636557828,-0.8728225347049191,-0.9491040625196484,-0.01307810894809895,-1.7416462532512975,0.7582038042037499,1.0245971841296806,2.209354664513985,0.27962419638957986,-0.3625691399492275,-0.37384775610699056,-0.09090160784772924,-0.963449146450701,-0.7980032760865212,-0.1365887386905632,-0.8236488041076043,0.12473376344798781,-1.5436042717554994,-0.6216132617616013,1.6894254983684525,0.556296337156448,-0.785063041863813,2.483960864125458,-0.43302859825742124,0.8939916753077831,1.2096210869953685,0.9394848885610718,-1.4390417869534922,1.1168312594389562,-0.5365559556172983,1.8492172694897153,-0.1362841448844875,0.6018566047291094,0.6036293584590517,1.0888599872211706,-0.5537892278737087,-1.2571168203364704,-0.4422470583484276,-0.6044378393263163,-1.041592179467776,1.5009696060524216,-0.9109487853431983,2.1787784184384558,-1.0579386356798106,-1.7000597049686215,-1.3445417160500615,-1.1784242650767685,-0.5223318292191497,-1.6418690103787708,1.6251438590138476,-3.8913039112713124,-0.5316779558052692,0.3711369956120464,0.39400732044115944,0.5000893212146826,-0.1723379534232298,-0.8721395911197579,-0.36567250291673475,1.5156140766192698,2.3623075261343915,-1.489554844966301,1.6413735284669448,-0.0929390528011857,-0.714291437029099,0.130654739297638,1.4599097658828708,-0.46420506328524286,-1.3247869299650787,-1.0332844721276573,-0.6378849266767722,0.5187408321369664,0.4352512593360889,-0.06583816090115427,0.5379177916772021,0.28204406416968447,-1.04570445537743,0.08376817237639435],\"yaxis\":\"y5\",\"type\":\"scatter\"},{\"histfunc\":\"count\",\"histnorm\":\"\",\"marker\":{\"color\":\"rgba(55, 128, 191, 1.0)\",\"line\":{\"color\":\"#4D5663\",\"width\":1.3}},\"name\":\"B\",\"nbinsx\":10,\"opacity\":0.8,\"orientation\":\"v\",\"x\":[1.380854838531965,0.11938502538426132,-1.3143531805255566,0.6406812285572712,0.45901609373282704,0.14365163997084188,0.04919209970407182,-0.14356601653396417,-0.13652030629061812,0.705737494583953,0.4693637488317349,-0.22019440349318015,0.023077433512087436,1.2240704876175075,-0.20295579519226248,-0.5507208895965063,-0.04503975484391459,-1.0716079956340958,-0.3498571619930785,0.05378116157884617,0.1914937961172496,-0.8001900502593962,-1.8724024669870398,-1.155013636557828,-0.8728225347049191,-0.9491040625196484,-0.01307810894809895,-1.7416462532512975,0.7582038042037499,1.0245971841296806,2.209354664513985,0.27962419638957986,-0.3625691399492275,-0.37384775610699056,-0.09090160784772924,-0.963449146450701,-0.7980032760865212,-0.1365887386905632,-0.8236488041076043,0.12473376344798781,-1.5436042717554994,-0.6216132617616013,1.6894254983684525,0.556296337156448,-0.785063041863813,2.483960864125458,-0.43302859825742124,0.8939916753077831,1.2096210869953685,0.9394848885610718,-1.4390417869534922,1.1168312594389562,-0.5365559556172983,1.8492172694897153,-0.1362841448844875,0.6018566047291094,0.6036293584590517,1.0888599872211706,-0.5537892278737087,-1.2571168203364704,-0.4422470583484276,-0.6044378393263163,-1.041592179467776,1.5009696060524216,-0.9109487853431983,2.1787784184384558,-1.0579386356798106,-1.7000597049686215,-1.3445417160500615,-1.1784242650767685,-0.5223318292191497,-1.6418690103787708,1.6251438590138476,-3.8913039112713124,-0.5316779558052692,0.3711369956120464,0.39400732044115944,0.5000893212146826,-0.1723379534232298,-0.8721395911197579,-0.36567250291673475,1.5156140766192698,2.3623075261343915,-1.489554844966301,1.6413735284669448,-0.0929390528011857,-0.714291437029099,0.130654739297638,1.4599097658828708,-0.46420506328524286,-1.3247869299650787,-1.0332844721276573,-0.6378849266767722,0.5187408321369664,0.4352512593360889,-0.06583816090115427,0.5379177916772021,0.28204406416968447,-1.04570445537743,0.08376817237639435],\"xaxis\":\"x6\",\"yaxis\":\"y6\",\"type\":\"histogram\"},{\"line\":{\"color\":\"rgba(128, 128, 128, 1.0)\",\"dash\":\"solid\",\"shape\":\"linear\",\"width\":1.3},\"marker\":{\"size\":2,\"symbol\":\"circle\"},\"mode\":\"markers\",\"name\":\"B\",\"text\":\"\",\"x\":[-1.8708875734832748,0.04425823550598916,2.2318098580876335,-0.1932162636185701,-0.3495142742950361,-0.9363714842063803,-0.3751675288083557,0.24096398472949992,0.7839074733605705,-0.948046660123082,0.9688924880089168,0.29601276029714685,-1.3281620746071872,1.3444769424008969,1.5857319136801458,-0.7572298115336303,-2.1853912146666983,0.5794319393647758,0.11438605827806371,-0.8174361744556506,0.2523687940971506,1.4635374612249505,0.2514716300708972,0.5909474815715231,0.5743582936896399,0.3404858368078811,-0.4907552024656146,-0.32078836101622105,-0.44800327053016514,0.9960774558527737,0.22467360416969342,2.4529081035546207,-0.21787418455794888,0.6762498754903966,-0.48303381928730993,-0.16139780190549755,-0.5647919533473379,-0.3672292350945552,-0.278958867299943,-0.07128610183100571,-0.0351476668971757,0.5375339473571906,-0.16054867274784868,1.2920755922952918,1.667640449645262,-0.36020101369593516,1.4831194257765556,0.16674921176253732,-0.5377061661274848,-1.4134058793381234,-0.47496514727810796,0.46973511175391053,-0.14771132817389718,1.5164803577234145,-0.6872851570369064,0.3298080343624988,-0.9444593815516463,0.5566413339925547,-1.4670673842371387,-0.09040314661128307,-0.7681215742517598,0.22498077143569414,0.27567011144228754,-1.7401853989682063,0.5830003687822239,0.3502144296196838,-1.8571529961941577,0.1901652524422592,-0.12813138347420786,-1.1874881142031868,-0.06773200120193666,-0.5034130203140469,-1.7569306963537281,0.9954700566699439,-0.7377403658835474,-1.9608339437686828,1.0887725214220043,1.1615126132641291,-1.3425676644410556,1.1731778312031338,0.5923121609965328,-0.49249661917257426,-0.13023345722216656,-1.459896361013488,0.3545202476999806,-1.8383904457936295,-0.16943713505500044,-0.5132237203127183,0.3047428775744405,-0.10827793167007603,0.3317581955489925,0.6011410609751754,1.1156955619768716,1.0934138206778674,0.47807489067700687,0.2012802882466331,0.01618371786285664,-0.4205840724709901,-1.3314350933539179,1.307938271004548],\"xaxis\":\"x7\",\"y\":[1.380854838531965,0.11938502538426132,-1.3143531805255566,0.6406812285572712,0.45901609373282704,0.14365163997084188,0.04919209970407182,-0.14356601653396417,-0.13652030629061812,0.705737494583953,0.4693637488317349,-0.22019440349318015,0.023077433512087436,1.2240704876175075,-0.20295579519226248,-0.5507208895965063,-0.04503975484391459,-1.0716079956340958,-0.3498571619930785,0.05378116157884617,0.1914937961172496,-0.8001900502593962,-1.8724024669870398,-1.155013636557828,-0.8728225347049191,-0.9491040625196484,-0.01307810894809895,-1.7416462532512975,0.7582038042037499,1.0245971841296806,2.209354664513985,0.27962419638957986,-0.3625691399492275,-0.37384775610699056,-0.09090160784772924,-0.963449146450701,-0.7980032760865212,-0.1365887386905632,-0.8236488041076043,0.12473376344798781,-1.5436042717554994,-0.6216132617616013,1.6894254983684525,0.556296337156448,-0.785063041863813,2.483960864125458,-0.43302859825742124,0.8939916753077831,1.2096210869953685,0.9394848885610718,-1.4390417869534922,1.1168312594389562,-0.5365559556172983,1.8492172694897153,-0.1362841448844875,0.6018566047291094,0.6036293584590517,1.0888599872211706,-0.5537892278737087,-1.2571168203364704,-0.4422470583484276,-0.6044378393263163,-1.041592179467776,1.5009696060524216,-0.9109487853431983,2.1787784184384558,-1.0579386356798106,-1.7000597049686215,-1.3445417160500615,-1.1784242650767685,-0.5223318292191497,-1.6418690103787708,1.6251438590138476,-3.8913039112713124,-0.5316779558052692,0.3711369956120464,0.39400732044115944,0.5000893212146826,-0.1723379534232298,-0.8721395911197579,-0.36567250291673475,1.5156140766192698,2.3623075261343915,-1.489554844966301,1.6413735284669448,-0.0929390528011857,-0.714291437029099,0.130654739297638,1.4599097658828708,-0.46420506328524286,-1.3247869299650787,-1.0332844721276573,-0.6378849266767722,0.5187408321369664,0.4352512593360889,-0.06583816090115427,0.5379177916772021,0.28204406416968447,-1.04570445537743,0.08376817237639435],\"yaxis\":\"y7\",\"type\":\"scatter\"},{\"line\":{\"color\":\"rgba(128, 128, 128, 1.0)\",\"dash\":\"solid\",\"shape\":\"linear\",\"width\":1.3},\"marker\":{\"size\":2,\"symbol\":\"circle\"},\"mode\":\"markers\",\"name\":\"B\",\"text\":\"\",\"x\":[-0.6243127375617485,-1.1740550580744102,0.038460727649453415,1.473545397199106,-0.9521658151129334,-0.4848915430788821,0.0675901121034954,0.805327552498521,-0.3678164673871686,-0.9210994094835443,0.30050191780807356,0.12519393915142765,1.137088531812455,0.2968333543050542,0.9444873258850971,0.07407865634529899,-0.25029023390720306,0.3179564559367161,-2.5639417290556357,0.230886491505683,-0.0888265823761594,-0.09021836298835495,-1.0771186416949865,-0.8594551656352457,-0.10386030844563789,-0.5953859982931564,-2.1793723497553326,0.11283882512550318,-0.5749599969041304,-1.1233656099056193,2.1314646206198327,-1.653124713992959,-1.7960268785121087,-0.1393410261146086,-0.539714578867005,0.5856794701890018,-0.2071207922317129,-0.6972380495463055,-1.4852391624389962,-0.6132944048119481,1.3420483036377386,-1.5755224816993758,0.2743879523680005,-0.4464672218318962,-3.378295994805631,-0.6707301853353952,-0.7587263078274006,-0.27706990266371545,-0.8225006505775436,0.2503955509660361,0.038810602206067676,-1.0879790827177869,-0.5147650195142758,0.056920826723514194,-0.455853480689292,-0.37650380217157314,0.8415793821045491,0.09174178210241361,1.6341077538875552,-0.6868086957169546,1.2819199478532186,-1.182394428328359,-0.636493609887241,0.4836901410780605,-1.7703504544405102,-2.170912133455119,-0.0822348997199209,-1.1309071842819234,-0.5383595119236265,-0.014834978292038978,-0.6162582558907989,-0.6883800257753223,0.8954912080936425,0.9037166248628814,1.1873894608157394,-0.6123584271721806,-1.422847869128479,2.3106182679204,-0.7881045889309072,0.03242724161322168,-1.541884412644934,-0.9388412359867381,-0.5529495445987058,0.6732988001879391,-0.5893911620958981,2.579973066211168,-0.3185865876642497,0.5761037296869645,1.5547217694290791,0.3041990392389531,0.9716870695179999,0.3940485816680812,-0.6403195185889015,1.0750979233256113,0.970106939826967,1.9639453540327028,1.5346904677398219,0.5966181882134294,-0.33441777490768804,-0.6426062418461276],\"xaxis\":\"x8\",\"y\":[1.380854838531965,0.11938502538426132,-1.3143531805255566,0.6406812285572712,0.45901609373282704,0.14365163997084188,0.04919209970407182,-0.14356601653396417,-0.13652030629061812,0.705737494583953,0.4693637488317349,-0.22019440349318015,0.023077433512087436,1.2240704876175075,-0.20295579519226248,-0.5507208895965063,-0.04503975484391459,-1.0716079956340958,-0.3498571619930785,0.05378116157884617,0.1914937961172496,-0.8001900502593962,-1.8724024669870398,-1.155013636557828,-0.8728225347049191,-0.9491040625196484,-0.01307810894809895,-1.7416462532512975,0.7582038042037499,1.0245971841296806,2.209354664513985,0.27962419638957986,-0.3625691399492275,-0.37384775610699056,-0.09090160784772924,-0.963449146450701,-0.7980032760865212,-0.1365887386905632,-0.8236488041076043,0.12473376344798781,-1.5436042717554994,-0.6216132617616013,1.6894254983684525,0.556296337156448,-0.785063041863813,2.483960864125458,-0.43302859825742124,0.8939916753077831,1.2096210869953685,0.9394848885610718,-1.4390417869534922,1.1168312594389562,-0.5365559556172983,1.8492172694897153,-0.1362841448844875,0.6018566047291094,0.6036293584590517,1.0888599872211706,-0.5537892278737087,-1.2571168203364704,-0.4422470583484276,-0.6044378393263163,-1.041592179467776,1.5009696060524216,-0.9109487853431983,2.1787784184384558,-1.0579386356798106,-1.7000597049686215,-1.3445417160500615,-1.1784242650767685,-0.5223318292191497,-1.6418690103787708,1.6251438590138476,-3.8913039112713124,-0.5316779558052692,0.3711369956120464,0.39400732044115944,0.5000893212146826,-0.1723379534232298,-0.8721395911197579,-0.36567250291673475,1.5156140766192698,2.3623075261343915,-1.489554844966301,1.6413735284669448,-0.0929390528011857,-0.714291437029099,0.130654739297638,1.4599097658828708,-0.46420506328524286,-1.3247869299650787,-1.0332844721276573,-0.6378849266767722,0.5187408321369664,0.4352512593360889,-0.06583816090115427,0.5379177916772021,0.28204406416968447,-1.04570445537743,0.08376817237639435],\"yaxis\":\"y8\",\"type\":\"scatter\"},{\"line\":{\"color\":\"rgba(128, 128, 128, 1.0)\",\"dash\":\"solid\",\"shape\":\"linear\",\"width\":1.3},\"marker\":{\"size\":2,\"symbol\":\"circle\"},\"mode\":\"markers\",\"name\":\"C\",\"text\":\"\",\"x\":[-0.8045319692756239,-0.7857508741343778,0.39430716210118383,0.040154756846361016,-1.7322422804433464,0.23192449486695912,-0.6018949797227127,-0.26289401276907864,0.05250827501417779,1.3215808600707148,-0.3415752045912305,0.9123430324087752,-0.11882811971741239,-1.277598509738442,1.22129685804723,-0.9964878457298946,2.6620936089218095,-0.4803892863051099,-1.4490068334874833,-0.5458590243929505,0.1806089625886417,-0.04853061562212352,-0.7519138670027183,0.9822323510339834,1.3217667116892085,-0.4078361976983211,-0.7433064246907137,1.3097970819898321,-0.8885546830130938,0.08959952426663148,0.7613983182603498,1.114935205693224,-0.26808691289618436,-1.179007519613772,-0.8212285519866818,0.0171376674536935,-1.261984800199849,0.7540606103836702,1.0365981858780862,1.0894455868431638,1.467140241494887,-0.45420815578998514,1.4150942894048062,-1.0307095952537535,-0.8738128032396157,0.8499380934853883,0.44623467531343414,1.1111190821690289,1.5931104775281726,-0.4229825602717984,-0.347724986376733,-0.13542680812754604,0.3082974882607674,-1.8041564241898107,-0.01515489581035622,1.2123741242554724,1.6091967660300068,-0.9099405101509571,-1.0607387072884853,-0.01457523724299721,-0.4606327435061816,1.353930884874758,0.7192866992265134,0.35255737217605587,0.17943773439695976,-0.0008330315647807776,0.013257714626296735,-0.4853923909661426,0.987472645343711,-1.2792863154847292,-0.1927603830487624,-1.248884129883844,0.09746544762239337,0.205544722884781,-1.6106179773906022,-1.4962536071793135,1.8804432211155748,-0.9024008840300444,-1.2721816262871173,2.1523784705721707,-0.9891223749584839,-0.966689724244585,-1.001881325254751,0.09961378114378827,-0.6782575216848209,0.6993114545806943,0.6321315478915533,-0.7053759028281684,-0.41772962659482143,0.3005169214229249,0.6704583648794865,-0.3618318985451478,1.1737851603704852,0.24227025716212627,1.4015786878545637,-0.20532599663298384,-0.25831017270764134,-2.0960187662439336,0.22663058350173887,-1.499548991493352],\"xaxis\":\"x9\",\"y\":[-1.8708875734832748,0.04425823550598916,2.2318098580876335,-0.1932162636185701,-0.3495142742950361,-0.9363714842063803,-0.3751675288083557,0.24096398472949992,0.7839074733605705,-0.948046660123082,0.9688924880089168,0.29601276029714685,-1.3281620746071872,1.3444769424008969,1.5857319136801458,-0.7572298115336303,-2.1853912146666983,0.5794319393647758,0.11438605827806371,-0.8174361744556506,0.2523687940971506,1.4635374612249505,0.2514716300708972,0.5909474815715231,0.5743582936896399,0.3404858368078811,-0.4907552024656146,-0.32078836101622105,-0.44800327053016514,0.9960774558527737,0.22467360416969342,2.4529081035546207,-0.21787418455794888,0.6762498754903966,-0.48303381928730993,-0.16139780190549755,-0.5647919533473379,-0.3672292350945552,-0.278958867299943,-0.07128610183100571,-0.0351476668971757,0.5375339473571906,-0.16054867274784868,1.2920755922952918,1.667640449645262,-0.36020101369593516,1.4831194257765556,0.16674921176253732,-0.5377061661274848,-1.4134058793381234,-0.47496514727810796,0.46973511175391053,-0.14771132817389718,1.5164803577234145,-0.6872851570369064,0.3298080343624988,-0.9444593815516463,0.5566413339925547,-1.4670673842371387,-0.09040314661128307,-0.7681215742517598,0.22498077143569414,0.27567011144228754,-1.7401853989682063,0.5830003687822239,0.3502144296196838,-1.8571529961941577,0.1901652524422592,-0.12813138347420786,-1.1874881142031868,-0.06773200120193666,-0.5034130203140469,-1.7569306963537281,0.9954700566699439,-0.7377403658835474,-1.9608339437686828,1.0887725214220043,1.1615126132641291,-1.3425676644410556,1.1731778312031338,0.5923121609965328,-0.49249661917257426,-0.13023345722216656,-1.459896361013488,0.3545202476999806,-1.8383904457936295,-0.16943713505500044,-0.5132237203127183,0.3047428775744405,-0.10827793167007603,0.3317581955489925,0.6011410609751754,1.1156955619768716,1.0934138206778674,0.47807489067700687,0.2012802882466331,0.01618371786285664,-0.4205840724709901,-1.3314350933539179,1.307938271004548],\"yaxis\":\"y9\",\"type\":\"scatter\"},{\"line\":{\"color\":\"rgba(128, 128, 128, 1.0)\",\"dash\":\"solid\",\"shape\":\"linear\",\"width\":1.3},\"marker\":{\"size\":2,\"symbol\":\"circle\"},\"mode\":\"markers\",\"name\":\"C\",\"text\":\"\",\"x\":[1.380854838531965,0.11938502538426132,-1.3143531805255566,0.6406812285572712,0.45901609373282704,0.14365163997084188,0.04919209970407182,-0.14356601653396417,-0.13652030629061812,0.705737494583953,0.4693637488317349,-0.22019440349318015,0.023077433512087436,1.2240704876175075,-0.20295579519226248,-0.5507208895965063,-0.04503975484391459,-1.0716079956340958,-0.3498571619930785,0.05378116157884617,0.1914937961172496,-0.8001900502593962,-1.8724024669870398,-1.155013636557828,-0.8728225347049191,-0.9491040625196484,-0.01307810894809895,-1.7416462532512975,0.7582038042037499,1.0245971841296806,2.209354664513985,0.27962419638957986,-0.3625691399492275,-0.37384775610699056,-0.09090160784772924,-0.963449146450701,-0.7980032760865212,-0.1365887386905632,-0.8236488041076043,0.12473376344798781,-1.5436042717554994,-0.6216132617616013,1.6894254983684525,0.556296337156448,-0.785063041863813,2.483960864125458,-0.43302859825742124,0.8939916753077831,1.2096210869953685,0.9394848885610718,-1.4390417869534922,1.1168312594389562,-0.5365559556172983,1.8492172694897153,-0.1362841448844875,0.6018566047291094,0.6036293584590517,1.0888599872211706,-0.5537892278737087,-1.2571168203364704,-0.4422470583484276,-0.6044378393263163,-1.041592179467776,1.5009696060524216,-0.9109487853431983,2.1787784184384558,-1.0579386356798106,-1.7000597049686215,-1.3445417160500615,-1.1784242650767685,-0.5223318292191497,-1.6418690103787708,1.6251438590138476,-3.8913039112713124,-0.5316779558052692,0.3711369956120464,0.39400732044115944,0.5000893212146826,-0.1723379534232298,-0.8721395911197579,-0.36567250291673475,1.5156140766192698,2.3623075261343915,-1.489554844966301,1.6413735284669448,-0.0929390528011857,-0.714291437029099,0.130654739297638,1.4599097658828708,-0.46420506328524286,-1.3247869299650787,-1.0332844721276573,-0.6378849266767722,0.5187408321369664,0.4352512593360889,-0.06583816090115427,0.5379177916772021,0.28204406416968447,-1.04570445537743,0.08376817237639435],\"xaxis\":\"x10\",\"y\":[-1.8708875734832748,0.04425823550598916,2.2318098580876335,-0.1932162636185701,-0.3495142742950361,-0.9363714842063803,-0.3751675288083557,0.24096398472949992,0.7839074733605705,-0.948046660123082,0.9688924880089168,0.29601276029714685,-1.3281620746071872,1.3444769424008969,1.5857319136801458,-0.7572298115336303,-2.1853912146666983,0.5794319393647758,0.11438605827806371,-0.8174361744556506,0.2523687940971506,1.4635374612249505,0.2514716300708972,0.5909474815715231,0.5743582936896399,0.3404858368078811,-0.4907552024656146,-0.32078836101622105,-0.44800327053016514,0.9960774558527737,0.22467360416969342,2.4529081035546207,-0.21787418455794888,0.6762498754903966,-0.48303381928730993,-0.16139780190549755,-0.5647919533473379,-0.3672292350945552,-0.278958867299943,-0.07128610183100571,-0.0351476668971757,0.5375339473571906,-0.16054867274784868,1.2920755922952918,1.667640449645262,-0.36020101369593516,1.4831194257765556,0.16674921176253732,-0.5377061661274848,-1.4134058793381234,-0.47496514727810796,0.46973511175391053,-0.14771132817389718,1.5164803577234145,-0.6872851570369064,0.3298080343624988,-0.9444593815516463,0.5566413339925547,-1.4670673842371387,-0.09040314661128307,-0.7681215742517598,0.22498077143569414,0.27567011144228754,-1.7401853989682063,0.5830003687822239,0.3502144296196838,-1.8571529961941577,0.1901652524422592,-0.12813138347420786,-1.1874881142031868,-0.06773200120193666,-0.5034130203140469,-1.7569306963537281,0.9954700566699439,-0.7377403658835474,-1.9608339437686828,1.0887725214220043,1.1615126132641291,-1.3425676644410556,1.1731778312031338,0.5923121609965328,-0.49249661917257426,-0.13023345722216656,-1.459896361013488,0.3545202476999806,-1.8383904457936295,-0.16943713505500044,-0.5132237203127183,0.3047428775744405,-0.10827793167007603,0.3317581955489925,0.6011410609751754,1.1156955619768716,1.0934138206778674,0.47807489067700687,0.2012802882466331,0.01618371786285664,-0.4205840724709901,-1.3314350933539179,1.307938271004548],\"yaxis\":\"y10\",\"type\":\"scatter\"},{\"histfunc\":\"count\",\"histnorm\":\"\",\"marker\":{\"color\":\"rgba(50, 171, 96, 1.0)\",\"line\":{\"color\":\"#4D5663\",\"width\":1.3}},\"name\":\"C\",\"nbinsx\":10,\"opacity\":0.8,\"orientation\":\"v\",\"x\":[-1.8708875734832748,0.04425823550598916,2.2318098580876335,-0.1932162636185701,-0.3495142742950361,-0.9363714842063803,-0.3751675288083557,0.24096398472949992,0.7839074733605705,-0.948046660123082,0.9688924880089168,0.29601276029714685,-1.3281620746071872,1.3444769424008969,1.5857319136801458,-0.7572298115336303,-2.1853912146666983,0.5794319393647758,0.11438605827806371,-0.8174361744556506,0.2523687940971506,1.4635374612249505,0.2514716300708972,0.5909474815715231,0.5743582936896399,0.3404858368078811,-0.4907552024656146,-0.32078836101622105,-0.44800327053016514,0.9960774558527737,0.22467360416969342,2.4529081035546207,-0.21787418455794888,0.6762498754903966,-0.48303381928730993,-0.16139780190549755,-0.5647919533473379,-0.3672292350945552,-0.278958867299943,-0.07128610183100571,-0.0351476668971757,0.5375339473571906,-0.16054867274784868,1.2920755922952918,1.667640449645262,-0.36020101369593516,1.4831194257765556,0.16674921176253732,-0.5377061661274848,-1.4134058793381234,-0.47496514727810796,0.46973511175391053,-0.14771132817389718,1.5164803577234145,-0.6872851570369064,0.3298080343624988,-0.9444593815516463,0.5566413339925547,-1.4670673842371387,-0.09040314661128307,-0.7681215742517598,0.22498077143569414,0.27567011144228754,-1.7401853989682063,0.5830003687822239,0.3502144296196838,-1.8571529961941577,0.1901652524422592,-0.12813138347420786,-1.1874881142031868,-0.06773200120193666,-0.5034130203140469,-1.7569306963537281,0.9954700566699439,-0.7377403658835474,-1.9608339437686828,1.0887725214220043,1.1615126132641291,-1.3425676644410556,1.1731778312031338,0.5923121609965328,-0.49249661917257426,-0.13023345722216656,-1.459896361013488,0.3545202476999806,-1.8383904457936295,-0.16943713505500044,-0.5132237203127183,0.3047428775744405,-0.10827793167007603,0.3317581955489925,0.6011410609751754,1.1156955619768716,1.0934138206778674,0.47807489067700687,0.2012802882466331,0.01618371786285664,-0.4205840724709901,-1.3314350933539179,1.307938271004548],\"xaxis\":\"x11\",\"yaxis\":\"y11\",\"type\":\"histogram\"},{\"line\":{\"color\":\"rgba(128, 128, 128, 1.0)\",\"dash\":\"solid\",\"shape\":\"linear\",\"width\":1.3},\"marker\":{\"size\":2,\"symbol\":\"circle\"},\"mode\":\"markers\",\"name\":\"C\",\"text\":\"\",\"x\":[-0.6243127375617485,-1.1740550580744102,0.038460727649453415,1.473545397199106,-0.9521658151129334,-0.4848915430788821,0.0675901121034954,0.805327552498521,-0.3678164673871686,-0.9210994094835443,0.30050191780807356,0.12519393915142765,1.137088531812455,0.2968333543050542,0.9444873258850971,0.07407865634529899,-0.25029023390720306,0.3179564559367161,-2.5639417290556357,0.230886491505683,-0.0888265823761594,-0.09021836298835495,-1.0771186416949865,-0.8594551656352457,-0.10386030844563789,-0.5953859982931564,-2.1793723497553326,0.11283882512550318,-0.5749599969041304,-1.1233656099056193,2.1314646206198327,-1.653124713992959,-1.7960268785121087,-0.1393410261146086,-0.539714578867005,0.5856794701890018,-0.2071207922317129,-0.6972380495463055,-1.4852391624389962,-0.6132944048119481,1.3420483036377386,-1.5755224816993758,0.2743879523680005,-0.4464672218318962,-3.378295994805631,-0.6707301853353952,-0.7587263078274006,-0.27706990266371545,-0.8225006505775436,0.2503955509660361,0.038810602206067676,-1.0879790827177869,-0.5147650195142758,0.056920826723514194,-0.455853480689292,-0.37650380217157314,0.8415793821045491,0.09174178210241361,1.6341077538875552,-0.6868086957169546,1.2819199478532186,-1.182394428328359,-0.636493609887241,0.4836901410780605,-1.7703504544405102,-2.170912133455119,-0.0822348997199209,-1.1309071842819234,-0.5383595119236265,-0.014834978292038978,-0.6162582558907989,-0.6883800257753223,0.8954912080936425,0.9037166248628814,1.1873894608157394,-0.6123584271721806,-1.422847869128479,2.3106182679204,-0.7881045889309072,0.03242724161322168,-1.541884412644934,-0.9388412359867381,-0.5529495445987058,0.6732988001879391,-0.5893911620958981,2.579973066211168,-0.3185865876642497,0.5761037296869645,1.5547217694290791,0.3041990392389531,0.9716870695179999,0.3940485816680812,-0.6403195185889015,1.0750979233256113,0.970106939826967,1.9639453540327028,1.5346904677398219,0.5966181882134294,-0.33441777490768804,-0.6426062418461276],\"xaxis\":\"x12\",\"y\":[-1.8708875734832748,0.04425823550598916,2.2318098580876335,-0.1932162636185701,-0.3495142742950361,-0.9363714842063803,-0.3751675288083557,0.24096398472949992,0.7839074733605705,-0.948046660123082,0.9688924880089168,0.29601276029714685,-1.3281620746071872,1.3444769424008969,1.5857319136801458,-0.7572298115336303,-2.1853912146666983,0.5794319393647758,0.11438605827806371,-0.8174361744556506,0.2523687940971506,1.4635374612249505,0.2514716300708972,0.5909474815715231,0.5743582936896399,0.3404858368078811,-0.4907552024656146,-0.32078836101622105,-0.44800327053016514,0.9960774558527737,0.22467360416969342,2.4529081035546207,-0.21787418455794888,0.6762498754903966,-0.48303381928730993,-0.16139780190549755,-0.5647919533473379,-0.3672292350945552,-0.278958867299943,-0.07128610183100571,-0.0351476668971757,0.5375339473571906,-0.16054867274784868,1.2920755922952918,1.667640449645262,-0.36020101369593516,1.4831194257765556,0.16674921176253732,-0.5377061661274848,-1.4134058793381234,-0.47496514727810796,0.46973511175391053,-0.14771132817389718,1.5164803577234145,-0.6872851570369064,0.3298080343624988,-0.9444593815516463,0.5566413339925547,-1.4670673842371387,-0.09040314661128307,-0.7681215742517598,0.22498077143569414,0.27567011144228754,-1.7401853989682063,0.5830003687822239,0.3502144296196838,-1.8571529961941577,0.1901652524422592,-0.12813138347420786,-1.1874881142031868,-0.06773200120193666,-0.5034130203140469,-1.7569306963537281,0.9954700566699439,-0.7377403658835474,-1.9608339437686828,1.0887725214220043,1.1615126132641291,-1.3425676644410556,1.1731778312031338,0.5923121609965328,-0.49249661917257426,-0.13023345722216656,-1.459896361013488,0.3545202476999806,-1.8383904457936295,-0.16943713505500044,-0.5132237203127183,0.3047428775744405,-0.10827793167007603,0.3317581955489925,0.6011410609751754,1.1156955619768716,1.0934138206778674,0.47807489067700687,0.2012802882466331,0.01618371786285664,-0.4205840724709901,-1.3314350933539179,1.307938271004548],\"yaxis\":\"y12\",\"type\":\"scatter\"},{\"line\":{\"color\":\"rgba(128, 128, 128, 1.0)\",\"dash\":\"solid\",\"shape\":\"linear\",\"width\":1.3},\"marker\":{\"size\":2,\"symbol\":\"circle\"},\"mode\":\"markers\",\"name\":\"D\",\"text\":\"\",\"x\":[-0.8045319692756239,-0.7857508741343778,0.39430716210118383,0.040154756846361016,-1.7322422804433464,0.23192449486695912,-0.6018949797227127,-0.26289401276907864,0.05250827501417779,1.3215808600707148,-0.3415752045912305,0.9123430324087752,-0.11882811971741239,-1.277598509738442,1.22129685804723,-0.9964878457298946,2.6620936089218095,-0.4803892863051099,-1.4490068334874833,-0.5458590243929505,0.1806089625886417,-0.04853061562212352,-0.7519138670027183,0.9822323510339834,1.3217667116892085,-0.4078361976983211,-0.7433064246907137,1.3097970819898321,-0.8885546830130938,0.08959952426663148,0.7613983182603498,1.114935205693224,-0.26808691289618436,-1.179007519613772,-0.8212285519866818,0.0171376674536935,-1.261984800199849,0.7540606103836702,1.0365981858780862,1.0894455868431638,1.467140241494887,-0.45420815578998514,1.4150942894048062,-1.0307095952537535,-0.8738128032396157,0.8499380934853883,0.44623467531343414,1.1111190821690289,1.5931104775281726,-0.4229825602717984,-0.347724986376733,-0.13542680812754604,0.3082974882607674,-1.8041564241898107,-0.01515489581035622,1.2123741242554724,1.6091967660300068,-0.9099405101509571,-1.0607387072884853,-0.01457523724299721,-0.4606327435061816,1.353930884874758,0.7192866992265134,0.35255737217605587,0.17943773439695976,-0.0008330315647807776,0.013257714626296735,-0.4853923909661426,0.987472645343711,-1.2792863154847292,-0.1927603830487624,-1.248884129883844,0.09746544762239337,0.205544722884781,-1.6106179773906022,-1.4962536071793135,1.8804432211155748,-0.9024008840300444,-1.2721816262871173,2.1523784705721707,-0.9891223749584839,-0.966689724244585,-1.001881325254751,0.09961378114378827,-0.6782575216848209,0.6993114545806943,0.6321315478915533,-0.7053759028281684,-0.41772962659482143,0.3005169214229249,0.6704583648794865,-0.3618318985451478,1.1737851603704852,0.24227025716212627,1.4015786878545637,-0.20532599663298384,-0.25831017270764134,-2.0960187662439336,0.22663058350173887,-1.499548991493352],\"xaxis\":\"x13\",\"y\":[-0.6243127375617485,-1.1740550580744102,0.038460727649453415,1.473545397199106,-0.9521658151129334,-0.4848915430788821,0.0675901121034954,0.805327552498521,-0.3678164673871686,-0.9210994094835443,0.30050191780807356,0.12519393915142765,1.137088531812455,0.2968333543050542,0.9444873258850971,0.07407865634529899,-0.25029023390720306,0.3179564559367161,-2.5639417290556357,0.230886491505683,-0.0888265823761594,-0.09021836298835495,-1.0771186416949865,-0.8594551656352457,-0.10386030844563789,-0.5953859982931564,-2.1793723497553326,0.11283882512550318,-0.5749599969041304,-1.1233656099056193,2.1314646206198327,-1.653124713992959,-1.7960268785121087,-0.1393410261146086,-0.539714578867005,0.5856794701890018,-0.2071207922317129,-0.6972380495463055,-1.4852391624389962,-0.6132944048119481,1.3420483036377386,-1.5755224816993758,0.2743879523680005,-0.4464672218318962,-3.378295994805631,-0.6707301853353952,-0.7587263078274006,-0.27706990266371545,-0.8225006505775436,0.2503955509660361,0.038810602206067676,-1.0879790827177869,-0.5147650195142758,0.056920826723514194,-0.455853480689292,-0.37650380217157314,0.8415793821045491,0.09174178210241361,1.6341077538875552,-0.6868086957169546,1.2819199478532186,-1.182394428328359,-0.636493609887241,0.4836901410780605,-1.7703504544405102,-2.170912133455119,-0.0822348997199209,-1.1309071842819234,-0.5383595119236265,-0.014834978292038978,-0.6162582558907989,-0.6883800257753223,0.8954912080936425,0.9037166248628814,1.1873894608157394,-0.6123584271721806,-1.422847869128479,2.3106182679204,-0.7881045889309072,0.03242724161322168,-1.541884412644934,-0.9388412359867381,-0.5529495445987058,0.6732988001879391,-0.5893911620958981,2.579973066211168,-0.3185865876642497,0.5761037296869645,1.5547217694290791,0.3041990392389531,0.9716870695179999,0.3940485816680812,-0.6403195185889015,1.0750979233256113,0.970106939826967,1.9639453540327028,1.5346904677398219,0.5966181882134294,-0.33441777490768804,-0.6426062418461276],\"yaxis\":\"y13\",\"type\":\"scatter\"},{\"line\":{\"color\":\"rgba(128, 128, 128, 1.0)\",\"dash\":\"solid\",\"shape\":\"linear\",\"width\":1.3},\"marker\":{\"size\":2,\"symbol\":\"circle\"},\"mode\":\"markers\",\"name\":\"D\",\"text\":\"\",\"x\":[1.380854838531965,0.11938502538426132,-1.3143531805255566,0.6406812285572712,0.45901609373282704,0.14365163997084188,0.04919209970407182,-0.14356601653396417,-0.13652030629061812,0.705737494583953,0.4693637488317349,-0.22019440349318015,0.023077433512087436,1.2240704876175075,-0.20295579519226248,-0.5507208895965063,-0.04503975484391459,-1.0716079956340958,-0.3498571619930785,0.05378116157884617,0.1914937961172496,-0.8001900502593962,-1.8724024669870398,-1.155013636557828,-0.8728225347049191,-0.9491040625196484,-0.01307810894809895,-1.7416462532512975,0.7582038042037499,1.0245971841296806,2.209354664513985,0.27962419638957986,-0.3625691399492275,-0.37384775610699056,-0.09090160784772924,-0.963449146450701,-0.7980032760865212,-0.1365887386905632,-0.8236488041076043,0.12473376344798781,-1.5436042717554994,-0.6216132617616013,1.6894254983684525,0.556296337156448,-0.785063041863813,2.483960864125458,-0.43302859825742124,0.8939916753077831,1.2096210869953685,0.9394848885610718,-1.4390417869534922,1.1168312594389562,-0.5365559556172983,1.8492172694897153,-0.1362841448844875,0.6018566047291094,0.6036293584590517,1.0888599872211706,-0.5537892278737087,-1.2571168203364704,-0.4422470583484276,-0.6044378393263163,-1.041592179467776,1.5009696060524216,-0.9109487853431983,2.1787784184384558,-1.0579386356798106,-1.7000597049686215,-1.3445417160500615,-1.1784242650767685,-0.5223318292191497,-1.6418690103787708,1.6251438590138476,-3.8913039112713124,-0.5316779558052692,0.3711369956120464,0.39400732044115944,0.5000893212146826,-0.1723379534232298,-0.8721395911197579,-0.36567250291673475,1.5156140766192698,2.3623075261343915,-1.489554844966301,1.6413735284669448,-0.0929390528011857,-0.714291437029099,0.130654739297638,1.4599097658828708,-0.46420506328524286,-1.3247869299650787,-1.0332844721276573,-0.6378849266767722,0.5187408321369664,0.4352512593360889,-0.06583816090115427,0.5379177916772021,0.28204406416968447,-1.04570445537743,0.08376817237639435],\"xaxis\":\"x14\",\"y\":[-0.6243127375617485,-1.1740550580744102,0.038460727649453415,1.473545397199106,-0.9521658151129334,-0.4848915430788821,0.0675901121034954,0.805327552498521,-0.3678164673871686,-0.9210994094835443,0.30050191780807356,0.12519393915142765,1.137088531812455,0.2968333543050542,0.9444873258850971,0.07407865634529899,-0.25029023390720306,0.3179564559367161,-2.5639417290556357,0.230886491505683,-0.0888265823761594,-0.09021836298835495,-1.0771186416949865,-0.8594551656352457,-0.10386030844563789,-0.5953859982931564,-2.1793723497553326,0.11283882512550318,-0.5749599969041304,-1.1233656099056193,2.1314646206198327,-1.653124713992959,-1.7960268785121087,-0.1393410261146086,-0.539714578867005,0.5856794701890018,-0.2071207922317129,-0.6972380495463055,-1.4852391624389962,-0.6132944048119481,1.3420483036377386,-1.5755224816993758,0.2743879523680005,-0.4464672218318962,-3.378295994805631,-0.6707301853353952,-0.7587263078274006,-0.27706990266371545,-0.8225006505775436,0.2503955509660361,0.038810602206067676,-1.0879790827177869,-0.5147650195142758,0.056920826723514194,-0.455853480689292,-0.37650380217157314,0.8415793821045491,0.09174178210241361,1.6341077538875552,-0.6868086957169546,1.2819199478532186,-1.182394428328359,-0.636493609887241,0.4836901410780605,-1.7703504544405102,-2.170912133455119,-0.0822348997199209,-1.1309071842819234,-0.5383595119236265,-0.014834978292038978,-0.6162582558907989,-0.6883800257753223,0.8954912080936425,0.9037166248628814,1.1873894608157394,-0.6123584271721806,-1.422847869128479,2.3106182679204,-0.7881045889309072,0.03242724161322168,-1.541884412644934,-0.9388412359867381,-0.5529495445987058,0.6732988001879391,-0.5893911620958981,2.579973066211168,-0.3185865876642497,0.5761037296869645,1.5547217694290791,0.3041990392389531,0.9716870695179999,0.3940485816680812,-0.6403195185889015,1.0750979233256113,0.970106939826967,1.9639453540327028,1.5346904677398219,0.5966181882134294,-0.33441777490768804,-0.6426062418461276],\"yaxis\":\"y14\",\"type\":\"scatter\"},{\"line\":{\"color\":\"rgba(128, 128, 128, 1.0)\",\"dash\":\"solid\",\"shape\":\"linear\",\"width\":1.3},\"marker\":{\"size\":2,\"symbol\":\"circle\"},\"mode\":\"markers\",\"name\":\"D\",\"text\":\"\",\"x\":[-1.8708875734832748,0.04425823550598916,2.2318098580876335,-0.1932162636185701,-0.3495142742950361,-0.9363714842063803,-0.3751675288083557,0.24096398472949992,0.7839074733605705,-0.948046660123082,0.9688924880089168,0.29601276029714685,-1.3281620746071872,1.3444769424008969,1.5857319136801458,-0.7572298115336303,-2.1853912146666983,0.5794319393647758,0.11438605827806371,-0.8174361744556506,0.2523687940971506,1.4635374612249505,0.2514716300708972,0.5909474815715231,0.5743582936896399,0.3404858368078811,-0.4907552024656146,-0.32078836101622105,-0.44800327053016514,0.9960774558527737,0.22467360416969342,2.4529081035546207,-0.21787418455794888,0.6762498754903966,-0.48303381928730993,-0.16139780190549755,-0.5647919533473379,-0.3672292350945552,-0.278958867299943,-0.07128610183100571,-0.0351476668971757,0.5375339473571906,-0.16054867274784868,1.2920755922952918,1.667640449645262,-0.36020101369593516,1.4831194257765556,0.16674921176253732,-0.5377061661274848,-1.4134058793381234,-0.47496514727810796,0.46973511175391053,-0.14771132817389718,1.5164803577234145,-0.6872851570369064,0.3298080343624988,-0.9444593815516463,0.5566413339925547,-1.4670673842371387,-0.09040314661128307,-0.7681215742517598,0.22498077143569414,0.27567011144228754,-1.7401853989682063,0.5830003687822239,0.3502144296196838,-1.8571529961941577,0.1901652524422592,-0.12813138347420786,-1.1874881142031868,-0.06773200120193666,-0.5034130203140469,-1.7569306963537281,0.9954700566699439,-0.7377403658835474,-1.9608339437686828,1.0887725214220043,1.1615126132641291,-1.3425676644410556,1.1731778312031338,0.5923121609965328,-0.49249661917257426,-0.13023345722216656,-1.459896361013488,0.3545202476999806,-1.8383904457936295,-0.16943713505500044,-0.5132237203127183,0.3047428775744405,-0.10827793167007603,0.3317581955489925,0.6011410609751754,1.1156955619768716,1.0934138206778674,0.47807489067700687,0.2012802882466331,0.01618371786285664,-0.4205840724709901,-1.3314350933539179,1.307938271004548],\"xaxis\":\"x15\",\"y\":[-0.6243127375617485,-1.1740550580744102,0.038460727649453415,1.473545397199106,-0.9521658151129334,-0.4848915430788821,0.0675901121034954,0.805327552498521,-0.3678164673871686,-0.9210994094835443,0.30050191780807356,0.12519393915142765,1.137088531812455,0.2968333543050542,0.9444873258850971,0.07407865634529899,-0.25029023390720306,0.3179564559367161,-2.5639417290556357,0.230886491505683,-0.0888265823761594,-0.09021836298835495,-1.0771186416949865,-0.8594551656352457,-0.10386030844563789,-0.5953859982931564,-2.1793723497553326,0.11283882512550318,-0.5749599969041304,-1.1233656099056193,2.1314646206198327,-1.653124713992959,-1.7960268785121087,-0.1393410261146086,-0.539714578867005,0.5856794701890018,-0.2071207922317129,-0.6972380495463055,-1.4852391624389962,-0.6132944048119481,1.3420483036377386,-1.5755224816993758,0.2743879523680005,-0.4464672218318962,-3.378295994805631,-0.6707301853353952,-0.7587263078274006,-0.27706990266371545,-0.8225006505775436,0.2503955509660361,0.038810602206067676,-1.0879790827177869,-0.5147650195142758,0.056920826723514194,-0.455853480689292,-0.37650380217157314,0.8415793821045491,0.09174178210241361,1.6341077538875552,-0.6868086957169546,1.2819199478532186,-1.182394428328359,-0.636493609887241,0.4836901410780605,-1.7703504544405102,-2.170912133455119,-0.0822348997199209,-1.1309071842819234,-0.5383595119236265,-0.014834978292038978,-0.6162582558907989,-0.6883800257753223,0.8954912080936425,0.9037166248628814,1.1873894608157394,-0.6123584271721806,-1.422847869128479,2.3106182679204,-0.7881045889309072,0.03242724161322168,-1.541884412644934,-0.9388412359867381,-0.5529495445987058,0.6732988001879391,-0.5893911620958981,2.579973066211168,-0.3185865876642497,0.5761037296869645,1.5547217694290791,0.3041990392389531,0.9716870695179999,0.3940485816680812,-0.6403195185889015,1.0750979233256113,0.970106939826967,1.9639453540327028,1.5346904677398219,0.5966181882134294,-0.33441777490768804,-0.6426062418461276],\"yaxis\":\"y15\",\"type\":\"scatter\"},{\"histfunc\":\"count\",\"histnorm\":\"\",\"marker\":{\"color\":\"rgba(128, 0, 128, 1.0)\",\"line\":{\"color\":\"#4D5663\",\"width\":1.3}},\"name\":\"D\",\"nbinsx\":10,\"opacity\":0.8,\"orientation\":\"v\",\"x\":[-0.6243127375617485,-1.1740550580744102,0.038460727649453415,1.473545397199106,-0.9521658151129334,-0.4848915430788821,0.0675901121034954,0.805327552498521,-0.3678164673871686,-0.9210994094835443,0.30050191780807356,0.12519393915142765,1.137088531812455,0.2968333543050542,0.9444873258850971,0.07407865634529899,-0.25029023390720306,0.3179564559367161,-2.5639417290556357,0.230886491505683,-0.0888265823761594,-0.09021836298835495,-1.0771186416949865,-0.8594551656352457,-0.10386030844563789,-0.5953859982931564,-2.1793723497553326,0.11283882512550318,-0.5749599969041304,-1.1233656099056193,2.1314646206198327,-1.653124713992959,-1.7960268785121087,-0.1393410261146086,-0.539714578867005,0.5856794701890018,-0.2071207922317129,-0.6972380495463055,-1.4852391624389962,-0.6132944048119481,1.3420483036377386,-1.5755224816993758,0.2743879523680005,-0.4464672218318962,-3.378295994805631,-0.6707301853353952,-0.7587263078274006,-0.27706990266371545,-0.8225006505775436,0.2503955509660361,0.038810602206067676,-1.0879790827177869,-0.5147650195142758,0.056920826723514194,-0.455853480689292,-0.37650380217157314,0.8415793821045491,0.09174178210241361,1.6341077538875552,-0.6868086957169546,1.2819199478532186,-1.182394428328359,-0.636493609887241,0.4836901410780605,-1.7703504544405102,-2.170912133455119,-0.0822348997199209,-1.1309071842819234,-0.5383595119236265,-0.014834978292038978,-0.6162582558907989,-0.6883800257753223,0.8954912080936425,0.9037166248628814,1.1873894608157394,-0.6123584271721806,-1.422847869128479,2.3106182679204,-0.7881045889309072,0.03242724161322168,-1.541884412644934,-0.9388412359867381,-0.5529495445987058,0.6732988001879391,-0.5893911620958981,2.579973066211168,-0.3185865876642497,0.5761037296869645,1.5547217694290791,0.3041990392389531,0.9716870695179999,0.3940485816680812,-0.6403195185889015,1.0750979233256113,0.970106939826967,1.9639453540327028,1.5346904677398219,0.5966181882134294,-0.33441777490768804,-0.6426062418461276],\"xaxis\":\"x16\",\"yaxis\":\"y16\",\"type\":\"histogram\"}],                        {\"bargap\":0.02,\"legend\":{\"bgcolor\":\"#F5F6F9\",\"font\":{\"color\":\"#4D5663\"}},\"paper_bgcolor\":\"#F5F6F9\",\"plot_bgcolor\":\"#F5F6F9\",\"showlegend\":false,\"template\":{\"data\":{\"barpolar\":[{\"marker\":{\"line\":{\"color\":\"#E5ECF6\",\"width\":0.5},\"pattern\":{\"fillmode\":\"overlay\",\"size\":10,\"solidity\":0.2}},\"type\":\"barpolar\"}],\"bar\":[{\"error_x\":{\"color\":\"#2a3f5f\"},\"error_y\":{\"color\":\"#2a3f5f\"},\"marker\":{\"line\":{\"color\":\"#E5ECF6\",\"width\":0.5},\"pattern\":{\"fillmode\":\"overlay\",\"size\":10,\"solidity\":0.2}},\"type\":\"bar\"}],\"carpet\":[{\"aaxis\":{\"endlinecolor\":\"#2a3f5f\",\"gridcolor\":\"white\",\"linecolor\":\"white\",\"minorgridcolor\":\"white\",\"startlinecolor\":\"#2a3f5f\"},\"baxis\":{\"endlinecolor\":\"#2a3f5f\",\"gridcolor\":\"white\",\"linecolor\":\"white\",\"minorgridcolor\":\"white\",\"startlinecolor\":\"#2a3f5f\"},\"type\":\"carpet\"}],\"choropleth\":[{\"colorbar\":{\"outlinewidth\":0,\"ticks\":\"\"},\"type\":\"choropleth\"}],\"contourcarpet\":[{\"colorbar\":{\"outlinewidth\":0,\"ticks\":\"\"},\"type\":\"contourcarpet\"}],\"contour\":[{\"colorbar\":{\"outlinewidth\":0,\"ticks\":\"\"},\"colorscale\":[[0.0,\"#0d0887\"],[0.1111111111111111,\"#46039f\"],[0.2222222222222222,\"#7201a8\"],[0.3333333333333333,\"#9c179e\"],[0.4444444444444444,\"#bd3786\"],[0.5555555555555556,\"#d8576b\"],[0.6666666666666666,\"#ed7953\"],[0.7777777777777778,\"#fb9f3a\"],[0.8888888888888888,\"#fdca26\"],[1.0,\"#f0f921\"]],\"type\":\"contour\"}],\"heatmapgl\":[{\"colorbar\":{\"outlinewidth\":0,\"ticks\":\"\"},\"colorscale\":[[0.0,\"#0d0887\"],[0.1111111111111111,\"#46039f\"],[0.2222222222222222,\"#7201a8\"],[0.3333333333333333,\"#9c179e\"],[0.4444444444444444,\"#bd3786\"],[0.5555555555555556,\"#d8576b\"],[0.6666666666666666,\"#ed7953\"],[0.7777777777777778,\"#fb9f3a\"],[0.8888888888888888,\"#fdca26\"],[1.0,\"#f0f921\"]],\"type\":\"heatmapgl\"}],\"heatmap\":[{\"colorbar\":{\"outlinewidth\":0,\"ticks\":\"\"},\"colorscale\":[[0.0,\"#0d0887\"],[0.1111111111111111,\"#46039f\"],[0.2222222222222222,\"#7201a8\"],[0.3333333333333333,\"#9c179e\"],[0.4444444444444444,\"#bd3786\"],[0.5555555555555556,\"#d8576b\"],[0.6666666666666666,\"#ed7953\"],[0.7777777777777778,\"#fb9f3a\"],[0.8888888888888888,\"#fdca26\"],[1.0,\"#f0f921\"]],\"type\":\"heatmap\"}],\"histogram2dcontour\":[{\"colorbar\":{\"outlinewidth\":0,\"ticks\":\"\"},\"colorscale\":[[0.0,\"#0d0887\"],[0.1111111111111111,\"#46039f\"],[0.2222222222222222,\"#7201a8\"],[0.3333333333333333,\"#9c179e\"],[0.4444444444444444,\"#bd3786\"],[0.5555555555555556,\"#d8576b\"],[0.6666666666666666,\"#ed7953\"],[0.7777777777777778,\"#fb9f3a\"],[0.8888888888888888,\"#fdca26\"],[1.0,\"#f0f921\"]],\"type\":\"histogram2dcontour\"}],\"histogram2d\":[{\"colorbar\":{\"outlinewidth\":0,\"ticks\":\"\"},\"colorscale\":[[0.0,\"#0d0887\"],[0.1111111111111111,\"#46039f\"],[0.2222222222222222,\"#7201a8\"],[0.3333333333333333,\"#9c179e\"],[0.4444444444444444,\"#bd3786\"],[0.5555555555555556,\"#d8576b\"],[0.6666666666666666,\"#ed7953\"],[0.7777777777777778,\"#fb9f3a\"],[0.8888888888888888,\"#fdca26\"],[1.0,\"#f0f921\"]],\"type\":\"histogram2d\"}],\"histogram\":[{\"marker\":{\"pattern\":{\"fillmode\":\"overlay\",\"size\":10,\"solidity\":0.2}},\"type\":\"histogram\"}],\"mesh3d\":[{\"colorbar\":{\"outlinewidth\":0,\"ticks\":\"\"},\"type\":\"mesh3d\"}],\"parcoords\":[{\"line\":{\"colorbar\":{\"outlinewidth\":0,\"ticks\":\"\"}},\"type\":\"parcoords\"}],\"pie\":[{\"automargin\":true,\"type\":\"pie\"}],\"scatter3d\":[{\"line\":{\"colorbar\":{\"outlinewidth\":0,\"ticks\":\"\"}},\"marker\":{\"colorbar\":{\"outlinewidth\":0,\"ticks\":\"\"}},\"type\":\"scatter3d\"}],\"scattercarpet\":[{\"marker\":{\"colorbar\":{\"outlinewidth\":0,\"ticks\":\"\"}},\"type\":\"scattercarpet\"}],\"scattergeo\":[{\"marker\":{\"colorbar\":{\"outlinewidth\":0,\"ticks\":\"\"}},\"type\":\"scattergeo\"}],\"scattergl\":[{\"marker\":{\"colorbar\":{\"outlinewidth\":0,\"ticks\":\"\"}},\"type\":\"scattergl\"}],\"scattermapbox\":[{\"marker\":{\"colorbar\":{\"outlinewidth\":0,\"ticks\":\"\"}},\"type\":\"scattermapbox\"}],\"scatterpolargl\":[{\"marker\":{\"colorbar\":{\"outlinewidth\":0,\"ticks\":\"\"}},\"type\":\"scatterpolargl\"}],\"scatterpolar\":[{\"marker\":{\"colorbar\":{\"outlinewidth\":0,\"ticks\":\"\"}},\"type\":\"scatterpolar\"}],\"scatter\":[{\"marker\":{\"colorbar\":{\"outlinewidth\":0,\"ticks\":\"\"}},\"type\":\"scatter\"}],\"scatterternary\":[{\"marker\":{\"colorbar\":{\"outlinewidth\":0,\"ticks\":\"\"}},\"type\":\"scatterternary\"}],\"surface\":[{\"colorbar\":{\"outlinewidth\":0,\"ticks\":\"\"},\"colorscale\":[[0.0,\"#0d0887\"],[0.1111111111111111,\"#46039f\"],[0.2222222222222222,\"#7201a8\"],[0.3333333333333333,\"#9c179e\"],[0.4444444444444444,\"#bd3786\"],[0.5555555555555556,\"#d8576b\"],[0.6666666666666666,\"#ed7953\"],[0.7777777777777778,\"#fb9f3a\"],[0.8888888888888888,\"#fdca26\"],[1.0,\"#f0f921\"]],\"type\":\"surface\"}],\"table\":[{\"cells\":{\"fill\":{\"color\":\"#EBF0F8\"},\"line\":{\"color\":\"white\"}},\"header\":{\"fill\":{\"color\":\"#C8D4E3\"},\"line\":{\"color\":\"white\"}},\"type\":\"table\"}]},\"layout\":{\"annotationdefaults\":{\"arrowcolor\":\"#2a3f5f\",\"arrowhead\":0,\"arrowwidth\":1},\"autotypenumbers\":\"strict\",\"coloraxis\":{\"colorbar\":{\"outlinewidth\":0,\"ticks\":\"\"}},\"colorscale\":{\"diverging\":[[0,\"#8e0152\"],[0.1,\"#c51b7d\"],[0.2,\"#de77ae\"],[0.3,\"#f1b6da\"],[0.4,\"#fde0ef\"],[0.5,\"#f7f7f7\"],[0.6,\"#e6f5d0\"],[0.7,\"#b8e186\"],[0.8,\"#7fbc41\"],[0.9,\"#4d9221\"],[1,\"#276419\"]],\"sequential\":[[0.0,\"#0d0887\"],[0.1111111111111111,\"#46039f\"],[0.2222222222222222,\"#7201a8\"],[0.3333333333333333,\"#9c179e\"],[0.4444444444444444,\"#bd3786\"],[0.5555555555555556,\"#d8576b\"],[0.6666666666666666,\"#ed7953\"],[0.7777777777777778,\"#fb9f3a\"],[0.8888888888888888,\"#fdca26\"],[1.0,\"#f0f921\"]],\"sequentialminus\":[[0.0,\"#0d0887\"],[0.1111111111111111,\"#46039f\"],[0.2222222222222222,\"#7201a8\"],[0.3333333333333333,\"#9c179e\"],[0.4444444444444444,\"#bd3786\"],[0.5555555555555556,\"#d8576b\"],[0.6666666666666666,\"#ed7953\"],[0.7777777777777778,\"#fb9f3a\"],[0.8888888888888888,\"#fdca26\"],[1.0,\"#f0f921\"]]},\"colorway\":[\"#636efa\",\"#EF553B\",\"#00cc96\",\"#ab63fa\",\"#FFA15A\",\"#19d3f3\",\"#FF6692\",\"#B6E880\",\"#FF97FF\",\"#FECB52\"],\"font\":{\"color\":\"#2a3f5f\"},\"geo\":{\"bgcolor\":\"white\",\"lakecolor\":\"white\",\"landcolor\":\"#E5ECF6\",\"showlakes\":true,\"showland\":true,\"subunitcolor\":\"white\"},\"hoverlabel\":{\"align\":\"left\"},\"hovermode\":\"closest\",\"mapbox\":{\"style\":\"light\"},\"paper_bgcolor\":\"white\",\"plot_bgcolor\":\"#E5ECF6\",\"polar\":{\"angularaxis\":{\"gridcolor\":\"white\",\"linecolor\":\"white\",\"ticks\":\"\"},\"bgcolor\":\"#E5ECF6\",\"radialaxis\":{\"gridcolor\":\"white\",\"linecolor\":\"white\",\"ticks\":\"\"}},\"scene\":{\"xaxis\":{\"backgroundcolor\":\"#E5ECF6\",\"gridcolor\":\"white\",\"gridwidth\":2,\"linecolor\":\"white\",\"showbackground\":true,\"ticks\":\"\",\"zerolinecolor\":\"white\"},\"yaxis\":{\"backgroundcolor\":\"#E5ECF6\",\"gridcolor\":\"white\",\"gridwidth\":2,\"linecolor\":\"white\",\"showbackground\":true,\"ticks\":\"\",\"zerolinecolor\":\"white\"},\"zaxis\":{\"backgroundcolor\":\"#E5ECF6\",\"gridcolor\":\"white\",\"gridwidth\":2,\"linecolor\":\"white\",\"showbackground\":true,\"ticks\":\"\",\"zerolinecolor\":\"white\"}},\"shapedefaults\":{\"line\":{\"color\":\"#2a3f5f\"}},\"ternary\":{\"aaxis\":{\"gridcolor\":\"white\",\"linecolor\":\"white\",\"ticks\":\"\"},\"baxis\":{\"gridcolor\":\"white\",\"linecolor\":\"white\",\"ticks\":\"\"},\"bgcolor\":\"#E5ECF6\",\"caxis\":{\"gridcolor\":\"white\",\"linecolor\":\"white\",\"ticks\":\"\"}},\"title\":{\"x\":0.05},\"xaxis\":{\"automargin\":true,\"gridcolor\":\"white\",\"linecolor\":\"white\",\"ticks\":\"\",\"title\":{\"standoff\":15},\"zerolinecolor\":\"white\",\"zerolinewidth\":2},\"yaxis\":{\"automargin\":true,\"gridcolor\":\"white\",\"linecolor\":\"white\",\"ticks\":\"\",\"title\":{\"standoff\":15},\"zerolinecolor\":\"white\",\"zerolinewidth\":2}}},\"title\":{\"font\":{\"color\":\"#4D5663\"}},\"xaxis\":{\"anchor\":\"y\",\"domain\":[0.0,0.2125],\"gridcolor\":\"#E1E5ED\",\"showgrid\":false,\"tickfont\":{\"color\":\"#4D5663\"},\"title\":{\"font\":{\"color\":\"#4D5663\"},\"text\":\"\"},\"zerolinecolor\":\"#E1E5ED\"},\"yaxis\":{\"anchor\":\"x\",\"domain\":[0.8025,1.0],\"gridcolor\":\"#E1E5ED\",\"showgrid\":false,\"tickfont\":{\"color\":\"#4D5663\"},\"title\":{\"font\":{\"color\":\"#4D5663\"},\"text\":\"\"},\"zerolinecolor\":\"#E1E5ED\"},\"xaxis2\":{\"anchor\":\"y2\",\"domain\":[0.2625,0.475],\"gridcolor\":\"#E1E5ED\",\"showgrid\":false,\"tickfont\":{\"color\":\"#4D5663\"},\"title\":{\"font\":{\"color\":\"#4D5663\"},\"text\":\"\"},\"zerolinecolor\":\"#E1E5ED\"},\"yaxis2\":{\"anchor\":\"x2\",\"domain\":[0.8025,1.0],\"gridcolor\":\"#E1E5ED\",\"showgrid\":false,\"tickfont\":{\"color\":\"#4D5663\"},\"title\":{\"font\":{\"color\":\"#4D5663\"},\"text\":\"\"},\"zerolinecolor\":\"#E1E5ED\"},\"xaxis3\":{\"anchor\":\"y3\",\"domain\":[0.525,0.7375],\"gridcolor\":\"#E1E5ED\",\"showgrid\":false,\"tickfont\":{\"color\":\"#4D5663\"},\"title\":{\"font\":{\"color\":\"#4D5663\"},\"text\":\"\"},\"zerolinecolor\":\"#E1E5ED\"},\"yaxis3\":{\"anchor\":\"x3\",\"domain\":[0.8025,1.0],\"gridcolor\":\"#E1E5ED\",\"showgrid\":false,\"tickfont\":{\"color\":\"#4D5663\"},\"title\":{\"font\":{\"color\":\"#4D5663\"},\"text\":\"\"},\"zerolinecolor\":\"#E1E5ED\"},\"xaxis4\":{\"anchor\":\"y4\",\"domain\":[0.7875,1.0],\"gridcolor\":\"#E1E5ED\",\"showgrid\":false,\"tickfont\":{\"color\":\"#4D5663\"},\"title\":{\"font\":{\"color\":\"#4D5663\"},\"text\":\"\"},\"zerolinecolor\":\"#E1E5ED\"},\"yaxis4\":{\"anchor\":\"x4\",\"domain\":[0.8025,1.0],\"gridcolor\":\"#E1E5ED\",\"showgrid\":false,\"tickfont\":{\"color\":\"#4D5663\"},\"title\":{\"font\":{\"color\":\"#4D5663\"},\"text\":\"\"},\"zerolinecolor\":\"#E1E5ED\"},\"xaxis5\":{\"anchor\":\"y5\",\"domain\":[0.0,0.2125],\"gridcolor\":\"#E1E5ED\",\"showgrid\":false,\"tickfont\":{\"color\":\"#4D5663\"},\"title\":{\"font\":{\"color\":\"#4D5663\"},\"text\":\"\"},\"zerolinecolor\":\"#E1E5ED\"},\"yaxis5\":{\"anchor\":\"x5\",\"domain\":[0.535,0.7325],\"gridcolor\":\"#E1E5ED\",\"showgrid\":false,\"tickfont\":{\"color\":\"#4D5663\"},\"title\":{\"font\":{\"color\":\"#4D5663\"},\"text\":\"\"},\"zerolinecolor\":\"#E1E5ED\"},\"xaxis6\":{\"anchor\":\"y6\",\"domain\":[0.2625,0.475],\"gridcolor\":\"#E1E5ED\",\"showgrid\":false,\"tickfont\":{\"color\":\"#4D5663\"},\"title\":{\"font\":{\"color\":\"#4D5663\"},\"text\":\"\"},\"zerolinecolor\":\"#E1E5ED\"},\"yaxis6\":{\"anchor\":\"x6\",\"domain\":[0.535,0.7325],\"gridcolor\":\"#E1E5ED\",\"showgrid\":false,\"tickfont\":{\"color\":\"#4D5663\"},\"title\":{\"font\":{\"color\":\"#4D5663\"},\"text\":\"\"},\"zerolinecolor\":\"#E1E5ED\"},\"xaxis7\":{\"anchor\":\"y7\",\"domain\":[0.525,0.7375],\"gridcolor\":\"#E1E5ED\",\"showgrid\":false,\"tickfont\":{\"color\":\"#4D5663\"},\"title\":{\"font\":{\"color\":\"#4D5663\"},\"text\":\"\"},\"zerolinecolor\":\"#E1E5ED\"},\"yaxis7\":{\"anchor\":\"x7\",\"domain\":[0.535,0.7325],\"gridcolor\":\"#E1E5ED\",\"showgrid\":false,\"tickfont\":{\"color\":\"#4D5663\"},\"title\":{\"font\":{\"color\":\"#4D5663\"},\"text\":\"\"},\"zerolinecolor\":\"#E1E5ED\"},\"xaxis8\":{\"anchor\":\"y8\",\"domain\":[0.7875,1.0],\"gridcolor\":\"#E1E5ED\",\"showgrid\":false,\"tickfont\":{\"color\":\"#4D5663\"},\"title\":{\"font\":{\"color\":\"#4D5663\"},\"text\":\"\"},\"zerolinecolor\":\"#E1E5ED\"},\"yaxis8\":{\"anchor\":\"x8\",\"domain\":[0.535,0.7325],\"gridcolor\":\"#E1E5ED\",\"showgrid\":false,\"tickfont\":{\"color\":\"#4D5663\"},\"title\":{\"font\":{\"color\":\"#4D5663\"},\"text\":\"\"},\"zerolinecolor\":\"#E1E5ED\"},\"xaxis9\":{\"anchor\":\"y9\",\"domain\":[0.0,0.2125],\"gridcolor\":\"#E1E5ED\",\"showgrid\":false,\"tickfont\":{\"color\":\"#4D5663\"},\"title\":{\"font\":{\"color\":\"#4D5663\"},\"text\":\"\"},\"zerolinecolor\":\"#E1E5ED\"},\"yaxis9\":{\"anchor\":\"x9\",\"domain\":[0.2675,0.465],\"gridcolor\":\"#E1E5ED\",\"showgrid\":false,\"tickfont\":{\"color\":\"#4D5663\"},\"title\":{\"font\":{\"color\":\"#4D5663\"},\"text\":\"\"},\"zerolinecolor\":\"#E1E5ED\"},\"xaxis10\":{\"anchor\":\"y10\",\"domain\":[0.2625,0.475],\"gridcolor\":\"#E1E5ED\",\"showgrid\":false,\"tickfont\":{\"color\":\"#4D5663\"},\"title\":{\"font\":{\"color\":\"#4D5663\"},\"text\":\"\"},\"zerolinecolor\":\"#E1E5ED\"},\"yaxis10\":{\"anchor\":\"x10\",\"domain\":[0.2675,0.465],\"gridcolor\":\"#E1E5ED\",\"showgrid\":false,\"tickfont\":{\"color\":\"#4D5663\"},\"title\":{\"font\":{\"color\":\"#4D5663\"},\"text\":\"\"},\"zerolinecolor\":\"#E1E5ED\"},\"xaxis11\":{\"anchor\":\"y11\",\"domain\":[0.525,0.7375],\"gridcolor\":\"#E1E5ED\",\"showgrid\":false,\"tickfont\":{\"color\":\"#4D5663\"},\"title\":{\"font\":{\"color\":\"#4D5663\"},\"text\":\"\"},\"zerolinecolor\":\"#E1E5ED\"},\"yaxis11\":{\"anchor\":\"x11\",\"domain\":[0.2675,0.465],\"gridcolor\":\"#E1E5ED\",\"showgrid\":false,\"tickfont\":{\"color\":\"#4D5663\"},\"title\":{\"font\":{\"color\":\"#4D5663\"},\"text\":\"\"},\"zerolinecolor\":\"#E1E5ED\"},\"xaxis12\":{\"anchor\":\"y12\",\"domain\":[0.7875,1.0],\"gridcolor\":\"#E1E5ED\",\"showgrid\":false,\"tickfont\":{\"color\":\"#4D5663\"},\"title\":{\"font\":{\"color\":\"#4D5663\"},\"text\":\"\"},\"zerolinecolor\":\"#E1E5ED\"},\"yaxis12\":{\"anchor\":\"x12\",\"domain\":[0.2675,0.465],\"gridcolor\":\"#E1E5ED\",\"showgrid\":false,\"tickfont\":{\"color\":\"#4D5663\"},\"title\":{\"font\":{\"color\":\"#4D5663\"},\"text\":\"\"},\"zerolinecolor\":\"#E1E5ED\"},\"xaxis13\":{\"anchor\":\"y13\",\"domain\":[0.0,0.2125],\"gridcolor\":\"#E1E5ED\",\"showgrid\":false,\"tickfont\":{\"color\":\"#4D5663\"},\"title\":{\"font\":{\"color\":\"#4D5663\"},\"text\":\"\"},\"zerolinecolor\":\"#E1E5ED\"},\"yaxis13\":{\"anchor\":\"x13\",\"domain\":[0.0,0.1975],\"gridcolor\":\"#E1E5ED\",\"showgrid\":false,\"tickfont\":{\"color\":\"#4D5663\"},\"title\":{\"font\":{\"color\":\"#4D5663\"},\"text\":\"\"},\"zerolinecolor\":\"#E1E5ED\"},\"xaxis14\":{\"anchor\":\"y14\",\"domain\":[0.2625,0.475],\"gridcolor\":\"#E1E5ED\",\"showgrid\":false,\"tickfont\":{\"color\":\"#4D5663\"},\"title\":{\"font\":{\"color\":\"#4D5663\"},\"text\":\"\"},\"zerolinecolor\":\"#E1E5ED\"},\"yaxis14\":{\"anchor\":\"x14\",\"domain\":[0.0,0.1975],\"gridcolor\":\"#E1E5ED\",\"showgrid\":false,\"tickfont\":{\"color\":\"#4D5663\"},\"title\":{\"font\":{\"color\":\"#4D5663\"},\"text\":\"\"},\"zerolinecolor\":\"#E1E5ED\"},\"xaxis15\":{\"anchor\":\"y15\",\"domain\":[0.525,0.7375],\"gridcolor\":\"#E1E5ED\",\"showgrid\":false,\"tickfont\":{\"color\":\"#4D5663\"},\"title\":{\"font\":{\"color\":\"#4D5663\"},\"text\":\"\"},\"zerolinecolor\":\"#E1E5ED\"},\"yaxis15\":{\"anchor\":\"x15\",\"domain\":[0.0,0.1975],\"gridcolor\":\"#E1E5ED\",\"showgrid\":false,\"tickfont\":{\"color\":\"#4D5663\"},\"title\":{\"font\":{\"color\":\"#4D5663\"},\"text\":\"\"},\"zerolinecolor\":\"#E1E5ED\"},\"xaxis16\":{\"anchor\":\"y16\",\"domain\":[0.7875,1.0],\"gridcolor\":\"#E1E5ED\",\"showgrid\":false,\"tickfont\":{\"color\":\"#4D5663\"},\"title\":{\"font\":{\"color\":\"#4D5663\"},\"text\":\"\"},\"zerolinecolor\":\"#E1E5ED\"},\"yaxis16\":{\"anchor\":\"x16\",\"domain\":[0.0,0.1975],\"gridcolor\":\"#E1E5ED\",\"showgrid\":false,\"tickfont\":{\"color\":\"#4D5663\"},\"title\":{\"font\":{\"color\":\"#4D5663\"},\"text\":\"\"},\"zerolinecolor\":\"#E1E5ED\"}},                        {\"showLink\": true, \"linkText\": \"Export to plot.ly\", \"plotlyServerURL\": \"https://plot.ly\", \"responsive\": true}                    ).then(function(){\n",
       "                            \n",
       "var gd = document.getElementById('17b691ba-db6a-4649-9fe3-2ec1ee50df8b');\n",
       "var x = new MutationObserver(function (mutations, observer) {{\n",
       "        var display = window.getComputedStyle(gd).display;\n",
       "        if (!display || display === 'none') {{\n",
       "            console.log([gd, 'removed!']);\n",
       "            Plotly.purge(gd);\n",
       "            observer.disconnect();\n",
       "        }}\n",
       "}});\n",
       "\n",
       "// Listen for the removal of the full notebook cells\n",
       "var notebookContainer = gd.closest('#notebook-container');\n",
       "if (notebookContainer) {{\n",
       "    x.observe(notebookContainer, {childList: true});\n",
       "}}\n",
       "\n",
       "// Listen for the clearing of the current output cell\n",
       "var outputEl = gd.closest('.output');\n",
       "if (outputEl) {{\n",
       "    x.observe(outputEl, {childList: true});\n",
       "}}\n",
       "\n",
       "                        })                };                });            </script>        </div>"
      ]
     },
     "metadata": {},
     "output_type": "display_data"
    }
   ],
   "source": [
    "# scatter_matrix is very similar to seaborn's pairplot\n",
    "df.scatter_matrix();"
   ]
  },
  {
   "cell_type": "code",
   "execution_count": 52,
   "id": "bdf7f2ec",
   "metadata": {},
   "outputs": [],
   "source": [
    "# for more info, check out the github page 'santosjorge/cufflinks'"
   ]
  },
  {
   "cell_type": "code",
   "execution_count": null,
   "id": "a243c9f4",
   "metadata": {},
   "outputs": [],
   "source": []
  }
 ],
 "metadata": {
  "kernelspec": {
   "display_name": "Python 3 (ipykernel)",
   "language": "python",
   "name": "python3"
  },
  "language_info": {
   "codemirror_mode": {
    "name": "ipython",
    "version": 3
   },
   "file_extension": ".py",
   "mimetype": "text/x-python",
   "name": "python",
   "nbconvert_exporter": "python",
   "pygments_lexer": "ipython3",
   "version": "3.9.7"
  }
 },
 "nbformat": 4,
 "nbformat_minor": 5
}

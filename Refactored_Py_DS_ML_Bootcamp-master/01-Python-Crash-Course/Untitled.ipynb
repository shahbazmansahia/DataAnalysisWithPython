{
 "cells": [
  {
   "cell_type": "code",
   "execution_count": 1,
   "id": "883eb212",
   "metadata": {},
   "outputs": [
    {
     "data": {
      "text/plain": [
       "1"
      ]
     },
     "execution_count": 1,
     "metadata": {},
     "output_type": "execute_result"
    }
   ],
   "source": [
    "1"
   ]
  },
  {
   "cell_type": "code",
   "execution_count": 2,
   "id": "789cd4b5",
   "metadata": {},
   "outputs": [
    {
     "data": {
      "text/plain": [
       "1.0"
      ]
     },
     "execution_count": 2,
     "metadata": {},
     "output_type": "execute_result"
    }
   ],
   "source": [
    "1.0"
   ]
  },
  {
   "cell_type": "code",
   "execution_count": 3,
   "id": "3f90e938",
   "metadata": {},
   "outputs": [
    {
     "data": {
      "text/plain": [
       "2401"
      ]
     },
     "execution_count": 3,
     "metadata": {},
     "output_type": "execute_result"
    }
   ],
   "source": [
    "7 ** 4"
   ]
  },
  {
   "cell_type": "code",
   "execution_count": 5,
   "id": "6a50e509",
   "metadata": {},
   "outputs": [
    {
     "data": {
      "text/plain": [
       "22"
      ]
     },
     "execution_count": 5,
     "metadata": {},
     "output_type": "execute_result"
    }
   ],
   "source": [
    "2 + 3 * 5 + 5"
   ]
  },
  {
   "cell_type": "code",
   "execution_count": 6,
   "id": "c3f6cba5",
   "metadata": {},
   "outputs": [],
   "source": [
    "x = \"hello world.\""
   ]
  },
  {
   "cell_type": "code",
   "execution_count": 7,
   "id": "f72b1568",
   "metadata": {},
   "outputs": [
    {
     "name": "stdout",
     "output_type": "stream",
     "text": [
      "hello world.\n"
     ]
    }
   ],
   "source": [
    "print (x)"
   ]
  },
  {
   "cell_type": "code",
   "execution_count": 8,
   "id": "40eb1232",
   "metadata": {},
   "outputs": [],
   "source": [
    "y = \"The value of x: {x}\";"
   ]
  },
  {
   "cell_type": "code",
   "execution_count": 9,
   "id": "27c2240c",
   "metadata": {},
   "outputs": [
    {
     "name": "stdout",
     "output_type": "stream",
     "text": [
      "The value of x: {x}\n"
     ]
    }
   ],
   "source": [
    "print (y);"
   ]
  },
  {
   "cell_type": "code",
   "execution_count": 10,
   "id": "d3d0c0af",
   "metadata": {},
   "outputs": [],
   "source": [
    "# Comments"
   ]
  },
  {
   "cell_type": "code",
   "execution_count": 16,
   "id": "ef96eaa2",
   "metadata": {},
   "outputs": [],
   "source": [
    "y = \"The value of x: {x}\".format (x = x)"
   ]
  },
  {
   "cell_type": "code",
   "execution_count": 17,
   "id": "819c199d",
   "metadata": {},
   "outputs": [
    {
     "name": "stdout",
     "output_type": "stream",
     "text": [
      "The value of x: hello world.\n"
     ]
    }
   ],
   "source": [
    "print (y);"
   ]
  },
  {
   "cell_type": "code",
   "execution_count": 18,
   "id": "02c48177",
   "metadata": {},
   "outputs": [
    {
     "name": "stdout",
     "output_type": "stream",
     "text": [
      "The value of x: hello world.\n"
     ]
    }
   ],
   "source": [
    "print(y[0:]);"
   ]
  },
  {
   "cell_type": "code",
   "execution_count": 19,
   "id": "cde1ad78",
   "metadata": {},
   "outputs": [
    {
     "name": "stdout",
     "output_type": "stream",
     "text": [
      "e value of x: hello world.\n"
     ]
    }
   ],
   "source": [
    "print(y[2:]);"
   ]
  },
  {
   "cell_type": "code",
   "execution_count": 20,
   "id": "7177750c",
   "metadata": {},
   "outputs": [
    {
     "name": "stdout",
     "output_type": "stream",
     "text": [
      "The\n"
     ]
    }
   ],
   "source": [
    "print(y[0:3]);"
   ]
  },
  {
   "cell_type": "code",
   "execution_count": 21,
   "id": "dd7e5240",
   "metadata": {},
   "outputs": [
    {
     "name": "stdout",
     "output_type": "stream",
     "text": [
      "The \n"
     ]
    }
   ],
   "source": [
    "print(y[:4]);"
   ]
  },
  {
   "cell_type": "code",
   "execution_count": 22,
   "id": "8ab24656",
   "metadata": {},
   "outputs": [],
   "source": [
    "## ':' is the slicing notation. where [0: 4] denotes upto but not including the char at the 4th index"
   ]
  },
  {
   "cell_type": "code",
   "execution_count": 23,
   "id": "317b5a8e",
   "metadata": {},
   "outputs": [],
   "source": [
    "## Now for lists..."
   ]
  },
  {
   "cell_type": "code",
   "execution_count": 24,
   "id": "767d7a88",
   "metadata": {},
   "outputs": [],
   "source": [
    "## Lists are similar to arrays"
   ]
  },
  {
   "cell_type": "code",
   "execution_count": 25,
   "id": "b0d9e7d7",
   "metadata": {},
   "outputs": [],
   "source": [
    "my_list = ['a', 'b', 'c'];"
   ]
  },
  {
   "cell_type": "code",
   "execution_count": 27,
   "id": "56f405de",
   "metadata": {},
   "outputs": [],
   "source": [
    "my_list.append('d');"
   ]
  },
  {
   "cell_type": "code",
   "execution_count": 28,
   "id": "34ca5dc3",
   "metadata": {},
   "outputs": [
    {
     "name": "stdout",
     "output_type": "stream",
     "text": [
      "['a', 'b', 'c', 'd']\n"
     ]
    }
   ],
   "source": [
    "print (my_list);"
   ]
  },
  {
   "cell_type": "code",
   "execution_count": 35,
   "id": "4f5a982d",
   "metadata": {},
   "outputs": [],
   "source": [
    "def myFunc (param = 'User_input'):\n",
    "    print (param);"
   ]
  },
  {
   "cell_type": "code",
   "execution_count": 36,
   "id": "f3d8a14b",
   "metadata": {},
   "outputs": [
    {
     "name": "stdout",
     "output_type": "stream",
     "text": [
      "hello\n"
     ]
    }
   ],
   "source": [
    "myFunc ('hello');"
   ]
  },
  {
   "cell_type": "code",
   "execution_count": 37,
   "id": "011dd7d7",
   "metadata": {},
   "outputs": [
    {
     "name": "stdout",
     "output_type": "stream",
     "text": [
      "User_input\n"
     ]
    }
   ],
   "source": [
    "myFunc();"
   ]
  },
  {
   "cell_type": "code",
   "execution_count": 38,
   "id": "371670ab",
   "metadata": {},
   "outputs": [],
   "source": [
    "## Dictionaries"
   ]
  },
  {
   "cell_type": "code",
   "execution_count": 39,
   "id": "31dec083",
   "metadata": {},
   "outputs": [],
   "source": [
    "d = {'key1': 'val1', 'key2':123}"
   ]
  },
  {
   "cell_type": "code",
   "execution_count": 40,
   "id": "3b3881ec",
   "metadata": {},
   "outputs": [],
   "source": [
    "## dictionaries work like hash functions amd maps"
   ]
  },
  {
   "cell_type": "code",
   "execution_count": 42,
   "id": "a1ed97e3",
   "metadata": {},
   "outputs": [],
   "source": [
    "d['key2'];"
   ]
  },
  {
   "cell_type": "code",
   "execution_count": 43,
   "id": "646158e9",
   "metadata": {},
   "outputs": [
    {
     "name": "stdout",
     "output_type": "stream",
     "text": [
      "123\n"
     ]
    }
   ],
   "source": [
    "print (d['key2']);"
   ]
  },
  {
   "cell_type": "code",
   "execution_count": 45,
   "id": "396300ee",
   "metadata": {},
   "outputs": [],
   "source": [
    "d = {'k1': {'innerK': [1, 2, 3]}}"
   ]
  },
  {
   "cell_type": "code",
   "execution_count": 46,
   "id": "b2ddcc9f",
   "metadata": {},
   "outputs": [
    {
     "data": {
      "text/plain": [
       "2"
      ]
     },
     "execution_count": 46,
     "metadata": {},
     "output_type": "execute_result"
    }
   ],
   "source": [
    "d['k1']['innerK'][1]"
   ]
  },
  {
   "cell_type": "code",
   "execution_count": 47,
   "id": "7a464b0a",
   "metadata": {},
   "outputs": [],
   "source": [
    "## tupples"
   ]
  },
  {
   "cell_type": "code",
   "execution_count": 48,
   "id": "bb8cbd68",
   "metadata": {},
   "outputs": [],
   "source": [
    "t = (1, 2, 3)"
   ]
  },
  {
   "cell_type": "code",
   "execution_count": 49,
   "id": "48201918",
   "metadata": {},
   "outputs": [
    {
     "data": {
      "text/plain": [
       "1"
      ]
     },
     "execution_count": 49,
     "metadata": {},
     "output_type": "execute_result"
    }
   ],
   "source": [
    "t[0]"
   ]
  },
  {
   "cell_type": "code",
   "execution_count": 50,
   "id": "ae51ac10",
   "metadata": {},
   "outputs": [],
   "source": [
    "t = (1, 2, 3, 1)"
   ]
  },
  {
   "cell_type": "code",
   "execution_count": 51,
   "id": "13ff6399",
   "metadata": {},
   "outputs": [
    {
     "data": {
      "text/plain": [
       "1"
      ]
     },
     "execution_count": 51,
     "metadata": {},
     "output_type": "execute_result"
    }
   ],
   "source": [
    "t[0]"
   ]
  },
  {
   "cell_type": "code",
   "execution_count": 52,
   "id": "b800444d",
   "metadata": {},
   "outputs": [
    {
     "data": {
      "text/plain": [
       "1"
      ]
     },
     "execution_count": 52,
     "metadata": {},
     "output_type": "execute_result"
    }
   ],
   "source": [
    "t[3]"
   ]
  },
  {
   "cell_type": "code",
   "execution_count": 53,
   "id": "718f7c23",
   "metadata": {},
   "outputs": [
    {
     "ename": "TypeError",
     "evalue": "'tuple' object does not support item assignment",
     "output_type": "error",
     "traceback": [
      "\u001b[1;31m---------------------------------------------------------------------------\u001b[0m",
      "\u001b[1;31mTypeError\u001b[0m                                 Traceback (most recent call last)",
      "\u001b[1;32m~\\AppData\\Local\\Temp/ipykernel_107056/79267765.py\u001b[0m in \u001b[0;36m<module>\u001b[1;34m\u001b[0m\n\u001b[1;32m----> 1\u001b[1;33m \u001b[0mt\u001b[0m\u001b[1;33m[\u001b[0m\u001b[1;36m3\u001b[0m\u001b[1;33m]\u001b[0m \u001b[1;33m=\u001b[0m \u001b[1;34m\"NEW\"\u001b[0m\u001b[1;33m\u001b[0m\u001b[1;33m\u001b[0m\u001b[0m\n\u001b[0m",
      "\u001b[1;31mTypeError\u001b[0m: 'tuple' object does not support item assignment"
     ]
    }
   ],
   "source": [
    "t[3] = \"NEW\""
   ]
  },
  {
   "cell_type": "code",
   "execution_count": 55,
   "id": "54b82b53",
   "metadata": {},
   "outputs": [],
   "source": [
    "# Tuples are IMMUTABLE and therefore its values cannot be changed after assignment!"
   ]
  },
  {
   "cell_type": "code",
   "execution_count": 56,
   "id": "aa19c8a1",
   "metadata": {},
   "outputs": [
    {
     "data": {
      "text/plain": [
       "{1, 2, 3}"
      ]
     },
     "execution_count": 56,
     "metadata": {},
     "output_type": "execute_result"
    }
   ],
   "source": [
    "{1, 2, 3}"
   ]
  },
  {
   "cell_type": "code",
   "execution_count": 57,
   "id": "c2a7336a",
   "metadata": {},
   "outputs": [
    {
     "data": {
      "text/plain": [
       "{1, 2, 3}"
      ]
     },
     "execution_count": 57,
     "metadata": {},
     "output_type": "execute_result"
    }
   ],
   "source": [
    "{1, 1, 3, 2, 3, 3, 3, 2}"
   ]
  },
  {
   "cell_type": "code",
   "execution_count": 58,
   "id": "b4faabcd",
   "metadata": {},
   "outputs": [],
   "source": [
    "#SETS are simply curly braces"
   ]
  },
  {
   "cell_type": "code",
   "execution_count": 59,
   "id": "2fc909b0",
   "metadata": {},
   "outputs": [
    {
     "data": {
      "text/plain": [
       "{1, 2, 3}"
      ]
     },
     "execution_count": 59,
     "metadata": {},
     "output_type": "execute_result"
    }
   ],
   "source": [
    "{1, 2, 2, 3, 3, 3}"
   ]
  },
  {
   "cell_type": "code",
   "execution_count": 60,
   "id": "43e844a8",
   "metadata": {},
   "outputs": [],
   "source": [
    "# or alternatively..."
   ]
  },
  {
   "cell_type": "code",
   "execution_count": 63,
   "id": "94e245cf",
   "metadata": {},
   "outputs": [
    {
     "data": {
      "text/plain": [
       "{1, 2, 3, 4, 5, 6}"
      ]
     },
     "execution_count": 63,
     "metadata": {},
     "output_type": "execute_result"
    }
   ],
   "source": [
    "set ([1, 1, 1, 1, 2, 2, 2, 2, 3, 3, 3, 4, 4, 5, 5, 6, 6, 6, 3])"
   ]
  },
  {
   "cell_type": "code",
   "execution_count": 64,
   "id": "5fa88102",
   "metadata": {},
   "outputs": [],
   "source": [
    "s = {1, 2, 3, 3, 3, 3}"
   ]
  },
  {
   "cell_type": "code",
   "execution_count": 65,
   "id": "ed641b7d",
   "metadata": {},
   "outputs": [],
   "source": [
    "s.add (5)"
   ]
  },
  {
   "cell_type": "code",
   "execution_count": 66,
   "id": "3b10bbba",
   "metadata": {},
   "outputs": [
    {
     "data": {
      "text/plain": [
       "{1, 2, 3, 5}"
      ]
     },
     "execution_count": 66,
     "metadata": {},
     "output_type": "execute_result"
    }
   ],
   "source": [
    "s"
   ]
  },
  {
   "cell_type": "code",
   "execution_count": 67,
   "id": "e121af10",
   "metadata": {},
   "outputs": [],
   "source": [
    "s.add(5);"
   ]
  },
  {
   "cell_type": "code",
   "execution_count": 68,
   "id": "58ab1de7",
   "metadata": {},
   "outputs": [
    {
     "data": {
      "text/plain": [
       "{1, 2, 3, 5}"
      ]
     },
     "execution_count": 68,
     "metadata": {},
     "output_type": "execute_result"
    }
   ],
   "source": [
    "s"
   ]
  },
  {
   "cell_type": "code",
   "execution_count": 69,
   "id": "0ea34f7f",
   "metadata": {},
   "outputs": [],
   "source": [
    "# Comparisons"
   ]
  },
  {
   "cell_type": "code",
   "execution_count": 70,
   "id": "2acce978",
   "metadata": {},
   "outputs": [
    {
     "data": {
      "text/plain": [
       "False"
      ]
     },
     "execution_count": 70,
     "metadata": {},
     "output_type": "execute_result"
    }
   ],
   "source": [
    "1 > 2"
   ]
  },
  {
   "cell_type": "code",
   "execution_count": 71,
   "id": "d9249deb",
   "metadata": {},
   "outputs": [
    {
     "data": {
      "text/plain": [
       "True"
      ]
     },
     "execution_count": 71,
     "metadata": {},
     "output_type": "execute_result"
    }
   ],
   "source": [
    "1 < 2"
   ]
  },
  {
   "cell_type": "code",
   "execution_count": 72,
   "id": "c28423bf",
   "metadata": {},
   "outputs": [
    {
     "data": {
      "text/plain": [
       "False"
      ]
     },
     "execution_count": 72,
     "metadata": {},
     "output_type": "execute_result"
    }
   ],
   "source": [
    "1 == 2"
   ]
  },
  {
   "cell_type": "code",
   "execution_count": 73,
   "id": "3df49c1c",
   "metadata": {},
   "outputs": [
    {
     "data": {
      "text/plain": [
       "True"
      ]
     },
     "execution_count": 73,
     "metadata": {},
     "output_type": "execute_result"
    }
   ],
   "source": [
    "1 == 1"
   ]
  },
  {
   "cell_type": "code",
   "execution_count": 74,
   "id": "5fdc8bdc",
   "metadata": {},
   "outputs": [
    {
     "ename": "SyntaxError",
     "evalue": "invalid syntax (Temp/ipykernel_107056/3824308907.py, line 1)",
     "output_type": "error",
     "traceback": [
      "\u001b[1;36m  File \u001b[1;32m\"C:\\Users\\Shahbaz\\AppData\\Local\\Temp/ipykernel_107056/3824308907.py\"\u001b[1;36m, line \u001b[1;32m1\u001b[0m\n\u001b[1;33m    1 || 1\u001b[0m\n\u001b[1;37m       ^\u001b[0m\n\u001b[1;31mSyntaxError\u001b[0m\u001b[1;31m:\u001b[0m invalid syntax\n"
     ]
    }
   ],
   "source": [
    "1 || 1"
   ]
  },
  {
   "cell_type": "code",
   "execution_count": 75,
   "id": "e48d6aa0",
   "metadata": {},
   "outputs": [
    {
     "data": {
      "text/plain": [
       "1"
      ]
     },
     "execution_count": 75,
     "metadata": {},
     "output_type": "execute_result"
    }
   ],
   "source": [
    "1 or 1"
   ]
  },
  {
   "cell_type": "code",
   "execution_count": 76,
   "id": "54dccb52",
   "metadata": {},
   "outputs": [
    {
     "data": {
      "text/plain": [
       "False"
      ]
     },
     "execution_count": 76,
     "metadata": {},
     "output_type": "execute_result"
    }
   ],
   "source": [
    "1 != 1"
   ]
  },
  {
   "cell_type": "code",
   "execution_count": 77,
   "id": "19ad288c",
   "metadata": {},
   "outputs": [
    {
     "data": {
      "text/plain": [
       "False"
      ]
     },
     "execution_count": 77,
     "metadata": {},
     "output_type": "execute_result"
    }
   ],
   "source": [
    "(1 == 1) and (2 == 3)"
   ]
  },
  {
   "cell_type": "code",
   "execution_count": 78,
   "id": "7fa56501",
   "metadata": {},
   "outputs": [
    {
     "data": {
      "text/plain": [
       "True"
      ]
     },
     "execution_count": 78,
     "metadata": {},
     "output_type": "execute_result"
    }
   ],
   "source": [
    "(1 == 1) or (2 == 3)"
   ]
  },
  {
   "cell_type": "code",
   "execution_count": 79,
   "id": "1766dc28",
   "metadata": {},
   "outputs": [
    {
     "data": {
      "text/plain": [
       "True"
      ]
     },
     "execution_count": 79,
     "metadata": {},
     "output_type": "execute_result"
    }
   ],
   "source": [
    "True and True"
   ]
  },
  {
   "cell_type": "code",
   "execution_count": 80,
   "id": "6f6610ef",
   "metadata": {},
   "outputs": [
    {
     "data": {
      "text/plain": [
       "True"
      ]
     },
     "execution_count": 80,
     "metadata": {},
     "output_type": "execute_result"
    }
   ],
   "source": [
    "True or False"
   ]
  },
  {
   "cell_type": "code",
   "execution_count": 81,
   "id": "7c16dc27",
   "metadata": {},
   "outputs": [
    {
     "data": {
      "text/plain": [
       "False"
      ]
     },
     "execution_count": 81,
     "metadata": {},
     "output_type": "execute_result"
    }
   ],
   "source": [
    "False and False"
   ]
  },
  {
   "cell_type": "code",
   "execution_count": 82,
   "id": "6ea5b45d",
   "metadata": {},
   "outputs": [
    {
     "data": {
      "text/plain": [
       "False"
      ]
     },
     "execution_count": 82,
     "metadata": {},
     "output_type": "execute_result"
    }
   ],
   "source": [
    "False or False"
   ]
  },
  {
   "cell_type": "code",
   "execution_count": 84,
   "id": "38d13737",
   "metadata": {},
   "outputs": [
    {
     "name": "stdout",
     "output_type": "stream",
     "text": [
      "yep\n"
     ]
    }
   ],
   "source": [
    "if (1 < 2):\n",
    "    print ('yep');"
   ]
  },
  {
   "cell_type": "code",
   "execution_count": 86,
   "id": "c39604f3",
   "metadata": {},
   "outputs": [
    {
     "name": "stdout",
     "output_type": "stream",
     "text": [
      "Last\n",
      "nope!\n"
     ]
    }
   ],
   "source": [
    "if (1 == 2):\n",
    "    print ('First')\n",
    "    print ('yep')\n",
    "else:\n",
    "    print ('Last')\n",
    "    print ('nope!')"
   ]
  },
  {
   "cell_type": "code",
   "execution_count": 87,
   "id": "662cdbc7",
   "metadata": {},
   "outputs": [
    {
     "name": "stdout",
     "output_type": "stream",
     "text": [
      "Middle\n",
      "Maybe?\n"
     ]
    }
   ],
   "source": [
    "if (1 == 2):\n",
    "    print ('First')\n",
    "    print ('yep')\n",
    "elif (3 == 3):\n",
    "    print ('Middle')\n",
    "    print ('Maybe?')\n",
    "else:\n",
    "    print ('Last')\n",
    "    print ('nope!')"
   ]
  },
  {
   "cell_type": "code",
   "execution_count": 88,
   "id": "e2cd25c1",
   "metadata": {},
   "outputs": [
    {
     "name": "stdout",
     "output_type": "stream",
     "text": [
      "Second\n",
      "Maybe.\n"
     ]
    }
   ],
   "source": [
    "if (1 == 2):\n",
    "    print ('First')\n",
    "    print ('yep')\n",
    "elif (4 == 4):\n",
    "    print ('Second')\n",
    "    print ('Maybe.')\n",
    "elif (3 == 3):\n",
    "    print ('Middle')\n",
    "    print ('Maybe?')\n",
    "else:\n",
    "    print ('Last')\n",
    "    print ('nope!')"
   ]
  },
  {
   "cell_type": "code",
   "execution_count": 89,
   "id": "396bdcc9",
   "metadata": {},
   "outputs": [],
   "source": [
    "# for loops"
   ]
  },
  {
   "cell_type": "code",
   "execution_count": 90,
   "id": "6e02a058",
   "metadata": {},
   "outputs": [],
   "source": [
    "x = [0, 2, 3, 5, 1, 3];"
   ]
  },
  {
   "cell_type": "code",
   "execution_count": 91,
   "id": "0e4190e5",
   "metadata": {},
   "outputs": [
    {
     "name": "stdout",
     "output_type": "stream",
     "text": [
      "0\n",
      "2\n",
      "3\n",
      "5\n",
      "1\n",
      "3\n"
     ]
    }
   ],
   "source": [
    "for item in x:\n",
    "    print (item);"
   ]
  },
  {
   "cell_type": "code",
   "execution_count": 92,
   "id": "d1355906",
   "metadata": {},
   "outputs": [],
   "source": [
    "# range function"
   ]
  },
  {
   "cell_type": "code",
   "execution_count": 97,
   "id": "e39e2cc1",
   "metadata": {},
   "outputs": [
    {
     "data": {
      "text/plain": [
       "[0, 1, 2, 3, 4, 5, 6, 7, 8, 9]"
      ]
     },
     "execution_count": 97,
     "metadata": {},
     "output_type": "execute_result"
    }
   ],
   "source": [
    "list (range (10))"
   ]
  },
  {
   "cell_type": "code",
   "execution_count": 98,
   "id": "e49c001b",
   "metadata": {},
   "outputs": [
    {
     "name": "stdout",
     "output_type": "stream",
     "text": [
      "1\n",
      "2\n",
      "3\n",
      "4\n",
      "5\n"
     ]
    }
   ],
   "source": [
    "for temp in range (0, 5):\n",
    "    print (temp + 1);"
   ]
  },
  {
   "cell_type": "code",
   "execution_count": 99,
   "id": "7163066f",
   "metadata": {},
   "outputs": [],
   "source": [
    "# \"list comprehention\""
   ]
  },
  {
   "cell_type": "code",
   "execution_count": 100,
   "id": "3a3ff545",
   "metadata": {},
   "outputs": [],
   "source": [
    "# this:"
   ]
  },
  {
   "cell_type": "code",
   "execution_count": 101,
   "id": "33fc0d31",
   "metadata": {},
   "outputs": [],
   "source": [
    "out =[];\n",
    "\n",
    "for num in x:\n",
    "    out.append (num ** 2);"
   ]
  },
  {
   "cell_type": "code",
   "execution_count": 102,
   "id": "c7412a25",
   "metadata": {},
   "outputs": [
    {
     "name": "stdout",
     "output_type": "stream",
     "text": [
      "[0, 4, 9, 25, 1, 9]\n"
     ]
    }
   ],
   "source": [
    "print (out);"
   ]
  },
  {
   "cell_type": "code",
   "execution_count": 103,
   "id": "c98aec2d",
   "metadata": {},
   "outputs": [],
   "source": [
    "# with list comprehension... it becomes:"
   ]
  },
  {
   "cell_type": "code",
   "execution_count": 104,
   "id": "2c157158",
   "metadata": {},
   "outputs": [
    {
     "data": {
      "text/plain": [
       "[0, 4, 9, 25, 1, 9]"
      ]
     },
     "execution_count": 104,
     "metadata": {},
     "output_type": "execute_result"
    }
   ],
   "source": [
    "[ (num**2) for num in x ]"
   ]
  },
  {
   "cell_type": "code",
   "execution_count": 105,
   "id": "7c2bdcce",
   "metadata": {},
   "outputs": [],
   "source": [
    "# Think of list comprehension as a for loop, but backwards; \n",
    "# in the sense that the operation to be performed is inserted before loop\n",
    "# declaration"
   ]
  },
  {
   "cell_type": "code",
   "execution_count": 106,
   "id": "ac79ad6b",
   "metadata": {},
   "outputs": [],
   "source": [
    "out = [ (num ** 2) for num in x]"
   ]
  },
  {
   "cell_type": "code",
   "execution_count": 107,
   "id": "06b06f33",
   "metadata": {},
   "outputs": [
    {
     "name": "stdout",
     "output_type": "stream",
     "text": [
      "[0, 4, 9, 25, 1, 9]\n"
     ]
    }
   ],
   "source": [
    "print (out)"
   ]
  },
  {
   "cell_type": "code",
   "execution_count": 110,
   "id": "4503467e",
   "metadata": {},
   "outputs": [],
   "source": [
    "def square (num):\n",
    "    \"\"\" \n",
    "    THIS IS A DOCSTRING.\n",
    "    IT IS A MULTI-LINE COMMENT\n",
    "    IT IS ANYTHING INSERTED BETWEEN TRIPLE QUOTES\n",
    "    THIS F(X) SQUARES THE PARAM VAL. AND RETURNS IT\n",
    "    \"\"\"\n",
    "    return num**2;"
   ]
  },
  {
   "cell_type": "code",
   "execution_count": 111,
   "id": "0e94cb0a",
   "metadata": {},
   "outputs": [
    {
     "data": {
      "text/plain": [
       "4"
      ]
     },
     "execution_count": 111,
     "metadata": {},
     "output_type": "execute_result"
    }
   ],
   "source": [
    "square (2)"
   ]
  },
  {
   "cell_type": "code",
   "execution_count": 112,
   "id": "b0334908",
   "metadata": {},
   "outputs": [],
   "source": [
    "# in jupyter notebook, to peek func. def., press shift+tab after writing func\n",
    "# call in the line."
   ]
  },
  {
   "cell_type": "code",
   "execution_count": 113,
   "id": "3292a627",
   "metadata": {},
   "outputs": [
    {
     "data": {
      "text/plain": [
       "<function __main__.square(num)>"
      ]
     },
     "execution_count": 113,
     "metadata": {},
     "output_type": "execute_result"
    }
   ],
   "source": [
    "square"
   ]
  },
  {
   "cell_type": "code",
   "execution_count": 114,
   "id": "bf4346ca",
   "metadata": {},
   "outputs": [],
   "source": [
    "# Map and Lambda Functions"
   ]
  },
  {
   "cell_type": "code",
   "execution_count": 116,
   "id": "7f2ffcf9",
   "metadata": {},
   "outputs": [],
   "source": [
    "def times2(val):\n",
    "    return val * 2;"
   ]
  },
  {
   "cell_type": "code",
   "execution_count": 118,
   "id": "714e1368",
   "metadata": {},
   "outputs": [
    {
     "data": {
      "text/plain": [
       "4"
      ]
     },
     "execution_count": 118,
     "metadata": {},
     "output_type": "execute_result"
    }
   ],
   "source": [
    "times2(2)"
   ]
  },
  {
   "cell_type": "code",
   "execution_count": 119,
   "id": "546e9a50",
   "metadata": {},
   "outputs": [],
   "source": [
    "# map()"
   ]
  },
  {
   "cell_type": "code",
   "execution_count": 120,
   "id": "bde40e75",
   "metadata": {},
   "outputs": [],
   "source": [
    "seq = [1, 2, 3, 4, 5]"
   ]
  },
  {
   "cell_type": "code",
   "execution_count": 125,
   "id": "3949b543",
   "metadata": {},
   "outputs": [
    {
     "data": {
      "text/plain": [
       "[2, 4, 6, 8, 10]"
      ]
     },
     "execution_count": 125,
     "metadata": {},
     "output_type": "execute_result"
    }
   ],
   "source": [
    "list(map (times2, seq))"
   ]
  },
  {
   "cell_type": "code",
   "execution_count": 126,
   "id": "52e5df0d",
   "metadata": {},
   "outputs": [],
   "source": [
    "# Lambda expression allows to avoid defining a function when it would be\n",
    "# redundant to do so"
   ]
  },
  {
   "cell_type": "code",
   "execution_count": 128,
   "id": "56bd2212",
   "metadata": {},
   "outputs": [],
   "source": [
    "def times2(val) : return (val * 2)"
   ]
  },
  {
   "cell_type": "code",
   "execution_count": 129,
   "id": "ee5148c1",
   "metadata": {},
   "outputs": [],
   "source": [
    "# becomes =>"
   ]
  },
  {
   "cell_type": "code",
   "execution_count": 130,
   "id": "c03a4dba",
   "metadata": {},
   "outputs": [
    {
     "data": {
      "text/plain": [
       "<function __main__.<lambda>(val)>"
      ]
     },
     "execution_count": 130,
     "metadata": {},
     "output_type": "execute_result"
    }
   ],
   "source": [
    "lambda val: (val*2)"
   ]
  },
  {
   "cell_type": "code",
   "execution_count": 131,
   "id": "2e4787eb",
   "metadata": {},
   "outputs": [],
   "source": [
    "t = lambda val: (val*2)"
   ]
  },
  {
   "cell_type": "code",
   "execution_count": 132,
   "id": "d84ce09c",
   "metadata": {},
   "outputs": [
    {
     "data": {
      "text/plain": [
       "12"
      ]
     },
     "execution_count": 132,
     "metadata": {},
     "output_type": "execute_result"
    }
   ],
   "source": [
    "t(6)"
   ]
  },
  {
   "cell_type": "code",
   "execution_count": 133,
   "id": "a8c756ec",
   "metadata": {},
   "outputs": [],
   "source": [
    "# therefore... the map statement could be this as lambda:"
   ]
  },
  {
   "cell_type": "code",
   "execution_count": 134,
   "id": "54a85f61",
   "metadata": {},
   "outputs": [
    {
     "data": {
      "text/plain": [
       "[3, 6, 9, 12, 15]"
      ]
     },
     "execution_count": 134,
     "metadata": {},
     "output_type": "execute_result"
    }
   ],
   "source": [
    "list (map ((lambda num: num*3), seq))"
   ]
  },
  {
   "cell_type": "code",
   "execution_count": 136,
   "id": "3b5c75aa",
   "metadata": {},
   "outputs": [],
   "source": [
    "# filter function; similar to map but filters out vals instead of mapping them"
   ]
  },
  {
   "cell_type": "code",
   "execution_count": 137,
   "id": "419af17d",
   "metadata": {},
   "outputs": [
    {
     "data": {
      "text/plain": [
       "<filter at 0x1f0cd365970>"
      ]
     },
     "execution_count": 137,
     "metadata": {},
     "output_type": "execute_result"
    }
   ],
   "source": [
    "filter ((lambda num: num%2 == 0), seq)"
   ]
  },
  {
   "cell_type": "code",
   "execution_count": 138,
   "id": "7802c3ef",
   "metadata": {},
   "outputs": [
    {
     "data": {
      "text/plain": [
       "[2, 4]"
      ]
     },
     "execution_count": 138,
     "metadata": {},
     "output_type": "execute_result"
    }
   ],
   "source": [
    "list (filter ((lambda num: num%2 == 0), seq))"
   ]
  },
  {
   "cell_type": "code",
   "execution_count": 139,
   "id": "70bbe6dc",
   "metadata": {},
   "outputs": [],
   "source": [
    "# therefore filter() structure for params is filter (<boolean expression>, <collectible>)"
   ]
  },
  {
   "cell_type": "code",
   "execution_count": 140,
   "id": "23bebb93",
   "metadata": {},
   "outputs": [],
   "source": [
    "# 'in' works like 'has()' function"
   ]
  },
  {
   "cell_type": "code",
   "execution_count": 141,
   "id": "bc7086f0",
   "metadata": {},
   "outputs": [
    {
     "data": {
      "text/plain": [
       "[1, 2, 3, 4, 5]"
      ]
     },
     "execution_count": 141,
     "metadata": {},
     "output_type": "execute_result"
    }
   ],
   "source": [
    "seq"
   ]
  },
  {
   "cell_type": "code",
   "execution_count": 142,
   "id": "031d1123",
   "metadata": {},
   "outputs": [
    {
     "data": {
      "text/plain": [
       "False"
      ]
     },
     "execution_count": 142,
     "metadata": {},
     "output_type": "execute_result"
    }
   ],
   "source": [
    "'x' in seq"
   ]
  },
  {
   "cell_type": "code",
   "execution_count": 143,
   "id": "1cb3ea74",
   "metadata": {},
   "outputs": [
    {
     "data": {
      "text/plain": [
       "False"
      ]
     },
     "execution_count": 143,
     "metadata": {},
     "output_type": "execute_result"
    }
   ],
   "source": [
    "'4' in seq"
   ]
  },
  {
   "cell_type": "code",
   "execution_count": 144,
   "id": "cbfcbf11",
   "metadata": {},
   "outputs": [
    {
     "data": {
      "text/plain": [
       "True"
      ]
     },
     "execution_count": 144,
     "metadata": {},
     "output_type": "execute_result"
    }
   ],
   "source": [
    "4 in seq"
   ]
  },
  {
   "cell_type": "code",
   "execution_count": 145,
   "id": "b9b71512",
   "metadata": {},
   "outputs": [],
   "source": [
    "# tuple unpacking"
   ]
  },
  {
   "cell_type": "code",
   "execution_count": 146,
   "id": "88829418",
   "metadata": {},
   "outputs": [],
   "source": [
    "# imagine 'x' has a list of tuples"
   ]
  },
  {
   "cell_type": "code",
   "execution_count": 147,
   "id": "aa581d2c",
   "metadata": {},
   "outputs": [],
   "source": [
    "x = [(1, 2), (3, 4), (5, 6)]"
   ]
  },
  {
   "cell_type": "code",
   "execution_count": 148,
   "id": "413019d2",
   "metadata": {},
   "outputs": [
    {
     "data": {
      "text/plain": [
       "2"
      ]
     },
     "execution_count": 148,
     "metadata": {},
     "output_type": "execute_result"
    }
   ],
   "source": [
    "x[0][1]"
   ]
  },
  {
   "cell_type": "code",
   "execution_count": 149,
   "id": "2b07e814",
   "metadata": {},
   "outputs": [],
   "source": [
    "# now... tuple unpacking...."
   ]
  },
  {
   "cell_type": "code",
   "execution_count": 150,
   "id": "30830b81",
   "metadata": {},
   "outputs": [
    {
     "name": "stdout",
     "output_type": "stream",
     "text": [
      "(1, 2)\n",
      "(3, 4)\n",
      "(5, 6)\n"
     ]
    }
   ],
   "source": [
    "for item in x:\n",
    "    print (item);"
   ]
  },
  {
   "cell_type": "code",
   "execution_count": 151,
   "id": "e02407a3",
   "metadata": {},
   "outputs": [],
   "source": [
    "# becomes:"
   ]
  },
  {
   "cell_type": "code",
   "execution_count": 152,
   "id": "dae662b9",
   "metadata": {},
   "outputs": [
    {
     "name": "stdout",
     "output_type": "stream",
     "text": [
      "2\n",
      "4\n",
      "6\n"
     ]
    }
   ],
   "source": [
    "for (a, b) in x:\n",
    "    print (b)"
   ]
  },
  {
   "cell_type": "code",
   "execution_count": 153,
   "id": "6de4ebf9",
   "metadata": {},
   "outputs": [],
   "source": [
    "# similar to functional programming approach I studied with haskell"
   ]
  },
  {
   "cell_type": "code",
   "execution_count": null,
   "id": "69bc93a6",
   "metadata": {},
   "outputs": [],
   "source": []
  }
 ],
 "metadata": {
  "kernelspec": {
   "display_name": "Python 3 (ipykernel)",
   "language": "python",
   "name": "python3"
  },
  "language_info": {
   "codemirror_mode": {
    "name": "ipython",
    "version": 3
   },
   "file_extension": ".py",
   "mimetype": "text/x-python",
   "name": "python",
   "nbconvert_exporter": "python",
   "pygments_lexer": "ipython3",
   "version": "3.9.7"
  }
 },
 "nbformat": 4,
 "nbformat_minor": 5
}
